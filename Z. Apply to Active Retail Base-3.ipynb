{
 "cells": [
  {
   "cell_type": "code",
   "execution_count": null,
   "metadata": {
    "collapsed": true
   },
   "outputs": [],
   "source": []
  },
  {
   "cell_type": "code",
   "execution_count": 63,
   "metadata": {
    "collapsed": true
   },
   "outputs": [],
   "source": [
    "# Aim: Obtains the turnover/lodgement count and amount of a retail loan customer 12 months before the latest loan date"
   ]
  },
  {
   "cell_type": "code",
   "execution_count": 64,
   "metadata": {},
   "outputs": [],
   "source": [
    "# setup environment and import libraries\n",
    "import os\n",
    "import re\n",
    "import datetime\n",
    "import time\n",
    "import getpass\n",
    "import pandas as pd\n",
    "import numpy as np\n",
    "from datetime import datetime, date\n",
    "from datetime import timedelta\n",
    "import calendar as cd\n",
    "from collections import OrderedDict\n",
    "from functools import partial\n",
    "from dateutil import relativedelta\n",
    "import dateutil.relativedelta\n",
    "import matplotlib.pyplot as plt\n",
    "\n",
    "from pandas.io.parsers import read_csv\n",
    "from sklearn.preprocessing import LabelEncoder\n",
    "from sklearn.cross_validation import train_test_split\n",
    "from sklearn.metrics import classification_report\n",
    "from sklearn.metrics import confusion_matrix\n",
    "from sklearn.metrics import accuracy_score, precision_score, recall_score\n",
    "from sklearn import preprocessing\n",
    "from imblearn.under_sampling import RandomUnderSampler\n",
    "from imblearn.over_sampling import RandomOverSampler\n",
    "from imblearn.over_sampling import SMOTE                   # For Oversampling\n",
    "# from outliers import smirnov_grubbs as grubbs\n",
    "from sklearn.feature_selection import SelectKBest\n",
    "from sklearn.feature_selection import chi2\n",
    "from sklearn.cluster import KMeans\n",
    "\n",
    "from sklearn.decomposition import PCA\n",
    "from sklearn.naive_bayes import GaussianNB, BernoulliNB\n",
    "from sklearn.linear_model import LogisticRegression\n",
    "from sklearn.tree import DecisionTreeClassifier\n",
    "\n",
    "from sklearn.neural_network import *\n",
    "from sklearn.ensemble import RandomForestClassifier\n",
    "from sklearn.ensemble import AdaBoostClassifier\n",
    "from sklearn.ensemble import GradientBoostingClassifier\n",
    "from sklearn.ensemble import ExtraTreesClassifier\n",
    "from sklearn.svm import SVC\n",
    "\n",
    "import seaborn as sns\n",
    "sns.set()\n",
    "\n",
    "path=r'C:\\ProgramData\\Anaconda2\\instantclient_12_2'\n",
    "os.environ['PATH']=path\n",
    "import cx_Oracle\n",
    "import utils\n",
    "import pickle\n",
    "\n",
    "#set working directory\n",
    "dirr=r\"N:\\10. Executive\\Original\\3. 2019\\Credit Scoring v3\\PyOutput\\deploy\"\n",
    "os.chdir(dirr)"
   ]
  },
  {
   "cell_type": "code",
   "execution_count": 65,
   "metadata": {
    "collapsed": true
   },
   "outputs": [],
   "source": [
    "# db credentials authentication"
   ]
  },
  {
   "cell_type": "code",
   "execution_count": 66,
   "metadata": {},
   "outputs": [
    {
     "name": "stdout",
     "output_type": "stream",
     "text": [
      "Enter username: data_analyst\n",
      "Enter Password:········\n",
      "Press 'y' to continue, 'c' to cancel or escape:y\n",
      "Testing Connection...\n",
      "Connection Succesful!\n"
     ]
    }
   ],
   "source": [
    "conn_string = utils.db_connect()"
   ]
  },
  {
   "cell_type": "code",
   "execution_count": 67,
   "metadata": {
    "collapsed": true
   },
   "outputs": [],
   "source": [
    "mtch = re.match('.*@', conn_string)\n",
    "un, pwd = mtch.group().rstrip('@').split('/')"
   ]
  },
  {
   "cell_type": "code",
   "execution_count": 68,
   "metadata": {
    "collapsed": true
   },
   "outputs": [],
   "source": [
    "cols_selected = pickle.load(open(r\"N:\\10. Executive\\Original\\3. 2019\\Credit Scoring v2\\PyOutput\\modeling\\cols_selected.sav\",\"rb\"))"
   ]
  },
  {
   "cell_type": "code",
   "execution_count": 69,
   "metadata": {},
   "outputs": [
    {
     "data": {
      "text/plain": [
       "Index([u'CUS_GENDER', u'PROF_CODE', u'STATE', u'HAS_REACTIVATED',\n",
       "       u'LOAN_MTH_OF_YEAR', u'BANK_YRS_BIN', u'CUS_AGE_AT_LOAN_BIN',\n",
       "       u'HAS_ACTIVE_LOAN', u'OUTSTANDING_DEBT_BIN', u'NBR_DISTINCT_DEP_BIN',\n",
       "       u'HAS_DISTINCT_CALL_TIME_TBILLS', u'HAS_DOM_ACCS',\n",
       "       u'AVG_BAL_CRNT_BAL_RATIO_BIN', u'AVG_LOANS_MONTH_DIFF_BIN',\n",
       "       u'AVG_ALL_PRODS_MONTH_DIFF_BIN', u'SUM_LODGEMENT_AMOUNT_BIN',\n",
       "       u'IN_OUT_AMT_RATIO_BIN', u'IN_OUT_CNT_RATIO_BIN',\n",
       "       u'COV_LODGEMENT_AMT_BIN', u'COV_LODGEMENT_CNT_BIN'],\n",
       "      dtype='object')"
      ]
     },
     "execution_count": 69,
     "metadata": {},
     "output_type": "execute_result"
    }
   ],
   "source": [
    "cols_selected"
   ]
  },
  {
   "cell_type": "code",
   "execution_count": 70,
   "metadata": {},
   "outputs": [],
   "source": [
    "dataset = pd.read_csv('df_loan_data_basic_var.csv')"
   ]
  },
  {
   "cell_type": "code",
   "execution_count": 71,
   "metadata": {
    "scrolled": true
   },
   "outputs": [
    {
     "data": {
      "text/plain": [
       "20"
      ]
     },
     "execution_count": 71,
     "metadata": {},
     "output_type": "execute_result"
    }
   ],
   "source": [
    "len(dataset[cols_selected].columns)"
   ]
  },
  {
   "cell_type": "code",
   "execution_count": 72,
   "metadata": {},
   "outputs": [
    {
     "data": {
      "text/html": [
       "<div>\n",
       "<style>\n",
       "    .dataframe thead tr:only-child th {\n",
       "        text-align: right;\n",
       "    }\n",
       "\n",
       "    .dataframe thead th {\n",
       "        text-align: left;\n",
       "    }\n",
       "\n",
       "    .dataframe tbody tr th {\n",
       "        vertical-align: top;\n",
       "    }\n",
       "</style>\n",
       "<table border=\"1\" class=\"dataframe\">\n",
       "  <thead>\n",
       "    <tr style=\"text-align: right;\">\n",
       "      <th></th>\n",
       "      <th>BRA_CODE</th>\n",
       "      <th>CUS_NUM</th>\n",
       "      <th>CUS_GENDER</th>\n",
       "      <th>PROF_CODE</th>\n",
       "      <th>STATE</th>\n",
       "      <th>CUS_AGE_AT_LOAN_BIN</th>\n",
       "      <th>HAS_ACTIVE_LOAN</th>\n",
       "      <th>OUTSTANDING_DEBT_BIN</th>\n",
       "      <th>NBR_DISTINCT_DEP_BIN</th>\n",
       "      <th>HAS_DISTINCT_CALL_TIME_TBILLS</th>\n",
       "      <th>...</th>\n",
       "      <th>AVG_ALL_PRODS_MONTH_DIFF_BIN</th>\n",
       "      <th>SUM_LODGEMENT_AMOUNT_BIN</th>\n",
       "      <th>IN_OUT_AMT_RATIO_BIN</th>\n",
       "      <th>IN_OUT_CNT_RATIO_BIN</th>\n",
       "      <th>COV_LODGEMENT_AMT_BIN</th>\n",
       "      <th>COV_LODGEMENT_CNT_BIN</th>\n",
       "      <th>BANK_YRS_BIN</th>\n",
       "      <th>LOAN_MTH_OF_YEAR</th>\n",
       "      <th>HAS_DUE_DEBT</th>\n",
       "      <th>HAS_REACTIVATED</th>\n",
       "    </tr>\n",
       "  </thead>\n",
       "  <tbody>\n",
       "    <tr>\n",
       "      <th>0</th>\n",
       "      <td>422</td>\n",
       "      <td>462333</td>\n",
       "      <td>M</td>\n",
       "      <td>99.0</td>\n",
       "      <td>ED</td>\n",
       "      <td>25 - 30</td>\n",
       "      <td>0</td>\n",
       "      <td>&lt; 1000</td>\n",
       "      <td>&lt; 1</td>\n",
       "      <td>0</td>\n",
       "      <td>...</td>\n",
       "      <td>20 - 50</td>\n",
       "      <td>2500000 - 5000000</td>\n",
       "      <td>1 - 1.2</td>\n",
       "      <td>0.2 - 0.3</td>\n",
       "      <td>0.5 - 0.7</td>\n",
       "      <td>0.3 - 0.5</td>\n",
       "      <td>7 - 10</td>\n",
       "      <td>12</td>\n",
       "      <td>0</td>\n",
       "      <td>0</td>\n",
       "    </tr>\n",
       "    <tr>\n",
       "      <th>1</th>\n",
       "      <td>251</td>\n",
       "      <td>222783</td>\n",
       "      <td>M</td>\n",
       "      <td>59.0</td>\n",
       "      <td>LA</td>\n",
       "      <td>45 - 60</td>\n",
       "      <td>0</td>\n",
       "      <td>&lt; 1000</td>\n",
       "      <td>&lt; 1</td>\n",
       "      <td>0</td>\n",
       "      <td>...</td>\n",
       "      <td>0 - 10</td>\n",
       "      <td>&gt; 5000000</td>\n",
       "      <td>1 - 1.2</td>\n",
       "      <td>0.2 - 0.3</td>\n",
       "      <td>0.7 - 1</td>\n",
       "      <td>0.5 - 0.7</td>\n",
       "      <td>7 - 10</td>\n",
       "      <td>12</td>\n",
       "      <td>0</td>\n",
       "      <td>1</td>\n",
       "    </tr>\n",
       "    <tr>\n",
       "      <th>2</th>\n",
       "      <td>212</td>\n",
       "      <td>790897</td>\n",
       "      <td>M</td>\n",
       "      <td>87.0</td>\n",
       "      <td>LA</td>\n",
       "      <td>45 - 60</td>\n",
       "      <td>0</td>\n",
       "      <td>&lt; 1000</td>\n",
       "      <td>&lt; 1</td>\n",
       "      <td>0</td>\n",
       "      <td>...</td>\n",
       "      <td>&lt; 0</td>\n",
       "      <td>500000 - 1000000</td>\n",
       "      <td>1 - 1.2</td>\n",
       "      <td>0.1 - 0.2</td>\n",
       "      <td>&gt; 1</td>\n",
       "      <td>0.7 - 1</td>\n",
       "      <td>3 - 5</td>\n",
       "      <td>12</td>\n",
       "      <td>0</td>\n",
       "      <td>0</td>\n",
       "    </tr>\n",
       "    <tr>\n",
       "      <th>3</th>\n",
       "      <td>245</td>\n",
       "      <td>360682</td>\n",
       "      <td>M</td>\n",
       "      <td>21.0</td>\n",
       "      <td>LA</td>\n",
       "      <td>30 - 35</td>\n",
       "      <td>0</td>\n",
       "      <td>&lt; 1000</td>\n",
       "      <td>&lt; 1</td>\n",
       "      <td>0</td>\n",
       "      <td>...</td>\n",
       "      <td>&lt; 0</td>\n",
       "      <td>&lt; 120000</td>\n",
       "      <td>&gt; 2</td>\n",
       "      <td>0.3 - 0.5</td>\n",
       "      <td>&lt; 0.3</td>\n",
       "      <td>&lt; 0.3</td>\n",
       "      <td>&lt; 1</td>\n",
       "      <td>12</td>\n",
       "      <td>0</td>\n",
       "      <td>0</td>\n",
       "    </tr>\n",
       "    <tr>\n",
       "      <th>4</th>\n",
       "      <td>551</td>\n",
       "      <td>549234</td>\n",
       "      <td>F</td>\n",
       "      <td>81.0</td>\n",
       "      <td>AK</td>\n",
       "      <td>25 - 30</td>\n",
       "      <td>0</td>\n",
       "      <td>&lt; 1000</td>\n",
       "      <td>&lt; 1</td>\n",
       "      <td>0</td>\n",
       "      <td>...</td>\n",
       "      <td>&lt; 0</td>\n",
       "      <td>&lt; 120000</td>\n",
       "      <td>&lt; 0.5</td>\n",
       "      <td>&lt; 0.1</td>\n",
       "      <td>&gt; 1</td>\n",
       "      <td>&gt; 1</td>\n",
       "      <td>3 - 5</td>\n",
       "      <td>12</td>\n",
       "      <td>0</td>\n",
       "      <td>0</td>\n",
       "    </tr>\n",
       "  </tbody>\n",
       "</table>\n",
       "<p>5 rows × 23 columns</p>\n",
       "</div>"
      ],
      "text/plain": [
       "   BRA_CODE  CUS_NUM CUS_GENDER  PROF_CODE STATE CUS_AGE_AT_LOAN_BIN  \\\n",
       "0       422   462333          M       99.0    ED             25 - 30   \n",
       "1       251   222783          M       59.0    LA             45 - 60   \n",
       "2       212   790897          M       87.0    LA             45 - 60   \n",
       "3       245   360682          M       21.0    LA             30 - 35   \n",
       "4       551   549234          F       81.0    AK             25 - 30   \n",
       "\n",
       "   HAS_ACTIVE_LOAN OUTSTANDING_DEBT_BIN NBR_DISTINCT_DEP_BIN  \\\n",
       "0                0               < 1000                  < 1   \n",
       "1                0               < 1000                  < 1   \n",
       "2                0               < 1000                  < 1   \n",
       "3                0               < 1000                  < 1   \n",
       "4                0               < 1000                  < 1   \n",
       "\n",
       "   HAS_DISTINCT_CALL_TIME_TBILLS       ...       AVG_ALL_PRODS_MONTH_DIFF_BIN  \\\n",
       "0                              0       ...                            20 - 50   \n",
       "1                              0       ...                             0 - 10   \n",
       "2                              0       ...                                < 0   \n",
       "3                              0       ...                                < 0   \n",
       "4                              0       ...                                < 0   \n",
       "\n",
       "   SUM_LODGEMENT_AMOUNT_BIN IN_OUT_AMT_RATIO_BIN IN_OUT_CNT_RATIO_BIN  \\\n",
       "0         2500000 - 5000000              1 - 1.2            0.2 - 0.3   \n",
       "1                 > 5000000              1 - 1.2            0.2 - 0.3   \n",
       "2          500000 - 1000000              1 - 1.2            0.1 - 0.2   \n",
       "3                  < 120000                  > 2            0.3 - 0.5   \n",
       "4                  < 120000                < 0.5                < 0.1   \n",
       "\n",
       "  COV_LODGEMENT_AMT_BIN COV_LODGEMENT_CNT_BIN BANK_YRS_BIN LOAN_MTH_OF_YEAR  \\\n",
       "0             0.5 - 0.7             0.3 - 0.5       7 - 10               12   \n",
       "1               0.7 - 1             0.5 - 0.7       7 - 10               12   \n",
       "2                   > 1               0.7 - 1        3 - 5               12   \n",
       "3                 < 0.3                 < 0.3          < 1               12   \n",
       "4                   > 1                   > 1        3 - 5               12   \n",
       "\n",
       "  HAS_DUE_DEBT HAS_REACTIVATED  \n",
       "0            0               0  \n",
       "1            0               1  \n",
       "2            0               0  \n",
       "3            0               0  \n",
       "4            0               0  \n",
       "\n",
       "[5 rows x 23 columns]"
      ]
     },
     "execution_count": 72,
     "metadata": {},
     "output_type": "execute_result"
    }
   ],
   "source": [
    "dataset.head()"
   ]
  },
  {
   "cell_type": "code",
   "execution_count": 73,
   "metadata": {
    "scrolled": true
   },
   "outputs": [],
   "source": [
    "le = LabelEncoder()\n",
    "X = dataset[cols_selected].apply(lambda col: le.fit_transform(col)).values"
   ]
  },
  {
   "cell_type": "code",
   "execution_count": 74,
   "metadata": {
    "collapsed": true
   },
   "outputs": [],
   "source": [
    "# # Normalization - Using MinMax Scaler\n",
    "# min_max_scaler = pickle.load(open('min_max_scaler.sav', 'rb'))"
   ]
  },
  {
   "cell_type": "code",
   "execution_count": 75,
   "metadata": {
    "scrolled": true
   },
   "outputs": [],
   "source": [
    "# X2 = min_max_scaler.transform(X)\n",
    "# print min_max_scaler.data_max_"
   ]
  },
  {
   "cell_type": "code",
   "execution_count": 76,
   "metadata": {},
   "outputs": [],
   "source": [
    "# min_max_scaler = preprocessing.MinMaxScaler()\n",
    "# min_max_scaler.fit(X)\n",
    "# X = min_max_scaler.transform(X)"
   ]
  },
  {
   "cell_type": "code",
   "execution_count": 77,
   "metadata": {},
   "outputs": [],
   "source": [
    "clf_RF = pickle.load(open(r\"N:\\10. Executive\\Original\\3. 2019\\Credit Scoring v2\\PyOutput\\modeling\\clf_RF.sav\", 'rb'))"
   ]
  },
  {
   "cell_type": "code",
   "execution_count": 78,
   "metadata": {},
   "outputs": [
    {
     "data": {
      "text/plain": [
       "9454397"
      ]
     },
     "execution_count": 78,
     "metadata": {},
     "output_type": "execute_result"
    }
   ],
   "source": [
    "len(X)"
   ]
  },
  {
   "cell_type": "code",
   "execution_count": 79,
   "metadata": {
    "scrolled": true
   },
   "outputs": [
    {
     "name": "stdout",
     "output_type": "stream",
     "text": [
      "0  :  0 - 94543\n"
     ]
    },
    {
     "name": "stderr",
     "output_type": "stream",
     "text": [
      "[Parallel(n_jobs=1)]: Done 500 out of 500 | elapsed:   15.9s finished\n"
     ]
    },
    {
     "name": "stdout",
     "output_type": "stream",
     "text": [
      "1  :  94544 - 189087\n"
     ]
    },
    {
     "name": "stderr",
     "output_type": "stream",
     "text": [
      "[Parallel(n_jobs=1)]: Done 500 out of 500 | elapsed:   15.0s finished\n"
     ]
    },
    {
     "name": "stdout",
     "output_type": "stream",
     "text": [
      "2  :  189088 - 283631\n"
     ]
    },
    {
     "name": "stderr",
     "output_type": "stream",
     "text": [
      "[Parallel(n_jobs=1)]: Done 500 out of 500 | elapsed:   16.2s finished\n"
     ]
    },
    {
     "name": "stdout",
     "output_type": "stream",
     "text": [
      "3  :  283632 - 378175\n"
     ]
    },
    {
     "name": "stderr",
     "output_type": "stream",
     "text": [
      "[Parallel(n_jobs=1)]: Done 500 out of 500 | elapsed:   15.9s finished\n"
     ]
    },
    {
     "name": "stdout",
     "output_type": "stream",
     "text": [
      "4  :  378176 - 472719\n"
     ]
    },
    {
     "name": "stderr",
     "output_type": "stream",
     "text": [
      "[Parallel(n_jobs=1)]: Done 500 out of 500 | elapsed:   16.4s finished\n"
     ]
    },
    {
     "name": "stdout",
     "output_type": "stream",
     "text": [
      "5  :  472720 - 567263\n"
     ]
    },
    {
     "name": "stderr",
     "output_type": "stream",
     "text": [
      "[Parallel(n_jobs=1)]: Done 500 out of 500 | elapsed:   15.5s finished\n"
     ]
    },
    {
     "name": "stdout",
     "output_type": "stream",
     "text": [
      "6  :  567264 - 661807\n"
     ]
    },
    {
     "name": "stderr",
     "output_type": "stream",
     "text": [
      "[Parallel(n_jobs=1)]: Done 500 out of 500 | elapsed:   16.9s finished\n"
     ]
    },
    {
     "name": "stdout",
     "output_type": "stream",
     "text": [
      "7  :  661808 - 756351\n"
     ]
    },
    {
     "name": "stderr",
     "output_type": "stream",
     "text": [
      "[Parallel(n_jobs=1)]: Done 500 out of 500 | elapsed:   17.4s finished\n"
     ]
    },
    {
     "name": "stdout",
     "output_type": "stream",
     "text": [
      "8  :  756352 - 850895\n"
     ]
    },
    {
     "name": "stderr",
     "output_type": "stream",
     "text": [
      "[Parallel(n_jobs=1)]: Done 500 out of 500 | elapsed:   15.7s finished\n"
     ]
    },
    {
     "name": "stdout",
     "output_type": "stream",
     "text": [
      "9  :  850896 - 945439\n"
     ]
    },
    {
     "name": "stderr",
     "output_type": "stream",
     "text": [
      "[Parallel(n_jobs=1)]: Done 500 out of 500 | elapsed:   16.4s finished\n"
     ]
    },
    {
     "name": "stdout",
     "output_type": "stream",
     "text": [
      "10  :  945440 - 1039983\n"
     ]
    },
    {
     "name": "stderr",
     "output_type": "stream",
     "text": [
      "[Parallel(n_jobs=1)]: Done 500 out of 500 | elapsed:   15.0s finished\n"
     ]
    },
    {
     "name": "stdout",
     "output_type": "stream",
     "text": [
      "11  :  1039984 - 1134527\n"
     ]
    },
    {
     "name": "stderr",
     "output_type": "stream",
     "text": [
      "[Parallel(n_jobs=1)]: Done 500 out of 500 | elapsed:   16.3s finished\n"
     ]
    },
    {
     "name": "stdout",
     "output_type": "stream",
     "text": [
      "12  :  1134528 - 1229071\n"
     ]
    },
    {
     "name": "stderr",
     "output_type": "stream",
     "text": [
      "[Parallel(n_jobs=1)]: Done 500 out of 500 | elapsed:   15.9s finished\n"
     ]
    },
    {
     "name": "stdout",
     "output_type": "stream",
     "text": [
      "13  :  1229072 - 1323615\n"
     ]
    },
    {
     "name": "stderr",
     "output_type": "stream",
     "text": [
      "[Parallel(n_jobs=1)]: Done 500 out of 500 | elapsed:   16.2s finished\n"
     ]
    },
    {
     "name": "stdout",
     "output_type": "stream",
     "text": [
      "14  :  1323616 - 1418159\n"
     ]
    },
    {
     "name": "stderr",
     "output_type": "stream",
     "text": [
      "[Parallel(n_jobs=1)]: Done 500 out of 500 | elapsed:   16.6s finished\n"
     ]
    },
    {
     "name": "stdout",
     "output_type": "stream",
     "text": [
      "15  :  1418160 - 1512703\n"
     ]
    },
    {
     "name": "stderr",
     "output_type": "stream",
     "text": [
      "[Parallel(n_jobs=1)]: Done 500 out of 500 | elapsed:   16.8s finished\n"
     ]
    },
    {
     "name": "stdout",
     "output_type": "stream",
     "text": [
      "16  :  1512704 - 1607247\n"
     ]
    },
    {
     "name": "stderr",
     "output_type": "stream",
     "text": [
      "[Parallel(n_jobs=1)]: Done 500 out of 500 | elapsed:   18.3s finished\n"
     ]
    },
    {
     "name": "stdout",
     "output_type": "stream",
     "text": [
      "17  :  1607248 - 1701791\n"
     ]
    },
    {
     "name": "stderr",
     "output_type": "stream",
     "text": [
      "[Parallel(n_jobs=1)]: Done 500 out of 500 | elapsed:   16.4s finished\n"
     ]
    },
    {
     "name": "stdout",
     "output_type": "stream",
     "text": [
      "18  :  1701792 - 1796335\n"
     ]
    },
    {
     "name": "stderr",
     "output_type": "stream",
     "text": [
      "[Parallel(n_jobs=1)]: Done 500 out of 500 | elapsed:   18.1s finished\n"
     ]
    },
    {
     "name": "stdout",
     "output_type": "stream",
     "text": [
      "19  :  1796336 - 1890879\n"
     ]
    },
    {
     "name": "stderr",
     "output_type": "stream",
     "text": [
      "[Parallel(n_jobs=1)]: Done 500 out of 500 | elapsed:   14.9s finished\n"
     ]
    },
    {
     "name": "stdout",
     "output_type": "stream",
     "text": [
      "20  :  1890880 - 1985423\n"
     ]
    },
    {
     "name": "stderr",
     "output_type": "stream",
     "text": [
      "[Parallel(n_jobs=1)]: Done 500 out of 500 | elapsed:   18.4s finished\n"
     ]
    },
    {
     "name": "stdout",
     "output_type": "stream",
     "text": [
      "21  :  1985424 - 2079967\n"
     ]
    },
    {
     "name": "stderr",
     "output_type": "stream",
     "text": [
      "[Parallel(n_jobs=1)]: Done 500 out of 500 | elapsed:   23.0s finished\n"
     ]
    },
    {
     "name": "stdout",
     "output_type": "stream",
     "text": [
      "22  :  2079968 - 2174511\n"
     ]
    },
    {
     "name": "stderr",
     "output_type": "stream",
     "text": [
      "[Parallel(n_jobs=1)]: Done 500 out of 500 | elapsed:   29.9s finished\n"
     ]
    },
    {
     "name": "stdout",
     "output_type": "stream",
     "text": [
      "23  :  2174512 - 2269055\n"
     ]
    },
    {
     "name": "stderr",
     "output_type": "stream",
     "text": [
      "[Parallel(n_jobs=1)]: Done 500 out of 500 | elapsed:   16.0s finished\n"
     ]
    },
    {
     "name": "stdout",
     "output_type": "stream",
     "text": [
      "24  :  2269056 - 2363599\n"
     ]
    },
    {
     "name": "stderr",
     "output_type": "stream",
     "text": [
      "[Parallel(n_jobs=1)]: Done 500 out of 500 | elapsed:   16.6s finished\n"
     ]
    },
    {
     "name": "stdout",
     "output_type": "stream",
     "text": [
      "25  :  2363600 - 2458143\n"
     ]
    },
    {
     "name": "stderr",
     "output_type": "stream",
     "text": [
      "[Parallel(n_jobs=1)]: Done 500 out of 500 | elapsed:   16.3s finished\n"
     ]
    },
    {
     "name": "stdout",
     "output_type": "stream",
     "text": [
      "26  :  2458144 - 2552687\n"
     ]
    },
    {
     "name": "stderr",
     "output_type": "stream",
     "text": [
      "[Parallel(n_jobs=1)]: Done 500 out of 500 | elapsed:   17.2s finished\n"
     ]
    },
    {
     "name": "stdout",
     "output_type": "stream",
     "text": [
      "27  :  2552688 - 2647231\n"
     ]
    },
    {
     "name": "stderr",
     "output_type": "stream",
     "text": [
      "[Parallel(n_jobs=1)]: Done 500 out of 500 | elapsed:   16.4s finished\n"
     ]
    },
    {
     "name": "stdout",
     "output_type": "stream",
     "text": [
      "28  :  2647232 - 2741775\n"
     ]
    },
    {
     "name": "stderr",
     "output_type": "stream",
     "text": [
      "[Parallel(n_jobs=1)]: Done 500 out of 500 | elapsed:   14.6s finished\n"
     ]
    },
    {
     "name": "stdout",
     "output_type": "stream",
     "text": [
      "29  :  2741776 - 2836319\n"
     ]
    },
    {
     "name": "stderr",
     "output_type": "stream",
     "text": [
      "[Parallel(n_jobs=1)]: Done 500 out of 500 | elapsed:   16.5s finished\n"
     ]
    },
    {
     "name": "stdout",
     "output_type": "stream",
     "text": [
      "30  :  2836320 - 2930863\n"
     ]
    },
    {
     "name": "stderr",
     "output_type": "stream",
     "text": [
      "[Parallel(n_jobs=1)]: Done 500 out of 500 | elapsed:   16.5s finished\n"
     ]
    },
    {
     "name": "stdout",
     "output_type": "stream",
     "text": [
      "31  :  2930864 - 3025407\n"
     ]
    },
    {
     "name": "stderr",
     "output_type": "stream",
     "text": [
      "[Parallel(n_jobs=1)]: Done 500 out of 500 | elapsed:   15.8s finished\n"
     ]
    },
    {
     "name": "stdout",
     "output_type": "stream",
     "text": [
      "32  :  3025408 - 3119951\n"
     ]
    },
    {
     "name": "stderr",
     "output_type": "stream",
     "text": [
      "[Parallel(n_jobs=1)]: Done 500 out of 500 | elapsed:   15.2s finished\n"
     ]
    },
    {
     "name": "stdout",
     "output_type": "stream",
     "text": [
      "33  :  3119952 - 3214495\n"
     ]
    },
    {
     "name": "stderr",
     "output_type": "stream",
     "text": [
      "[Parallel(n_jobs=1)]: Done 500 out of 500 | elapsed:   15.4s finished\n"
     ]
    },
    {
     "name": "stdout",
     "output_type": "stream",
     "text": [
      "34  :  3214496 - 3309039\n"
     ]
    },
    {
     "name": "stderr",
     "output_type": "stream",
     "text": [
      "[Parallel(n_jobs=1)]: Done 500 out of 500 | elapsed:   14.5s finished\n"
     ]
    },
    {
     "name": "stdout",
     "output_type": "stream",
     "text": [
      "35  :  3309040 - 3403583\n"
     ]
    },
    {
     "name": "stderr",
     "output_type": "stream",
     "text": [
      "[Parallel(n_jobs=1)]: Done 500 out of 500 | elapsed:   16.7s finished\n"
     ]
    },
    {
     "name": "stdout",
     "output_type": "stream",
     "text": [
      "36  :  3403584 - 3498127\n"
     ]
    },
    {
     "name": "stderr",
     "output_type": "stream",
     "text": [
      "[Parallel(n_jobs=1)]: Done 500 out of 500 | elapsed:   15.7s finished\n"
     ]
    },
    {
     "name": "stdout",
     "output_type": "stream",
     "text": [
      "37  :  3498128 - 3592671\n"
     ]
    },
    {
     "name": "stderr",
     "output_type": "stream",
     "text": [
      "[Parallel(n_jobs=1)]: Done 500 out of 500 | elapsed:   16.3s finished\n"
     ]
    },
    {
     "name": "stdout",
     "output_type": "stream",
     "text": [
      "38  :  3592672 - 3687215\n"
     ]
    },
    {
     "name": "stderr",
     "output_type": "stream",
     "text": [
      "[Parallel(n_jobs=1)]: Done 500 out of 500 | elapsed:   14.1s finished\n"
     ]
    },
    {
     "name": "stdout",
     "output_type": "stream",
     "text": [
      "39  :  3687216 - 3781759\n"
     ]
    },
    {
     "name": "stderr",
     "output_type": "stream",
     "text": [
      "[Parallel(n_jobs=1)]: Done 500 out of 500 | elapsed:   15.3s finished\n"
     ]
    },
    {
     "name": "stdout",
     "output_type": "stream",
     "text": [
      "40  :  3781760 - 3876303\n"
     ]
    },
    {
     "name": "stderr",
     "output_type": "stream",
     "text": [
      "[Parallel(n_jobs=1)]: Done 500 out of 500 | elapsed:   16.1s finished\n"
     ]
    },
    {
     "name": "stdout",
     "output_type": "stream",
     "text": [
      "41  :  3876304 - 3970847\n"
     ]
    },
    {
     "name": "stderr",
     "output_type": "stream",
     "text": [
      "[Parallel(n_jobs=1)]: Done 500 out of 500 | elapsed:   15.5s finished\n"
     ]
    },
    {
     "name": "stdout",
     "output_type": "stream",
     "text": [
      "42  :  3970848 - 4065391\n"
     ]
    },
    {
     "name": "stderr",
     "output_type": "stream",
     "text": [
      "[Parallel(n_jobs=1)]: Done 500 out of 500 | elapsed:   16.4s finished\n"
     ]
    },
    {
     "name": "stdout",
     "output_type": "stream",
     "text": [
      "43  :  4065392 - 4159935\n"
     ]
    },
    {
     "name": "stderr",
     "output_type": "stream",
     "text": [
      "[Parallel(n_jobs=1)]: Done 500 out of 500 | elapsed:   16.9s finished\n"
     ]
    },
    {
     "name": "stdout",
     "output_type": "stream",
     "text": [
      "44  :  4159936 - 4254479\n"
     ]
    },
    {
     "name": "stderr",
     "output_type": "stream",
     "text": [
      "[Parallel(n_jobs=1)]: Done 500 out of 500 | elapsed:   14.6s finished\n"
     ]
    },
    {
     "name": "stdout",
     "output_type": "stream",
     "text": [
      "45  :  4254480 - 4349023\n"
     ]
    },
    {
     "name": "stderr",
     "output_type": "stream",
     "text": [
      "[Parallel(n_jobs=1)]: Done 500 out of 500 | elapsed:   15.8s finished\n"
     ]
    },
    {
     "name": "stdout",
     "output_type": "stream",
     "text": [
      "46  :  4349024 - 4443567\n"
     ]
    },
    {
     "name": "stderr",
     "output_type": "stream",
     "text": [
      "[Parallel(n_jobs=1)]: Done 500 out of 500 | elapsed:   15.5s finished\n"
     ]
    },
    {
     "name": "stdout",
     "output_type": "stream",
     "text": [
      "47  :  4443568 - 4538111\n"
     ]
    },
    {
     "name": "stderr",
     "output_type": "stream",
     "text": [
      "[Parallel(n_jobs=1)]: Done 500 out of 500 | elapsed:   15.4s finished\n"
     ]
    },
    {
     "name": "stdout",
     "output_type": "stream",
     "text": [
      "48  :  4538112 - 4632655\n"
     ]
    },
    {
     "name": "stderr",
     "output_type": "stream",
     "text": [
      "[Parallel(n_jobs=1)]: Done 500 out of 500 | elapsed:   15.5s finished\n"
     ]
    },
    {
     "name": "stdout",
     "output_type": "stream",
     "text": [
      "49  :  4632656 - 4727199\n"
     ]
    },
    {
     "name": "stderr",
     "output_type": "stream",
     "text": [
      "[Parallel(n_jobs=1)]: Done 500 out of 500 | elapsed:   16.1s finished\n"
     ]
    },
    {
     "name": "stdout",
     "output_type": "stream",
     "text": [
      "50  :  4727200 - 4821743\n"
     ]
    },
    {
     "name": "stderr",
     "output_type": "stream",
     "text": [
      "[Parallel(n_jobs=1)]: Done 500 out of 500 | elapsed:   14.9s finished\n"
     ]
    },
    {
     "name": "stdout",
     "output_type": "stream",
     "text": [
      "51  :  4821744 - 4916287\n"
     ]
    },
    {
     "name": "stderr",
     "output_type": "stream",
     "text": [
      "[Parallel(n_jobs=1)]: Done 500 out of 500 | elapsed:   17.2s finished\n"
     ]
    },
    {
     "name": "stdout",
     "output_type": "stream",
     "text": [
      "52  :  4916288 - 5010831\n"
     ]
    },
    {
     "name": "stderr",
     "output_type": "stream",
     "text": [
      "[Parallel(n_jobs=1)]: Done 500 out of 500 | elapsed:   19.3s finished\n"
     ]
    },
    {
     "name": "stdout",
     "output_type": "stream",
     "text": [
      "53  :  5010832 - 5105375\n"
     ]
    },
    {
     "name": "stderr",
     "output_type": "stream",
     "text": [
      "[Parallel(n_jobs=1)]: Done 500 out of 500 | elapsed:   22.6s finished\n"
     ]
    },
    {
     "name": "stdout",
     "output_type": "stream",
     "text": [
      "54  :  5105376 - 5199919\n"
     ]
    },
    {
     "name": "stderr",
     "output_type": "stream",
     "text": [
      "[Parallel(n_jobs=1)]: Done 500 out of 500 | elapsed:   15.3s finished\n"
     ]
    },
    {
     "name": "stdout",
     "output_type": "stream",
     "text": [
      "55  :  5199920 - 5294463\n"
     ]
    },
    {
     "name": "stderr",
     "output_type": "stream",
     "text": [
      "[Parallel(n_jobs=1)]: Done 500 out of 500 | elapsed:   20.9s finished\n"
     ]
    },
    {
     "name": "stdout",
     "output_type": "stream",
     "text": [
      "56  :  5294464 - 5389007\n"
     ]
    },
    {
     "name": "stderr",
     "output_type": "stream",
     "text": [
      "[Parallel(n_jobs=1)]: Done 500 out of 500 | elapsed:   19.1s finished\n"
     ]
    },
    {
     "name": "stdout",
     "output_type": "stream",
     "text": [
      "57  :  5389008 - 5483551\n"
     ]
    },
    {
     "name": "stderr",
     "output_type": "stream",
     "text": [
      "[Parallel(n_jobs=1)]: Done 500 out of 500 | elapsed:   19.9s finished\n"
     ]
    },
    {
     "name": "stdout",
     "output_type": "stream",
     "text": [
      "58  :  5483552 - 5578095\n"
     ]
    },
    {
     "name": "stderr",
     "output_type": "stream",
     "text": [
      "[Parallel(n_jobs=1)]: Done 500 out of 500 | elapsed:   20.6s finished\n"
     ]
    },
    {
     "name": "stdout",
     "output_type": "stream",
     "text": [
      "59  :  5578096 - 5672639\n"
     ]
    },
    {
     "name": "stderr",
     "output_type": "stream",
     "text": [
      "[Parallel(n_jobs=1)]: Done 500 out of 500 | elapsed:   17.7s finished\n"
     ]
    },
    {
     "name": "stdout",
     "output_type": "stream",
     "text": [
      "60  :  5672640 - 5767183\n"
     ]
    },
    {
     "name": "stderr",
     "output_type": "stream",
     "text": [
      "[Parallel(n_jobs=1)]: Done 500 out of 500 | elapsed:   18.3s finished\n"
     ]
    },
    {
     "name": "stdout",
     "output_type": "stream",
     "text": [
      "61  :  5767184 - 5861727\n"
     ]
    },
    {
     "name": "stderr",
     "output_type": "stream",
     "text": [
      "[Parallel(n_jobs=1)]: Done 500 out of 500 | elapsed:   15.9s finished\n"
     ]
    },
    {
     "name": "stdout",
     "output_type": "stream",
     "text": [
      "62  :  5861728 - 5956271\n"
     ]
    },
    {
     "name": "stderr",
     "output_type": "stream",
     "text": [
      "[Parallel(n_jobs=1)]: Done 500 out of 500 | elapsed:   19.0s finished\n"
     ]
    },
    {
     "name": "stdout",
     "output_type": "stream",
     "text": [
      "63  :  5956272 - 6050815\n"
     ]
    },
    {
     "name": "stderr",
     "output_type": "stream",
     "text": [
      "[Parallel(n_jobs=1)]: Done 500 out of 500 | elapsed:   19.5s finished\n"
     ]
    },
    {
     "name": "stdout",
     "output_type": "stream",
     "text": [
      "64  :  6050816 - 6145359\n"
     ]
    },
    {
     "name": "stderr",
     "output_type": "stream",
     "text": [
      "[Parallel(n_jobs=1)]: Done 500 out of 500 | elapsed:   15.6s finished\n"
     ]
    },
    {
     "name": "stdout",
     "output_type": "stream",
     "text": [
      "65  :  6145360 - 6239903\n"
     ]
    },
    {
     "name": "stderr",
     "output_type": "stream",
     "text": [
      "[Parallel(n_jobs=1)]: Done 500 out of 500 | elapsed:   15.9s finished\n"
     ]
    },
    {
     "name": "stdout",
     "output_type": "stream",
     "text": [
      "66  :  6239904 - 6334447\n"
     ]
    },
    {
     "name": "stderr",
     "output_type": "stream",
     "text": [
      "[Parallel(n_jobs=1)]: Done 500 out of 500 | elapsed:   20.1s finished\n"
     ]
    },
    {
     "name": "stdout",
     "output_type": "stream",
     "text": [
      "67  :  6334448 - 6428991\n"
     ]
    },
    {
     "name": "stderr",
     "output_type": "stream",
     "text": [
      "[Parallel(n_jobs=1)]: Done 500 out of 500 | elapsed:   19.7s finished\n"
     ]
    },
    {
     "name": "stdout",
     "output_type": "stream",
     "text": [
      "68  :  6428992 - 6523535\n"
     ]
    },
    {
     "name": "stderr",
     "output_type": "stream",
     "text": [
      "[Parallel(n_jobs=1)]: Done 500 out of 500 | elapsed:   18.6s finished\n"
     ]
    },
    {
     "name": "stdout",
     "output_type": "stream",
     "text": [
      "69  :  6523536 - 6618079\n"
     ]
    },
    {
     "name": "stderr",
     "output_type": "stream",
     "text": [
      "[Parallel(n_jobs=1)]: Done 500 out of 500 | elapsed:   20.6s finished\n"
     ]
    },
    {
     "name": "stdout",
     "output_type": "stream",
     "text": [
      "70  :  6618080 - 6712623\n"
     ]
    },
    {
     "name": "stderr",
     "output_type": "stream",
     "text": [
      "[Parallel(n_jobs=1)]: Done 500 out of 500 | elapsed:   16.9s finished\n"
     ]
    },
    {
     "name": "stdout",
     "output_type": "stream",
     "text": [
      "71  :  6712624 - 6807167\n"
     ]
    },
    {
     "name": "stderr",
     "output_type": "stream",
     "text": [
      "[Parallel(n_jobs=1)]: Done 500 out of 500 | elapsed:   15.7s finished\n"
     ]
    },
    {
     "name": "stdout",
     "output_type": "stream",
     "text": [
      "72  :  6807168 - 6901711\n"
     ]
    },
    {
     "name": "stderr",
     "output_type": "stream",
     "text": [
      "[Parallel(n_jobs=1)]: Done 500 out of 500 | elapsed:   19.0s finished\n"
     ]
    },
    {
     "name": "stdout",
     "output_type": "stream",
     "text": [
      "73  :  6901712 - 6996255\n"
     ]
    },
    {
     "name": "stderr",
     "output_type": "stream",
     "text": [
      "[Parallel(n_jobs=1)]: Done 500 out of 500 | elapsed:   17.0s finished\n"
     ]
    },
    {
     "name": "stdout",
     "output_type": "stream",
     "text": [
      "74  :  6996256 - 7090799\n"
     ]
    },
    {
     "name": "stderr",
     "output_type": "stream",
     "text": [
      "[Parallel(n_jobs=1)]: Done 500 out of 500 | elapsed:   14.9s finished\n"
     ]
    },
    {
     "name": "stdout",
     "output_type": "stream",
     "text": [
      "75  :  7090800 - 7185343\n"
     ]
    },
    {
     "name": "stderr",
     "output_type": "stream",
     "text": [
      "[Parallel(n_jobs=1)]: Done 500 out of 500 | elapsed:   17.6s finished\n"
     ]
    },
    {
     "name": "stdout",
     "output_type": "stream",
     "text": [
      "76  :  7185344 - 7279887\n"
     ]
    },
    {
     "name": "stderr",
     "output_type": "stream",
     "text": [
      "[Parallel(n_jobs=1)]: Done 500 out of 500 | elapsed:   18.6s finished\n"
     ]
    },
    {
     "name": "stdout",
     "output_type": "stream",
     "text": [
      "77  :  7279888 - 7374431\n"
     ]
    },
    {
     "name": "stderr",
     "output_type": "stream",
     "text": [
      "[Parallel(n_jobs=1)]: Done 500 out of 500 | elapsed:   19.6s finished\n"
     ]
    },
    {
     "name": "stdout",
     "output_type": "stream",
     "text": [
      "78  :  7374432 - 7468975\n"
     ]
    },
    {
     "name": "stderr",
     "output_type": "stream",
     "text": [
      "[Parallel(n_jobs=1)]: Done 500 out of 500 | elapsed:   20.9s finished\n"
     ]
    },
    {
     "name": "stdout",
     "output_type": "stream",
     "text": [
      "79  :  7468976 - 7563519\n"
     ]
    },
    {
     "name": "stderr",
     "output_type": "stream",
     "text": [
      "[Parallel(n_jobs=1)]: Done 500 out of 500 | elapsed:   18.4s finished\n"
     ]
    },
    {
     "name": "stdout",
     "output_type": "stream",
     "text": [
      "80  :  7563520 - 7658063\n"
     ]
    },
    {
     "name": "stderr",
     "output_type": "stream",
     "text": [
      "[Parallel(n_jobs=1)]: Done 500 out of 500 | elapsed:   18.6s finished\n"
     ]
    },
    {
     "name": "stdout",
     "output_type": "stream",
     "text": [
      "81  :  7658064 - 7752607\n"
     ]
    },
    {
     "name": "stderr",
     "output_type": "stream",
     "text": [
      "[Parallel(n_jobs=1)]: Done 500 out of 500 | elapsed:   21.3s finished\n"
     ]
    },
    {
     "name": "stdout",
     "output_type": "stream",
     "text": [
      "82  :  7752608 - 7847151\n"
     ]
    },
    {
     "name": "stderr",
     "output_type": "stream",
     "text": [
      "[Parallel(n_jobs=1)]: Done 500 out of 500 | elapsed:   20.8s finished\n"
     ]
    },
    {
     "name": "stdout",
     "output_type": "stream",
     "text": [
      "83  :  7847152 - 7941695\n"
     ]
    },
    {
     "name": "stderr",
     "output_type": "stream",
     "text": [
      "[Parallel(n_jobs=1)]: Done 500 out of 500 | elapsed:   19.3s finished\n"
     ]
    },
    {
     "name": "stdout",
     "output_type": "stream",
     "text": [
      "84  :  7941696 - 8036239\n"
     ]
    },
    {
     "name": "stderr",
     "output_type": "stream",
     "text": [
      "[Parallel(n_jobs=1)]: Done 500 out of 500 | elapsed:   20.3s finished\n"
     ]
    },
    {
     "name": "stdout",
     "output_type": "stream",
     "text": [
      "85  :  8036240 - 8130783\n"
     ]
    },
    {
     "name": "stderr",
     "output_type": "stream",
     "text": [
      "[Parallel(n_jobs=1)]: Done 500 out of 500 | elapsed:   15.2s finished\n"
     ]
    },
    {
     "name": "stdout",
     "output_type": "stream",
     "text": [
      "86  :  8130784 - 8225327\n"
     ]
    },
    {
     "name": "stderr",
     "output_type": "stream",
     "text": [
      "[Parallel(n_jobs=1)]: Done 500 out of 500 | elapsed:   14.5s finished\n"
     ]
    },
    {
     "name": "stdout",
     "output_type": "stream",
     "text": [
      "87  :  8225328 - 8319871\n"
     ]
    },
    {
     "name": "stderr",
     "output_type": "stream",
     "text": [
      "[Parallel(n_jobs=1)]: Done 500 out of 500 | elapsed:   13.7s finished\n"
     ]
    },
    {
     "name": "stdout",
     "output_type": "stream",
     "text": [
      "88  :  8319872 - 8414415\n"
     ]
    },
    {
     "name": "stderr",
     "output_type": "stream",
     "text": [
      "[Parallel(n_jobs=1)]: Done 500 out of 500 | elapsed:   14.3s finished\n"
     ]
    },
    {
     "name": "stdout",
     "output_type": "stream",
     "text": [
      "89  :  8414416 - 8508959\n"
     ]
    },
    {
     "name": "stderr",
     "output_type": "stream",
     "text": [
      "[Parallel(n_jobs=1)]: Done 500 out of 500 | elapsed:   13.7s finished\n"
     ]
    },
    {
     "name": "stdout",
     "output_type": "stream",
     "text": [
      "90  :  8508960 - 8603503\n"
     ]
    },
    {
     "name": "stderr",
     "output_type": "stream",
     "text": [
      "[Parallel(n_jobs=1)]: Done 500 out of 500 | elapsed:   14.7s finished\n"
     ]
    },
    {
     "name": "stdout",
     "output_type": "stream",
     "text": [
      "91  :  8603504 - 8698047\n"
     ]
    },
    {
     "name": "stderr",
     "output_type": "stream",
     "text": [
      "[Parallel(n_jobs=1)]: Done 500 out of 500 | elapsed:   15.7s finished\n"
     ]
    },
    {
     "name": "stdout",
     "output_type": "stream",
     "text": [
      "92  :  8698048 - 8792591\n"
     ]
    },
    {
     "name": "stderr",
     "output_type": "stream",
     "text": [
      "[Parallel(n_jobs=1)]: Done 500 out of 500 | elapsed:   14.5s finished\n"
     ]
    },
    {
     "name": "stdout",
     "output_type": "stream",
     "text": [
      "93  :  8792592 - 8887135\n"
     ]
    },
    {
     "name": "stderr",
     "output_type": "stream",
     "text": [
      "[Parallel(n_jobs=1)]: Done 500 out of 500 | elapsed:   16.2s finished\n"
     ]
    },
    {
     "name": "stdout",
     "output_type": "stream",
     "text": [
      "94  :  8887136 - 8981679\n"
     ]
    },
    {
     "name": "stderr",
     "output_type": "stream",
     "text": [
      "[Parallel(n_jobs=1)]: Done 500 out of 500 | elapsed:   14.6s finished\n"
     ]
    },
    {
     "name": "stdout",
     "output_type": "stream",
     "text": [
      "95  :  8981680 - 9076223\n"
     ]
    },
    {
     "name": "stderr",
     "output_type": "stream",
     "text": [
      "[Parallel(n_jobs=1)]: Done 500 out of 500 | elapsed:   15.6s finished\n"
     ]
    },
    {
     "name": "stdout",
     "output_type": "stream",
     "text": [
      "96  :  9076224 - 9170767\n"
     ]
    },
    {
     "name": "stderr",
     "output_type": "stream",
     "text": [
      "[Parallel(n_jobs=1)]: Done 500 out of 500 | elapsed:   16.2s finished\n"
     ]
    },
    {
     "name": "stdout",
     "output_type": "stream",
     "text": [
      "97  :  9170768 - 9265310\n"
     ]
    },
    {
     "name": "stderr",
     "output_type": "stream",
     "text": [
      "[Parallel(n_jobs=1)]: Done 500 out of 500 | elapsed:   15.4s finished\n"
     ]
    },
    {
     "name": "stdout",
     "output_type": "stream",
     "text": [
      "98  :  9265311 - 9359853\n"
     ]
    },
    {
     "name": "stderr",
     "output_type": "stream",
     "text": [
      "[Parallel(n_jobs=1)]: Done 500 out of 500 | elapsed:   15.5s finished\n"
     ]
    },
    {
     "name": "stdout",
     "output_type": "stream",
     "text": [
      "99  :  9359854 - 9454396\n"
     ]
    },
    {
     "name": "stderr",
     "output_type": "stream",
     "text": [
      "[Parallel(n_jobs=1)]: Done 500 out of 500 | elapsed:   18.0s finished\n"
     ]
    }
   ],
   "source": [
    "y_is_good=[]\n",
    "\n",
    "for ind, sect in enumerate(np.array_split(range(len(X)),100)):\n",
    "    print ind, ' : ', sect[0], '-',sect[-1]\n",
    "    y = clf_RF.predict_proba(X[sect])\n",
    "    y_is_good = y_is_good + [i[1] for i in y]"
   ]
  },
  {
   "cell_type": "code",
   "execution_count": 80,
   "metadata": {},
   "outputs": [
    {
     "name": "stdout",
     "output_type": "stream",
     "text": [
      "9454397\n"
     ]
    }
   ],
   "source": [
    "# Check\n",
    "print len(y_is_good)"
   ]
  },
  {
   "cell_type": "code",
   "execution_count": 81,
   "metadata": {},
   "outputs": [],
   "source": [
    "dataset['IS_GOOD_PRED'] = y_is_good"
   ]
  },
  {
   "cell_type": "code",
   "execution_count": 84,
   "metadata": {
    "scrolled": true
   },
   "outputs": [
    {
     "data": {
      "text/html": [
       "<div>\n",
       "<style>\n",
       "    .dataframe thead tr:only-child th {\n",
       "        text-align: right;\n",
       "    }\n",
       "\n",
       "    .dataframe thead th {\n",
       "        text-align: left;\n",
       "    }\n",
       "\n",
       "    .dataframe tbody tr th {\n",
       "        vertical-align: top;\n",
       "    }\n",
       "</style>\n",
       "<table border=\"1\" class=\"dataframe\">\n",
       "  <thead>\n",
       "    <tr style=\"text-align: right;\">\n",
       "      <th></th>\n",
       "      <th>BRA_CODE</th>\n",
       "      <th>CUS_NUM</th>\n",
       "      <th>CUS_GENDER</th>\n",
       "      <th>PROF_CODE</th>\n",
       "      <th>STATE</th>\n",
       "      <th>CUS_AGE_AT_LOAN_BIN</th>\n",
       "      <th>HAS_ACTIVE_LOAN</th>\n",
       "      <th>OUTSTANDING_DEBT_BIN</th>\n",
       "      <th>NBR_DISTINCT_DEP_BIN</th>\n",
       "      <th>HAS_DISTINCT_CALL_TIME_TBILLS</th>\n",
       "      <th>...</th>\n",
       "      <th>SUM_LODGEMENT_AMOUNT_BIN</th>\n",
       "      <th>IN_OUT_AMT_RATIO_BIN</th>\n",
       "      <th>IN_OUT_CNT_RATIO_BIN</th>\n",
       "      <th>COV_LODGEMENT_AMT_BIN</th>\n",
       "      <th>COV_LODGEMENT_CNT_BIN</th>\n",
       "      <th>BANK_YRS_BIN</th>\n",
       "      <th>LOAN_MTH_OF_YEAR</th>\n",
       "      <th>HAS_DUE_DEBT</th>\n",
       "      <th>HAS_REACTIVATED</th>\n",
       "      <th>IS_GOOD_PRED</th>\n",
       "    </tr>\n",
       "  </thead>\n",
       "  <tbody>\n",
       "    <tr>\n",
       "      <th>11118</th>\n",
       "      <td>321</td>\n",
       "      <td>279620</td>\n",
       "      <td>M</td>\n",
       "      <td>4.0</td>\n",
       "      <td>FC</td>\n",
       "      <td>30 - 35</td>\n",
       "      <td>0</td>\n",
       "      <td>&lt; 1000</td>\n",
       "      <td>&lt; 1</td>\n",
       "      <td>0</td>\n",
       "      <td>...</td>\n",
       "      <td>250000 - 500000</td>\n",
       "      <td>1 - 1.2</td>\n",
       "      <td>0.5 - 0.7</td>\n",
       "      <td>0.7 - 1</td>\n",
       "      <td>0.5 - 0.7</td>\n",
       "      <td>3 - 5</td>\n",
       "      <td>12</td>\n",
       "      <td>0</td>\n",
       "      <td>1</td>\n",
       "      <td>0.495149</td>\n",
       "    </tr>\n",
       "    <tr>\n",
       "      <th>16872</th>\n",
       "      <td>208</td>\n",
       "      <td>770730</td>\n",
       "      <td>M</td>\n",
       "      <td>0.0</td>\n",
       "      <td>LA</td>\n",
       "      <td>17 - 25</td>\n",
       "      <td>0</td>\n",
       "      <td>&lt; 1000</td>\n",
       "      <td>&lt; 1</td>\n",
       "      <td>0</td>\n",
       "      <td>...</td>\n",
       "      <td>&gt; 5000000</td>\n",
       "      <td>1 - 1.2</td>\n",
       "      <td>0.2 - 0.3</td>\n",
       "      <td>&gt; 1</td>\n",
       "      <td>&gt; 1</td>\n",
       "      <td>1 - 3</td>\n",
       "      <td>12</td>\n",
       "      <td>0</td>\n",
       "      <td>0</td>\n",
       "      <td>0.489845</td>\n",
       "    </tr>\n",
       "    <tr>\n",
       "      <th>30093</th>\n",
       "      <td>394</td>\n",
       "      <td>104976</td>\n",
       "      <td>M</td>\n",
       "      <td>21.0</td>\n",
       "      <td>FC</td>\n",
       "      <td>30 - 35</td>\n",
       "      <td>0</td>\n",
       "      <td>&lt; 1000</td>\n",
       "      <td>&lt; 1</td>\n",
       "      <td>0</td>\n",
       "      <td>...</td>\n",
       "      <td>250000 - 500000</td>\n",
       "      <td>1 - 1.2</td>\n",
       "      <td>0.2 - 0.3</td>\n",
       "      <td>0.7 - 1</td>\n",
       "      <td>0.7 - 1</td>\n",
       "      <td>3 - 5</td>\n",
       "      <td>12</td>\n",
       "      <td>0</td>\n",
       "      <td>0</td>\n",
       "      <td>0.464201</td>\n",
       "    </tr>\n",
       "    <tr>\n",
       "      <th>36969</th>\n",
       "      <td>327</td>\n",
       "      <td>469597</td>\n",
       "      <td>M</td>\n",
       "      <td>74.0</td>\n",
       "      <td>FC</td>\n",
       "      <td>25 - 30</td>\n",
       "      <td>0</td>\n",
       "      <td>&lt; 1000</td>\n",
       "      <td>&lt; 1</td>\n",
       "      <td>0</td>\n",
       "      <td>...</td>\n",
       "      <td>250000 - 500000</td>\n",
       "      <td>1 - 1.2</td>\n",
       "      <td>0.3 - 0.5</td>\n",
       "      <td>0.5 - 0.7</td>\n",
       "      <td>0.5 - 0.7</td>\n",
       "      <td>3 - 5</td>\n",
       "      <td>12</td>\n",
       "      <td>0</td>\n",
       "      <td>0</td>\n",
       "      <td>0.491130</td>\n",
       "    </tr>\n",
       "    <tr>\n",
       "      <th>103080</th>\n",
       "      <td>491</td>\n",
       "      <td>446943</td>\n",
       "      <td>M</td>\n",
       "      <td>87.0</td>\n",
       "      <td>OS</td>\n",
       "      <td>35 - 45</td>\n",
       "      <td>0</td>\n",
       "      <td>&lt; 1000</td>\n",
       "      <td>&lt; 1</td>\n",
       "      <td>0</td>\n",
       "      <td>...</td>\n",
       "      <td>&gt; 5000000</td>\n",
       "      <td>1 - 1.2</td>\n",
       "      <td>0.1 - 0.2</td>\n",
       "      <td>0.7 - 1</td>\n",
       "      <td>0.5 - 0.7</td>\n",
       "      <td>&gt; 10</td>\n",
       "      <td>12</td>\n",
       "      <td>0</td>\n",
       "      <td>1</td>\n",
       "      <td>0.491918</td>\n",
       "    </tr>\n",
       "    <tr>\n",
       "      <th>104789</th>\n",
       "      <td>721</td>\n",
       "      <td>997526</td>\n",
       "      <td>M</td>\n",
       "      <td>5.0</td>\n",
       "      <td>RV</td>\n",
       "      <td>45 - 60</td>\n",
       "      <td>0</td>\n",
       "      <td>&lt; 1000</td>\n",
       "      <td>&lt; 1</td>\n",
       "      <td>0</td>\n",
       "      <td>...</td>\n",
       "      <td>120000 - 250000</td>\n",
       "      <td>&lt; 0.5</td>\n",
       "      <td>&lt; 0.1</td>\n",
       "      <td>&gt; 1</td>\n",
       "      <td>&gt; 1</td>\n",
       "      <td>7 - 10</td>\n",
       "      <td>12</td>\n",
       "      <td>0</td>\n",
       "      <td>1</td>\n",
       "      <td>0.441171</td>\n",
       "    </tr>\n",
       "    <tr>\n",
       "      <th>166418</th>\n",
       "      <td>691</td>\n",
       "      <td>119449</td>\n",
       "      <td>M</td>\n",
       "      <td>16.0</td>\n",
       "      <td>FC</td>\n",
       "      <td>35 - 45</td>\n",
       "      <td>0</td>\n",
       "      <td>&lt; 1000</td>\n",
       "      <td>&lt; 1</td>\n",
       "      <td>0</td>\n",
       "      <td>...</td>\n",
       "      <td>250000 - 500000</td>\n",
       "      <td>1 - 1.2</td>\n",
       "      <td>0.3 - 0.5</td>\n",
       "      <td>0.5 - 0.7</td>\n",
       "      <td>0.5 - 0.7</td>\n",
       "      <td>3 - 5</td>\n",
       "      <td>12</td>\n",
       "      <td>0</td>\n",
       "      <td>0</td>\n",
       "      <td>0.473232</td>\n",
       "    </tr>\n",
       "    <tr>\n",
       "      <th>179959</th>\n",
       "      <td>319</td>\n",
       "      <td>103302</td>\n",
       "      <td>M</td>\n",
       "      <td>21.0</td>\n",
       "      <td>FC</td>\n",
       "      <td>30 - 35</td>\n",
       "      <td>0</td>\n",
       "      <td>&lt; 1000</td>\n",
       "      <td>&lt; 1</td>\n",
       "      <td>0</td>\n",
       "      <td>...</td>\n",
       "      <td>250000 - 500000</td>\n",
       "      <td>1 - 1.2</td>\n",
       "      <td>0.3 - 0.5</td>\n",
       "      <td>0.7 - 1</td>\n",
       "      <td>0.5 - 0.7</td>\n",
       "      <td>3 - 5</td>\n",
       "      <td>12</td>\n",
       "      <td>0</td>\n",
       "      <td>0</td>\n",
       "      <td>0.498204</td>\n",
       "    </tr>\n",
       "    <tr>\n",
       "      <th>192505</th>\n",
       "      <td>395</td>\n",
       "      <td>350975</td>\n",
       "      <td>M</td>\n",
       "      <td>6.0</td>\n",
       "      <td>FC</td>\n",
       "      <td>30 - 35</td>\n",
       "      <td>0</td>\n",
       "      <td>&lt; 1000</td>\n",
       "      <td>&lt; 1</td>\n",
       "      <td>0</td>\n",
       "      <td>...</td>\n",
       "      <td>250000 - 500000</td>\n",
       "      <td>1 - 1.2</td>\n",
       "      <td>0.1 - 0.2</td>\n",
       "      <td>0.5 - 0.7</td>\n",
       "      <td>0.5 - 0.7</td>\n",
       "      <td>3 - 5</td>\n",
       "      <td>12</td>\n",
       "      <td>0</td>\n",
       "      <td>0</td>\n",
       "      <td>0.490935</td>\n",
       "    </tr>\n",
       "    <tr>\n",
       "      <th>194180</th>\n",
       "      <td>441</td>\n",
       "      <td>336666</td>\n",
       "      <td>M</td>\n",
       "      <td>19.0</td>\n",
       "      <td>KW</td>\n",
       "      <td>45 - 60</td>\n",
       "      <td>0</td>\n",
       "      <td>&lt; 1000</td>\n",
       "      <td>&lt; 1</td>\n",
       "      <td>0</td>\n",
       "      <td>...</td>\n",
       "      <td>&gt; 5000000</td>\n",
       "      <td>1 - 1.2</td>\n",
       "      <td>0.1 - 0.2</td>\n",
       "      <td>0.5 - 0.7</td>\n",
       "      <td>&lt; 0.3</td>\n",
       "      <td>&gt; 10</td>\n",
       "      <td>12</td>\n",
       "      <td>0</td>\n",
       "      <td>1</td>\n",
       "      <td>0.450792</td>\n",
       "    </tr>\n",
       "    <tr>\n",
       "      <th>222176</th>\n",
       "      <td>396</td>\n",
       "      <td>345278</td>\n",
       "      <td>M</td>\n",
       "      <td>0.0</td>\n",
       "      <td>FC</td>\n",
       "      <td>30 - 35</td>\n",
       "      <td>0</td>\n",
       "      <td>&lt; 1000</td>\n",
       "      <td>&lt; 1</td>\n",
       "      <td>0</td>\n",
       "      <td>...</td>\n",
       "      <td>250000 - 500000</td>\n",
       "      <td>1 - 1.2</td>\n",
       "      <td>0.1 - 0.2</td>\n",
       "      <td>0.5 - 0.7</td>\n",
       "      <td>0.5 - 0.7</td>\n",
       "      <td>3 - 5</td>\n",
       "      <td>12</td>\n",
       "      <td>0</td>\n",
       "      <td>0</td>\n",
       "      <td>0.487232</td>\n",
       "    </tr>\n",
       "    <tr>\n",
       "      <th>232514</th>\n",
       "      <td>393</td>\n",
       "      <td>102911</td>\n",
       "      <td>M</td>\n",
       "      <td>0.0</td>\n",
       "      <td>FC</td>\n",
       "      <td>35 - 45</td>\n",
       "      <td>0</td>\n",
       "      <td>&lt; 1000</td>\n",
       "      <td>&lt; 1</td>\n",
       "      <td>0</td>\n",
       "      <td>...</td>\n",
       "      <td>250000 - 500000</td>\n",
       "      <td>1 - 1.2</td>\n",
       "      <td>0.2 - 0.3</td>\n",
       "      <td>0.7 - 1</td>\n",
       "      <td>0.5 - 0.7</td>\n",
       "      <td>3 - 5</td>\n",
       "      <td>12</td>\n",
       "      <td>0</td>\n",
       "      <td>1</td>\n",
       "      <td>0.496785</td>\n",
       "    </tr>\n",
       "    <tr>\n",
       "      <th>264195</th>\n",
       "      <td>247</td>\n",
       "      <td>222618</td>\n",
       "      <td>M</td>\n",
       "      <td>4.0</td>\n",
       "      <td>LA</td>\n",
       "      <td>45 - 60</td>\n",
       "      <td>0</td>\n",
       "      <td>&lt; 1000</td>\n",
       "      <td>&lt; 1</td>\n",
       "      <td>0</td>\n",
       "      <td>...</td>\n",
       "      <td>&lt; 120000</td>\n",
       "      <td>1 - 1.2</td>\n",
       "      <td>0.5 - 0.7</td>\n",
       "      <td>&gt; 1</td>\n",
       "      <td>&gt; 1</td>\n",
       "      <td>7 - 10</td>\n",
       "      <td>12</td>\n",
       "      <td>0</td>\n",
       "      <td>1</td>\n",
       "      <td>0.487304</td>\n",
       "    </tr>\n",
       "    <tr>\n",
       "      <th>348617</th>\n",
       "      <td>211</td>\n",
       "      <td>740741</td>\n",
       "      <td>M</td>\n",
       "      <td>16.0</td>\n",
       "      <td>LA</td>\n",
       "      <td>35 - 45</td>\n",
       "      <td>0</td>\n",
       "      <td>&lt; 1000</td>\n",
       "      <td>&lt; 1</td>\n",
       "      <td>0</td>\n",
       "      <td>...</td>\n",
       "      <td>&gt; 5000000</td>\n",
       "      <td>1 - 1.2</td>\n",
       "      <td>0.1 - 0.2</td>\n",
       "      <td>0.5 - 0.7</td>\n",
       "      <td>&lt; 0.3</td>\n",
       "      <td>&gt; 10</td>\n",
       "      <td>12</td>\n",
       "      <td>0</td>\n",
       "      <td>1</td>\n",
       "      <td>0.447102</td>\n",
       "    </tr>\n",
       "    <tr>\n",
       "      <th>355631</th>\n",
       "      <td>801</td>\n",
       "      <td>980584</td>\n",
       "      <td>M</td>\n",
       "      <td>16.0</td>\n",
       "      <td>NG</td>\n",
       "      <td>35 - 45</td>\n",
       "      <td>0</td>\n",
       "      <td>&lt; 1000</td>\n",
       "      <td>&lt; 1</td>\n",
       "      <td>0</td>\n",
       "      <td>...</td>\n",
       "      <td>&gt; 5000000</td>\n",
       "      <td>1 - 1.2</td>\n",
       "      <td>0.1 - 0.2</td>\n",
       "      <td>0.5 - 0.7</td>\n",
       "      <td>&lt; 0.3</td>\n",
       "      <td>&gt; 10</td>\n",
       "      <td>12</td>\n",
       "      <td>1</td>\n",
       "      <td>1</td>\n",
       "      <td>0.456519</td>\n",
       "    </tr>\n",
       "    <tr>\n",
       "      <th>400618</th>\n",
       "      <td>323</td>\n",
       "      <td>288253</td>\n",
       "      <td>M</td>\n",
       "      <td>21.0</td>\n",
       "      <td>FC</td>\n",
       "      <td>35 - 45</td>\n",
       "      <td>0</td>\n",
       "      <td>&lt; 1000</td>\n",
       "      <td>&lt; 1</td>\n",
       "      <td>0</td>\n",
       "      <td>...</td>\n",
       "      <td>250000 - 500000</td>\n",
       "      <td>1 - 1.2</td>\n",
       "      <td>0.2 - 0.3</td>\n",
       "      <td>0.5 - 0.7</td>\n",
       "      <td>0.5 - 0.7</td>\n",
       "      <td>3 - 5</td>\n",
       "      <td>12</td>\n",
       "      <td>0</td>\n",
       "      <td>0</td>\n",
       "      <td>0.470547</td>\n",
       "    </tr>\n",
       "    <tr>\n",
       "      <th>405313</th>\n",
       "      <td>208</td>\n",
       "      <td>712757</td>\n",
       "      <td>M</td>\n",
       "      <td>16.0</td>\n",
       "      <td>LA</td>\n",
       "      <td>35 - 45</td>\n",
       "      <td>0</td>\n",
       "      <td>&lt; 1000</td>\n",
       "      <td>&lt; 1</td>\n",
       "      <td>0</td>\n",
       "      <td>...</td>\n",
       "      <td>&gt; 5000000</td>\n",
       "      <td>1 - 1.2</td>\n",
       "      <td>0.1 - 0.2</td>\n",
       "      <td>0.7 - 1</td>\n",
       "      <td>0.5 - 0.7</td>\n",
       "      <td>&gt; 10</td>\n",
       "      <td>12</td>\n",
       "      <td>0</td>\n",
       "      <td>1</td>\n",
       "      <td>0.421570</td>\n",
       "    </tr>\n",
       "    <tr>\n",
       "      <th>411885</th>\n",
       "      <td>505</td>\n",
       "      <td>592146</td>\n",
       "      <td>M</td>\n",
       "      <td>11.0</td>\n",
       "      <td>RV</td>\n",
       "      <td>45 - 60</td>\n",
       "      <td>0</td>\n",
       "      <td>&lt; 1000</td>\n",
       "      <td>&lt; 1</td>\n",
       "      <td>0</td>\n",
       "      <td>...</td>\n",
       "      <td>&gt; 5000000</td>\n",
       "      <td>1.2 - 2</td>\n",
       "      <td>0.7 - 1</td>\n",
       "      <td>&gt; 1</td>\n",
       "      <td>&gt; 1</td>\n",
       "      <td>5 - 7</td>\n",
       "      <td>12</td>\n",
       "      <td>0</td>\n",
       "      <td>1</td>\n",
       "      <td>0.483131</td>\n",
       "    </tr>\n",
       "    <tr>\n",
       "      <th>441090</th>\n",
       "      <td>325</td>\n",
       "      <td>377777</td>\n",
       "      <td>M</td>\n",
       "      <td>4.0</td>\n",
       "      <td>FC</td>\n",
       "      <td>30 - 35</td>\n",
       "      <td>0</td>\n",
       "      <td>&lt; 1000</td>\n",
       "      <td>&lt; 1</td>\n",
       "      <td>0</td>\n",
       "      <td>...</td>\n",
       "      <td>250000 - 500000</td>\n",
       "      <td>1 - 1.2</td>\n",
       "      <td>0.3 - 0.5</td>\n",
       "      <td>0.7 - 1</td>\n",
       "      <td>0.7 - 1</td>\n",
       "      <td>3 - 5</td>\n",
       "      <td>12</td>\n",
       "      <td>0</td>\n",
       "      <td>1</td>\n",
       "      <td>0.479218</td>\n",
       "    </tr>\n",
       "    <tr>\n",
       "      <th>465475</th>\n",
       "      <td>327</td>\n",
       "      <td>465099</td>\n",
       "      <td>M</td>\n",
       "      <td>59.0</td>\n",
       "      <td>FC</td>\n",
       "      <td>35 - 45</td>\n",
       "      <td>0</td>\n",
       "      <td>&lt; 1000</td>\n",
       "      <td>&lt; 1</td>\n",
       "      <td>0</td>\n",
       "      <td>...</td>\n",
       "      <td>250000 - 500000</td>\n",
       "      <td>1 - 1.2</td>\n",
       "      <td>0.5 - 0.7</td>\n",
       "      <td>0.7 - 1</td>\n",
       "      <td>0.7 - 1</td>\n",
       "      <td>3 - 5</td>\n",
       "      <td>12</td>\n",
       "      <td>0</td>\n",
       "      <td>0</td>\n",
       "      <td>0.469123</td>\n",
       "    </tr>\n",
       "    <tr>\n",
       "      <th>487260</th>\n",
       "      <td>396</td>\n",
       "      <td>352801</td>\n",
       "      <td>M</td>\n",
       "      <td>0.0</td>\n",
       "      <td>FC</td>\n",
       "      <td>30 - 35</td>\n",
       "      <td>0</td>\n",
       "      <td>&lt; 1000</td>\n",
       "      <td>&lt; 1</td>\n",
       "      <td>0</td>\n",
       "      <td>...</td>\n",
       "      <td>250000 - 500000</td>\n",
       "      <td>1 - 1.2</td>\n",
       "      <td>0.3 - 0.5</td>\n",
       "      <td>0.5 - 0.7</td>\n",
       "      <td>0.5 - 0.7</td>\n",
       "      <td>3 - 5</td>\n",
       "      <td>12</td>\n",
       "      <td>0</td>\n",
       "      <td>0</td>\n",
       "      <td>0.417389</td>\n",
       "    </tr>\n",
       "    <tr>\n",
       "      <th>534382</th>\n",
       "      <td>321</td>\n",
       "      <td>282410</td>\n",
       "      <td>M</td>\n",
       "      <td>4.0</td>\n",
       "      <td>FC</td>\n",
       "      <td>25 - 30</td>\n",
       "      <td>0</td>\n",
       "      <td>&lt; 1000</td>\n",
       "      <td>&lt; 1</td>\n",
       "      <td>0</td>\n",
       "      <td>...</td>\n",
       "      <td>250000 - 500000</td>\n",
       "      <td>1 - 1.2</td>\n",
       "      <td>0.3 - 0.5</td>\n",
       "      <td>0.5 - 0.7</td>\n",
       "      <td>0.5 - 0.7</td>\n",
       "      <td>3 - 5</td>\n",
       "      <td>12</td>\n",
       "      <td>0</td>\n",
       "      <td>0</td>\n",
       "      <td>0.469446</td>\n",
       "    </tr>\n",
       "    <tr>\n",
       "      <th>564607</th>\n",
       "      <td>322</td>\n",
       "      <td>359778</td>\n",
       "      <td>M</td>\n",
       "      <td>0.0</td>\n",
       "      <td>FC</td>\n",
       "      <td>30 - 35</td>\n",
       "      <td>0</td>\n",
       "      <td>&lt; 1000</td>\n",
       "      <td>&lt; 1</td>\n",
       "      <td>0</td>\n",
       "      <td>...</td>\n",
       "      <td>250000 - 500000</td>\n",
       "      <td>1 - 1.2</td>\n",
       "      <td>0.2 - 0.3</td>\n",
       "      <td>0.7 - 1</td>\n",
       "      <td>0.5 - 0.7</td>\n",
       "      <td>3 - 5</td>\n",
       "      <td>12</td>\n",
       "      <td>0</td>\n",
       "      <td>0</td>\n",
       "      <td>0.494160</td>\n",
       "    </tr>\n",
       "    <tr>\n",
       "      <th>625062</th>\n",
       "      <td>321</td>\n",
       "      <td>278715</td>\n",
       "      <td>M</td>\n",
       "      <td>0.0</td>\n",
       "      <td>FC</td>\n",
       "      <td>30 - 35</td>\n",
       "      <td>0</td>\n",
       "      <td>&lt; 1000</td>\n",
       "      <td>&lt; 1</td>\n",
       "      <td>0</td>\n",
       "      <td>...</td>\n",
       "      <td>250000 - 500000</td>\n",
       "      <td>1 - 1.2</td>\n",
       "      <td>0.3 - 0.5</td>\n",
       "      <td>0.5 - 0.7</td>\n",
       "      <td>0.7 - 1</td>\n",
       "      <td>3 - 5</td>\n",
       "      <td>12</td>\n",
       "      <td>0</td>\n",
       "      <td>0</td>\n",
       "      <td>0.460000</td>\n",
       "    </tr>\n",
       "    <tr>\n",
       "      <th>662509</th>\n",
       "      <td>395</td>\n",
       "      <td>349816</td>\n",
       "      <td>M</td>\n",
       "      <td>6.0</td>\n",
       "      <td>FC</td>\n",
       "      <td>35 - 45</td>\n",
       "      <td>0</td>\n",
       "      <td>&lt; 1000</td>\n",
       "      <td>&lt; 1</td>\n",
       "      <td>0</td>\n",
       "      <td>...</td>\n",
       "      <td>250000 - 500000</td>\n",
       "      <td>1 - 1.2</td>\n",
       "      <td>0.3 - 0.5</td>\n",
       "      <td>0.7 - 1</td>\n",
       "      <td>0.5 - 0.7</td>\n",
       "      <td>3 - 5</td>\n",
       "      <td>12</td>\n",
       "      <td>0</td>\n",
       "      <td>0</td>\n",
       "      <td>0.456871</td>\n",
       "    </tr>\n",
       "    <tr>\n",
       "      <th>703636</th>\n",
       "      <td>322</td>\n",
       "      <td>364578</td>\n",
       "      <td>M</td>\n",
       "      <td>2.0</td>\n",
       "      <td>FC</td>\n",
       "      <td>30 - 35</td>\n",
       "      <td>0</td>\n",
       "      <td>&lt; 1000</td>\n",
       "      <td>&lt; 1</td>\n",
       "      <td>0</td>\n",
       "      <td>...</td>\n",
       "      <td>250000 - 500000</td>\n",
       "      <td>1 - 1.2</td>\n",
       "      <td>0.3 - 0.5</td>\n",
       "      <td>0.7 - 1</td>\n",
       "      <td>0.5 - 0.7</td>\n",
       "      <td>3 - 5</td>\n",
       "      <td>12</td>\n",
       "      <td>0</td>\n",
       "      <td>0</td>\n",
       "      <td>0.467623</td>\n",
       "    </tr>\n",
       "    <tr>\n",
       "      <th>737296</th>\n",
       "      <td>232</td>\n",
       "      <td>806349</td>\n",
       "      <td>M</td>\n",
       "      <td>0.0</td>\n",
       "      <td>LA</td>\n",
       "      <td>25 - 30</td>\n",
       "      <td>0</td>\n",
       "      <td>&lt; 1000</td>\n",
       "      <td>&lt; 1</td>\n",
       "      <td>0</td>\n",
       "      <td>...</td>\n",
       "      <td>&gt; 5000000</td>\n",
       "      <td>1 - 1.2</td>\n",
       "      <td>0.2 - 0.3</td>\n",
       "      <td>&gt; 1</td>\n",
       "      <td>&gt; 1</td>\n",
       "      <td>1 - 3</td>\n",
       "      <td>12</td>\n",
       "      <td>0</td>\n",
       "      <td>1</td>\n",
       "      <td>0.422002</td>\n",
       "    </tr>\n",
       "    <tr>\n",
       "      <th>757016</th>\n",
       "      <td>322</td>\n",
       "      <td>372145</td>\n",
       "      <td>M</td>\n",
       "      <td>0.0</td>\n",
       "      <td>FC</td>\n",
       "      <td>30 - 35</td>\n",
       "      <td>0</td>\n",
       "      <td>&lt; 1000</td>\n",
       "      <td>&lt; 1</td>\n",
       "      <td>0</td>\n",
       "      <td>...</td>\n",
       "      <td>250000 - 500000</td>\n",
       "      <td>1 - 1.2</td>\n",
       "      <td>0.5 - 0.7</td>\n",
       "      <td>0.7 - 1</td>\n",
       "      <td>0.5 - 0.7</td>\n",
       "      <td>3 - 5</td>\n",
       "      <td>12</td>\n",
       "      <td>0</td>\n",
       "      <td>1</td>\n",
       "      <td>0.490470</td>\n",
       "    </tr>\n",
       "    <tr>\n",
       "      <th>779046</th>\n",
       "      <td>201</td>\n",
       "      <td>141230</td>\n",
       "      <td>M</td>\n",
       "      <td>0.0</td>\n",
       "      <td>LA</td>\n",
       "      <td>45 - 60</td>\n",
       "      <td>0</td>\n",
       "      <td>&lt; 1000</td>\n",
       "      <td>&lt; 1</td>\n",
       "      <td>0</td>\n",
       "      <td>...</td>\n",
       "      <td>120000 - 250000</td>\n",
       "      <td>1 - 1.2</td>\n",
       "      <td>0.5 - 0.7</td>\n",
       "      <td>&gt; 1</td>\n",
       "      <td>&gt; 1</td>\n",
       "      <td>&gt; 10</td>\n",
       "      <td>12</td>\n",
       "      <td>0</td>\n",
       "      <td>1</td>\n",
       "      <td>0.486222</td>\n",
       "    </tr>\n",
       "    <tr>\n",
       "      <th>819280</th>\n",
       "      <td>393</td>\n",
       "      <td>102629</td>\n",
       "      <td>M</td>\n",
       "      <td>4.0</td>\n",
       "      <td>FC</td>\n",
       "      <td>30 - 35</td>\n",
       "      <td>0</td>\n",
       "      <td>&lt; 1000</td>\n",
       "      <td>&lt; 1</td>\n",
       "      <td>0</td>\n",
       "      <td>...</td>\n",
       "      <td>250000 - 500000</td>\n",
       "      <td>1 - 1.2</td>\n",
       "      <td>0.3 - 0.5</td>\n",
       "      <td>0.7 - 1</td>\n",
       "      <td>0.5 - 0.7</td>\n",
       "      <td>3 - 5</td>\n",
       "      <td>12</td>\n",
       "      <td>0</td>\n",
       "      <td>1</td>\n",
       "      <td>0.471675</td>\n",
       "    </tr>\n",
       "    <tr>\n",
       "      <th>...</th>\n",
       "      <td>...</td>\n",
       "      <td>...</td>\n",
       "      <td>...</td>\n",
       "      <td>...</td>\n",
       "      <td>...</td>\n",
       "      <td>...</td>\n",
       "      <td>...</td>\n",
       "      <td>...</td>\n",
       "      <td>...</td>\n",
       "      <td>...</td>\n",
       "      <td>...</td>\n",
       "      <td>...</td>\n",
       "      <td>...</td>\n",
       "      <td>...</td>\n",
       "      <td>...</td>\n",
       "      <td>...</td>\n",
       "      <td>...</td>\n",
       "      <td>...</td>\n",
       "      <td>...</td>\n",
       "      <td>...</td>\n",
       "      <td>...</td>\n",
       "    </tr>\n",
       "    <tr>\n",
       "      <th>8334846</th>\n",
       "      <td>401</td>\n",
       "      <td>309068</td>\n",
       "      <td>M</td>\n",
       "      <td>4.0</td>\n",
       "      <td>OY</td>\n",
       "      <td>45 - 60</td>\n",
       "      <td>0</td>\n",
       "      <td>&lt; 1000</td>\n",
       "      <td>&lt; 1</td>\n",
       "      <td>0</td>\n",
       "      <td>...</td>\n",
       "      <td>120000 - 250000</td>\n",
       "      <td>1 - 1.2</td>\n",
       "      <td>0.5 - 0.7</td>\n",
       "      <td>&gt; 1</td>\n",
       "      <td>&gt; 1</td>\n",
       "      <td>7 - 10</td>\n",
       "      <td>12</td>\n",
       "      <td>0</td>\n",
       "      <td>1</td>\n",
       "      <td>0.477473</td>\n",
       "    </tr>\n",
       "    <tr>\n",
       "      <th>8420403</th>\n",
       "      <td>321</td>\n",
       "      <td>281998</td>\n",
       "      <td>M</td>\n",
       "      <td>21.0</td>\n",
       "      <td>FC</td>\n",
       "      <td>30 - 35</td>\n",
       "      <td>0</td>\n",
       "      <td>&lt; 1000</td>\n",
       "      <td>&lt; 1</td>\n",
       "      <td>0</td>\n",
       "      <td>...</td>\n",
       "      <td>250000 - 500000</td>\n",
       "      <td>1 - 1.2</td>\n",
       "      <td>0.3 - 0.5</td>\n",
       "      <td>0.5 - 0.7</td>\n",
       "      <td>&lt; 0.3</td>\n",
       "      <td>3 - 5</td>\n",
       "      <td>12</td>\n",
       "      <td>0</td>\n",
       "      <td>0</td>\n",
       "      <td>0.470389</td>\n",
       "    </tr>\n",
       "    <tr>\n",
       "      <th>8470866</th>\n",
       "      <td>325</td>\n",
       "      <td>370692</td>\n",
       "      <td>M</td>\n",
       "      <td>59.0</td>\n",
       "      <td>FC</td>\n",
       "      <td>25 - 30</td>\n",
       "      <td>0</td>\n",
       "      <td>&lt; 1000</td>\n",
       "      <td>&lt; 1</td>\n",
       "      <td>0</td>\n",
       "      <td>...</td>\n",
       "      <td>250000 - 500000</td>\n",
       "      <td>1 - 1.2</td>\n",
       "      <td>0.5 - 0.7</td>\n",
       "      <td>0.5 - 0.7</td>\n",
       "      <td>0.5 - 0.7</td>\n",
       "      <td>3 - 5</td>\n",
       "      <td>12</td>\n",
       "      <td>0</td>\n",
       "      <td>0</td>\n",
       "      <td>0.495282</td>\n",
       "    </tr>\n",
       "    <tr>\n",
       "      <th>8520663</th>\n",
       "      <td>401</td>\n",
       "      <td>404170</td>\n",
       "      <td>M</td>\n",
       "      <td>11.0</td>\n",
       "      <td>OY</td>\n",
       "      <td>35 - 45</td>\n",
       "      <td>0</td>\n",
       "      <td>&lt; 1000</td>\n",
       "      <td>&lt; 1</td>\n",
       "      <td>0</td>\n",
       "      <td>...</td>\n",
       "      <td>120000 - 250000</td>\n",
       "      <td>1 - 1.2</td>\n",
       "      <td>0.5 - 0.7</td>\n",
       "      <td>&gt; 1</td>\n",
       "      <td>&gt; 1</td>\n",
       "      <td>7 - 10</td>\n",
       "      <td>12</td>\n",
       "      <td>0</td>\n",
       "      <td>1</td>\n",
       "      <td>0.494345</td>\n",
       "    </tr>\n",
       "    <tr>\n",
       "      <th>8553676</th>\n",
       "      <td>330</td>\n",
       "      <td>342359</td>\n",
       "      <td>M</td>\n",
       "      <td>4.0</td>\n",
       "      <td>FC</td>\n",
       "      <td>35 - 45</td>\n",
       "      <td>0</td>\n",
       "      <td>&lt; 1000</td>\n",
       "      <td>&lt; 1</td>\n",
       "      <td>0</td>\n",
       "      <td>...</td>\n",
       "      <td>250000 - 500000</td>\n",
       "      <td>1 - 1.2</td>\n",
       "      <td>0.3 - 0.5</td>\n",
       "      <td>0.7 - 1</td>\n",
       "      <td>0.5 - 0.7</td>\n",
       "      <td>3 - 5</td>\n",
       "      <td>12</td>\n",
       "      <td>0</td>\n",
       "      <td>0</td>\n",
       "      <td>0.482918</td>\n",
       "    </tr>\n",
       "    <tr>\n",
       "      <th>8555321</th>\n",
       "      <td>446</td>\n",
       "      <td>448578</td>\n",
       "      <td>M</td>\n",
       "      <td>0.0</td>\n",
       "      <td>KW</td>\n",
       "      <td>17 - 25</td>\n",
       "      <td>0</td>\n",
       "      <td>&lt; 1000</td>\n",
       "      <td>&lt; 1</td>\n",
       "      <td>0</td>\n",
       "      <td>...</td>\n",
       "      <td>&lt; 120000</td>\n",
       "      <td>1 - 1.2</td>\n",
       "      <td>0.2 - 0.3</td>\n",
       "      <td>&gt; 1</td>\n",
       "      <td>&gt; 1</td>\n",
       "      <td>3 - 5</td>\n",
       "      <td>12</td>\n",
       "      <td>0</td>\n",
       "      <td>0</td>\n",
       "      <td>0.496999</td>\n",
       "    </tr>\n",
       "    <tr>\n",
       "      <th>8597857</th>\n",
       "      <td>330</td>\n",
       "      <td>342015</td>\n",
       "      <td>M</td>\n",
       "      <td>4.0</td>\n",
       "      <td>FC</td>\n",
       "      <td>30 - 35</td>\n",
       "      <td>0</td>\n",
       "      <td>&lt; 1000</td>\n",
       "      <td>&lt; 1</td>\n",
       "      <td>0</td>\n",
       "      <td>...</td>\n",
       "      <td>250000 - 500000</td>\n",
       "      <td>1 - 1.2</td>\n",
       "      <td>0.1 - 0.2</td>\n",
       "      <td>0.7 - 1</td>\n",
       "      <td>0.5 - 0.7</td>\n",
       "      <td>3 - 5</td>\n",
       "      <td>12</td>\n",
       "      <td>0</td>\n",
       "      <td>0</td>\n",
       "      <td>0.490915</td>\n",
       "    </tr>\n",
       "    <tr>\n",
       "      <th>8651798</th>\n",
       "      <td>393</td>\n",
       "      <td>103373</td>\n",
       "      <td>M</td>\n",
       "      <td>0.0</td>\n",
       "      <td>FC</td>\n",
       "      <td>35 - 45</td>\n",
       "      <td>0</td>\n",
       "      <td>&lt; 1000</td>\n",
       "      <td>&lt; 1</td>\n",
       "      <td>0</td>\n",
       "      <td>...</td>\n",
       "      <td>250000 - 500000</td>\n",
       "      <td>1 - 1.2</td>\n",
       "      <td>0.3 - 0.5</td>\n",
       "      <td>0.5 - 0.7</td>\n",
       "      <td>0.5 - 0.7</td>\n",
       "      <td>3 - 5</td>\n",
       "      <td>12</td>\n",
       "      <td>0</td>\n",
       "      <td>1</td>\n",
       "      <td>0.411368</td>\n",
       "    </tr>\n",
       "    <tr>\n",
       "      <th>8658347</th>\n",
       "      <td>219</td>\n",
       "      <td>828127</td>\n",
       "      <td>M</td>\n",
       "      <td>99.0</td>\n",
       "      <td>LA</td>\n",
       "      <td>35 - 45</td>\n",
       "      <td>0</td>\n",
       "      <td>&lt; 1000</td>\n",
       "      <td>&lt; 1</td>\n",
       "      <td>0</td>\n",
       "      <td>...</td>\n",
       "      <td>&gt; 5000000</td>\n",
       "      <td>1 - 1.2</td>\n",
       "      <td>0.1 - 0.2</td>\n",
       "      <td>0.7 - 1</td>\n",
       "      <td>0.5 - 0.7</td>\n",
       "      <td>&gt; 10</td>\n",
       "      <td>12</td>\n",
       "      <td>0</td>\n",
       "      <td>1</td>\n",
       "      <td>0.492321</td>\n",
       "    </tr>\n",
       "    <tr>\n",
       "      <th>8708229</th>\n",
       "      <td>325</td>\n",
       "      <td>365653</td>\n",
       "      <td>M</td>\n",
       "      <td>21.0</td>\n",
       "      <td>FC</td>\n",
       "      <td>30 - 35</td>\n",
       "      <td>0</td>\n",
       "      <td>&lt; 1000</td>\n",
       "      <td>&lt; 1</td>\n",
       "      <td>0</td>\n",
       "      <td>...</td>\n",
       "      <td>250000 - 500000</td>\n",
       "      <td>1 - 1.2</td>\n",
       "      <td>0.3 - 0.5</td>\n",
       "      <td>0.5 - 0.7</td>\n",
       "      <td>0.5 - 0.7</td>\n",
       "      <td>3 - 5</td>\n",
       "      <td>12</td>\n",
       "      <td>0</td>\n",
       "      <td>0</td>\n",
       "      <td>0.462744</td>\n",
       "    </tr>\n",
       "    <tr>\n",
       "      <th>8778123</th>\n",
       "      <td>325</td>\n",
       "      <td>373723</td>\n",
       "      <td>M</td>\n",
       "      <td>71.0</td>\n",
       "      <td>FC</td>\n",
       "      <td>35 - 45</td>\n",
       "      <td>0</td>\n",
       "      <td>&lt; 1000</td>\n",
       "      <td>&lt; 1</td>\n",
       "      <td>0</td>\n",
       "      <td>...</td>\n",
       "      <td>250000 - 500000</td>\n",
       "      <td>1 - 1.2</td>\n",
       "      <td>0.3 - 0.5</td>\n",
       "      <td>0.5 - 0.7</td>\n",
       "      <td>0.5 - 0.7</td>\n",
       "      <td>3 - 5</td>\n",
       "      <td>12</td>\n",
       "      <td>0</td>\n",
       "      <td>0</td>\n",
       "      <td>0.461809</td>\n",
       "    </tr>\n",
       "    <tr>\n",
       "      <th>8785616</th>\n",
       "      <td>214</td>\n",
       "      <td>775342</td>\n",
       "      <td>M</td>\n",
       "      <td>45.0</td>\n",
       "      <td>LA</td>\n",
       "      <td>35 - 45</td>\n",
       "      <td>0</td>\n",
       "      <td>&lt; 1000</td>\n",
       "      <td>&lt; 1</td>\n",
       "      <td>0</td>\n",
       "      <td>...</td>\n",
       "      <td>&gt; 5000000</td>\n",
       "      <td>1 - 1.2</td>\n",
       "      <td>0.1 - 0.2</td>\n",
       "      <td>0.7 - 1</td>\n",
       "      <td>0.5 - 0.7</td>\n",
       "      <td>&gt; 10</td>\n",
       "      <td>12</td>\n",
       "      <td>0</td>\n",
       "      <td>1</td>\n",
       "      <td>0.456984</td>\n",
       "    </tr>\n",
       "    <tr>\n",
       "      <th>8795755</th>\n",
       "      <td>235</td>\n",
       "      <td>228630</td>\n",
       "      <td>M</td>\n",
       "      <td>16.0</td>\n",
       "      <td>LA</td>\n",
       "      <td>35 - 45</td>\n",
       "      <td>0</td>\n",
       "      <td>&lt; 1000</td>\n",
       "      <td>&lt; 1</td>\n",
       "      <td>0</td>\n",
       "      <td>...</td>\n",
       "      <td>&gt; 5000000</td>\n",
       "      <td>1 - 1.2</td>\n",
       "      <td>0.1 - 0.2</td>\n",
       "      <td>0.5 - 0.7</td>\n",
       "      <td>&lt; 0.3</td>\n",
       "      <td>&gt; 10</td>\n",
       "      <td>12</td>\n",
       "      <td>0</td>\n",
       "      <td>1</td>\n",
       "      <td>0.376254</td>\n",
       "    </tr>\n",
       "    <tr>\n",
       "      <th>8881484</th>\n",
       "      <td>209</td>\n",
       "      <td>742451</td>\n",
       "      <td>M</td>\n",
       "      <td>6.0</td>\n",
       "      <td>LA</td>\n",
       "      <td>30 - 35</td>\n",
       "      <td>0</td>\n",
       "      <td>&lt; 1000</td>\n",
       "      <td>&lt; 1</td>\n",
       "      <td>0</td>\n",
       "      <td>...</td>\n",
       "      <td>&gt; 5000000</td>\n",
       "      <td>1 - 1.2</td>\n",
       "      <td>0.1 - 0.2</td>\n",
       "      <td>0.5 - 0.7</td>\n",
       "      <td>&lt; 0.3</td>\n",
       "      <td>7 - 10</td>\n",
       "      <td>12</td>\n",
       "      <td>0</td>\n",
       "      <td>1</td>\n",
       "      <td>0.488046</td>\n",
       "    </tr>\n",
       "    <tr>\n",
       "      <th>8912585</th>\n",
       "      <td>249</td>\n",
       "      <td>225196</td>\n",
       "      <td>M</td>\n",
       "      <td>16.0</td>\n",
       "      <td>LA</td>\n",
       "      <td>35 - 45</td>\n",
       "      <td>0</td>\n",
       "      <td>&lt; 1000</td>\n",
       "      <td>&lt; 1</td>\n",
       "      <td>0</td>\n",
       "      <td>...</td>\n",
       "      <td>&gt; 5000000</td>\n",
       "      <td>0.9 - 1</td>\n",
       "      <td>0.1 - 0.2</td>\n",
       "      <td>0.5 - 0.7</td>\n",
       "      <td>&lt; 0.3</td>\n",
       "      <td>7 - 10</td>\n",
       "      <td>12</td>\n",
       "      <td>0</td>\n",
       "      <td>1</td>\n",
       "      <td>0.404399</td>\n",
       "    </tr>\n",
       "    <tr>\n",
       "      <th>8977511</th>\n",
       "      <td>330</td>\n",
       "      <td>344970</td>\n",
       "      <td>M</td>\n",
       "      <td>21.0</td>\n",
       "      <td>FC</td>\n",
       "      <td>35 - 45</td>\n",
       "      <td>0</td>\n",
       "      <td>&lt; 1000</td>\n",
       "      <td>&lt; 1</td>\n",
       "      <td>0</td>\n",
       "      <td>...</td>\n",
       "      <td>250000 - 500000</td>\n",
       "      <td>1 - 1.2</td>\n",
       "      <td>0.5 - 0.7</td>\n",
       "      <td>0.5 - 0.7</td>\n",
       "      <td>0.5 - 0.7</td>\n",
       "      <td>3 - 5</td>\n",
       "      <td>12</td>\n",
       "      <td>0</td>\n",
       "      <td>0</td>\n",
       "      <td>0.479666</td>\n",
       "    </tr>\n",
       "    <tr>\n",
       "      <th>8977608</th>\n",
       "      <td>201</td>\n",
       "      <td>118445</td>\n",
       "      <td>M</td>\n",
       "      <td>87.0</td>\n",
       "      <td>LA</td>\n",
       "      <td>45 - 60</td>\n",
       "      <td>0</td>\n",
       "      <td>&lt; 1000</td>\n",
       "      <td>&lt; 1</td>\n",
       "      <td>0</td>\n",
       "      <td>...</td>\n",
       "      <td>&gt; 5000000</td>\n",
       "      <td>1 - 1.2</td>\n",
       "      <td>0.1 - 0.2</td>\n",
       "      <td>0.7 - 1</td>\n",
       "      <td>0.5 - 0.7</td>\n",
       "      <td>&gt; 10</td>\n",
       "      <td>12</td>\n",
       "      <td>0</td>\n",
       "      <td>1</td>\n",
       "      <td>0.484349</td>\n",
       "    </tr>\n",
       "    <tr>\n",
       "      <th>9029099</th>\n",
       "      <td>397</td>\n",
       "      <td>345569</td>\n",
       "      <td>M</td>\n",
       "      <td>4.0</td>\n",
       "      <td>FC</td>\n",
       "      <td>35 - 45</td>\n",
       "      <td>0</td>\n",
       "      <td>&lt; 1000</td>\n",
       "      <td>&lt; 1</td>\n",
       "      <td>0</td>\n",
       "      <td>...</td>\n",
       "      <td>250000 - 500000</td>\n",
       "      <td>1 - 1.2</td>\n",
       "      <td>0.5 - 0.7</td>\n",
       "      <td>0.7 - 1</td>\n",
       "      <td>0.5 - 0.7</td>\n",
       "      <td>3 - 5</td>\n",
       "      <td>12</td>\n",
       "      <td>0</td>\n",
       "      <td>0</td>\n",
       "      <td>0.499600</td>\n",
       "    </tr>\n",
       "    <tr>\n",
       "      <th>9121903</th>\n",
       "      <td>218</td>\n",
       "      <td>817987</td>\n",
       "      <td>M</td>\n",
       "      <td>16.0</td>\n",
       "      <td>LA</td>\n",
       "      <td>45 - 60</td>\n",
       "      <td>0</td>\n",
       "      <td>&lt; 1000</td>\n",
       "      <td>&lt; 1</td>\n",
       "      <td>0</td>\n",
       "      <td>...</td>\n",
       "      <td>120000 - 250000</td>\n",
       "      <td>1 - 1.2</td>\n",
       "      <td>0.5 - 0.7</td>\n",
       "      <td>&gt; 1</td>\n",
       "      <td>&gt; 1</td>\n",
       "      <td>&gt; 10</td>\n",
       "      <td>12</td>\n",
       "      <td>0</td>\n",
       "      <td>1</td>\n",
       "      <td>0.424054</td>\n",
       "    </tr>\n",
       "    <tr>\n",
       "      <th>9124355</th>\n",
       "      <td>903</td>\n",
       "      <td>445286</td>\n",
       "      <td>M</td>\n",
       "      <td>11.0</td>\n",
       "      <td>OG</td>\n",
       "      <td>45 - 60</td>\n",
       "      <td>0</td>\n",
       "      <td>&lt; 1000</td>\n",
       "      <td>&lt; 1</td>\n",
       "      <td>0</td>\n",
       "      <td>...</td>\n",
       "      <td>120000 - 250000</td>\n",
       "      <td>&gt; 2</td>\n",
       "      <td>0.7 - 1</td>\n",
       "      <td>&gt; 1</td>\n",
       "      <td>&gt; 1</td>\n",
       "      <td>&gt; 10</td>\n",
       "      <td>12</td>\n",
       "      <td>0</td>\n",
       "      <td>1</td>\n",
       "      <td>0.473657</td>\n",
       "    </tr>\n",
       "    <tr>\n",
       "      <th>9125389</th>\n",
       "      <td>204</td>\n",
       "      <td>182237</td>\n",
       "      <td>M</td>\n",
       "      <td>59.0</td>\n",
       "      <td>LA</td>\n",
       "      <td>45 - 60</td>\n",
       "      <td>0</td>\n",
       "      <td>&lt; 1000</td>\n",
       "      <td>&lt; 1</td>\n",
       "      <td>0</td>\n",
       "      <td>...</td>\n",
       "      <td>&gt; 5000000</td>\n",
       "      <td>1 - 1.2</td>\n",
       "      <td>0.1 - 0.2</td>\n",
       "      <td>0.5 - 0.7</td>\n",
       "      <td>&lt; 0.3</td>\n",
       "      <td>7 - 10</td>\n",
       "      <td>12</td>\n",
       "      <td>0</td>\n",
       "      <td>1</td>\n",
       "      <td>0.452421</td>\n",
       "    </tr>\n",
       "    <tr>\n",
       "      <th>9151037</th>\n",
       "      <td>201</td>\n",
       "      <td>115699</td>\n",
       "      <td>M</td>\n",
       "      <td>60.0</td>\n",
       "      <td>LA</td>\n",
       "      <td>35 - 45</td>\n",
       "      <td>0</td>\n",
       "      <td>&lt; 1000</td>\n",
       "      <td>&lt; 1</td>\n",
       "      <td>0</td>\n",
       "      <td>...</td>\n",
       "      <td>&gt; 5000000</td>\n",
       "      <td>1 - 1.2</td>\n",
       "      <td>0.1 - 0.2</td>\n",
       "      <td>0.7 - 1</td>\n",
       "      <td>&lt; 0.3</td>\n",
       "      <td>&gt; 10</td>\n",
       "      <td>12</td>\n",
       "      <td>0</td>\n",
       "      <td>1</td>\n",
       "      <td>0.453258</td>\n",
       "    </tr>\n",
       "    <tr>\n",
       "      <th>9165695</th>\n",
       "      <td>214</td>\n",
       "      <td>785130</td>\n",
       "      <td>M</td>\n",
       "      <td>16.0</td>\n",
       "      <td>LA</td>\n",
       "      <td>45 - 60</td>\n",
       "      <td>0</td>\n",
       "      <td>&lt; 1000</td>\n",
       "      <td>&lt; 1</td>\n",
       "      <td>0</td>\n",
       "      <td>...</td>\n",
       "      <td>120000 - 250000</td>\n",
       "      <td>1 - 1.2</td>\n",
       "      <td>0.5 - 0.7</td>\n",
       "      <td>&gt; 1</td>\n",
       "      <td>&gt; 1</td>\n",
       "      <td>7 - 10</td>\n",
       "      <td>12</td>\n",
       "      <td>0</td>\n",
       "      <td>1</td>\n",
       "      <td>0.397152</td>\n",
       "    </tr>\n",
       "    <tr>\n",
       "      <th>9216983</th>\n",
       "      <td>325</td>\n",
       "      <td>363001</td>\n",
       "      <td>M</td>\n",
       "      <td>21.0</td>\n",
       "      <td>FC</td>\n",
       "      <td>35 - 45</td>\n",
       "      <td>0</td>\n",
       "      <td>&lt; 1000</td>\n",
       "      <td>&lt; 1</td>\n",
       "      <td>0</td>\n",
       "      <td>...</td>\n",
       "      <td>250000 - 500000</td>\n",
       "      <td>1 - 1.2</td>\n",
       "      <td>0.3 - 0.5</td>\n",
       "      <td>0.5 - 0.7</td>\n",
       "      <td>0.5 - 0.7</td>\n",
       "      <td>3 - 5</td>\n",
       "      <td>12</td>\n",
       "      <td>0</td>\n",
       "      <td>0</td>\n",
       "      <td>0.461705</td>\n",
       "    </tr>\n",
       "    <tr>\n",
       "      <th>9223476</th>\n",
       "      <td>395</td>\n",
       "      <td>351390</td>\n",
       "      <td>M</td>\n",
       "      <td>6.0</td>\n",
       "      <td>FC</td>\n",
       "      <td>30 - 35</td>\n",
       "      <td>0</td>\n",
       "      <td>&lt; 1000</td>\n",
       "      <td>&lt; 1</td>\n",
       "      <td>0</td>\n",
       "      <td>...</td>\n",
       "      <td>250000 - 500000</td>\n",
       "      <td>1 - 1.2</td>\n",
       "      <td>0.5 - 0.7</td>\n",
       "      <td>0.7 - 1</td>\n",
       "      <td>0.5 - 0.7</td>\n",
       "      <td>3 - 5</td>\n",
       "      <td>12</td>\n",
       "      <td>0</td>\n",
       "      <td>0</td>\n",
       "      <td>0.492973</td>\n",
       "    </tr>\n",
       "    <tr>\n",
       "      <th>9278193</th>\n",
       "      <td>227</td>\n",
       "      <td>651130</td>\n",
       "      <td>M</td>\n",
       "      <td>4.0</td>\n",
       "      <td>LA</td>\n",
       "      <td>35 - 45</td>\n",
       "      <td>0</td>\n",
       "      <td>&lt; 1000</td>\n",
       "      <td>&lt; 1</td>\n",
       "      <td>0</td>\n",
       "      <td>...</td>\n",
       "      <td>&gt; 5000000</td>\n",
       "      <td>1 - 1.2</td>\n",
       "      <td>0.1 - 0.2</td>\n",
       "      <td>0.5 - 0.7</td>\n",
       "      <td>&lt; 0.3</td>\n",
       "      <td>7 - 10</td>\n",
       "      <td>12</td>\n",
       "      <td>0</td>\n",
       "      <td>1</td>\n",
       "      <td>0.448588</td>\n",
       "    </tr>\n",
       "    <tr>\n",
       "      <th>9333830</th>\n",
       "      <td>395</td>\n",
       "      <td>355745</td>\n",
       "      <td>M</td>\n",
       "      <td>4.0</td>\n",
       "      <td>FC</td>\n",
       "      <td>25 - 30</td>\n",
       "      <td>0</td>\n",
       "      <td>&lt; 1000</td>\n",
       "      <td>&lt; 1</td>\n",
       "      <td>0</td>\n",
       "      <td>...</td>\n",
       "      <td>250000 - 500000</td>\n",
       "      <td>1 - 1.2</td>\n",
       "      <td>0.3 - 0.5</td>\n",
       "      <td>0.5 - 0.7</td>\n",
       "      <td>0.5 - 0.7</td>\n",
       "      <td>1 - 3</td>\n",
       "      <td>12</td>\n",
       "      <td>0</td>\n",
       "      <td>0</td>\n",
       "      <td>0.488005</td>\n",
       "    </tr>\n",
       "    <tr>\n",
       "      <th>9369944</th>\n",
       "      <td>327</td>\n",
       "      <td>472395</td>\n",
       "      <td>M</td>\n",
       "      <td>21.0</td>\n",
       "      <td>FC</td>\n",
       "      <td>35 - 45</td>\n",
       "      <td>0</td>\n",
       "      <td>&lt; 1000</td>\n",
       "      <td>&lt; 1</td>\n",
       "      <td>0</td>\n",
       "      <td>...</td>\n",
       "      <td>250000 - 500000</td>\n",
       "      <td>1 - 1.2</td>\n",
       "      <td>0.2 - 0.3</td>\n",
       "      <td>0.5 - 0.7</td>\n",
       "      <td>0.5 - 0.7</td>\n",
       "      <td>3 - 5</td>\n",
       "      <td>12</td>\n",
       "      <td>0</td>\n",
       "      <td>1</td>\n",
       "      <td>0.495838</td>\n",
       "    </tr>\n",
       "    <tr>\n",
       "      <th>9417632</th>\n",
       "      <td>222</td>\n",
       "      <td>851870</td>\n",
       "      <td>M</td>\n",
       "      <td>81.0</td>\n",
       "      <td>LA</td>\n",
       "      <td>35 - 45</td>\n",
       "      <td>0</td>\n",
       "      <td>&lt; 1000</td>\n",
       "      <td>&lt; 1</td>\n",
       "      <td>0</td>\n",
       "      <td>...</td>\n",
       "      <td>&gt; 5000000</td>\n",
       "      <td>1 - 1.2</td>\n",
       "      <td>0.1 - 0.2</td>\n",
       "      <td>0.7 - 1</td>\n",
       "      <td>0.5 - 0.7</td>\n",
       "      <td>&gt; 10</td>\n",
       "      <td>12</td>\n",
       "      <td>0</td>\n",
       "      <td>1</td>\n",
       "      <td>0.457466</td>\n",
       "    </tr>\n",
       "    <tr>\n",
       "      <th>9446965</th>\n",
       "      <td>203</td>\n",
       "      <td>155118</td>\n",
       "      <td>M</td>\n",
       "      <td>11.0</td>\n",
       "      <td>LA</td>\n",
       "      <td>35 - 45</td>\n",
       "      <td>0</td>\n",
       "      <td>&lt; 1000</td>\n",
       "      <td>&lt; 1</td>\n",
       "      <td>0</td>\n",
       "      <td>...</td>\n",
       "      <td>&gt; 5000000</td>\n",
       "      <td>1 - 1.2</td>\n",
       "      <td>0.1 - 0.2</td>\n",
       "      <td>0.7 - 1</td>\n",
       "      <td>0.5 - 0.7</td>\n",
       "      <td>&gt; 10</td>\n",
       "      <td>12</td>\n",
       "      <td>0</td>\n",
       "      <td>1</td>\n",
       "      <td>0.466928</td>\n",
       "    </tr>\n",
       "  </tbody>\n",
       "</table>\n",
       "<p>274 rows × 24 columns</p>\n",
       "</div>"
      ],
      "text/plain": [
       "         BRA_CODE  CUS_NUM CUS_GENDER  PROF_CODE STATE CUS_AGE_AT_LOAN_BIN  \\\n",
       "11118         321   279620          M        4.0    FC             30 - 35   \n",
       "16872         208   770730          M        0.0    LA             17 - 25   \n",
       "30093         394   104976          M       21.0    FC             30 - 35   \n",
       "36969         327   469597          M       74.0    FC             25 - 30   \n",
       "103080        491   446943          M       87.0    OS             35 - 45   \n",
       "104789        721   997526          M        5.0    RV             45 - 60   \n",
       "166418        691   119449          M       16.0    FC             35 - 45   \n",
       "179959        319   103302          M       21.0    FC             30 - 35   \n",
       "192505        395   350975          M        6.0    FC             30 - 35   \n",
       "194180        441   336666          M       19.0    KW             45 - 60   \n",
       "222176        396   345278          M        0.0    FC             30 - 35   \n",
       "232514        393   102911          M        0.0    FC             35 - 45   \n",
       "264195        247   222618          M        4.0    LA             45 - 60   \n",
       "348617        211   740741          M       16.0    LA             35 - 45   \n",
       "355631        801   980584          M       16.0    NG             35 - 45   \n",
       "400618        323   288253          M       21.0    FC             35 - 45   \n",
       "405313        208   712757          M       16.0    LA             35 - 45   \n",
       "411885        505   592146          M       11.0    RV             45 - 60   \n",
       "441090        325   377777          M        4.0    FC             30 - 35   \n",
       "465475        327   465099          M       59.0    FC             35 - 45   \n",
       "487260        396   352801          M        0.0    FC             30 - 35   \n",
       "534382        321   282410          M        4.0    FC             25 - 30   \n",
       "564607        322   359778          M        0.0    FC             30 - 35   \n",
       "625062        321   278715          M        0.0    FC             30 - 35   \n",
       "662509        395   349816          M        6.0    FC             35 - 45   \n",
       "703636        322   364578          M        2.0    FC             30 - 35   \n",
       "737296        232   806349          M        0.0    LA             25 - 30   \n",
       "757016        322   372145          M        0.0    FC             30 - 35   \n",
       "779046        201   141230          M        0.0    LA             45 - 60   \n",
       "819280        393   102629          M        4.0    FC             30 - 35   \n",
       "...           ...      ...        ...        ...   ...                 ...   \n",
       "8334846       401   309068          M        4.0    OY             45 - 60   \n",
       "8420403       321   281998          M       21.0    FC             30 - 35   \n",
       "8470866       325   370692          M       59.0    FC             25 - 30   \n",
       "8520663       401   404170          M       11.0    OY             35 - 45   \n",
       "8553676       330   342359          M        4.0    FC             35 - 45   \n",
       "8555321       446   448578          M        0.0    KW             17 - 25   \n",
       "8597857       330   342015          M        4.0    FC             30 - 35   \n",
       "8651798       393   103373          M        0.0    FC             35 - 45   \n",
       "8658347       219   828127          M       99.0    LA             35 - 45   \n",
       "8708229       325   365653          M       21.0    FC             30 - 35   \n",
       "8778123       325   373723          M       71.0    FC             35 - 45   \n",
       "8785616       214   775342          M       45.0    LA             35 - 45   \n",
       "8795755       235   228630          M       16.0    LA             35 - 45   \n",
       "8881484       209   742451          M        6.0    LA             30 - 35   \n",
       "8912585       249   225196          M       16.0    LA             35 - 45   \n",
       "8977511       330   344970          M       21.0    FC             35 - 45   \n",
       "8977608       201   118445          M       87.0    LA             45 - 60   \n",
       "9029099       397   345569          M        4.0    FC             35 - 45   \n",
       "9121903       218   817987          M       16.0    LA             45 - 60   \n",
       "9124355       903   445286          M       11.0    OG             45 - 60   \n",
       "9125389       204   182237          M       59.0    LA             45 - 60   \n",
       "9151037       201   115699          M       60.0    LA             35 - 45   \n",
       "9165695       214   785130          M       16.0    LA             45 - 60   \n",
       "9216983       325   363001          M       21.0    FC             35 - 45   \n",
       "9223476       395   351390          M        6.0    FC             30 - 35   \n",
       "9278193       227   651130          M        4.0    LA             35 - 45   \n",
       "9333830       395   355745          M        4.0    FC             25 - 30   \n",
       "9369944       327   472395          M       21.0    FC             35 - 45   \n",
       "9417632       222   851870          M       81.0    LA             35 - 45   \n",
       "9446965       203   155118          M       11.0    LA             35 - 45   \n",
       "\n",
       "         HAS_ACTIVE_LOAN OUTSTANDING_DEBT_BIN NBR_DISTINCT_DEP_BIN  \\\n",
       "11118                  0               < 1000                  < 1   \n",
       "16872                  0               < 1000                  < 1   \n",
       "30093                  0               < 1000                  < 1   \n",
       "36969                  0               < 1000                  < 1   \n",
       "103080                 0               < 1000                  < 1   \n",
       "104789                 0               < 1000                  < 1   \n",
       "166418                 0               < 1000                  < 1   \n",
       "179959                 0               < 1000                  < 1   \n",
       "192505                 0               < 1000                  < 1   \n",
       "194180                 0               < 1000                  < 1   \n",
       "222176                 0               < 1000                  < 1   \n",
       "232514                 0               < 1000                  < 1   \n",
       "264195                 0               < 1000                  < 1   \n",
       "348617                 0               < 1000                  < 1   \n",
       "355631                 0               < 1000                  < 1   \n",
       "400618                 0               < 1000                  < 1   \n",
       "405313                 0               < 1000                  < 1   \n",
       "411885                 0               < 1000                  < 1   \n",
       "441090                 0               < 1000                  < 1   \n",
       "465475                 0               < 1000                  < 1   \n",
       "487260                 0               < 1000                  < 1   \n",
       "534382                 0               < 1000                  < 1   \n",
       "564607                 0               < 1000                  < 1   \n",
       "625062                 0               < 1000                  < 1   \n",
       "662509                 0               < 1000                  < 1   \n",
       "703636                 0               < 1000                  < 1   \n",
       "737296                 0               < 1000                  < 1   \n",
       "757016                 0               < 1000                  < 1   \n",
       "779046                 0               < 1000                  < 1   \n",
       "819280                 0               < 1000                  < 1   \n",
       "...                  ...                  ...                  ...   \n",
       "8334846                0               < 1000                  < 1   \n",
       "8420403                0               < 1000                  < 1   \n",
       "8470866                0               < 1000                  < 1   \n",
       "8520663                0               < 1000                  < 1   \n",
       "8553676                0               < 1000                  < 1   \n",
       "8555321                0               < 1000                  < 1   \n",
       "8597857                0               < 1000                  < 1   \n",
       "8651798                0               < 1000                  < 1   \n",
       "8658347                0               < 1000                  < 1   \n",
       "8708229                0               < 1000                  < 1   \n",
       "8778123                0               < 1000                  < 1   \n",
       "8785616                0               < 1000                  < 1   \n",
       "8795755                0               < 1000                  < 1   \n",
       "8881484                0               < 1000                  < 1   \n",
       "8912585                0               < 1000                  < 1   \n",
       "8977511                0               < 1000                  < 1   \n",
       "8977608                0               < 1000                  < 1   \n",
       "9029099                0               < 1000                  < 1   \n",
       "9121903                0               < 1000                  < 1   \n",
       "9124355                0               < 1000                  < 1   \n",
       "9125389                0               < 1000                  < 1   \n",
       "9151037                0               < 1000                  < 1   \n",
       "9165695                0               < 1000                  < 1   \n",
       "9216983                0               < 1000                  < 1   \n",
       "9223476                0               < 1000                  < 1   \n",
       "9278193                0               < 1000                  < 1   \n",
       "9333830                0               < 1000                  < 1   \n",
       "9369944                0               < 1000                  < 1   \n",
       "9417632                0               < 1000                  < 1   \n",
       "9446965                0               < 1000                  < 1   \n",
       "\n",
       "         HAS_DISTINCT_CALL_TIME_TBILLS     ...      SUM_LODGEMENT_AMOUNT_BIN  \\\n",
       "11118                                0     ...               250000 - 500000   \n",
       "16872                                0     ...                     > 5000000   \n",
       "30093                                0     ...               250000 - 500000   \n",
       "36969                                0     ...               250000 - 500000   \n",
       "103080                               0     ...                     > 5000000   \n",
       "104789                               0     ...               120000 - 250000   \n",
       "166418                               0     ...               250000 - 500000   \n",
       "179959                               0     ...               250000 - 500000   \n",
       "192505                               0     ...               250000 - 500000   \n",
       "194180                               0     ...                     > 5000000   \n",
       "222176                               0     ...               250000 - 500000   \n",
       "232514                               0     ...               250000 - 500000   \n",
       "264195                               0     ...                      < 120000   \n",
       "348617                               0     ...                     > 5000000   \n",
       "355631                               0     ...                     > 5000000   \n",
       "400618                               0     ...               250000 - 500000   \n",
       "405313                               0     ...                     > 5000000   \n",
       "411885                               0     ...                     > 5000000   \n",
       "441090                               0     ...               250000 - 500000   \n",
       "465475                               0     ...               250000 - 500000   \n",
       "487260                               0     ...               250000 - 500000   \n",
       "534382                               0     ...               250000 - 500000   \n",
       "564607                               0     ...               250000 - 500000   \n",
       "625062                               0     ...               250000 - 500000   \n",
       "662509                               0     ...               250000 - 500000   \n",
       "703636                               0     ...               250000 - 500000   \n",
       "737296                               0     ...                     > 5000000   \n",
       "757016                               0     ...               250000 - 500000   \n",
       "779046                               0     ...               120000 - 250000   \n",
       "819280                               0     ...               250000 - 500000   \n",
       "...                                ...     ...                           ...   \n",
       "8334846                              0     ...               120000 - 250000   \n",
       "8420403                              0     ...               250000 - 500000   \n",
       "8470866                              0     ...               250000 - 500000   \n",
       "8520663                              0     ...               120000 - 250000   \n",
       "8553676                              0     ...               250000 - 500000   \n",
       "8555321                              0     ...                      < 120000   \n",
       "8597857                              0     ...               250000 - 500000   \n",
       "8651798                              0     ...               250000 - 500000   \n",
       "8658347                              0     ...                     > 5000000   \n",
       "8708229                              0     ...               250000 - 500000   \n",
       "8778123                              0     ...               250000 - 500000   \n",
       "8785616                              0     ...                     > 5000000   \n",
       "8795755                              0     ...                     > 5000000   \n",
       "8881484                              0     ...                     > 5000000   \n",
       "8912585                              0     ...                     > 5000000   \n",
       "8977511                              0     ...               250000 - 500000   \n",
       "8977608                              0     ...                     > 5000000   \n",
       "9029099                              0     ...               250000 - 500000   \n",
       "9121903                              0     ...               120000 - 250000   \n",
       "9124355                              0     ...               120000 - 250000   \n",
       "9125389                              0     ...                     > 5000000   \n",
       "9151037                              0     ...                     > 5000000   \n",
       "9165695                              0     ...               120000 - 250000   \n",
       "9216983                              0     ...               250000 - 500000   \n",
       "9223476                              0     ...               250000 - 500000   \n",
       "9278193                              0     ...                     > 5000000   \n",
       "9333830                              0     ...               250000 - 500000   \n",
       "9369944                              0     ...               250000 - 500000   \n",
       "9417632                              0     ...                     > 5000000   \n",
       "9446965                              0     ...                     > 5000000   \n",
       "\n",
       "         IN_OUT_AMT_RATIO_BIN IN_OUT_CNT_RATIO_BIN COV_LODGEMENT_AMT_BIN  \\\n",
       "11118                 1 - 1.2            0.5 - 0.7               0.7 - 1   \n",
       "16872                 1 - 1.2            0.2 - 0.3                   > 1   \n",
       "30093                 1 - 1.2            0.2 - 0.3               0.7 - 1   \n",
       "36969                 1 - 1.2            0.3 - 0.5             0.5 - 0.7   \n",
       "103080                1 - 1.2            0.1 - 0.2               0.7 - 1   \n",
       "104789                  < 0.5                < 0.1                   > 1   \n",
       "166418                1 - 1.2            0.3 - 0.5             0.5 - 0.7   \n",
       "179959                1 - 1.2            0.3 - 0.5               0.7 - 1   \n",
       "192505                1 - 1.2            0.1 - 0.2             0.5 - 0.7   \n",
       "194180                1 - 1.2            0.1 - 0.2             0.5 - 0.7   \n",
       "222176                1 - 1.2            0.1 - 0.2             0.5 - 0.7   \n",
       "232514                1 - 1.2            0.2 - 0.3               0.7 - 1   \n",
       "264195                1 - 1.2            0.5 - 0.7                   > 1   \n",
       "348617                1 - 1.2            0.1 - 0.2             0.5 - 0.7   \n",
       "355631                1 - 1.2            0.1 - 0.2             0.5 - 0.7   \n",
       "400618                1 - 1.2            0.2 - 0.3             0.5 - 0.7   \n",
       "405313                1 - 1.2            0.1 - 0.2               0.7 - 1   \n",
       "411885                1.2 - 2              0.7 - 1                   > 1   \n",
       "441090                1 - 1.2            0.3 - 0.5               0.7 - 1   \n",
       "465475                1 - 1.2            0.5 - 0.7               0.7 - 1   \n",
       "487260                1 - 1.2            0.3 - 0.5             0.5 - 0.7   \n",
       "534382                1 - 1.2            0.3 - 0.5             0.5 - 0.7   \n",
       "564607                1 - 1.2            0.2 - 0.3               0.7 - 1   \n",
       "625062                1 - 1.2            0.3 - 0.5             0.5 - 0.7   \n",
       "662509                1 - 1.2            0.3 - 0.5               0.7 - 1   \n",
       "703636                1 - 1.2            0.3 - 0.5               0.7 - 1   \n",
       "737296                1 - 1.2            0.2 - 0.3                   > 1   \n",
       "757016                1 - 1.2            0.5 - 0.7               0.7 - 1   \n",
       "779046                1 - 1.2            0.5 - 0.7                   > 1   \n",
       "819280                1 - 1.2            0.3 - 0.5               0.7 - 1   \n",
       "...                       ...                  ...                   ...   \n",
       "8334846               1 - 1.2            0.5 - 0.7                   > 1   \n",
       "8420403               1 - 1.2            0.3 - 0.5             0.5 - 0.7   \n",
       "8470866               1 - 1.2            0.5 - 0.7             0.5 - 0.7   \n",
       "8520663               1 - 1.2            0.5 - 0.7                   > 1   \n",
       "8553676               1 - 1.2            0.3 - 0.5               0.7 - 1   \n",
       "8555321               1 - 1.2            0.2 - 0.3                   > 1   \n",
       "8597857               1 - 1.2            0.1 - 0.2               0.7 - 1   \n",
       "8651798               1 - 1.2            0.3 - 0.5             0.5 - 0.7   \n",
       "8658347               1 - 1.2            0.1 - 0.2               0.7 - 1   \n",
       "8708229               1 - 1.2            0.3 - 0.5             0.5 - 0.7   \n",
       "8778123               1 - 1.2            0.3 - 0.5             0.5 - 0.7   \n",
       "8785616               1 - 1.2            0.1 - 0.2               0.7 - 1   \n",
       "8795755               1 - 1.2            0.1 - 0.2             0.5 - 0.7   \n",
       "8881484               1 - 1.2            0.1 - 0.2             0.5 - 0.7   \n",
       "8912585               0.9 - 1            0.1 - 0.2             0.5 - 0.7   \n",
       "8977511               1 - 1.2            0.5 - 0.7             0.5 - 0.7   \n",
       "8977608               1 - 1.2            0.1 - 0.2               0.7 - 1   \n",
       "9029099               1 - 1.2            0.5 - 0.7               0.7 - 1   \n",
       "9121903               1 - 1.2            0.5 - 0.7                   > 1   \n",
       "9124355                   > 2              0.7 - 1                   > 1   \n",
       "9125389               1 - 1.2            0.1 - 0.2             0.5 - 0.7   \n",
       "9151037               1 - 1.2            0.1 - 0.2               0.7 - 1   \n",
       "9165695               1 - 1.2            0.5 - 0.7                   > 1   \n",
       "9216983               1 - 1.2            0.3 - 0.5             0.5 - 0.7   \n",
       "9223476               1 - 1.2            0.5 - 0.7               0.7 - 1   \n",
       "9278193               1 - 1.2            0.1 - 0.2             0.5 - 0.7   \n",
       "9333830               1 - 1.2            0.3 - 0.5             0.5 - 0.7   \n",
       "9369944               1 - 1.2            0.2 - 0.3             0.5 - 0.7   \n",
       "9417632               1 - 1.2            0.1 - 0.2               0.7 - 1   \n",
       "9446965               1 - 1.2            0.1 - 0.2               0.7 - 1   \n",
       "\n",
       "        COV_LODGEMENT_CNT_BIN BANK_YRS_BIN LOAN_MTH_OF_YEAR HAS_DUE_DEBT  \\\n",
       "11118               0.5 - 0.7        3 - 5               12            0   \n",
       "16872                     > 1        1 - 3               12            0   \n",
       "30093                 0.7 - 1        3 - 5               12            0   \n",
       "36969               0.5 - 0.7        3 - 5               12            0   \n",
       "103080              0.5 - 0.7         > 10               12            0   \n",
       "104789                    > 1       7 - 10               12            0   \n",
       "166418              0.5 - 0.7        3 - 5               12            0   \n",
       "179959              0.5 - 0.7        3 - 5               12            0   \n",
       "192505              0.5 - 0.7        3 - 5               12            0   \n",
       "194180                  < 0.3         > 10               12            0   \n",
       "222176              0.5 - 0.7        3 - 5               12            0   \n",
       "232514              0.5 - 0.7        3 - 5               12            0   \n",
       "264195                    > 1       7 - 10               12            0   \n",
       "348617                  < 0.3         > 10               12            0   \n",
       "355631                  < 0.3         > 10               12            1   \n",
       "400618              0.5 - 0.7        3 - 5               12            0   \n",
       "405313              0.5 - 0.7         > 10               12            0   \n",
       "411885                    > 1        5 - 7               12            0   \n",
       "441090                0.7 - 1        3 - 5               12            0   \n",
       "465475                0.7 - 1        3 - 5               12            0   \n",
       "487260              0.5 - 0.7        3 - 5               12            0   \n",
       "534382              0.5 - 0.7        3 - 5               12            0   \n",
       "564607              0.5 - 0.7        3 - 5               12            0   \n",
       "625062                0.7 - 1        3 - 5               12            0   \n",
       "662509              0.5 - 0.7        3 - 5               12            0   \n",
       "703636              0.5 - 0.7        3 - 5               12            0   \n",
       "737296                    > 1        1 - 3               12            0   \n",
       "757016              0.5 - 0.7        3 - 5               12            0   \n",
       "779046                    > 1         > 10               12            0   \n",
       "819280              0.5 - 0.7        3 - 5               12            0   \n",
       "...                       ...          ...              ...          ...   \n",
       "8334846                   > 1       7 - 10               12            0   \n",
       "8420403                 < 0.3        3 - 5               12            0   \n",
       "8470866             0.5 - 0.7        3 - 5               12            0   \n",
       "8520663                   > 1       7 - 10               12            0   \n",
       "8553676             0.5 - 0.7        3 - 5               12            0   \n",
       "8555321                   > 1        3 - 5               12            0   \n",
       "8597857             0.5 - 0.7        3 - 5               12            0   \n",
       "8651798             0.5 - 0.7        3 - 5               12            0   \n",
       "8658347             0.5 - 0.7         > 10               12            0   \n",
       "8708229             0.5 - 0.7        3 - 5               12            0   \n",
       "8778123             0.5 - 0.7        3 - 5               12            0   \n",
       "8785616             0.5 - 0.7         > 10               12            0   \n",
       "8795755                 < 0.3         > 10               12            0   \n",
       "8881484                 < 0.3       7 - 10               12            0   \n",
       "8912585                 < 0.3       7 - 10               12            0   \n",
       "8977511             0.5 - 0.7        3 - 5               12            0   \n",
       "8977608             0.5 - 0.7         > 10               12            0   \n",
       "9029099             0.5 - 0.7        3 - 5               12            0   \n",
       "9121903                   > 1         > 10               12            0   \n",
       "9124355                   > 1         > 10               12            0   \n",
       "9125389                 < 0.3       7 - 10               12            0   \n",
       "9151037                 < 0.3         > 10               12            0   \n",
       "9165695                   > 1       7 - 10               12            0   \n",
       "9216983             0.5 - 0.7        3 - 5               12            0   \n",
       "9223476             0.5 - 0.7        3 - 5               12            0   \n",
       "9278193                 < 0.3       7 - 10               12            0   \n",
       "9333830             0.5 - 0.7        1 - 3               12            0   \n",
       "9369944             0.5 - 0.7        3 - 5               12            0   \n",
       "9417632             0.5 - 0.7         > 10               12            0   \n",
       "9446965             0.5 - 0.7         > 10               12            0   \n",
       "\n",
       "        HAS_REACTIVATED IS_GOOD_PRED  \n",
       "11118                 1     0.495149  \n",
       "16872                 0     0.489845  \n",
       "30093                 0     0.464201  \n",
       "36969                 0     0.491130  \n",
       "103080                1     0.491918  \n",
       "104789                1     0.441171  \n",
       "166418                0     0.473232  \n",
       "179959                0     0.498204  \n",
       "192505                0     0.490935  \n",
       "194180                1     0.450792  \n",
       "222176                0     0.487232  \n",
       "232514                1     0.496785  \n",
       "264195                1     0.487304  \n",
       "348617                1     0.447102  \n",
       "355631                1     0.456519  \n",
       "400618                0     0.470547  \n",
       "405313                1     0.421570  \n",
       "411885                1     0.483131  \n",
       "441090                1     0.479218  \n",
       "465475                0     0.469123  \n",
       "487260                0     0.417389  \n",
       "534382                0     0.469446  \n",
       "564607                0     0.494160  \n",
       "625062                0     0.460000  \n",
       "662509                0     0.456871  \n",
       "703636                0     0.467623  \n",
       "737296                1     0.422002  \n",
       "757016                1     0.490470  \n",
       "779046                1     0.486222  \n",
       "819280                1     0.471675  \n",
       "...                 ...          ...  \n",
       "8334846               1     0.477473  \n",
       "8420403               0     0.470389  \n",
       "8470866               0     0.495282  \n",
       "8520663               1     0.494345  \n",
       "8553676               0     0.482918  \n",
       "8555321               0     0.496999  \n",
       "8597857               0     0.490915  \n",
       "8651798               1     0.411368  \n",
       "8658347               1     0.492321  \n",
       "8708229               0     0.462744  \n",
       "8778123               0     0.461809  \n",
       "8785616               1     0.456984  \n",
       "8795755               1     0.376254  \n",
       "8881484               1     0.488046  \n",
       "8912585               1     0.404399  \n",
       "8977511               0     0.479666  \n",
       "8977608               1     0.484349  \n",
       "9029099               0     0.499600  \n",
       "9121903               1     0.424054  \n",
       "9124355               1     0.473657  \n",
       "9125389               1     0.452421  \n",
       "9151037               1     0.453258  \n",
       "9165695               1     0.397152  \n",
       "9216983               0     0.461705  \n",
       "9223476               0     0.492973  \n",
       "9278193               1     0.448588  \n",
       "9333830               0     0.488005  \n",
       "9369944               1     0.495838  \n",
       "9417632               1     0.457466  \n",
       "9446965               1     0.466928  \n",
       "\n",
       "[274 rows x 24 columns]"
      ]
     },
     "execution_count": 84,
     "metadata": {},
     "output_type": "execute_result"
    }
   ],
   "source": [
    "dataset[dataset.IS_GOOD_PRED<0.5]"
   ]
  },
  {
   "cell_type": "code",
   "execution_count": 82,
   "metadata": {},
   "outputs": [],
   "source": [
    "dataset.to_csv('predicted_dataset.csv', index=False)"
   ]
  },
  {
   "cell_type": "code",
   "execution_count": 83,
   "metadata": {
    "scrolled": true
   },
   "outputs": [
    {
     "name": "stdout",
     "output_type": "stream",
     "text": [
      "start:  2019-12-16 19:58:59.288000\n"
     ]
    },
    {
     "ename": "KeyboardInterrupt",
     "evalue": "",
     "output_type": "error",
     "traceback": [
      "\u001b[1;31m---------------------------------------------------------------------------\u001b[0m",
      "\u001b[1;31mKeyboardInterrupt\u001b[0m                         Traceback (most recent call last)",
      "\u001b[1;32m<ipython-input-83-4d551c2a6fd0>\u001b[0m in \u001b[0;36m<module>\u001b[1;34m()\u001b[0m\n\u001b[0;32m      3\u001b[0m \u001b[1;32mprint\u001b[0m \u001b[1;34m'start: '\u001b[0m\u001b[1;33m,\u001b[0m \u001b[0mdatetime\u001b[0m\u001b[1;33m.\u001b[0m\u001b[0mnow\u001b[0m\u001b[1;33m(\u001b[0m\u001b[1;33m)\u001b[0m\u001b[1;33m\u001b[0m\u001b[0m\n\u001b[0;32m      4\u001b[0m \u001b[0mconn\u001b[0m \u001b[1;33m=\u001b[0m \u001b[0mcreate_engine\u001b[0m\u001b[1;33m(\u001b[0m\u001b[1;34m'oracle+cx_oracle://{}:{}@dwdrscan.gtbank.com:1521/?service_name=odidb'\u001b[0m\u001b[1;33m.\u001b[0m\u001b[0mformat\u001b[0m\u001b[1;33m(\u001b[0m\u001b[0mun\u001b[0m\u001b[1;33m,\u001b[0m \u001b[0mpwd\u001b[0m\u001b[1;33m)\u001b[0m\u001b[1;33m)\u001b[0m\u001b[1;33m\u001b[0m\u001b[0m\n\u001b[1;32m----> 5\u001b[1;33m \u001b[0mdataset\u001b[0m\u001b[1;33m.\u001b[0m\u001b[0mto_sql\u001b[0m\u001b[1;33m(\u001b[0m\u001b[1;34m'cs_pred_dataset'\u001b[0m\u001b[1;33m,\u001b[0m \u001b[0mconn\u001b[0m\u001b[1;33m,\u001b[0m \u001b[0mindex\u001b[0m\u001b[1;33m=\u001b[0m\u001b[0mFalse\u001b[0m\u001b[1;33m,\u001b[0m \u001b[0mif_exists\u001b[0m\u001b[1;33m=\u001b[0m\u001b[1;34m'replace'\u001b[0m\u001b[1;33m,\u001b[0m \u001b[0mchunksize\u001b[0m\u001b[1;33m=\u001b[0m\u001b[1;36m10000\u001b[0m\u001b[1;33m,\u001b[0m \u001b[0mdtype\u001b[0m\u001b[1;33m=\u001b[0m\u001b[0mutils\u001b[0m\u001b[1;33m.\u001b[0m\u001b[0msqlcol\u001b[0m\u001b[1;33m(\u001b[0m\u001b[0mdataset\u001b[0m\u001b[1;33m)\u001b[0m\u001b[1;33m)\u001b[0m\u001b[1;33m\u001b[0m\u001b[0m\n\u001b[0m\u001b[0;32m      6\u001b[0m \u001b[1;32mprint\u001b[0m \u001b[1;34m'end: '\u001b[0m\u001b[1;33m,\u001b[0m \u001b[0mdatetime\u001b[0m\u001b[1;33m.\u001b[0m\u001b[0mnow\u001b[0m\u001b[1;33m(\u001b[0m\u001b[1;33m)\u001b[0m\u001b[1;33m\u001b[0m\u001b[0m\n",
      "\u001b[1;32mC:\\ProgramData\\Anaconda2\\lib\\site-packages\\pandas\\core\\generic.py\u001b[0m in \u001b[0;36mto_sql\u001b[1;34m(self, name, con, flavor, schema, if_exists, index, index_label, chunksize, dtype)\u001b[0m\n\u001b[0;32m   1343\u001b[0m         sql.to_sql(self, name, con, flavor=flavor, schema=schema,\n\u001b[0;32m   1344\u001b[0m                    \u001b[0mif_exists\u001b[0m\u001b[1;33m=\u001b[0m\u001b[0mif_exists\u001b[0m\u001b[1;33m,\u001b[0m \u001b[0mindex\u001b[0m\u001b[1;33m=\u001b[0m\u001b[0mindex\u001b[0m\u001b[1;33m,\u001b[0m \u001b[0mindex_label\u001b[0m\u001b[1;33m=\u001b[0m\u001b[0mindex_label\u001b[0m\u001b[1;33m,\u001b[0m\u001b[1;33m\u001b[0m\u001b[0m\n\u001b[1;32m-> 1345\u001b[1;33m                    chunksize=chunksize, dtype=dtype)\n\u001b[0m\u001b[0;32m   1346\u001b[0m \u001b[1;33m\u001b[0m\u001b[0m\n\u001b[0;32m   1347\u001b[0m     \u001b[1;32mdef\u001b[0m \u001b[0mto_pickle\u001b[0m\u001b[1;33m(\u001b[0m\u001b[0mself\u001b[0m\u001b[1;33m,\u001b[0m \u001b[0mpath\u001b[0m\u001b[1;33m,\u001b[0m \u001b[0mcompression\u001b[0m\u001b[1;33m=\u001b[0m\u001b[1;34m'infer'\u001b[0m\u001b[1;33m)\u001b[0m\u001b[1;33m:\u001b[0m\u001b[1;33m\u001b[0m\u001b[0m\n",
      "\u001b[1;32mC:\\ProgramData\\Anaconda2\\lib\\site-packages\\pandas\\io\\sql.py\u001b[0m in \u001b[0;36mto_sql\u001b[1;34m(frame, name, con, flavor, schema, if_exists, index, index_label, chunksize, dtype)\u001b[0m\n\u001b[0;32m    469\u001b[0m     pandas_sql.to_sql(frame, name, if_exists=if_exists, index=index,\n\u001b[0;32m    470\u001b[0m                       \u001b[0mindex_label\u001b[0m\u001b[1;33m=\u001b[0m\u001b[0mindex_label\u001b[0m\u001b[1;33m,\u001b[0m \u001b[0mschema\u001b[0m\u001b[1;33m=\u001b[0m\u001b[0mschema\u001b[0m\u001b[1;33m,\u001b[0m\u001b[1;33m\u001b[0m\u001b[0m\n\u001b[1;32m--> 471\u001b[1;33m                       chunksize=chunksize, dtype=dtype)\n\u001b[0m\u001b[0;32m    472\u001b[0m \u001b[1;33m\u001b[0m\u001b[0m\n\u001b[0;32m    473\u001b[0m \u001b[1;33m\u001b[0m\u001b[0m\n",
      "\u001b[1;32mC:\\ProgramData\\Anaconda2\\lib\\site-packages\\pandas\\io\\sql.py\u001b[0m in \u001b[0;36mto_sql\u001b[1;34m(self, frame, name, if_exists, index, index_label, schema, chunksize, dtype)\u001b[0m\n\u001b[0;32m   1149\u001b[0m                          schema=schema, dtype=dtype)\n\u001b[0;32m   1150\u001b[0m         \u001b[0mtable\u001b[0m\u001b[1;33m.\u001b[0m\u001b[0mcreate\u001b[0m\u001b[1;33m(\u001b[0m\u001b[1;33m)\u001b[0m\u001b[1;33m\u001b[0m\u001b[0m\n\u001b[1;32m-> 1151\u001b[1;33m         \u001b[0mtable\u001b[0m\u001b[1;33m.\u001b[0m\u001b[0minsert\u001b[0m\u001b[1;33m(\u001b[0m\u001b[0mchunksize\u001b[0m\u001b[1;33m)\u001b[0m\u001b[1;33m\u001b[0m\u001b[0m\n\u001b[0m\u001b[0;32m   1152\u001b[0m         \u001b[1;32mif\u001b[0m \u001b[1;33m(\u001b[0m\u001b[1;32mnot\u001b[0m \u001b[0mname\u001b[0m\u001b[1;33m.\u001b[0m\u001b[0misdigit\u001b[0m\u001b[1;33m(\u001b[0m\u001b[1;33m)\u001b[0m \u001b[1;32mand\u001b[0m \u001b[1;32mnot\u001b[0m \u001b[0mname\u001b[0m\u001b[1;33m.\u001b[0m\u001b[0mislower\u001b[0m\u001b[1;33m(\u001b[0m\u001b[1;33m)\u001b[0m\u001b[1;33m)\u001b[0m\u001b[1;33m:\u001b[0m\u001b[1;33m\u001b[0m\u001b[0m\n\u001b[0;32m   1153\u001b[0m             \u001b[1;31m# check for potentially case sensitivity issues (GH7815)\u001b[0m\u001b[1;33m\u001b[0m\u001b[1;33m\u001b[0m\u001b[0m\n",
      "\u001b[1;32mC:\\ProgramData\\Anaconda2\\lib\\site-packages\\pandas\\io\\sql.py\u001b[0m in \u001b[0;36minsert\u001b[1;34m(self, chunksize)\u001b[0m\n\u001b[0;32m    664\u001b[0m \u001b[1;33m\u001b[0m\u001b[0m\n\u001b[0;32m    665\u001b[0m                 \u001b[0mchunk_iter\u001b[0m \u001b[1;33m=\u001b[0m \u001b[0mzip\u001b[0m\u001b[1;33m(\u001b[0m\u001b[1;33m*\u001b[0m\u001b[1;33m[\u001b[0m\u001b[0marr\u001b[0m\u001b[1;33m[\u001b[0m\u001b[0mstart_i\u001b[0m\u001b[1;33m:\u001b[0m\u001b[0mend_i\u001b[0m\u001b[1;33m]\u001b[0m \u001b[1;32mfor\u001b[0m \u001b[0marr\u001b[0m \u001b[1;32min\u001b[0m \u001b[0mdata_list\u001b[0m\u001b[1;33m]\u001b[0m\u001b[1;33m)\u001b[0m\u001b[1;33m\u001b[0m\u001b[0m\n\u001b[1;32m--> 666\u001b[1;33m                 \u001b[0mself\u001b[0m\u001b[1;33m.\u001b[0m\u001b[0m_execute_insert\u001b[0m\u001b[1;33m(\u001b[0m\u001b[0mconn\u001b[0m\u001b[1;33m,\u001b[0m \u001b[0mkeys\u001b[0m\u001b[1;33m,\u001b[0m \u001b[0mchunk_iter\u001b[0m\u001b[1;33m)\u001b[0m\u001b[1;33m\u001b[0m\u001b[0m\n\u001b[0m\u001b[0;32m    667\u001b[0m \u001b[1;33m\u001b[0m\u001b[0m\n\u001b[0;32m    668\u001b[0m     def _query_iterator(self, result, chunksize, columns, coerce_float=True,\n",
      "\u001b[1;32mC:\\ProgramData\\Anaconda2\\lib\\site-packages\\pandas\\io\\sql.py\u001b[0m in \u001b[0;36m_execute_insert\u001b[1;34m(self, conn, keys, data_iter)\u001b[0m\n\u001b[0;32m    639\u001b[0m     \u001b[1;32mdef\u001b[0m \u001b[0m_execute_insert\u001b[0m\u001b[1;33m(\u001b[0m\u001b[0mself\u001b[0m\u001b[1;33m,\u001b[0m \u001b[0mconn\u001b[0m\u001b[1;33m,\u001b[0m \u001b[0mkeys\u001b[0m\u001b[1;33m,\u001b[0m \u001b[0mdata_iter\u001b[0m\u001b[1;33m)\u001b[0m\u001b[1;33m:\u001b[0m\u001b[1;33m\u001b[0m\u001b[0m\n\u001b[0;32m    640\u001b[0m         \u001b[0mdata\u001b[0m \u001b[1;33m=\u001b[0m \u001b[1;33m[\u001b[0m\u001b[0mdict\u001b[0m\u001b[1;33m(\u001b[0m\u001b[1;33m(\u001b[0m\u001b[0mk\u001b[0m\u001b[1;33m,\u001b[0m \u001b[0mv\u001b[0m\u001b[1;33m)\u001b[0m \u001b[1;32mfor\u001b[0m \u001b[0mk\u001b[0m\u001b[1;33m,\u001b[0m \u001b[0mv\u001b[0m \u001b[1;32min\u001b[0m \u001b[0mzip\u001b[0m\u001b[1;33m(\u001b[0m\u001b[0mkeys\u001b[0m\u001b[1;33m,\u001b[0m \u001b[0mrow\u001b[0m\u001b[1;33m)\u001b[0m\u001b[1;33m)\u001b[0m \u001b[1;32mfor\u001b[0m \u001b[0mrow\u001b[0m \u001b[1;32min\u001b[0m \u001b[0mdata_iter\u001b[0m\u001b[1;33m]\u001b[0m\u001b[1;33m\u001b[0m\u001b[0m\n\u001b[1;32m--> 641\u001b[1;33m         \u001b[0mconn\u001b[0m\u001b[1;33m.\u001b[0m\u001b[0mexecute\u001b[0m\u001b[1;33m(\u001b[0m\u001b[0mself\u001b[0m\u001b[1;33m.\u001b[0m\u001b[0minsert_statement\u001b[0m\u001b[1;33m(\u001b[0m\u001b[1;33m)\u001b[0m\u001b[1;33m,\u001b[0m \u001b[0mdata\u001b[0m\u001b[1;33m)\u001b[0m\u001b[1;33m\u001b[0m\u001b[0m\n\u001b[0m\u001b[0;32m    642\u001b[0m \u001b[1;33m\u001b[0m\u001b[0m\n\u001b[0;32m    643\u001b[0m     \u001b[1;32mdef\u001b[0m \u001b[0minsert\u001b[0m\u001b[1;33m(\u001b[0m\u001b[0mself\u001b[0m\u001b[1;33m,\u001b[0m \u001b[0mchunksize\u001b[0m\u001b[1;33m=\u001b[0m\u001b[0mNone\u001b[0m\u001b[1;33m)\u001b[0m\u001b[1;33m:\u001b[0m\u001b[1;33m\u001b[0m\u001b[0m\n",
      "\u001b[1;32mC:\\ProgramData\\Anaconda2\\lib\\site-packages\\sqlalchemy\\engine\\base.py\u001b[0m in \u001b[0;36mexecute\u001b[1;34m(self, object, *multiparams, **params)\u001b[0m\n\u001b[0;32m    943\u001b[0m             \u001b[1;32mraise\u001b[0m \u001b[0mexc\u001b[0m\u001b[1;33m.\u001b[0m\u001b[0mObjectNotExecutableError\u001b[0m\u001b[1;33m(\u001b[0m\u001b[0mobject\u001b[0m\u001b[1;33m)\u001b[0m\u001b[1;33m\u001b[0m\u001b[0m\n\u001b[0;32m    944\u001b[0m         \u001b[1;32melse\u001b[0m\u001b[1;33m:\u001b[0m\u001b[1;33m\u001b[0m\u001b[0m\n\u001b[1;32m--> 945\u001b[1;33m             \u001b[1;32mreturn\u001b[0m \u001b[0mmeth\u001b[0m\u001b[1;33m(\u001b[0m\u001b[0mself\u001b[0m\u001b[1;33m,\u001b[0m \u001b[0mmultiparams\u001b[0m\u001b[1;33m,\u001b[0m \u001b[0mparams\u001b[0m\u001b[1;33m)\u001b[0m\u001b[1;33m\u001b[0m\u001b[0m\n\u001b[0m\u001b[0;32m    946\u001b[0m \u001b[1;33m\u001b[0m\u001b[0m\n\u001b[0;32m    947\u001b[0m     \u001b[1;32mdef\u001b[0m \u001b[0m_execute_function\u001b[0m\u001b[1;33m(\u001b[0m\u001b[0mself\u001b[0m\u001b[1;33m,\u001b[0m \u001b[0mfunc\u001b[0m\u001b[1;33m,\u001b[0m \u001b[0mmultiparams\u001b[0m\u001b[1;33m,\u001b[0m \u001b[0mparams\u001b[0m\u001b[1;33m)\u001b[0m\u001b[1;33m:\u001b[0m\u001b[1;33m\u001b[0m\u001b[0m\n",
      "\u001b[1;32mC:\\ProgramData\\Anaconda2\\lib\\site-packages\\sqlalchemy\\sql\\elements.py\u001b[0m in \u001b[0;36m_execute_on_connection\u001b[1;34m(self, connection, multiparams, params)\u001b[0m\n\u001b[0;32m    261\u001b[0m     \u001b[1;32mdef\u001b[0m \u001b[0m_execute_on_connection\u001b[0m\u001b[1;33m(\u001b[0m\u001b[0mself\u001b[0m\u001b[1;33m,\u001b[0m \u001b[0mconnection\u001b[0m\u001b[1;33m,\u001b[0m \u001b[0mmultiparams\u001b[0m\u001b[1;33m,\u001b[0m \u001b[0mparams\u001b[0m\u001b[1;33m)\u001b[0m\u001b[1;33m:\u001b[0m\u001b[1;33m\u001b[0m\u001b[0m\n\u001b[0;32m    262\u001b[0m         \u001b[1;32mif\u001b[0m \u001b[0mself\u001b[0m\u001b[1;33m.\u001b[0m\u001b[0msupports_execution\u001b[0m\u001b[1;33m:\u001b[0m\u001b[1;33m\u001b[0m\u001b[0m\n\u001b[1;32m--> 263\u001b[1;33m             \u001b[1;32mreturn\u001b[0m \u001b[0mconnection\u001b[0m\u001b[1;33m.\u001b[0m\u001b[0m_execute_clauseelement\u001b[0m\u001b[1;33m(\u001b[0m\u001b[0mself\u001b[0m\u001b[1;33m,\u001b[0m \u001b[0mmultiparams\u001b[0m\u001b[1;33m,\u001b[0m \u001b[0mparams\u001b[0m\u001b[1;33m)\u001b[0m\u001b[1;33m\u001b[0m\u001b[0m\n\u001b[0m\u001b[0;32m    264\u001b[0m         \u001b[1;32melse\u001b[0m\u001b[1;33m:\u001b[0m\u001b[1;33m\u001b[0m\u001b[0m\n\u001b[0;32m    265\u001b[0m             \u001b[1;32mraise\u001b[0m \u001b[0mexc\u001b[0m\u001b[1;33m.\u001b[0m\u001b[0mObjectNotExecutableError\u001b[0m\u001b[1;33m(\u001b[0m\u001b[0mself\u001b[0m\u001b[1;33m)\u001b[0m\u001b[1;33m\u001b[0m\u001b[0m\n",
      "\u001b[1;32mC:\\ProgramData\\Anaconda2\\lib\\site-packages\\sqlalchemy\\engine\\base.py\u001b[0m in \u001b[0;36m_execute_clauseelement\u001b[1;34m(self, elem, multiparams, params)\u001b[0m\n\u001b[0;32m   1051\u001b[0m             \u001b[0mcompiled_sql\u001b[0m\u001b[1;33m,\u001b[0m\u001b[1;33m\u001b[0m\u001b[0m\n\u001b[0;32m   1052\u001b[0m             \u001b[0mdistilled_params\u001b[0m\u001b[1;33m,\u001b[0m\u001b[1;33m\u001b[0m\u001b[0m\n\u001b[1;32m-> 1053\u001b[1;33m             \u001b[0mcompiled_sql\u001b[0m\u001b[1;33m,\u001b[0m \u001b[0mdistilled_params\u001b[0m\u001b[1;33m\u001b[0m\u001b[0m\n\u001b[0m\u001b[0;32m   1054\u001b[0m         )\n\u001b[0;32m   1055\u001b[0m         \u001b[1;32mif\u001b[0m \u001b[0mself\u001b[0m\u001b[1;33m.\u001b[0m\u001b[0m_has_events\u001b[0m \u001b[1;32mor\u001b[0m \u001b[0mself\u001b[0m\u001b[1;33m.\u001b[0m\u001b[0mengine\u001b[0m\u001b[1;33m.\u001b[0m\u001b[0m_has_events\u001b[0m\u001b[1;33m:\u001b[0m\u001b[1;33m\u001b[0m\u001b[0m\n",
      "\u001b[1;32mC:\\ProgramData\\Anaconda2\\lib\\site-packages\\sqlalchemy\\engine\\base.py\u001b[0m in \u001b[0;36m_execute_context\u001b[1;34m(self, dialect, constructor, statement, parameters, *args)\u001b[0m\n\u001b[0;32m   1119\u001b[0m                 \u001b[0me\u001b[0m\u001b[1;33m,\u001b[0m\u001b[1;33m\u001b[0m\u001b[0m\n\u001b[0;32m   1120\u001b[0m                 \u001b[0mutil\u001b[0m\u001b[1;33m.\u001b[0m\u001b[0mtext_type\u001b[0m\u001b[1;33m(\u001b[0m\u001b[0mstatement\u001b[0m\u001b[1;33m)\u001b[0m\u001b[1;33m,\u001b[0m \u001b[0mparameters\u001b[0m\u001b[1;33m,\u001b[0m\u001b[1;33m\u001b[0m\u001b[0m\n\u001b[1;32m-> 1121\u001b[1;33m                 None, None)\n\u001b[0m\u001b[0;32m   1122\u001b[0m \u001b[1;33m\u001b[0m\u001b[0m\n\u001b[0;32m   1123\u001b[0m         \u001b[1;32mif\u001b[0m \u001b[0mcontext\u001b[0m\u001b[1;33m.\u001b[0m\u001b[0mcompiled\u001b[0m\u001b[1;33m:\u001b[0m\u001b[1;33m\u001b[0m\u001b[0m\n",
      "\u001b[1;32mC:\\ProgramData\\Anaconda2\\lib\\site-packages\\sqlalchemy\\engine\\base.py\u001b[0m in \u001b[0;36m_handle_dbapi_exception\u001b[1;34m(self, e, statement, parameters, cursor, context)\u001b[0m\n\u001b[0;32m   1403\u001b[0m                 )\n\u001b[0;32m   1404\u001b[0m             \u001b[1;32melse\u001b[0m\u001b[1;33m:\u001b[0m\u001b[1;33m\u001b[0m\u001b[0m\n\u001b[1;32m-> 1405\u001b[1;33m                 \u001b[0mutil\u001b[0m\u001b[1;33m.\u001b[0m\u001b[0mreraise\u001b[0m\u001b[1;33m(\u001b[0m\u001b[1;33m*\u001b[0m\u001b[0mexc_info\u001b[0m\u001b[1;33m)\u001b[0m\u001b[1;33m\u001b[0m\u001b[0m\n\u001b[0m\u001b[0;32m   1406\u001b[0m \u001b[1;33m\u001b[0m\u001b[0m\n\u001b[0;32m   1407\u001b[0m         \u001b[1;32mfinally\u001b[0m\u001b[1;33m:\u001b[0m\u001b[1;33m\u001b[0m\u001b[0m\n",
      "\u001b[1;32mC:\\ProgramData\\Anaconda2\\lib\\site-packages\\sqlalchemy\\engine\\base.py\u001b[0m in \u001b[0;36m_execute_context\u001b[1;34m(self, dialect, constructor, statement, parameters, *args)\u001b[0m\n\u001b[0;32m   1114\u001b[0m                 \u001b[0mconn\u001b[0m \u001b[1;33m=\u001b[0m \u001b[0mself\u001b[0m\u001b[1;33m.\u001b[0m\u001b[0m_revalidate_connection\u001b[0m\u001b[1;33m(\u001b[0m\u001b[1;33m)\u001b[0m\u001b[1;33m\u001b[0m\u001b[0m\n\u001b[0;32m   1115\u001b[0m \u001b[1;33m\u001b[0m\u001b[0m\n\u001b[1;32m-> 1116\u001b[1;33m             \u001b[0mcontext\u001b[0m \u001b[1;33m=\u001b[0m \u001b[0mconstructor\u001b[0m\u001b[1;33m(\u001b[0m\u001b[0mdialect\u001b[0m\u001b[1;33m,\u001b[0m \u001b[0mself\u001b[0m\u001b[1;33m,\u001b[0m \u001b[0mconn\u001b[0m\u001b[1;33m,\u001b[0m \u001b[1;33m*\u001b[0m\u001b[0margs\u001b[0m\u001b[1;33m)\u001b[0m\u001b[1;33m\u001b[0m\u001b[0m\n\u001b[0m\u001b[0;32m   1117\u001b[0m         \u001b[1;32mexcept\u001b[0m \u001b[0mBaseException\u001b[0m \u001b[1;32mas\u001b[0m \u001b[0me\u001b[0m\u001b[1;33m:\u001b[0m\u001b[1;33m\u001b[0m\u001b[0m\n\u001b[0;32m   1118\u001b[0m             self._handle_dbapi_exception(\n",
      "\u001b[1;32mC:\\ProgramData\\Anaconda2\\lib\\site-packages\\sqlalchemy\\engine\\default.py\u001b[0m in \u001b[0;36m_init_compiled\u001b[1;34m(cls, dialect, connection, dbapi_connection, compiled, parameters)\u001b[0m\n\u001b[0;32m    637\u001b[0m                             \u001b[1;32melse\u001b[0m \u001b[0mcompiled_params\u001b[0m\u001b[1;33m[\u001b[0m\u001b[0mkey\u001b[0m\u001b[1;33m]\u001b[0m\u001b[1;33m\u001b[0m\u001b[0m\n\u001b[0;32m    638\u001b[0m                         )\n\u001b[1;32m--> 639\u001b[1;33m                         \u001b[1;32mfor\u001b[0m \u001b[0mkey\u001b[0m \u001b[1;32min\u001b[0m \u001b[0mcompiled_params\u001b[0m\u001b[1;33m\u001b[0m\u001b[0m\n\u001b[0m\u001b[0;32m    640\u001b[0m                     )\n\u001b[0;32m    641\u001b[0m                 \u001b[1;32melse\u001b[0m\u001b[1;33m:\u001b[0m\u001b[1;33m\u001b[0m\u001b[0m\n",
      "\u001b[1;32mC:\\ProgramData\\Anaconda2\\lib\\site-packages\\sqlalchemy\\engine\\default.py\u001b[0m in \u001b[0;36m<genexpr>\u001b[1;34m((key,))\u001b[0m\n\u001b[0;32m    637\u001b[0m                             \u001b[1;32melse\u001b[0m \u001b[0mcompiled_params\u001b[0m\u001b[1;33m[\u001b[0m\u001b[0mkey\u001b[0m\u001b[1;33m]\u001b[0m\u001b[1;33m\u001b[0m\u001b[0m\n\u001b[0;32m    638\u001b[0m                         )\n\u001b[1;32m--> 639\u001b[1;33m                         \u001b[1;32mfor\u001b[0m \u001b[0mkey\u001b[0m \u001b[1;32min\u001b[0m \u001b[0mcompiled_params\u001b[0m\u001b[1;33m\u001b[0m\u001b[0m\n\u001b[0m\u001b[0;32m    640\u001b[0m                     )\n\u001b[0;32m    641\u001b[0m                 \u001b[1;32melse\u001b[0m\u001b[1;33m:\u001b[0m\u001b[1;33m\u001b[0m\u001b[0m\n",
      "\u001b[1;32mC:\\ProgramData\\Anaconda2\\lib\\site-packages\\sqlalchemy\\sql\\sqltypes.py\u001b[0m in \u001b[0;36mprocess\u001b[1;34m(value)\u001b[0m\n\u001b[0;32m    217\u001b[0m                                 \u001b[1;34m\"Unicode type received non-unicode \"\u001b[0m\u001b[1;33m\u001b[0m\u001b[0m\n\u001b[0;32m    218\u001b[0m                                 \u001b[1;34m\"bind param value %r.\"\u001b[0m\u001b[1;33m,\u001b[0m\u001b[1;33m\u001b[0m\u001b[0m\n\u001b[1;32m--> 219\u001b[1;33m                                 (util.ellipses_string(value),))\n\u001b[0m\u001b[0;32m    220\u001b[0m                         \u001b[1;32mreturn\u001b[0m \u001b[0mvalue\u001b[0m\u001b[1;33m\u001b[0m\u001b[0m\n\u001b[0;32m    221\u001b[0m                     \u001b[1;32mreturn\u001b[0m \u001b[0mprocess\u001b[0m\u001b[1;33m\u001b[0m\u001b[0m\n",
      "\u001b[1;32mC:\\ProgramData\\Anaconda2\\lib\\site-packages\\sqlalchemy\\util\\langhelpers.py\u001b[0m in \u001b[0;36mwarn_limited\u001b[1;34m(msg, args)\u001b[0m\n\u001b[0;32m   1316\u001b[0m     \"\"\"\n\u001b[0;32m   1317\u001b[0m     \u001b[1;32mif\u001b[0m \u001b[0margs\u001b[0m\u001b[1;33m:\u001b[0m\u001b[1;33m\u001b[0m\u001b[0m\n\u001b[1;32m-> 1318\u001b[1;33m         \u001b[0mmsg\u001b[0m \u001b[1;33m=\u001b[0m \u001b[0m_hash_limit_string\u001b[0m\u001b[1;33m(\u001b[0m\u001b[0mmsg\u001b[0m\u001b[1;33m,\u001b[0m \u001b[1;36m10\u001b[0m\u001b[1;33m,\u001b[0m \u001b[0margs\u001b[0m\u001b[1;33m)\u001b[0m\u001b[1;33m\u001b[0m\u001b[0m\n\u001b[0m\u001b[0;32m   1319\u001b[0m     \u001b[0mwarnings\u001b[0m\u001b[1;33m.\u001b[0m\u001b[0mwarn\u001b[0m\u001b[1;33m(\u001b[0m\u001b[0mmsg\u001b[0m\u001b[1;33m,\u001b[0m \u001b[0mexc\u001b[0m\u001b[1;33m.\u001b[0m\u001b[0mSAWarning\u001b[0m\u001b[1;33m,\u001b[0m \u001b[0mstacklevel\u001b[0m\u001b[1;33m=\u001b[0m\u001b[1;36m2\u001b[0m\u001b[1;33m)\u001b[0m\u001b[1;33m\u001b[0m\u001b[0m\n\u001b[0;32m   1320\u001b[0m \u001b[1;33m\u001b[0m\u001b[0m\n",
      "\u001b[1;32mC:\\ProgramData\\Anaconda2\\lib\\site-packages\\sqlalchemy\\util\\langhelpers.py\u001b[0m in \u001b[0;36m__new__\u001b[1;34m(cls, value, num, args)\u001b[0m\n\u001b[0;32m   1290\u001b[0m             \u001b[1;33m(\u001b[0m\u001b[1;34m\" (this warning may be suppressed after %d occurrences)\"\u001b[0m \u001b[1;33m%\u001b[0m \u001b[0mnum\u001b[0m\u001b[1;33m)\u001b[0m\u001b[1;33m\u001b[0m\u001b[0m\n\u001b[0;32m   1291\u001b[0m         \u001b[0mself\u001b[0m \u001b[1;33m=\u001b[0m \u001b[0msuper\u001b[0m\u001b[1;33m(\u001b[0m\u001b[0m_hash_limit_string\u001b[0m\u001b[1;33m,\u001b[0m \u001b[0mcls\u001b[0m\u001b[1;33m)\u001b[0m\u001b[1;33m.\u001b[0m\u001b[0m__new__\u001b[0m\u001b[1;33m(\u001b[0m\u001b[0mcls\u001b[0m\u001b[1;33m,\u001b[0m \u001b[0minterpolated\u001b[0m\u001b[1;33m)\u001b[0m\u001b[1;33m\u001b[0m\u001b[0m\n\u001b[1;32m-> 1292\u001b[1;33m         \u001b[0mself\u001b[0m\u001b[1;33m.\u001b[0m\u001b[0m_hash\u001b[0m \u001b[1;33m=\u001b[0m \u001b[0mhash\u001b[0m\u001b[1;33m(\u001b[0m\u001b[1;34m\"%s_%d\"\u001b[0m \u001b[1;33m%\u001b[0m \u001b[1;33m(\u001b[0m\u001b[0mvalue\u001b[0m\u001b[1;33m,\u001b[0m \u001b[0mhash\u001b[0m\u001b[1;33m(\u001b[0m\u001b[0minterpolated\u001b[0m\u001b[1;33m)\u001b[0m \u001b[1;33m%\u001b[0m \u001b[0mnum\u001b[0m\u001b[1;33m)\u001b[0m\u001b[1;33m)\u001b[0m\u001b[1;33m\u001b[0m\u001b[0m\n\u001b[0m\u001b[0;32m   1293\u001b[0m         \u001b[1;32mreturn\u001b[0m \u001b[0mself\u001b[0m\u001b[1;33m\u001b[0m\u001b[0m\n\u001b[0;32m   1294\u001b[0m \u001b[1;33m\u001b[0m\u001b[0m\n",
      "\u001b[1;31mKeyboardInterrupt\u001b[0m: "
     ]
    }
   ],
   "source": [
    "from sqlalchemy import create_engine\n",
    "\n",
    "print 'start: ', datetime.now()\n",
    "conn = create_engine('oracle+cx_oracle://{}:{}@dwdrscan.gtbank.com:1521/?service_name=odidb'.format(un, pwd))\n",
    "dataset.to_sql('cs_pred_dataset', conn, index=False, if_exists='replace', chunksize=10000, dtype=utils.sqlcol(dataset))\n",
    "print 'end: ', datetime.now()"
   ]
  },
  {
   "cell_type": "code",
   "execution_count": null,
   "metadata": {},
   "outputs": [],
   "source": [
    "# dataset[(dataset.BRA_CODE==205) & (dataset.CUS_NUM==158905)]"
   ]
  },
  {
   "cell_type": "code",
   "execution_count": null,
   "metadata": {
    "scrolled": true
   },
   "outputs": [],
   "source": []
  },
  {
   "cell_type": "code",
   "execution_count": null,
   "metadata": {
    "collapsed": true
   },
   "outputs": [],
   "source": []
  },
  {
   "cell_type": "code",
   "execution_count": null,
   "metadata": {},
   "outputs": [],
   "source": []
  },
  {
   "cell_type": "code",
   "execution_count": null,
   "metadata": {
    "collapsed": true
   },
   "outputs": [],
   "source": []
  },
  {
   "cell_type": "code",
   "execution_count": null,
   "metadata": {
    "collapsed": true
   },
   "outputs": [],
   "source": []
  }
 ],
 "metadata": {
  "kernelspec": {
   "display_name": "Python 3",
   "language": "python",
   "name": "python3"
  },
  "language_info": {
   "codemirror_mode": {
    "name": "ipython",
    "version": 3
   },
   "file_extension": ".py",
   "mimetype": "text/x-python",
   "name": "python",
   "nbconvert_exporter": "python",
   "pygments_lexer": "ipython3",
   "version": "3.7.3"
  }
 },
 "nbformat": 4,
 "nbformat_minor": 2
}
