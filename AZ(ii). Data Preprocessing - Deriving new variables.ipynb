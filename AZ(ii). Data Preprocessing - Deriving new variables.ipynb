{
 "cells": [
  {
   "cell_type": "code",
   "execution_count": null,
   "metadata": {},
   "outputs": [],
   "source": []
  },
  {
   "cell_type": "code",
   "execution_count": 1,
   "metadata": {
    "collapsed": true
   },
   "outputs": [],
   "source": [
    "import pickle\n",
    "import seaborn as sns"
   ]
  },
  {
   "cell_type": "code",
   "execution_count": 2,
   "metadata": {
    "collapsed": true
   },
   "outputs": [],
   "source": [
    "# load pickle files before append new path to the sys.path for loanding custom modules\n",
    "loaded_model = pickle.load(open(r'N:\\10. Executive\\Original\\3. 2019\\Gender Classifier\\gender_classifier.pkl', 'rb'))\n",
    "loaded_vectorizer = pickle.load(open(r'N:\\10. Executive\\Original\\3. 2019\\Gender Classifier\\vectorizer.pkl', 'rb'))"
   ]
  },
  {
   "cell_type": "code",
   "execution_count": 3,
   "metadata": {
    "collapsed": true
   },
   "outputs": [],
   "source": [
    "# Add path in order to load utility functions\n",
    "import sys\n",
    "sys.path.append(r\"N:\\18. Hot Spot\\Custom Modules\\Utils\")\n",
    "sys.path.append(r\"N:\\18. Hot Spot\\Custom Modules\\ETLMonthly\")"
   ]
  },
  {
   "cell_type": "code",
   "execution_count": 4,
   "metadata": {
    "collapsed": true
   },
   "outputs": [],
   "source": [
    "# setup environment and import libraries\n",
    "import os\n",
    "import re\n",
    "import datetime\n",
    "import time\n",
    "import getpass\n",
    "import pandas as pd\n",
    "import numpy as np\n",
    "from datetime import datetime, date\n",
    "from datetime import timedelta\n",
    "import calendar as cd\n",
    "from dateutil.relativedelta import relativedelta\n",
    "from collections import OrderedDict\n",
    "path=r'C:\\ProgramData\\Anaconda2\\instantclient_12_2'\n",
    "os.environ['PATH']=path\n",
    "import cx_Oracle\n",
    "from sqlalchemy import create_engine\n",
    "import sqlalchemy\n",
    "import file_utils\n",
    "import db_utils\n",
    "import modeling_utils\n",
    "import config\n",
    "\n",
    "#set working directory\n",
    "os.chdir(config.working_dir)"
   ]
  },
  {
   "cell_type": "code",
   "execution_count": 5,
   "metadata": {
    "collapsed": true
   },
   "outputs": [],
   "source": [
    "# db credentials authentication"
   ]
  },
  {
   "cell_type": "code",
   "execution_count": 6,
   "metadata": {},
   "outputs": [
    {
     "name": "stdout",
     "output_type": "stream",
     "text": [
      "connect to database...\n",
      "Enter username: data_analyst\n",
      "Enter Password:········\n",
      "Press 'y' to continue, 'c' to cancel or escape:y\n",
      "Testing Connection...\n",
      "Connection Succesful!\n"
     ]
    }
   ],
   "source": [
    "print 'connect to database...'\n",
    "conn_string = db_utils.db_connect(config.db_username,config.db_pwd)"
   ]
  },
  {
   "cell_type": "code",
   "execution_count": null,
   "metadata": {
    "collapsed": true
   },
   "outputs": [],
   "source": []
  },
  {
   "cell_type": "code",
   "execution_count": null,
   "metadata": {
    "collapsed": true
   },
   "outputs": [],
   "source": []
  },
  {
   "cell_type": "markdown",
   "metadata": {},
   "source": [
    "### Import Data"
   ]
  },
  {
   "cell_type": "code",
   "execution_count": null,
   "metadata": {
    "collapsed": true,
    "scrolled": true
   },
   "outputs": [],
   "source": []
  },
  {
   "cell_type": "code",
   "execution_count": 7,
   "metadata": {
    "collapsed": true
   },
   "outputs": [],
   "source": [
    "con = cx_Oracle.connect(conn_string)\n",
    "cs_retail_loan_cust_with_names = pd.read_sql_query('''\n",
    "select a.bra_code, a.cus_num,\n",
    "(case when cus_name like '%XXX%' then sec_cus_sho_name else cus_name end) cus_name\n",
    "from cs_retail_loan_cust a, stg.src_customer_extd@exadata_new b\n",
    "where a.bra_code=b.bra_code and a.cus_num=b.cus_num\n",
    "''', con)\n",
    "con.close()"
   ]
  },
  {
   "cell_type": "code",
   "execution_count": 8,
   "metadata": {
    "collapsed": true,
    "scrolled": true
   },
   "outputs": [],
   "source": [
    "df_loan_data_basic_var = pd.read_csv('df_loan_data_basic_var.csv').merge(\n",
    "        cs_retail_loan_cust_with_names, on=['BRA_CODE','CUS_NUM'], how='left')"
   ]
  },
  {
   "cell_type": "code",
   "execution_count": null,
   "metadata": {
    "collapsed": true,
    "scrolled": true
   },
   "outputs": [],
   "source": []
  },
  {
   "cell_type": "code",
   "execution_count": 9,
   "metadata": {
    "collapsed": true,
    "scrolled": true
   },
   "outputs": [],
   "source": [
    "# Convert column types\n",
    "df_loan_data_basic_var['DATE_OPEN'] = pd.to_datetime(df_loan_data_basic_var['DATE_OPEN'])\n",
    "df_loan_data_basic_var['BIR_DATE'] = pd.to_datetime(df_loan_data_basic_var['BIR_DATE'])\n",
    "df_loan_data_basic_var['CUS_DATE_OPEN'] = pd.to_datetime(df_loan_data_basic_var['CUS_DATE_OPEN'])"
   ]
  },
  {
   "cell_type": "code",
   "execution_count": null,
   "metadata": {
    "collapsed": true
   },
   "outputs": [],
   "source": []
  },
  {
   "cell_type": "code",
   "execution_count": 10,
   "metadata": {
    "collapsed": true,
    "scrolled": true
   },
   "outputs": [],
   "source": [
    "# df_loan_data_basic_var[df_loan_data_basic_var['AIRTIME_NBR_MONTH_ACTIVE_RATIO']>1][[\n",
    "#     'CUS_DATE_OPEN','DATE_OPEN','AIRTIME_NBR_MONTH_ACTIVE_RATIO','AIRTIME_NBR_MONTH_ACTIVE','BANK_MTHS']]"
   ]
  },
  {
   "cell_type": "markdown",
   "metadata": {},
   "source": [
    "### Derive Variables"
   ]
  },
  {
   "cell_type": "code",
   "execution_count": 11,
   "metadata": {
    "collapsed": true,
    "scrolled": true
   },
   "outputs": [],
   "source": [
    "df_loan_data_basic_var['CUS_AGE_AT_LOAN'] = \\\n",
    "    df_loan_data_basic_var.apply(lambda x: relativedelta(x['DATE_OPEN'], x['BIR_DATE']).years, axis=1)"
   ]
  },
  {
   "cell_type": "code",
   "execution_count": 12,
   "metadata": {
    "collapsed": true,
    "scrolled": true
   },
   "outputs": [],
   "source": [
    "df_loan_data_basic_var['BANK_YRS'] = \\\n",
    "    df_loan_data_basic_var.apply(lambda x: relativedelta(x['DATE_OPEN'], x['CUS_DATE_OPEN']).years, axis=1)"
   ]
  },
  {
   "cell_type": "code",
   "execution_count": 13,
   "metadata": {
    "collapsed": true
   },
   "outputs": [],
   "source": [
    "df_loan_data_basic_var['BANK_MTHS'] = \\\n",
    "    df_loan_data_basic_var.apply(lambda x: (12*x['BANK_YRS']) + relativedelta(x['DATE_OPEN'], x['CUS_DATE_OPEN']).months, axis=1)"
   ]
  },
  {
   "cell_type": "code",
   "execution_count": 14,
   "metadata": {
    "collapsed": true
   },
   "outputs": [],
   "source": [
    "# Ratio denominator should not be greater than 12\n",
    "df_loan_data_basic_var['AIRTIME_NBR_MONTH_ACTIVE_RATIO'] = \\\n",
    "    df_loan_data_basic_var['AIRTIME_NBR_MONTH_ACTIVE']/df_loan_data_basic_var['BANK_MTHS'].apply(lambda x: x if x<12 else 12)\n",
    "\n",
    "df_loan_data_basic_var['AIRTIME_NBR_MONTH_ACTIVE_RATIO'] = \\\n",
    "    df_loan_data_basic_var['AIRTIME_NBR_MONTH_ACTIVE_RATIO'].apply(lambda x: x if x<=1 else 1)"
   ]
  },
  {
   "cell_type": "code",
   "execution_count": 15,
   "metadata": {
    "collapsed": true
   },
   "outputs": [],
   "source": [
    "df_loan_data_basic_var['NTWRK_OUT_IN_DEGREE_RATIO'] = \\\n",
    "    df_loan_data_basic_var['NTWRK_OUT_DEGREE']/df_loan_data_basic_var['NTWRK_IN_DEGREE']\n",
    "\n",
    "df_loan_data_basic_var['NTWRK_OUT_IN_DEGREE_RATIO'] = \\\n",
    "    df_loan_data_basic_var['NTWRK_OUT_IN_DEGREE_RATIO'].replace(np.inf,np.nan).fillna(0)"
   ]
  },
  {
   "cell_type": "code",
   "execution_count": 16,
   "metadata": {
    "collapsed": true,
    "scrolled": true
   },
   "outputs": [],
   "source": [
    "# df_loan_data_basic_var['POS_TRA_COUNT_NIGHT_SPEND_RATIO'] = ((df_loan_data_basic_var['POS_TRA_COUNT_0_5'] + \n",
    "#                                                               df_loan_data_basic_var['POS_TRA_COUNT_21_23']\n",
    "#                                                              )/ df_loan_data_basic_var['POS_TRA_COUNT'])\n",
    "\n",
    "# df_loan_data_basic_var['POS_TRA_COUNT_NIGHT_SPEND_RATIO'] = df_loan_data_basic_var['POS_TRA_COUNT_NIGHT_SPEND_RATIO'].replace(np.inf,np.nan).fillna(0)\n",
    "# df_loan_data_basic_var.loc[df_loan_data_basic_var['POS_TRA_COUNT_NIGHT_SPEND_RATIO']>=0.2,'IS_POS_NIGHT_SPENDER']=1\n",
    "# df_loan_data_basic_var['IS_POS_NIGHT_SPENDER'] = df_loan_data_basic_var['IS_POS_NIGHT_SPENDER'].fillna(0)"
   ]
  },
  {
   "cell_type": "code",
   "execution_count": 17,
   "metadata": {
    "collapsed": true
   },
   "outputs": [],
   "source": [
    "df_loan_data_basic_var['POS_TRA_DAY_COUNT_NIGHT_SPEND_RATIO'] = \\\n",
    "                                    (df_loan_data_basic_var['POS_TRA_DAY_COUNT_0_5']+   \\\n",
    "                                     df_loan_data_basic_var['POS_TRA_DAY_COUNT_21_23'])/ \\\n",
    "                                    df_loan_data_basic_var['BANK_MTHS']\n",
    "        \n",
    "df_loan_data_basic_var.loc[df_loan_data_basic_var['POS_TRA_DAY_COUNT_NIGHT_SPEND_RATIO']>=0.2,'IS_POS_NIGHT_SPENDER']=1\n",
    "df_loan_data_basic_var['IS_POS_NIGHT_SPENDER'] = df_loan_data_basic_var['IS_POS_NIGHT_SPENDER'].fillna(0)"
   ]
  },
  {
   "cell_type": "code",
   "execution_count": null,
   "metadata": {
    "collapsed": true,
    "scrolled": true
   },
   "outputs": [],
   "source": []
  },
  {
   "cell_type": "code",
   "execution_count": 18,
   "metadata": {
    "collapsed": true
   },
   "outputs": [],
   "source": [
    "df_loan_data_basic_var['IB_MB_GTW_COUNT'] = df_loan_data_basic_var['IB_CNT'] + \\\n",
    "                                            df_loan_data_basic_var['MB_CNT'] + \\\n",
    "                                            df_loan_data_basic_var['GTWORLD_CNT']\n",
    "        \n",
    "df_loan_data_basic_var['USE_IB_MB_GTW'] = (df_loan_data_basic_var['IB_MB_GTW_COUNT']>0).astype(int)"
   ]
  },
  {
   "cell_type": "code",
   "execution_count": 19,
   "metadata": {
    "collapsed": true
   },
   "outputs": [],
   "source": [
    "df_loan_data_basic_var['HAS_IJEBU_LEDGERS']= (df_loan_data_basic_var['NBR_DISTINCT_IJEBU_LEDGERS']>0).astype(int)"
   ]
  },
  {
   "cell_type": "code",
   "execution_count": 20,
   "metadata": {
    "collapsed": true
   },
   "outputs": [],
   "source": [
    "df_loan_data_basic_var['HAS_EVER_LOAN']= (df_loan_data_basic_var['NBR_LOANS']>0).astype(int)"
   ]
  },
  {
   "cell_type": "code",
   "execution_count": 21,
   "metadata": {
    "collapsed": true
   },
   "outputs": [],
   "source": [
    "df_loan_data_basic_var['HAS_DOM_ACCS']= (df_loan_data_basic_var['NBR_DOM_ACCS']>0).astype(int)"
   ]
  },
  {
   "cell_type": "code",
   "execution_count": 22,
   "metadata": {
    "collapsed": true,
    "scrolled": true
   },
   "outputs": [],
   "source": [
    "df_loan_data_basic_var['USE_MB_AND_GTW']= \\\n",
    "    ((df_loan_data_basic_var['MB_CNT']>0) & (df_loan_data_basic_var['GTWORLD_CNT']>0)).astype(int)"
   ]
  },
  {
   "cell_type": "code",
   "execution_count": 23,
   "metadata": {
    "collapsed": true
   },
   "outputs": [],
   "source": [
    "df_loan_data_basic_var['USE_POS_OR_GAPS']= \\\n",
    "    ((df_loan_data_basic_var['POS_CNT']>0) | (df_loan_data_basic_var['GAPS_CNT']>0)).astype(int)"
   ]
  },
  {
   "cell_type": "code",
   "execution_count": 24,
   "metadata": {
    "collapsed": true
   },
   "outputs": [],
   "source": [
    "df_loan_data_basic_var['USE_ATM_ONLY']= \\\n",
    "(((df_loan_data_basic_var['ATM_ROU_CNT']+df_loan_data_basic_var['ATM_ON_US_CNT']==0)>0) & \\\n",
    " (df_loan_data_basic_var['GTWORLD_CNT']==0) & \\\n",
    " (df_loan_data_basic_var['IB_CNT']==0) & \\\n",
    " (df_loan_data_basic_var['POS_WDR_CNT']==0) & \\\n",
    " (df_loan_data_basic_var['USSD_CNT']==0)).astype(int)"
   ]
  },
  {
   "cell_type": "code",
   "execution_count": 25,
   "metadata": {
    "collapsed": true
   },
   "outputs": [],
   "source": [
    "df_loan_data_basic_var['USE_USSD_ONLY']= \\\n",
    "((df_loan_data_basic_var['USSD_CNT']>0) & \\\n",
    " (df_loan_data_basic_var['ATM_ROU_CNT']==0) & \\\n",
    " (df_loan_data_basic_var['ATM_ON_US_CNT']==0) & \\\n",
    " (df_loan_data_basic_var['GTWORLD_CNT']==0) & \\\n",
    " (df_loan_data_basic_var['IB_CNT']==0) & \\\n",
    " (df_loan_data_basic_var['POS_WDR_CNT']==0)).astype(int)"
   ]
  },
  {
   "cell_type": "code",
   "execution_count": 26,
   "metadata": {
    "collapsed": true
   },
   "outputs": [],
   "source": [
    "df_loan_data_basic_var['HAS_BAD_NEIGHBORS'] = (df_loan_data_basic_var['NBR_BAD_NEIGHBORS']>0).astype(int)"
   ]
  },
  {
   "cell_type": "code",
   "execution_count": 27,
   "metadata": {
    "collapsed": true,
    "scrolled": true
   },
   "outputs": [],
   "source": [
    "df_loan_data_basic_var['HAS_CONSISTENT_LODGE']= (df_loan_data_basic_var['MONTH_ACTIVE_RATIO']>=0.9).astype(int)"
   ]
  },
  {
   "cell_type": "code",
   "execution_count": 28,
   "metadata": {
    "collapsed": true
   },
   "outputs": [],
   "source": [
    "df_loan_data_basic_var['DOES_IN_BRANCH']= (df_loan_data_basic_var['CASH_WDR_CNT']>0).astype(int)"
   ]
  },
  {
   "cell_type": "code",
   "execution_count": 29,
   "metadata": {
    "collapsed": true
   },
   "outputs": [],
   "source": [
    "df_loan_data_basic_var['ISSUES_CHEQUE']= (df_loan_data_basic_var['CHEQUES_ISSUED']>0).astype(int)"
   ]
  },
  {
   "cell_type": "code",
   "execution_count": 30,
   "metadata": {
    "collapsed": true
   },
   "outputs": [],
   "source": [
    "df_loan_data_basic_var['REACTIVATED_OR_NEW_IN_12_MTHS'] = \\\n",
    "    ((df_loan_data_basic_var['HAS_REACTIVATED_12_MTHS']>0) | (df_loan_data_basic_var['BANK_YRS']==0)).astype(int)"
   ]
  },
  {
   "cell_type": "code",
   "execution_count": 31,
   "metadata": {
    "collapsed": true
   },
   "outputs": [],
   "source": [
    "df_loan_data_basic_var['ISSUES_CHEQUE']= (df_loan_data_basic_var['CHEQUES_ISSUED']>0).astype(int)"
   ]
  },
  {
   "cell_type": "code",
   "execution_count": 32,
   "metadata": {
    "scrolled": true
   },
   "outputs": [
    {
     "data": {
      "text/plain": [
       "0.0    1066\n",
       "1.0     198\n",
       "Name: IS_BAD, dtype: int64"
      ]
     },
     "execution_count": 32,
     "metadata": {},
     "output_type": "execute_result"
    }
   ],
   "source": [
    "df_loan_data_basic_var[df_loan_data_basic_var.USE_ATM_ONLY>0].IS_BAD.value_counts()"
   ]
  },
  {
   "cell_type": "code",
   "execution_count": 33,
   "metadata": {
    "collapsed": true
   },
   "outputs": [],
   "source": [
    "# df_loan_data_basic_var[df_loan_data_basic_var['HAS_BAD_NEIGHBORS']==1].IS_BAD.value_counts()"
   ]
  },
  {
   "cell_type": "code",
   "execution_count": 34,
   "metadata": {
    "collapsed": true
   },
   "outputs": [],
   "source": [
    "# df_loan_data_basic_var[df_loan_data_basic_var['REACTIVATED_OR_NEW_IN_12_MTHS']==1].IS_BAD.value_counts()"
   ]
  },
  {
   "cell_type": "code",
   "execution_count": 35,
   "metadata": {
    "collapsed": true
   },
   "outputs": [],
   "source": [
    "# df_loan_data_basic_var[df_loan_data_basic_var['IS_PEP']==1].IS_BAD.value_counts()"
   ]
  },
  {
   "cell_type": "code",
   "execution_count": 36,
   "metadata": {
    "collapsed": true
   },
   "outputs": [],
   "source": [
    "# df_loan_data_basic_var[df_loan_data_basic_var['BANK_YRS']==0]"
   ]
  },
  {
   "cell_type": "code",
   "execution_count": 37,
   "metadata": {
    "collapsed": true,
    "scrolled": true
   },
   "outputs": [],
   "source": [
    "# df_loan_data_basic_var[df_loan_data_basic_var.GAPS_CNT>0].IS_BAD"
   ]
  },
  {
   "cell_type": "code",
   "execution_count": 38,
   "metadata": {
    "collapsed": true,
    "scrolled": true
   },
   "outputs": [],
   "source": [
    "# df_loan_data_basic_var[df_loan_data_basic_var.POS_CNT>0].IS_BAD"
   ]
  },
  {
   "cell_type": "code",
   "execution_count": 39,
   "metadata": {
    "scrolled": true
   },
   "outputs": [
    {
     "data": {
      "text/plain": [
       "0.0    4905\n",
       "1.0     404\n",
       "Name: IS_BAD, dtype: int64"
      ]
     },
     "execution_count": 39,
     "metadata": {},
     "output_type": "execute_result"
    }
   ],
   "source": [
    "df_loan_data_basic_var[df_loan_data_basic_var.HAS_BIZ_ACC>0].IS_BAD.value_counts()"
   ]
  },
  {
   "cell_type": "code",
   "execution_count": null,
   "metadata": {
    "collapsed": true
   },
   "outputs": [],
   "source": []
  },
  {
   "cell_type": "code",
   "execution_count": null,
   "metadata": {
    "collapsed": true
   },
   "outputs": [],
   "source": []
  },
  {
   "cell_type": "markdown",
   "metadata": {},
   "source": [
    "### Exploration"
   ]
  },
  {
   "cell_type": "code",
   "execution_count": 40,
   "metadata": {},
   "outputs": [
    {
     "data": {
      "text/plain": [
       "count    154724.000000\n",
       "mean          0.538375\n",
       "std           0.233406\n",
       "min           0.000000\n",
       "25%           0.385276\n",
       "50%           0.505076\n",
       "75%           0.648389\n",
       "max           3.098387\n",
       "Name: COV_LODGEMENT_CNT, dtype: float64"
      ]
     },
     "execution_count": 40,
     "metadata": {},
     "output_type": "execute_result"
    }
   ],
   "source": [
    "df_loan_data_basic_var.COV_LODGEMENT_CNT.describe()"
   ]
  },
  {
   "cell_type": "code",
   "execution_count": 41,
   "metadata": {
    "scrolled": true
   },
   "outputs": [
    {
     "name": "stdout",
     "output_type": "stream",
     "text": [
      "count    1.547240e+05\n",
      "mean     3.992692e+05\n",
      "std      1.426336e+06\n",
      "min      0.000000e+00\n",
      "25%      5.604680e+04\n",
      "50%      1.217163e+05\n",
      "75%      3.047628e+05\n",
      "max      1.705020e+08\n",
      "Name: AVG_TURNOVER_AMOUNT, dtype: float64\n",
      "count    1.547240e+05\n",
      "mean     3.983549e+05\n",
      "std      1.427623e+06\n",
      "min      9.166667e+02\n",
      "25%      5.649155e+04\n",
      "50%      1.220114e+05\n",
      "75%      3.041263e+05\n",
      "max      1.705622e+08\n",
      "Name: AVG_LODGEMENT_AMOUNT, dtype: float64\n"
     ]
    }
   ],
   "source": [
    "df_loan_data_basic_var['NTWRK_OUT_IN_DEGREE_RATIO'].describe()\n",
    "df_loan_data_basic_var['NTWRK_DEGREE'].describe()\n",
    "df_loan_data_basic_var['AIRTIME_AVG_PER_MONTH_COUNT'].describe()\n",
    "df_loan_data_basic_var['POS_TRA_DAY_COUNT_NIGHT_SPEND_RATIO'].describe()\n",
    "df_loan_data_basic_var['SUM_LODGEMENT_AMOUNT'].describe()\n",
    "print df_loan_data_basic_var['AVG_TURNOVER_AMOUNT'].describe()\n",
    "print df_loan_data_basic_var['AVG_LODGEMENT_AMOUNT'].describe()\n",
    "# df_loan_data_basic_var['AIRTIME_NBR_MONTH_ACTIVE_RATIO'].describe()"
   ]
  },
  {
   "cell_type": "code",
   "execution_count": 42,
   "metadata": {},
   "outputs": [
    {
     "data": {
      "text/plain": [
       "count    154724.000000\n",
       "mean          0.755002\n",
       "std           0.333588\n",
       "min           0.000000\n",
       "25%           0.583333\n",
       "50%           0.916667\n",
       "75%           1.000000\n",
       "max           1.000000\n",
       "Name: AIRTIME_NBR_MONTH_ACTIVE_RATIO, dtype: float64"
      ]
     },
     "execution_count": 42,
     "metadata": {},
     "output_type": "execute_result"
    }
   ],
   "source": [
    "df_loan_data_basic_var['NTWRK_OUT_IN_DEGREE_RATIO'].describe()\n",
    "df_loan_data_basic_var['NTWRK_DEGREE'].describe()\n",
    "df_loan_data_basic_var['AIRTIME_AVG_PER_MONTH_COUNT'].describe()\n",
    "df_loan_data_basic_var['POS_TRA_DAY_COUNT_NIGHT_SPEND_RATIO'].describe()\n",
    "df_loan_data_basic_var['SUM_LODGEMENT_AMOUNT'].describe()\n",
    "df_loan_data_basic_var['AVG_TURNOVER_AMOUNT'].describe()\n",
    "df_loan_data_basic_var['AIRTIME_NBR_MONTH_ACTIVE_RATIO'].describe()"
   ]
  },
  {
   "cell_type": "code",
   "execution_count": null,
   "metadata": {
    "collapsed": true
   },
   "outputs": [],
   "source": []
  },
  {
   "cell_type": "code",
   "execution_count": null,
   "metadata": {
    "collapsed": true,
    "scrolled": true
   },
   "outputs": [],
   "source": []
  },
  {
   "cell_type": "markdown",
   "metadata": {
    "collapsed": true
   },
   "source": [
    "### Fill missing gender values by Gender Prediction Model"
   ]
  },
  {
   "cell_type": "code",
   "execution_count": 43,
   "metadata": {
    "collapsed": true
   },
   "outputs": [],
   "source": [
    "def transform_name(name):\n",
    "    return loaded_vectorizer.transform([name.upper().strip()])\n",
    "def genderpredictor(name):\n",
    "    return loaded_model.predict(transform_name(name))"
   ]
  },
  {
   "cell_type": "code",
   "execution_count": 44,
   "metadata": {
    "collapsed": true,
    "scrolled": true
   },
   "outputs": [],
   "source": [
    "df_loan_data_basic_var['CUS_NAME'] = df_loan_data_basic_var['CUS_NAME'].astype('str')"
   ]
  },
  {
   "cell_type": "code",
   "execution_count": 45,
   "metadata": {
    "collapsed": true,
    "scrolled": true
   },
   "outputs": [],
   "source": [
    "# predict gender that is null\n",
    "df_loan_data_basic_var['CUS_GENDER'] = df_loan_data_basic_var.apply(\n",
    "    lambda x: genderpredictor(x.CUS_NAME)[0] if not x.CUS_GENDER in ['M','F'] else x.CUS_GENDER, axis=1)"
   ]
  },
  {
   "cell_type": "code",
   "execution_count": null,
   "metadata": {
    "collapsed": true
   },
   "outputs": [],
   "source": []
  },
  {
   "cell_type": "code",
   "execution_count": null,
   "metadata": {
    "collapsed": true
   },
   "outputs": [],
   "source": []
  },
  {
   "cell_type": "code",
   "execution_count": null,
   "metadata": {
    "collapsed": true
   },
   "outputs": [],
   "source": []
  },
  {
   "cell_type": "markdown",
   "metadata": {
    "collapsed": true
   },
   "source": [
    "### Binning"
   ]
  },
  {
   "cell_type": "code",
   "execution_count": null,
   "metadata": {
    "collapsed": true
   },
   "outputs": [],
   "source": []
  },
  {
   "cell_type": "code",
   "execution_count": 46,
   "metadata": {
    "collapsed": true
   },
   "outputs": [],
   "source": [
    "bin_args = \\\n",
    "[\n",
    " {'col':'CUS_AGE_AT_LOAN', 'bins':[-1,17,29,39,44,999], 'right':True, 'labels':None, 'precision':5},\n",
    " {'col':'BANK_YRS', 'bins':[-1,3,5,7,99], 'right':True, 'labels':None, 'precision':5},\n",
    " \n",
    " {'col':'NBR_DISTINCT_DEP', 'bins':[-1,1,5,99], 'right':True, 'labels':None, 'precision':5},\n",
    " {'col':'AIRTIME_NBR_MONTH_ACTIVE_RATIO', 'bins':[-1,0.5,0.8,0.9,1], 'right':True, 'labels':None, 'precision':5},\n",
    " {'col':'AIRTIME_AVG_PER_MONTH_COUNT', 'bins':[-1,2,5,10,20,99999], 'right':True, 'labels':None, 'precision':5},\n",
    " \n",
    " {'col':'NTWRK_OUT_IN_DEGREE_RATIO', 'bins':[-1,0.1,1,2,9999999999999], 'right':True, 'labels':None, 'precision':5},\n",
    " {'col':'NTWRK_DEGREE', 'bins':[-1,3,11,30,9999999999999], 'right':True, 'labels':None, 'precision':5},\n",
    "    \n",
    " {'col':'SUM_LODGEMENT_AMOUNT', 'bins':[-1,50000,250000,750000,2000000,9999999999999], 'right':True, 'labels':None, 'precision':5},\n",
    " {'col':'AVG_TURNOVER_AMOUNT', 'bins':[-1,3000,6000,10000,9999999999999], 'right':True, 'labels':None, 'precision':5},\n",
    " {'col':'AVG_LODGEMENT_AMOUNT', 'bins':[-1,3000,6000,10000,9999999999999], 'right':True, 'labels':None, 'precision':5},\n",
    "    \n",
    " {'col':'COV_LODGEMENT_CNT', 'bins':[-1,0.3,0.5,0.7,1,99999999], 'right':True, 'labels':None, 'precision':5}\n",
    "]"
   ]
  },
  {
   "cell_type": "code",
   "execution_count": 47,
   "metadata": {
    "collapsed": true
   },
   "outputs": [],
   "source": [
    "# Save binning arguments\n",
    "pickle.dump(bin_args, open('bin_args.sav', 'wb'))"
   ]
  },
  {
   "cell_type": "code",
   "execution_count": 49,
   "metadata": {
    "scrolled": true
   },
   "outputs": [
    {
     "name": "stdout",
     "output_type": "stream",
     "text": [
      "Running for:  CUS_AGE_AT_LOAN\n",
      "Running for:  BANK_YRS\n",
      "Running for:  NBR_DISTINCT_DEP\n",
      "Running for:  AIRTIME_NBR_MONTH_ACTIVE_RATIO\n",
      "Running for:  AIRTIME_AVG_PER_MONTH_COUNT\n",
      "Running for:  NTWRK_OUT_IN_DEGREE_RATIO\n",
      "Running for:  NTWRK_DEGREE\n",
      "Running for:  SUM_LODGEMENT_AMOUNT\n",
      "Running for:  AVG_TURNOVER_AMOUNT\n",
      "Running for:  AVG_LODGEMENT_AMOUNT\n",
      "Running for:  COV_LODGEMENT_CNT\n"
     ]
    }
   ],
   "source": [
    "df_loan_data_basic_var =  modeling_utils.binning_dataset(df_loan_data_basic_var, bin_args)"
   ]
  },
  {
   "cell_type": "code",
   "execution_count": null,
   "metadata": {
    "collapsed": true
   },
   "outputs": [],
   "source": []
  },
  {
   "cell_type": "code",
   "execution_count": null,
   "metadata": {
    "collapsed": true
   },
   "outputs": [],
   "source": []
  },
  {
   "cell_type": "markdown",
   "metadata": {},
   "source": [
    "### Feature Selection"
   ]
  },
  {
   "cell_type": "code",
   "execution_count": 50,
   "metadata": {
    "collapsed": true
   },
   "outputs": [],
   "source": [
    "cols_selected_1 = ['CUS_AGE_AT_LOAN_BIN', 'BANK_YRS_BIN', 'NBR_DISTINCT_DEP_BIN', 'AIRTIME_NBR_MONTH_ACTIVE_RATIO_BIN',\n",
    "                 'AIRTIME_AVG_PER_MONTH_COUNT_BIN', 'NTWRK_OUT_IN_DEGREE_RATIO_BIN', 'NTWRK_DEGREE_BIN', 'IS_BETTOR',\n",
    "                 'IS_RELIGIOUS', 'IS_VISA', 'IS_PAY_UTILITIES', 'IS_POS_NIGHT_SPENDER', 'CUS_GENDER', 'HAS_REACTIVATED',\n",
    "                 'AIRTIME_DO_THIRD_PARTY', 'HAS_IJEBU_LEDGERS', 'HAS_EVER_LOAN', 'USE_IB_MB_GTW',\n",
    "                 'IS_PLATINUM_PLUS_HNI', 'AVG_TURNOVER_AMOUNT_BIN','HAS_BIZ_ACC','REACTIVATED_OR_NEW_IN_12_MTHS',\n",
    "                 'ISSUES_CHEQUE','DOES_IN_BRANCH','HAS_CONSISTENT_LODGE','HAS_BAD_NEIGHBORS',\n",
    "                 'HAS_DOM_ACCS','USE_MB_AND_GTW','USE_POS_OR_GAPS','USE_ATM_ONLY','COV_LODGEMENT_CNT_BIN','STATE','PROF_CODE']"
   ]
  },
  {
   "cell_type": "code",
   "execution_count": 51,
   "metadata": {
    "collapsed": true
   },
   "outputs": [],
   "source": [
    "pickle.dump(cols_selected_1, open('cols_selected_1.sav', 'wb'))"
   ]
  },
  {
   "cell_type": "code",
   "execution_count": null,
   "metadata": {},
   "outputs": [],
   "source": []
  },
  {
   "cell_type": "code",
   "execution_count": null,
   "metadata": {
    "collapsed": true
   },
   "outputs": [],
   "source": []
  },
  {
   "cell_type": "code",
   "execution_count": 52,
   "metadata": {
    "collapsed": true
   },
   "outputs": [],
   "source": [
    "cols_selected_2_cat = ['CUS_AGE_AT_LOAN_BIN', 'IS_BETTOR', 'CUS_GENDER', 'HAS_REACTIVATED',\n",
    "                       'IS_RELIGIOUS', 'IS_VISA', 'IS_PAY_UTILITIES', 'IS_POS_NIGHT_SPENDER', \n",
    "                       'IS_BETTOR', 'AIRTIME_DO_THIRD_PARTY', 'HAS_IJEBU_LEDGERS', 'HAS_EVER_LOAN',\n",
    "                       'USE_IB_MB_GTW', 'IS_PLATINUM_PLUS_HNI', 'HAS_BIZ_ACC','REACTIVATED_OR_NEW_IN_12_MTHS', \n",
    "                       'ISSUES_CHEQUE','DOES_IN_BRANCH', 'HAS_CONSISTENT_LODGE','HAS_BAD_NEIGHBORS',\n",
    "                       'HAS_DOM_ACCS','USE_MB_AND_GTW','USE_POS_OR_GAPS','USE_ATM_ONLY','STATE','PROF_CODE'\n",
    "                      ]"
   ]
  },
  {
   "cell_type": "code",
   "execution_count": 53,
   "metadata": {
    "collapsed": true
   },
   "outputs": [],
   "source": [
    "pickle.dump(cols_selected_2_cat, open('cols_selected_2_cat.sav', 'wb'))"
   ]
  },
  {
   "cell_type": "code",
   "execution_count": null,
   "metadata": {
    "collapsed": true
   },
   "outputs": [],
   "source": []
  },
  {
   "cell_type": "code",
   "execution_count": 54,
   "metadata": {},
   "outputs": [],
   "source": [
    "cols_selected_2_numeric = [\n",
    "\"BANK_YRS\",\n",
    "\"NBR_DISTINCT_DEP\", \n",
    "\"AIRTIME_NBR_MONTH_ACTIVE_RATIO\",                \n",
    "\"AIRTIME_AVG_PER_MONTH_COUNT\",\n",
    "\"AIRTIME_NBR_MONTH_ACTIVE\",\n",
    "\"NBR_CALL_TIME_TBILLS\",\n",
    "\"NBR_DISTINCT_IJEBU_LEDGERS\",\n",
    "\"NBR_LOANS\",\n",
    "\"OUTSTANDING_DEBT\",\n",
    "\"DUE_DEBT\",\n",
    "\"NBR_DISTINCT_LOAN\",\n",
    "\"NBR_DOM_ACCS\",\n",
    "\"AVG_BAL_ALL_ACC\",\n",
    "\"CRNT_BAL_ALL_ACC\",\n",
    "\"SUM_LODGEMENT_AMOUNT\",\n",
    "\"SUM_LODGEMENT_COUNT\",\n",
    "\"SUM_TURNOVER_AMOUNT\",\n",
    "\"SUM_TURNOVER_COUNT\",\n",
    "\"STD_DEV_LODGEMENT_AMOUNT\",\n",
    "\"STD_DEV_LODGEMENT_COUNT\",\n",
    "\"STD_DEV_TURNOVER_AMOUNT\",\n",
    "\"STD_DEV_TURNOVER_COUNT\",\n",
    "\"MONTHS_ACTIVE_IN_12_MTHS\",\n",
    "\"MONTHS_WITH_GTB_IN_12_MTHS\",\n",
    "\"AVG_LODGEMENT_AMOUNT\",\n",
    "\"AVG_LODGEMENT_COUNT\",\n",
    "\"AVG_TURNOVER_AMOUNT\",\n",
    "\"AVG_TURNOVER_COUNT\",\n",
    "\"IN_OUT_AMT_RATIO\",\n",
    "\"IN_OUT_CNT_RATIO\",\n",
    "\"COV_TURNOVER_AMT\",\n",
    "\"COV_LODGEMENT_AMT\",\n",
    "\"COV_TURNOVER_CNT\",\n",
    "\"COV_LODGEMENT_CNT\",\n",
    "\"POS_TRA_COUNT_0_5\",\n",
    "\"POS_TRA_DAY_COUNT_0_5\",\n",
    "\"POS_TRA_COUNT_6_11\",\n",
    "\"POS_TRA_DAY_COUNT_6_11\",\n",
    "\"POS_TRA_COUNT_12_16\",\n",
    "\"POS_TRA_DAY_COUNT_12_16\",\n",
    "\"POS_TRA_COUNT_17_20\",\n",
    "\"POS_TRA_DAY_COUNT_17_20\",\n",
    "\"POS_TRA_COUNT_21_23\",\n",
    "\"POS_TRA_DAY_COUNT_21_23\",\n",
    "\"TRA_AMT_0_5\",\n",
    "\"TRA_AMT_6_11\",\n",
    "\"TRA_AMT_12_16\",\n",
    "\"TRA_AMT_17_20\",\n",
    "\"TRA_AMT_21_23\",\n",
    "\"TRA_COUNT_0_5\",\n",
    "\"TRA_COUNT_6_11\",\n",
    "\"TRA_COUNT_12_16\",\n",
    "\"TRA_COUNT_17_20\",\n",
    "\"TRA_COUNT_21_23\",\n",
    "\"NTWRK_OUT_TRA_COUNT\",\n",
    "\"NTWRK_OUT_TRA_AMOUNT\",\n",
    "\"NTWRK_IN_DEGREE\",\n",
    "\"NTWRK_IN_TRA_COUNT\",\n",
    "\"NTWRK_IN_TRA_AMOUNT\",\n",
    "\"NTWRK_DEGREE\",\n",
    "\"NTWRK_TRA_COUNT\",\n",
    "\"NTWRK_TRA_AMOUNT\",\n",
    "\"NTWRK_OUT_IN_DEGREE_RATIO\"\n",
    "]"
   ]
  },
  {
   "cell_type": "code",
   "execution_count": 55,
   "metadata": {
    "collapsed": true
   },
   "outputs": [],
   "source": [
    "pickle.dump(cols_selected_2_numeric, open('cols_selected_2_numeric.sav', 'wb'))"
   ]
  },
  {
   "cell_type": "code",
   "execution_count": null,
   "metadata": {
    "collapsed": true
   },
   "outputs": [],
   "source": []
  },
  {
   "cell_type": "code",
   "execution_count": null,
   "metadata": {},
   "outputs": [],
   "source": []
  },
  {
   "cell_type": "markdown",
   "metadata": {},
   "source": [
    "### Check missing values"
   ]
  },
  {
   "cell_type": "code",
   "execution_count": 64,
   "metadata": {
    "scrolled": true
   },
   "outputs": [
    {
     "data": {
      "text/plain": [
       "STATE        557\n",
       "PROF_CODE     78\n",
       "dtype: int64"
      ]
     },
     "execution_count": 64,
     "metadata": {},
     "output_type": "execute_result"
    }
   ],
   "source": [
    "missing_df_1 = df_loan_data_basic_var[cols_selected_1].isnull().sum()\n",
    "missing_df_1[missing_df_1>0]"
   ]
  },
  {
   "cell_type": "code",
   "execution_count": 74,
   "metadata": {},
   "outputs": [
    {
     "data": {
      "text/plain": [
       "STATE        557\n",
       "PROF_CODE     78\n",
       "dtype: int64"
      ]
     },
     "execution_count": 74,
     "metadata": {},
     "output_type": "execute_result"
    }
   ],
   "source": [
    "missing_df_2 = df_loan_data_basic_var[cols_selected_2_cat].isnull().sum()\n",
    "missing_df_2[missing_df_2>0]"
   ]
  },
  {
   "cell_type": "code",
   "execution_count": 75,
   "metadata": {},
   "outputs": [
    {
     "data": {
      "text/plain": [
       "Series([], dtype: int64)"
      ]
     },
     "execution_count": 75,
     "metadata": {},
     "output_type": "execute_result"
    }
   ],
   "source": [
    "missing_df_3 = df_loan_data_basic_var[cols_selected_2_numeric].isnull().sum()\n",
    "missing_df_3[missing_df_3>0]"
   ]
  },
  {
   "cell_type": "code",
   "execution_count": 73,
   "metadata": {},
   "outputs": [],
   "source": [
    "numeric_cols_with_missing_value = missing_df_3[missing_df_3>0].index\n",
    "df_loan_data_basic_var[numeric_cols_with_missing_value] = df_loan_data_basic_var[numeric_cols_with_missing_value].fillna(0)"
   ]
  },
  {
   "cell_type": "code",
   "execution_count": null,
   "metadata": {
    "collapsed": true
   },
   "outputs": [],
   "source": []
  },
  {
   "cell_type": "markdown",
   "metadata": {},
   "source": [
    "### Write output"
   ]
  },
  {
   "cell_type": "code",
   "execution_count": 76,
   "metadata": {
    "collapsed": true
   },
   "outputs": [],
   "source": [
    "df_loan_data_basic_var.to_csv('df_loan_data_derived_var.csv', index=False)"
   ]
  },
  {
   "cell_type": "code",
   "execution_count": 60,
   "metadata": {
    "collapsed": true
   },
   "outputs": [],
   "source": [
    "# df_loan_data_final_set.to_csv('df_loan_data_final_set.csv', index=False)"
   ]
  },
  {
   "cell_type": "code",
   "execution_count": 61,
   "metadata": {
    "collapsed": true
   },
   "outputs": [],
   "source": [
    "# df_loan_data_final_set = pd.read_csv('df_loan_data_final_set.csv')"
   ]
  },
  {
   "cell_type": "code",
   "execution_count": 62,
   "metadata": {
    "collapsed": true,
    "scrolled": true
   },
   "outputs": [],
   "source": [
    "# df_loan_data_final_set"
   ]
  },
  {
   "cell_type": "code",
   "execution_count": null,
   "metadata": {
    "collapsed": true,
    "scrolled": true
   },
   "outputs": [],
   "source": []
  },
  {
   "cell_type": "code",
   "execution_count": null,
   "metadata": {
    "collapsed": true
   },
   "outputs": [],
   "source": []
  },
  {
   "cell_type": "code",
   "execution_count": null,
   "metadata": {
    "collapsed": true,
    "scrolled": true
   },
   "outputs": [],
   "source": [
    "# import pprint"
   ]
  },
  {
   "cell_type": "code",
   "execution_count": null,
   "metadata": {
    "collapsed": true,
    "scrolled": true
   },
   "outputs": [],
   "source": [
    "# col_explore = df_loan_data_final_set.columns.drop(['BRA_CODE','CUS_NUM','IS_BAD'])"
   ]
  },
  {
   "cell_type": "code",
   "execution_count": null,
   "metadata": {
    "scrolled": true
   },
   "outputs": [],
   "source": [
    "\n",
    "# for i, c in enumerate(col_explore):\n",
    "#     print i+1, '. ', c\n",
    "#     cur_dfx = pd.pivot_table(df_loan_data_final_set[[c,'IS_BAD','CUS_NUM']].groupby([c,'IS_BAD'], \n",
    "#                        as_index=False).agg({'CUS_NUM': 'count'}).rename(columns={'CUS_NUM':'CNT'}),\n",
    "#                        values='CNT', columns=['IS_BAD'], index=[c], aggfunc=np.sum, fill_value=0)\n",
    "    \n",
    "#     categorical_name = cur_dfx.index.name\n",
    "#     cur_dfx = cur_dfx.append(pd.Series(name=''), ignore_index=True)\n",
    "#     cur_dfx.columns.name = categorical_name\n",
    "    \n",
    "#     file_opt = 'wt'\n",
    "#     if i>0:\n",
    "#         file_opt='at'\n",
    "#     cur_dfx.to_csv('df_explore.csv', mode=file_opt)\n"
   ]
  },
  {
   "cell_type": "code",
   "execution_count": null,
   "metadata": {
    "collapsed": true
   },
   "outputs": [],
   "source": []
  },
  {
   "cell_type": "code",
   "execution_count": null,
   "metadata": {
    "collapsed": true
   },
   "outputs": [],
   "source": []
  },
  {
   "cell_type": "code",
   "execution_count": null,
   "metadata": {
    "collapsed": true,
    "scrolled": true
   },
   "outputs": [],
   "source": []
  },
  {
   "cell_type": "code",
   "execution_count": null,
   "metadata": {
    "collapsed": true,
    "scrolled": true
   },
   "outputs": [],
   "source": []
  },
  {
   "cell_type": "code",
   "execution_count": null,
   "metadata": {
    "collapsed": true
   },
   "outputs": [],
   "source": []
  },
  {
   "cell_type": "code",
   "execution_count": null,
   "metadata": {
    "collapsed": true
   },
   "outputs": [],
   "source": []
  },
  {
   "cell_type": "code",
   "execution_count": null,
   "metadata": {
    "collapsed": true
   },
   "outputs": [],
   "source": []
  },
  {
   "cell_type": "code",
   "execution_count": null,
   "metadata": {
    "collapsed": true
   },
   "outputs": [],
   "source": []
  },
  {
   "cell_type": "code",
   "execution_count": null,
   "metadata": {
    "collapsed": true
   },
   "outputs": [],
   "source": []
  }
 ],
 "metadata": {
  "kernelspec": {
   "display_name": "Python 2",
   "language": "python",
   "name": "python2"
  },
  "language_info": {
   "codemirror_mode": {
    "name": "ipython",
    "version": 2
   },
   "file_extension": ".py",
   "mimetype": "text/x-python",
   "name": "python",
   "nbconvert_exporter": "python",
   "pygments_lexer": "ipython2",
   "version": "2.7.13"
  }
 },
 "nbformat": 4,
 "nbformat_minor": 2
}
