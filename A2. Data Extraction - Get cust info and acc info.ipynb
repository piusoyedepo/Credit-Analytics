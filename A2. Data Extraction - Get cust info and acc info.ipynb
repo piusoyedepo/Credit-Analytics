{
 "cells": [
  {
   "cell_type": "code",
   "execution_count": null,
   "metadata": {
    "collapsed": true
   },
   "outputs": [],
   "source": []
  },
  {
   "cell_type": "code",
   "execution_count": 1,
   "metadata": {},
   "outputs": [
    {
     "name": "stdout",
     "output_type": "stream",
     "text": [
      "load libraries...\n"
     ]
    }
   ],
   "source": [
    "print 'load libraries...'"
   ]
  },
  {
   "cell_type": "code",
   "execution_count": 2,
   "metadata": {
    "collapsed": true
   },
   "outputs": [],
   "source": [
    "# Aim: Obtains the Retail Loan Customers' \"Account\" and \"Customer/Biodata\" Info "
   ]
  },
  {
   "cell_type": "code",
   "execution_count": 3,
   "metadata": {
    "collapsed": true
   },
   "outputs": [],
   "source": [
    "# Add path in order to load utility functions\n",
    "import sys\n",
    "sys.path.append(r\"N:\\18. Hot Spot\\Custom Modules\\Utils\")\n",
    "sys.path.append(r\"N:\\18. Hot Spot\\Custom Modules\\ETLMonthly\")"
   ]
  },
  {
   "cell_type": "code",
   "execution_count": null,
   "metadata": {
    "collapsed": true
   },
   "outputs": [],
   "source": []
  },
  {
   "cell_type": "code",
   "execution_count": 4,
   "metadata": {
    "collapsed": true
   },
   "outputs": [],
   "source": [
    "# setup environment and import libraries\n",
    "import os\n",
    "import re\n",
    "import datetime\n",
    "import time\n",
    "import getpass\n",
    "import pandas as pd\n",
    "import numpy as np\n",
    "from datetime import datetime, date\n",
    "from datetime import timedelta\n",
    "import calendar as cd\n",
    "from collections import OrderedDict\n",
    "path=r'C:\\ProgramData\\Anaconda2\\instantclient_12_2'\n",
    "os.environ['PATH']=path\n",
    "import cx_Oracle\n",
    "from sqlalchemy import create_engine\n",
    "import file_utils\n",
    "import db_utils\n",
    "import datetime_utils\n",
    "import config\n",
    "#set working directory\n",
    "os.chdir(config.working_dir)"
   ]
  },
  {
   "cell_type": "code",
   "execution_count": 5,
   "metadata": {
    "collapsed": true
   },
   "outputs": [],
   "source": [
    "# pd.set_option('display.max_columns', 500)"
   ]
  },
  {
   "cell_type": "code",
   "execution_count": 6,
   "metadata": {
    "collapsed": true
   },
   "outputs": [],
   "source": [
    "# db credentials authentication"
   ]
  },
  {
   "cell_type": "code",
   "execution_count": 7,
   "metadata": {},
   "outputs": [
    {
     "name": "stdout",
     "output_type": "stream",
     "text": [
      "connect to database...\n",
      "Testing Connection...\n",
      "Connection Succesful!\n"
     ]
    }
   ],
   "source": [
    "print 'connect to database...'\n",
    "conn_string = db_utils.db_connect(config.db_username,config.db_pwd)"
   ]
  },
  {
   "cell_type": "code",
   "execution_count": 8,
   "metadata": {
    "collapsed": true
   },
   "outputs": [],
   "source": [
    "mtch = re.match('.*@', conn_string)\n",
    "un, pwd = mtch.group().rstrip('@').split('/')"
   ]
  },
  {
   "cell_type": "code",
   "execution_count": null,
   "metadata": {
    "collapsed": true
   },
   "outputs": [],
   "source": []
  },
  {
   "cell_type": "markdown",
   "metadata": {},
   "source": [
    "#### Get Retail Customer Info"
   ]
  },
  {
   "cell_type": "code",
   "execution_count": 9,
   "metadata": {
    "scrolled": true
   },
   "outputs": [
    {
     "data": {
      "text/plain": [
       "154724"
      ]
     },
     "execution_count": 9,
     "metadata": {},
     "output_type": "execute_result"
    }
   ],
   "source": [
    "con = cx_Oracle.connect(conn_string)\n",
    "retail_loan_cust = pd.read_sql_query('select bra_code, cus_num from cs_retail_loan_cust', con)\n",
    "con.close()\n",
    "\n",
    "len(retail_loan_cust)"
   ]
  },
  {
   "cell_type": "code",
   "execution_count": null,
   "metadata": {
    "collapsed": true
   },
   "outputs": [],
   "source": []
  },
  {
   "cell_type": "code",
   "execution_count": null,
   "metadata": {
    "collapsed": true
   },
   "outputs": [],
   "source": []
  },
  {
   "cell_type": "markdown",
   "metadata": {},
   "source": [
    "#### Get Customers BioData"
   ]
  },
  {
   "cell_type": "code",
   "execution_count": 10,
   "metadata": {
    "scrolled": true
   },
   "outputs": [
    {
     "name": "stdout",
     "output_type": "stream",
     "text": [
      "get loan customers customer info...\n"
     ]
    }
   ],
   "source": [
    "print 'get loan customers customer info...'\n",
    "\n",
    "con = cx_Oracle.connect(conn_string)\n",
    "df_retail_loan_cust_info = pd.read_sql_query(r'''\n",
    "select a.bra_code, a.cus_num, a.date_open cus_date_open, a.cus_gender, b.edu_lvl,\n",
    "a.cus_marital_status, b.prof_code, c.city, c.state, a.bir_date, a.cust_grade_seg,\n",
    "(case when a.cust_grade_seg in (1,4) then 1 else 0 end) is_platinum_plus_hni,\n",
    "(case when a.cus_class = 7 then 1 else 0 end) is_pep\n",
    "from cs_retail_loan_cust l\n",
    "left join stg.src_customer_extd@exadata_new a\n",
    "on l.bra_code=a.bra_code and l.cus_num=a.cus_num\n",
    "left join stg.src_cust_pro b\n",
    "on l.bra_code=b.bra_code and l.cus_num=b.cus_num\n",
    "left join (select tab_ent, des_eng as city, con_val_2 as state from stg.src_text_tab where tab_id=190) c\n",
    "on a.city_loc_code=c.tab_ent\n",
    "''', con)\n",
    "con.close()"
   ]
  },
  {
   "cell_type": "code",
   "execution_count": 11,
   "metadata": {},
   "outputs": [
    {
     "name": "stdout",
     "output_type": "stream",
     "text": [
      "154724\n"
     ]
    }
   ],
   "source": [
    "print len(df_retail_loan_cust_info)"
   ]
  },
  {
   "cell_type": "code",
   "execution_count": 12,
   "metadata": {
    "collapsed": true
   },
   "outputs": [],
   "source": [
    "df_retail_loan_cust_info.to_csv('cs_retail_loan_cust_info.csv', index=False)"
   ]
  },
  {
   "cell_type": "code",
   "execution_count": null,
   "metadata": {
    "collapsed": true,
    "scrolled": true
   },
   "outputs": [],
   "source": []
  },
  {
   "cell_type": "code",
   "execution_count": null,
   "metadata": {
    "collapsed": true
   },
   "outputs": [],
   "source": []
  },
  {
   "cell_type": "markdown",
   "metadata": {},
   "source": [
    "#### Does customer has a business account"
   ]
  },
  {
   "cell_type": "code",
   "execution_count": 13,
   "metadata": {
    "collapsed": true,
    "scrolled": true
   },
   "outputs": [],
   "source": [
    "# is_director or has_business_account_with_gtb\n",
    "\n",
    "con = cx_Oracle.connect(conn_string)\n",
    "df_retail_loan_cust_has_biz_acc = pd.read_sql_query(r'''\n",
    "select distinct a.bra_code, a.cus_num, nvl2(c.bvn,1,0) has_biz_acc\n",
    "--c.bra_code biz_bra_code, c.cus_num biz_cus_num,\n",
    "--c.bvn, c.cus_name as business_name\n",
    "from cs_retail_loan_cust a\n",
    "left join\n",
    "(select bra_code, cus_num, cus_name, bvn\n",
    "from stg.src_customer_extd@exadata_new where cust_grade_seg in (1,2,3,4,5)) b\n",
    "on a.bra_code=b.bra_code and a.cus_num=b.cus_num\n",
    "left join\n",
    "(select bra_code, cus_num, cus_name, bvn\n",
    "from stg.src_customer_extd@exadata_new where cust_grade_seg>5\n",
    "and cus_name not like 'EST%') c\n",
    "on b.bvn=c.bvn''', con)\n",
    "con.close()"
   ]
  },
  {
   "cell_type": "code",
   "execution_count": 14,
   "metadata": {},
   "outputs": [
    {
     "name": "stdout",
     "output_type": "stream",
     "text": [
      "154724\n"
     ]
    }
   ],
   "source": [
    "print len(df_retail_loan_cust_has_biz_acc)"
   ]
  },
  {
   "cell_type": "code",
   "execution_count": 15,
   "metadata": {
    "collapsed": true
   },
   "outputs": [],
   "source": [
    "df_retail_loan_cust_has_biz_acc.to_csv('cs_retail_loan_cust_has_biz_acc_info.csv', index=False)"
   ]
  },
  {
   "cell_type": "code",
   "execution_count": null,
   "metadata": {
    "collapsed": true
   },
   "outputs": [],
   "source": []
  },
  {
   "cell_type": "code",
   "execution_count": null,
   "metadata": {
    "collapsed": true
   },
   "outputs": [],
   "source": []
  },
  {
   "cell_type": "markdown",
   "metadata": {
    "collapsed": true
   },
   "source": [
    "#### Create a table on database for retail loan customers' accounts - a month before the loan month"
   ]
  },
  {
   "cell_type": "code",
   "execution_count": 16,
   "metadata": {
    "collapsed": true
   },
   "outputs": [],
   "source": [
    "# The aaccount info picked per customer is as at dynamic periods.\n",
    "# Customer account info was subject to the previous month to the date they borrowed the last loan\n",
    "# i.e. a customer whose latest loan was on 22feb2016, will have account info as at 28feb2016 (month end)"
   ]
  },
  {
   "cell_type": "code",
   "execution_count": 17,
   "metadata": {
    "scrolled": true
   },
   "outputs": [
    {
     "name": "stdout",
     "output_type": "stream",
     "text": [
      "get accounts of retail loan customers...\n",
      "31Jan2018\n",
      "28Feb2018\n",
      "31Mar2018\n",
      "30Apr2018\n",
      "31May2018\n",
      "30Jun2018\n",
      "31Jul2018\n",
      "31Aug2018\n",
      "30Sep2018\n",
      "31Oct2018\n",
      "30Nov2018\n",
      "31Dec2018\n",
      "31Jan2019\n",
      "28Feb2019\n",
      "31Mar2019\n",
      "30Apr2019\n",
      "31May2019\n",
      "30Jun2019\n",
      "31Jul2019\n",
      "31Aug2019\n",
      "30Sep2019\n",
      "31Oct2019\n",
      "30Nov2019\n",
      "31Dec2019\n",
      "31Jan2020\n",
      "29Feb2020\n"
     ]
    }
   ],
   "source": [
    "print 'get accounts of retail loan customers...'\n",
    "\n",
    "cs_retail_loan_cust_accs = pd.DataFrame()\n",
    "\n",
    "for d_range in datetime_utils.first_last_day_of_months(datetime(2018,1,1), datetime.strptime(config.ref_date, '%d%b%Y')):\n",
    "    cur_reference_date = datetime.strftime(d_range[1],'%d%b%Y')\n",
    "    print cur_reference_date\n",
    "    \n",
    "    con = cx_Oracle.connect(conn_string)\n",
    "    cs_retail_loan_cust_accs_chunk = pd.read_sql_query('''\n",
    "    select a.date_open loan_date_open, add_months(last_day(a.date_open),-1) prior_month_to_loan,\n",
    "    b.reference_date, a.is_bad, b.bra_code, b.cus_num, b.cur_code, b.led_code,\n",
    "    b.sub_acct_code, b.date_open, \n",
    "    b.sta_code, b.date_sta_cha, b.lper_ave_bal, b.crnt_bal, b.pre_day_crnt_bal, b.cre_tra_num, b.deb_tra_num, \n",
    "    b.las_tra_date, eco_sec, type_of_dep, b.num_of_che_book\n",
    "    from cs_retail_loan_cust a\n",
    "    inner join stg.d_account_snapshot b\n",
    "    on a.bra_code=b.bra_code and a.cus_num=b.cus_num\n",
    "    and b.reference_date='{}'\n",
    "    '''.format(cur_reference_date),\n",
    "    con)\n",
    "    con.close()\n",
    "    \n",
    "    cs_retail_loan_cust_accs_chunk = cs_retail_loan_cust_accs_chunk[cs_retail_loan_cust_accs_chunk.REFERENCE_DATE== \\\n",
    "                                                                   cs_retail_loan_cust_accs_chunk.PRIOR_MONTH_TO_LOAN]\n",
    "    \n",
    "    cs_retail_loan_cust_accs = pd.concat([cs_retail_loan_cust_accs,cs_retail_loan_cust_accs_chunk])"
   ]
  },
  {
   "cell_type": "code",
   "execution_count": 25,
   "metadata": {
    "collapsed": true
   },
   "outputs": [],
   "source": [
    "cs_retail_loan_cust_accs.to_csv('cs_retail_loan_cust_accs.csv', index=False)"
   ]
  },
  {
   "cell_type": "code",
   "execution_count": 26,
   "metadata": {
    "collapsed": true
   },
   "outputs": [],
   "source": [
    "loan_cust_accs_numeric_cols = ['BRA_CODE','CUS_NUM','CUR_CODE','LED_CODE','SUB_ACCT_CODE','STA_CODE','CRE_TRA_NUM',\n",
    "                                 'DEB_TRA_NUM','TYPE_OF_DEP','NUM_OF_CHE_BOOK']\n",
    "\n",
    "loan_cust_accs_date_cols = ['LOAN_DATE_OPEN','PRIOR_MONTH_TO_LOAN','REFERENCE_DATE','DATE_OPEN','LAS_TRA_DATE','DATE_STA_CHA']\n",
    "\n",
    "cs_retail_loan_cust_accs[loan_cust_accs_numeric_cols] =  \\\n",
    "        cs_retail_loan_cust_accs[loan_cust_accs_numeric_cols].apply(pd.to_numeric)\n",
    "cs_retail_loan_cust_accs[loan_cust_accs_date_cols] = \\\n",
    "        cs_retail_loan_cust_accs[loan_cust_accs_date_cols].apply(pd.to_datetime, errors='coerce')\n"
   ]
  },
  {
   "cell_type": "code",
   "execution_count": 27,
   "metadata": {
    "collapsed": true
   },
   "outputs": [],
   "source": [
    "conn = create_engine('oracle+cx_oracle://{}:{}@dwdrscan.gtbank.com:1521/?service_name=odidb'.format(un, pwd))    \n",
    "cs_retail_loan_cust_accs.to_sql('cs_retail_loan_cust_accs', conn, index=False, if_exists='replace', chunksize=10000,\n",
    "                          dtype=db_utils.sqlcol(cs_retail_loan_cust_accs))"
   ]
  },
  {
   "cell_type": "code",
   "execution_count": null,
   "metadata": {
    "collapsed": true
   },
   "outputs": [],
   "source": []
  },
  {
   "cell_type": "code",
   "execution_count": null,
   "metadata": {
    "collapsed": true
   },
   "outputs": [],
   "source": []
  },
  {
   "cell_type": "markdown",
   "metadata": {},
   "source": [
    "#### Get Account Info for the Retail Loan Customers"
   ]
  },
  {
   "cell_type": "code",
   "execution_count": 10,
   "metadata": {},
   "outputs": [
    {
     "name": "stdout",
     "output_type": "stream",
     "text": [
      "get account info (derived info) of retail loan customers...\n"
     ]
    }
   ],
   "source": [
    "print 'get account info (derived info) of retail loan customers...'"
   ]
  },
  {
   "cell_type": "code",
   "execution_count": 11,
   "metadata": {
    "collapsed": true,
    "scrolled": true
   },
   "outputs": [],
   "source": [
    "# Extract the retail loan ledgers that will be considered during the analysis\n",
    "# retail_loan_ledgers = pd.read_excel(r\"..\\Docs\\Retail loan ledgers.xlsx\", sheetname=\"SQL Results\")['LED_CODE']\n",
    "retail_loan_ledgers = config.retail_loan_ledgers\n",
    "retail_loan_ledgers = ','.join([str(l) for l in retail_loan_ledgers])"
   ]
  },
  {
   "cell_type": "code",
   "execution_count": 12,
   "metadata": {
    "collapsed": true
   },
   "outputs": [],
   "source": [
    "dep_ledgers = '''1,2,4,6,8,9,13,16,23,24,26,51,55,57,59,60,61,65,67,\n",
    "68,69,82,5001,5012,5020,5022,5023,5024,5025,5027,5032,5033,5115,5116'''"
   ]
  },
  {
   "cell_type": "code",
   "execution_count": 13,
   "metadata": {
    "collapsed": true
   },
   "outputs": [],
   "source": [
    "call_time_tbills_ledgers = '55,57,5022,5023,3005,3006'"
   ]
  },
  {
   "cell_type": "code",
   "execution_count": 14,
   "metadata": {
    "collapsed": true
   },
   "outputs": [],
   "source": [
    "ijebu_ledgers = '55,57,5022,5023,3005,3006,5033,24'"
   ]
  },
  {
   "cell_type": "code",
   "execution_count": 15,
   "metadata": {},
   "outputs": [
    {
     "name": "stdout",
     "output_type": "stream",
     "text": [
      "1118,1121 \n",
      "\n",
      "1,2,4,6,8,9,13,16,23,24,26,51,55,57,59,60,61,65,67,\n",
      "68,69,82,5001,5012,5020,5022,5023,5024,5025,5027,5032,5033,5115,5116 \n",
      "\n",
      "55,57,5022,5023,3005,3006\n"
     ]
    }
   ],
   "source": [
    "print retail_loan_ledgers, '\\n\\n', dep_ledgers, '\\n\\n', call_time_tbills_ledgers"
   ]
  },
  {
   "cell_type": "code",
   "execution_count": 16,
   "metadata": {
    "scrolled": true
   },
   "outputs": [
    {
     "name": "stdout",
     "output_type": "stream",
     "text": [
      "154724\n"
     ]
    }
   ],
   "source": [
    "con = cx_Oracle.connect(conn_string)\n",
    "df_retail_loan_cust_acc_info = pd.read_sql_query(\n",
    "'''\n",
    "select a.bra_code, a.cus_num,\n",
    "count(distinct case when led_code in ({retail_loan_ledgers}) then led_code end) nbr_distinct_loan,\n",
    "count(case when led_code in ({retail_loan_ledgers}) then led_code end) nbr_loans,\n",
    "\n",
    "abs(nvl(sum(case when led_code in ({retail_loan_ledgers}) and pre_day_crnt_bal<0 then pre_day_crnt_bal end),0)) outstanding_debt,\n",
    "abs(nvl(sum(case when led_code in ({dep_ledgers}) and pre_day_crnt_bal<0 then pre_day_crnt_bal end),0)) due_debt,\n",
    "\n",
    "count(distinct case when led_code in ({retail_loan_ledgers}) and sta_code=1 then led_code end) nbr_distinct_active_loan,\n",
    "count(case when led_code in ({retail_loan_ledgers}) and sta_code=1 then led_code end) nbr_active_loans,\n",
    "\n",
    "count(distinct case when led_code in ({dep_ledgers}) then led_code end) nbr_distinct_dep,\n",
    "count(case when led_code in ({dep_ledgers}) then led_code end) nbr_deps,\n",
    "\n",
    "count(distinct case when led_code in ({call_time_tbills_ledgers}) then led_code end) nbr_distinct_call_time_tbills,\n",
    "count(case when led_code in ({call_time_tbills_ledgers}) then led_code end) nbr_call_time_tbills,\n",
    "\n",
    "count(distinct case when led_code in ({ijebu_ledgers}) then led_code end) nbr_distinct_ijebu_ledgers,\n",
    "count(case when led_code in ({ijebu_ledgers}) then led_code end) nbr_ijebu_ledgers,\n",
    "\n",
    "nvl(avg(case when date_sta_cha>'01jan1900' and sta_code=1 and led_code in ({dep_ledgers}) then 1 end),0) has_reactivated,\n",
    "nvl(avg(case when date_sta_cha>=trunc(add_months(a.date_open,-12),'month')\n",
    "    and sta_code=1 and led_code in ({dep_ledgers}) then 1 end),0) has_reactivated_12_mths,\n",
    "\n",
    "count(distinct case when cur_code>1 then 1 end) nbr_distinct_dom_acc,\n",
    "count(case when cur_code>1 then 1 end) nbr_dom_accs,\n",
    "\n",
    "nvl(sum(case when led_code in ({dep_ledgers}) and lper_ave_bal>0 then lper_ave_bal end),0) avg_bal_all_acc,\n",
    "nvl(sum(case when led_code in ({dep_ledgers}) and pre_day_crnt_bal>0 then pre_day_crnt_bal end),0) crnt_bal_all_acc\n",
    "\n",
    "from (select bra_code, cus_num, date_open from cs_retail_loan_cust) a\n",
    "left join cs_retail_loan_cust_accs b\n",
    "on a.bra_code=b.bra_code and a.cus_num=b.cus_num\n",
    "group by a.bra_code, a.cus_num\n",
    "'''.format(\n",
    "    retail_loan_ledgers=retail_loan_ledgers,\n",
    "    dep_ledgers=dep_ledgers,\n",
    "    call_time_tbills_ledgers=call_time_tbills_ledgers,\n",
    "    ijebu_ledgers=ijebu_ledgers), con)\n",
    "con.close()\n",
    "\n",
    "print len(df_retail_loan_cust_acc_info)"
   ]
  },
  {
   "cell_type": "code",
   "execution_count": 17,
   "metadata": {
    "collapsed": true
   },
   "outputs": [],
   "source": [
    "df_retail_loan_cust_acc_info.to_csv('cs_retail_loan_cust_acc_info.csv', index=False)"
   ]
  },
  {
   "cell_type": "code",
   "execution_count": null,
   "metadata": {
    "collapsed": true,
    "scrolled": true
   },
   "outputs": [],
   "source": []
  },
  {
   "cell_type": "code",
   "execution_count": null,
   "metadata": {
    "collapsed": true
   },
   "outputs": [],
   "source": []
  },
  {
   "cell_type": "code",
   "execution_count": null,
   "metadata": {
    "collapsed": true
   },
   "outputs": [],
   "source": []
  },
  {
   "cell_type": "code",
   "execution_count": null,
   "metadata": {
    "collapsed": true
   },
   "outputs": [],
   "source": []
  },
  {
   "cell_type": "code",
   "execution_count": null,
   "metadata": {
    "collapsed": true
   },
   "outputs": [],
   "source": []
  }
 ],
 "metadata": {
  "kernelspec": {
   "display_name": "Python 3",
   "language": "python",
   "name": "python3"
  },
  "language_info": {
   "codemirror_mode": {
    "name": "ipython",
    "version": 3
   },
   "file_extension": ".py",
   "mimetype": "text/x-python",
   "name": "python",
   "nbconvert_exporter": "python",
   "pygments_lexer": "ipython3",
   "version": "3.7.3"
  }
 },
 "nbformat": 4,
 "nbformat_minor": 2
}
