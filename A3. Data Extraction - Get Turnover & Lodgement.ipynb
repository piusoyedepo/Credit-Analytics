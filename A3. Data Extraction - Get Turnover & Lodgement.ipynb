{
 "cells": [
  {
   "cell_type": "code",
   "execution_count": null,
   "metadata": {
    "collapsed": true
   },
   "outputs": [],
   "source": []
  },
  {
   "cell_type": "code",
   "execution_count": 1,
   "metadata": {},
   "outputs": [
    {
     "name": "stdout",
     "output_type": "stream",
     "text": [
      "load libraries...\n"
     ]
    }
   ],
   "source": [
    "print 'load libraries...'"
   ]
  },
  {
   "cell_type": "code",
   "execution_count": 2,
   "metadata": {
    "collapsed": true
   },
   "outputs": [],
   "source": [
    "# Aim: "
   ]
  },
  {
   "cell_type": "code",
   "execution_count": 3,
   "metadata": {
    "collapsed": true
   },
   "outputs": [],
   "source": [
    "# Add path in order to load utility functions\n",
    "import sys\n",
    "sys.path.append(r\"N:\\18. Hot Spot\\Custom Modules\\Utils\")\n",
    "sys.path.append(r\"N:\\18. Hot Spot\\Custom Modules\\ETLMonthly\")"
   ]
  },
  {
   "cell_type": "code",
   "execution_count": 4,
   "metadata": {
    "collapsed": true
   },
   "outputs": [],
   "source": [
    "# setup environment and import libraries\n",
    "import os\n",
    "import re\n",
    "import datetime\n",
    "import time\n",
    "import getpass\n",
    "import pandas as pd\n",
    "import numpy as np\n",
    "from datetime import datetime, date\n",
    "from datetime import timedelta\n",
    "import calendar as cd\n",
    "from collections import OrderedDict\n",
    "path=r'C:\\ProgramData\\Anaconda2\\instantclient_12_2'\n",
    "os.environ['PATH']=path\n",
    "import cx_Oracle\n",
    "from sqlalchemy import create_engine\n",
    "import file_utils \n",
    "import db_utils\n",
    "import config\n",
    "#set working directory\n",
    "os.chdir(config.working_dir)"
   ]
  },
  {
   "cell_type": "code",
   "execution_count": 5,
   "metadata": {
    "collapsed": true
   },
   "outputs": [],
   "source": [
    "pd.set_option('display.max_columns', 500)"
   ]
  },
  {
   "cell_type": "code",
   "execution_count": 6,
   "metadata": {
    "collapsed": true
   },
   "outputs": [],
   "source": [
    "# db credentials authentication"
   ]
  },
  {
   "cell_type": "code",
   "execution_count": 7,
   "metadata": {},
   "outputs": [
    {
     "name": "stdout",
     "output_type": "stream",
     "text": [
      "connect to database...\n",
      "Testing Connection...\n",
      "Connection Succesful!\n"
     ]
    }
   ],
   "source": [
    "print 'connect to database...'\n",
    "conn_string = db_utils.db_connect(config.db_username,config.db_pwd)"
   ]
  },
  {
   "cell_type": "code",
   "execution_count": 8,
   "metadata": {
    "collapsed": true
   },
   "outputs": [],
   "source": [
    "mtch = re.match('.*@', conn_string)\n",
    "un, pwd = mtch.group().rstrip('@').split('/')"
   ]
  },
  {
   "cell_type": "code",
   "execution_count": null,
   "metadata": {
    "collapsed": true
   },
   "outputs": [],
   "source": []
  },
  {
   "cell_type": "code",
   "execution_count": 9,
   "metadata": {
    "collapsed": true
   },
   "outputs": [],
   "source": [
    "con = cx_Oracle.connect(conn_string)\n",
    "cs_retail_loan_cust_data = pd.read_sql_query('select * from cs_retail_loan_cust', con)\n",
    "con.close()"
   ]
  },
  {
   "cell_type": "code",
   "execution_count": null,
   "metadata": {
    "collapsed": true
   },
   "outputs": [],
   "source": []
  },
  {
   "cell_type": "code",
   "execution_count": 10,
   "metadata": {
    "scrolled": true
   },
   "outputs": [
    {
     "name": "stdout",
     "output_type": "stream",
     "text": [
      "1 .  N:\\10. Executive\\Original\\ETL\\in_out_flow\\17Feb2020.csv.gz\n",
      "2 .  N:\\10. Executive\\Original\\ETL\\in_out_flow\\28Feb2018.csv.gz\n",
      "3 .  N:\\10. Executive\\Original\\ETL\\in_out_flow\\28Feb2019.csv.gz\n",
      "4 .  N:\\10. Executive\\Original\\ETL\\in_out_flow\\30Apr2018.csv.gz\n",
      "5 .  N:\\10. Executive\\Original\\ETL\\in_out_flow\\30Apr2019.csv.gz\n",
      "6 .  N:\\10. Executive\\Original\\ETL\\in_out_flow\\30Jun2018.csv.gz\n",
      "7 .  N:\\10. Executive\\Original\\ETL\\in_out_flow\\30Jun2019.csv.gz\n",
      "8 .  N:\\10. Executive\\Original\\ETL\\in_out_flow\\30Nov2018.csv.gz\n",
      "9 .  N:\\10. Executive\\Original\\ETL\\in_out_flow\\30Nov2019.csv.gz\n",
      "10 .  N:\\10. Executive\\Original\\ETL\\in_out_flow\\30Sep2018.csv.gz\n",
      "11 .  N:\\10. Executive\\Original\\ETL\\in_out_flow\\30Sep2019.csv.gz\n",
      "12 .  N:\\10. Executive\\Original\\ETL\\in_out_flow\\31Aug2018.csv.gz\n",
      "13 .  N:\\10. Executive\\Original\\ETL\\in_out_flow\\31Aug2019.csv.gz\n",
      "14 .  N:\\10. Executive\\Original\\ETL\\in_out_flow\\31Dec2018.csv.gz\n",
      "15 .  N:\\10. Executive\\Original\\ETL\\in_out_flow\\31Dec2019.csv.gz\n",
      "16 .  N:\\10. Executive\\Original\\ETL\\in_out_flow\\31Jan2018.csv.gz\n",
      "17 .  N:\\10. Executive\\Original\\ETL\\in_out_flow\\31Jan2019.csv.gz\n",
      "18 .  N:\\10. Executive\\Original\\ETL\\in_out_flow\\31Jan2020.csv.gz\n",
      "19 .  N:\\10. Executive\\Original\\ETL\\in_out_flow\\31Jul2018.csv.gz\n",
      "20 .  N:\\10. Executive\\Original\\ETL\\in_out_flow\\31Jul2019.csv.gz\n",
      "21 .  N:\\10. Executive\\Original\\ETL\\in_out_flow\\31Mar2018.csv.gz\n",
      "22 .  N:\\10. Executive\\Original\\ETL\\in_out_flow\\31Mar2019.csv.gz\n",
      "23 .  N:\\10. Executive\\Original\\ETL\\in_out_flow\\31May2018.csv.gz\n",
      "24 .  N:\\10. Executive\\Original\\ETL\\in_out_flow\\31May2019.csv.gz\n",
      "25 .  N:\\10. Executive\\Original\\ETL\\in_out_flow\\31Oct2018.csv.gz\n",
      "26 .  N:\\10. Executive\\Original\\ETL\\in_out_flow\\31Oct2019.csv.gz\n"
     ]
    }
   ],
   "source": [
    "# get inflow/ouflow for retail loan customers only and insert into database\n",
    "\n",
    "for i, f in enumerate(file_utils.get_files(r\"N:\\10. Executive\\Original\\ETL\\in_out_flow\")):\n",
    "    print i+1, '. ', f\n",
    "    cur_df = file_utils.unzip(f)\n",
    "    cur_df = cs_retail_loan_cust_data[['BRA_CODE','CUS_NUM']].merge(\n",
    "        cur_df, on=['BRA_CODE','CUS_NUM'], how='inner').fillna(0)\n",
    "        \n",
    "    if_exists_var = 'append'\n",
    "    if i==0:\n",
    "        if_exists_var = 'replace'\n",
    "    \n",
    "    cur_df['REFERENCE_DATE'] = pd.to_datetime(cur_df['REFERENCE_DATE'], format=\"%d%b%Y\")\n",
    "    cur_df['CTRL_DATE'] = pd.to_datetime(cur_df['CTRL_DATE'], format=\"%d%b%Y\")\n",
    "    \n",
    "    conn = create_engine('oracle+cx_oracle://{}:{}@dwdrscan.gtbank.com:1521/?service_name=odidb'.format(un, pwd))    \n",
    "    cur_df.to_sql('cs_retail_loans_in_out_flow', conn, index=False, if_exists=if_exists_var, chunksize=10000,\n",
    "                                                                      dtype=db_utils.sqlcol(cur_df))\n",
    "    "
   ]
  },
  {
   "cell_type": "code",
   "execution_count": null,
   "metadata": {
    "collapsed": true
   },
   "outputs": [],
   "source": []
  },
  {
   "cell_type": "code",
   "execution_count": null,
   "metadata": {
    "collapsed": true
   },
   "outputs": [],
   "source": []
  },
  {
   "cell_type": "markdown",
   "metadata": {},
   "source": [
    "#### Summarize: Turnover/Lodgement for Retail Loan Customers, derive stanadard deviation and mean"
   ]
  },
  {
   "cell_type": "code",
   "execution_count": 11,
   "metadata": {
    "scrolled": true
   },
   "outputs": [
    {
     "name": "stdout",
     "output_type": "stream",
     "text": [
      "get inflow/outflow (12months) of retail loan customers...\n"
     ]
    }
   ],
   "source": [
    "print 'get inflow/outflow (12months) of retail loan customers...'\n",
    "\n",
    "con = cx_Oracle.connect(conn_string)\n",
    "df_retail_loan_cust_turn_lodge_count = pd.read_sql_query(\n",
    "'''\n",
    "select bra_code, cus_num,\n",
    "sum(lodgement_amount) sum_lodgement_amount,\n",
    "sum(lodgement_count) sum_lodgement_count,\n",
    "sum(turnover_amount) sum_turnover_amount,\n",
    "sum(turnover_count) sum_turnover_count,\n",
    "sqrt(sum(lodge_amt_std_compo)/avg(std_dev_n)) std_dev_lodgement_amount,\n",
    "sqrt(sum(lodge_cnt_std_compo)/avg(std_dev_n)) std_dev_lodgement_count,\n",
    "sqrt(sum(turn_amt_std_compo)/avg(std_dev_n)) std_dev_turnover_amount,\n",
    "sqrt(sum(turn_cnt_std_compo)/avg(std_dev_n)) std_dev_turnover_count,\n",
    "count(1) as months_active_in_12_mths,\n",
    "avg(case when months_with_gtb>12 then 12 else months_with_gtb end) months_with_gtb_in_12_mths\n",
    "from\n",
    "(select a.bra_code, a.cus_num, a.is_bad, aa.date_open cus_date_open,\n",
    "months_between(trunc(a.date_open,'month'), trunc(aa.date_open,'month')) months_with_gtb,\n",
    "b.reference_date,a.date_open,\n",
    "lodgement_amount, turnover_amount, lodgement_count, turnover_count,\n",
    "(case when months_between(a.date_open, aa.date_open)>12 then 12 else round(months_between(a.date_open, aa.date_open)) end) as std_dev_n,\n",
    "power(lodgement_amount - avg(lodgement_amount) over(partition by a.bra_code, a.cus_num), 2) lodge_amt_std_compo,\n",
    "power(lodgement_count - avg(lodgement_count) over(partition by a.bra_code, a.cus_num), 2) lodge_cnt_std_compo,\n",
    "power(turnover_amount - avg(turnover_amount) over(partition by a.bra_code, a.cus_num), 2) turn_amt_std_compo,\n",
    "power(turnover_count - avg(turnover_count) over(partition by a.bra_code, a.cus_num), 2) turn_cnt_std_compo\n",
    "from\n",
    "cs_retail_loan_cust a\n",
    "inner join stg.src_customer aa\n",
    "on a.bra_code=aa.bra_code and a.cus_num=aa.cus_num\n",
    "inner join cs_retail_loans_in_out_flow b\n",
    "on a.bra_code=b.bra_code and a.cus_num=b.cus_num\n",
    "and b.reference_date between trunc(add_months(a.date_open, -12),'month') and trunc(add_months(a.date_open, -1),'month')\n",
    ")\n",
    "group by bra_code, cus_num''', con)\n",
    "con.close()"
   ]
  },
  {
   "cell_type": "code",
   "execution_count": null,
   "metadata": {
    "collapsed": true,
    "scrolled": true
   },
   "outputs": [],
   "source": []
  },
  {
   "cell_type": "code",
   "execution_count": null,
   "metadata": {
    "collapsed": true,
    "scrolled": true
   },
   "outputs": [],
   "source": []
  },
  {
   "cell_type": "code",
   "execution_count": 12,
   "metadata": {
    "collapsed": true
   },
   "outputs": [],
   "source": [
    "# further computation"
   ]
  },
  {
   "cell_type": "code",
   "execution_count": 13,
   "metadata": {},
   "outputs": [],
   "source": [
    "df_retail_loan_cust_turn_lodge_count['AVG_LODGEMENT_AMOUNT'] = \\\n",
    "df_retail_loan_cust_turn_lodge_count['SUM_LODGEMENT_AMOUNT']/df_retail_loan_cust_turn_lodge_count['MONTHS_WITH_GTB_IN_12_MTHS']\n",
    "\n",
    "df_retail_loan_cust_turn_lodge_count['AVG_LODGEMENT_COUNT'] = \\\n",
    "df_retail_loan_cust_turn_lodge_count['SUM_LODGEMENT_COUNT']/df_retail_loan_cust_turn_lodge_count['MONTHS_WITH_GTB_IN_12_MTHS']\n",
    "\n",
    "df_retail_loan_cust_turn_lodge_count['AVG_TURNOVER_AMOUNT'] = \\\n",
    "df_retail_loan_cust_turn_lodge_count['SUM_TURNOVER_AMOUNT']/df_retail_loan_cust_turn_lodge_count['MONTHS_WITH_GTB_IN_12_MTHS']\n",
    "\n",
    "df_retail_loan_cust_turn_lodge_count['AVG_TURNOVER_COUNT'] = \\\n",
    "df_retail_loan_cust_turn_lodge_count['SUM_TURNOVER_COUNT']/df_retail_loan_cust_turn_lodge_count['MONTHS_WITH_GTB_IN_12_MTHS']\n"
   ]
  },
  {
   "cell_type": "code",
   "execution_count": 14,
   "metadata": {
    "collapsed": true,
    "scrolled": true
   },
   "outputs": [],
   "source": [
    "df_retail_loan_cust_turn_lodge_count['IN_OUT_AMT_RATIO'] = \\\n",
    "df_retail_loan_cust_turn_lodge_count['SUM_LODGEMENT_AMOUNT']/df_retail_loan_cust_turn_lodge_count['SUM_TURNOVER_AMOUNT']\n",
    "\n",
    "df_retail_loan_cust_turn_lodge_count['IN_OUT_CNT_RATIO'] = \\\n",
    "df_retail_loan_cust_turn_lodge_count['SUM_LODGEMENT_COUNT']/df_retail_loan_cust_turn_lodge_count['SUM_TURNOVER_COUNT']\n",
    "\n",
    "df_retail_loan_cust_turn_lodge_count['COV_TURNOVER_AMT']= \\\n",
    "df_retail_loan_cust_turn_lodge_count['STD_DEV_TURNOVER_AMOUNT']/df_retail_loan_cust_turn_lodge_count['AVG_TURNOVER_AMOUNT']\n",
    "\n",
    "df_retail_loan_cust_turn_lodge_count['COV_LODGEMENT_AMT']=\\\n",
    "df_retail_loan_cust_turn_lodge_count['STD_DEV_LODGEMENT_AMOUNT']/df_retail_loan_cust_turn_lodge_count['AVG_LODGEMENT_AMOUNT']\n",
    "\n",
    "df_retail_loan_cust_turn_lodge_count['COV_TURNOVER_CNT']=\\\n",
    "df_retail_loan_cust_turn_lodge_count['STD_DEV_TURNOVER_COUNT']/df_retail_loan_cust_turn_lodge_count['AVG_TURNOVER_COUNT']\n",
    "\n",
    "df_retail_loan_cust_turn_lodge_count['COV_LODGEMENT_CNT']=\\\n",
    "df_retail_loan_cust_turn_lodge_count['STD_DEV_LODGEMENT_COUNT']/df_retail_loan_cust_turn_lodge_count['AVG_LODGEMENT_COUNT']\n",
    "\n",
    "df_retail_loan_cust_turn_lodge_count['MONTH_ACTIVE_RATIO']=\\\n",
    "df_retail_loan_cust_turn_lodge_count['MONTHS_ACTIVE_IN_12_MTHS']/df_retail_loan_cust_turn_lodge_count['MONTHS_WITH_GTB_IN_12_MTHS']"
   ]
  },
  {
   "cell_type": "code",
   "execution_count": 15,
   "metadata": {
    "collapsed": true,
    "scrolled": true
   },
   "outputs": [],
   "source": [
    "# df_retail_loan_cust_turn_lodge_count[df_retail_loan_cust_turn_lodge_count['MONTH_ACTIVE_RATIO']<0.9].IS_BAD.value_counts()"
   ]
  },
  {
   "cell_type": "code",
   "execution_count": 16,
   "metadata": {
    "collapsed": true,
    "scrolled": true
   },
   "outputs": [],
   "source": [
    "df_retail_loan_cust_turn_lodge_count.replace([np.inf,np.nan], 0, inplace=True)"
   ]
  },
  {
   "cell_type": "code",
   "execution_count": 17,
   "metadata": {
    "collapsed": true,
    "scrolled": true
   },
   "outputs": [],
   "source": [
    "df_retail_loan_cust_turn_lodge_count.to_csv('cs_retail_loan_cust_turn_lodge_count_info.csv', index=False)"
   ]
  },
  {
   "cell_type": "code",
   "execution_count": null,
   "metadata": {
    "collapsed": true,
    "scrolled": true
   },
   "outputs": [],
   "source": []
  },
  {
   "cell_type": "code",
   "execution_count": null,
   "metadata": {
    "collapsed": true
   },
   "outputs": [],
   "source": []
  },
  {
   "cell_type": "code",
   "execution_count": null,
   "metadata": {
    "collapsed": true
   },
   "outputs": [],
   "source": []
  },
  {
   "cell_type": "code",
   "execution_count": null,
   "metadata": {
    "collapsed": true
   },
   "outputs": [],
   "source": []
  },
  {
   "cell_type": "code",
   "execution_count": null,
   "metadata": {
    "collapsed": true
   },
   "outputs": [],
   "source": []
  }
 ],
 "metadata": {
  "kernelspec": {
   "display_name": "Python 2",
   "language": "python",
   "name": "python2"
  },
  "language_info": {
   "codemirror_mode": {
    "name": "ipython",
    "version": 2
   },
   "file_extension": ".py",
   "mimetype": "text/x-python",
   "name": "python",
   "nbconvert_exporter": "python",
   "pygments_lexer": "ipython2",
   "version": "2.7.13"
  }
 },
 "nbformat": 4,
 "nbformat_minor": 2
}
