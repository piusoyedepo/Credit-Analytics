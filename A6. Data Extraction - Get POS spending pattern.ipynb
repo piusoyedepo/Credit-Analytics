{
 "cells": [
  {
   "cell_type": "code",
   "execution_count": null,
   "metadata": {
    "collapsed": true
   },
   "outputs": [],
   "source": []
  },
  {
   "cell_type": "code",
   "execution_count": 1,
   "metadata": {},
   "outputs": [
    {
     "name": "stdout",
     "output_type": "stream",
     "text": [
      "load libraries...\n"
     ]
    }
   ],
   "source": [
    "print 'load libraries...'"
   ]
  },
  {
   "cell_type": "code",
   "execution_count": 2,
   "metadata": {
    "collapsed": true
   },
   "outputs": [],
   "source": [
    "# Aim: "
   ]
  },
  {
   "cell_type": "code",
   "execution_count": 3,
   "metadata": {
    "collapsed": true
   },
   "outputs": [],
   "source": [
    "# Add path in order to load utility functions\n",
    "import sys\n",
    "sys.path.append(r\"N:\\18. Hot Spot\\Custom Modules\\Utils\")\n",
    "sys.path.append(r\"N:\\18. Hot Spot\\Custom Modules\\ETLMonthly\")"
   ]
  },
  {
   "cell_type": "code",
   "execution_count": 4,
   "metadata": {
    "collapsed": true
   },
   "outputs": [],
   "source": [
    "# setup environment and import libraries\n",
    "import os\n",
    "import re\n",
    "import datetime\n",
    "import time\n",
    "import getpass\n",
    "import pandas as pd\n",
    "import numpy as np\n",
    "from datetime import datetime, date\n",
    "from datetime import timedelta\n",
    "import calendar as cd\n",
    "from collections import OrderedDict\n",
    "path=r'C:\\ProgramData\\Anaconda2\\instantclient_12_2'\n",
    "os.environ['PATH']=path\n",
    "import cx_Oracle\n",
    "import file_utils\n",
    "import db_utils\n",
    "import config\n",
    "#set working directory\n",
    "os.chdir(config.working_dir)"
   ]
  },
  {
   "cell_type": "code",
   "execution_count": 5,
   "metadata": {
    "collapsed": true
   },
   "outputs": [],
   "source": [
    "pd.set_option('display.max_columns', 500)"
   ]
  },
  {
   "cell_type": "code",
   "execution_count": 6,
   "metadata": {
    "collapsed": true
   },
   "outputs": [],
   "source": [
    "# db credentials authentication"
   ]
  },
  {
   "cell_type": "code",
   "execution_count": 7,
   "metadata": {},
   "outputs": [
    {
     "name": "stdout",
     "output_type": "stream",
     "text": [
      "connect to database...\n",
      "Testing Connection...\n",
      "Connection Succesful!\n"
     ]
    }
   ],
   "source": [
    "print 'connect to database...'\n",
    "conn_string = db_utils.db_connect(config.db_username,config.db_pwd)"
   ]
  },
  {
   "cell_type": "code",
   "execution_count": 8,
   "metadata": {
    "collapsed": true
   },
   "outputs": [],
   "source": [
    "mtch = re.match('.*@', conn_string)\n",
    "un, pwd = mtch.group().rstrip('@').split('/')"
   ]
  },
  {
   "cell_type": "code",
   "execution_count": null,
   "metadata": {
    "collapsed": true
   },
   "outputs": [],
   "source": []
  },
  {
   "cell_type": "code",
   "execution_count": null,
   "metadata": {
    "collapsed": true
   },
   "outputs": [],
   "source": []
  },
  {
   "cell_type": "code",
   "execution_count": 9,
   "metadata": {},
   "outputs": [
    {
     "data": {
      "text/plain": [
       "154724"
      ]
     },
     "execution_count": 9,
     "metadata": {},
     "output_type": "execute_result"
    }
   ],
   "source": [
    "con = cx_Oracle.connect(conn_string)\n",
    "df_cs_retail_loan_cust = pd.read_sql_query(r'select bra_code, cus_num from cs_retail_loan_cust', con)\n",
    "con.close()\n",
    "len(df_cs_retail_loan_cust)"
   ]
  },
  {
   "cell_type": "code",
   "execution_count": null,
   "metadata": {},
   "outputs": [],
   "source": []
  },
  {
   "cell_type": "code",
   "execution_count": null,
   "metadata": {
    "collapsed": true
   },
   "outputs": [],
   "source": []
  },
  {
   "cell_type": "code",
   "execution_count": 10,
   "metadata": {},
   "outputs": [
    {
     "name": "stdout",
     "output_type": "stream",
     "text": [
      "get POS trxns of retail loan customers...\n",
      "Creating New Table...\n",
      "New table records:  3992025\n"
     ]
    }
   ],
   "source": [
    "print 'get POS trxns of retail loan customers...'\n",
    "\n",
    "db_utils.create_table_from_selectquery(\n",
    "'cs_retail_loan_cust_pos_trxns',\n",
    "'''\n",
    "select bra_code, cus_num, cur_code, led_code, sub_acct_code, is_bad, trxn_hour, tran_amount_rsp,\n",
    "rsp_code_rsp, merchant_type, card_acceptor_id_code, trxn_day, trxn_date,\n",
    "(case when trxn_hour between 0 and 5 then '0-5'\n",
    "when trxn_hour between 6 and 11 then '6-11'\n",
    "when trxn_hour between 12 and 16 then '12-16'\n",
    "when trxn_hour between 17 and 20 then '17-20'\n",
    "when trxn_hour between 21 and 23 then '21-23' end) as trxn_hour_period\n",
    "\n",
    "from\n",
    "(\n",
    "\n",
    "select a.*, b.*, to_number(to_char(to_timestamp(datetime_req),'HH24')) trxn_hour,\n",
    "to_char(to_timestamp(datetime_req),'D') trxn_day, trunc(to_timestamp(datetime_req)) trxn_date\n",
    "from cs_retail_loan_cust a\n",
    "inner join\n",
    "(select * from SRC_FEP_LOCAL_POS_TRANX_2018 where to_timestamp(datetime_req) between '01jan2018' and '30dec2018') b\n",
    "on a.bra_code||'0'||a.cus_num = substr(from_account_id,1,10)\n",
    "and to_timestamp(b.datetime_req) between trunc(add_months(a.date_open, -12),'month')\n",
    "and trunc(add_months(a.date_open, -1),'month')\n",
    "\n",
    "union all\n",
    "\n",
    "select a.*, b.*, to_number(to_char(to_timestamp(datetime_req),'HH24'))trxn_hour, \n",
    "to_char(to_timestamp(datetime_req),'D') trxn_day, trunc(to_timestamp(datetime_req)) trxn_date\n",
    "from cs_retail_loan_cust a\n",
    "inner join\n",
    "(select * from SRC_FEP_LOCAL_POS_TRANX_2019 where to_timestamp(datetime_req) >= '01jan2019') b\n",
    "on a.bra_code||'0'||a.cus_num = substr(from_account_id,1,10)\n",
    "and to_timestamp(b.datetime_req) between trunc(add_months(a.date_open, -12),'month')\n",
    "and trunc(add_months(a.date_open, -1),'month')\n",
    ")\n",
    "''',\n",
    "conn_string, drop_if_exists=True)"
   ]
  },
  {
   "cell_type": "code",
   "execution_count": null,
   "metadata": {
    "collapsed": true
   },
   "outputs": [],
   "source": []
  },
  {
   "cell_type": "code",
   "execution_count": null,
   "metadata": {
    "collapsed": true,
    "scrolled": true
   },
   "outputs": [],
   "source": []
  },
  {
   "cell_type": "code",
   "execution_count": 11,
   "metadata": {
    "collapsed": true
   },
   "outputs": [],
   "source": [
    "con = cx_Oracle.connect(conn_string)\n",
    "pos_trxns_info = pd.read_sql_query('''\n",
    "select bra_code, cus_num, sum(tran_amount_rsp) pos_tra_amt, count(1) pos_tra_count,\n",
    "count(case when trxn_hour_period='0-5' then 1 end ) pos_tra_count_0_5,\n",
    "count(distinct case when trxn_hour_period='0-5' then trxn_date end ) pos_tra_day_count_0_5,\n",
    "count(case when trxn_hour_period='6-11' then 1 end ) pos_tra_count_6_11,\n",
    "count(distinct case when trxn_hour_period='6-11' then trxn_date end ) pos_tra_day_count_6_11,\n",
    "count(case when trxn_hour_period='12-16' then 1 end ) pos_tra_count_12_16,\n",
    "count(distinct case when trxn_hour_period='12-16' then trxn_date end ) pos_tra_day_count_12_16,\n",
    "count(case when trxn_hour_period='17-20' then 1 end ) pos_tra_count_17_20,\n",
    "count(distinct case when trxn_hour_period='17-20' then trxn_date end ) pos_tra_day_count_17_20,\n",
    "count(case when trxn_hour_period='21-23' then 1 end ) pos_tra_count_21_23,\n",
    "count(distinct case when trxn_hour_period='21-23' then trxn_date end ) pos_tra_day_count_21_23\n",
    "from data_analyst.cs_retail_loan_cust_pos_trxns\n",
    "group by bra_code, cus_num\n",
    "''', con)\n",
    "con.close()"
   ]
  },
  {
   "cell_type": "code",
   "execution_count": null,
   "metadata": {
    "collapsed": true
   },
   "outputs": [],
   "source": []
  },
  {
   "cell_type": "code",
   "execution_count": 14,
   "metadata": {
    "collapsed": true,
    "scrolled": true
   },
   "outputs": [],
   "source": [
    "# df_cs_retail_loan_cust.merge(pos_trxns_info, on=['BRA_CODE','CUS_NUM'],\n",
    "#                              how='left').fillna(0).to_csv('cs_pos_trxns_info.csv', index=False)"
   ]
  },
  {
   "cell_type": "code",
   "execution_count": null,
   "metadata": {
    "collapsed": true
   },
   "outputs": [],
   "source": []
  },
  {
   "cell_type": "code",
   "execution_count": 15,
   "metadata": {
    "scrolled": true
   },
   "outputs": [],
   "source": [
    "pos_trxns_info.to_csv('cs_pos_trxns_info.csv', index=False)"
   ]
  },
  {
   "cell_type": "code",
   "execution_count": null,
   "metadata": {
    "collapsed": true
   },
   "outputs": [],
   "source": []
  },
  {
   "cell_type": "code",
   "execution_count": null,
   "metadata": {
    "collapsed": true
   },
   "outputs": [],
   "source": []
  },
  {
   "cell_type": "code",
   "execution_count": null,
   "metadata": {
    "collapsed": true
   },
   "outputs": [],
   "source": []
  },
  {
   "cell_type": "code",
   "execution_count": null,
   "metadata": {
    "collapsed": true
   },
   "outputs": [],
   "source": []
  }
 ],
 "metadata": {
  "kernelspec": {
   "display_name": "Python 2",
   "language": "python",
   "name": "python2"
  },
  "language_info": {
   "codemirror_mode": {
    "name": "ipython",
    "version": 2
   },
   "file_extension": ".py",
   "mimetype": "text/x-python",
   "name": "python",
   "nbconvert_exporter": "python",
   "pygments_lexer": "ipython2",
   "version": "2.7.13"
  }
 },
 "nbformat": 4,
 "nbformat_minor": 2
}
