{
 "cells": [
  {
   "cell_type": "code",
   "execution_count": null,
   "metadata": {
    "collapsed": true
   },
   "outputs": [],
   "source": []
  },
  {
   "cell_type": "code",
   "execution_count": 1,
   "metadata": {},
   "outputs": [
    {
     "name": "stdout",
     "output_type": "stream",
     "text": [
      "load libraries...\n"
     ]
    }
   ],
   "source": [
    "print 'load libraries...'"
   ]
  },
  {
   "cell_type": "code",
   "execution_count": 2,
   "metadata": {
    "collapsed": true
   },
   "outputs": [],
   "source": [
    "# Aim: "
   ]
  },
  {
   "cell_type": "code",
   "execution_count": 3,
   "metadata": {
    "collapsed": true
   },
   "outputs": [],
   "source": [
    "# Add path in order to load utility functions\n",
    "import sys\n",
    "sys.path.append(r\"N:\\18. Hot Spot\\Custom Modules\\Utils\")\n",
    "sys.path.append(r\"N:\\18. Hot Spot\\Custom Modules\\ETLMonthly\")"
   ]
  },
  {
   "cell_type": "code",
   "execution_count": 4,
   "metadata": {
    "collapsed": true
   },
   "outputs": [],
   "source": [
    "# setup environment and import libraries\n",
    "import os\n",
    "import re\n",
    "import datetime\n",
    "import time\n",
    "import getpass\n",
    "import pandas as pd\n",
    "import numpy as np\n",
    "import networkx as nx\n",
    "from datetime import datetime, date\n",
    "from datetime import timedelta\n",
    "import calendar as cd\n",
    "from collections import OrderedDict\n",
    "from collections import Counter\n",
    "path=r'C:\\ProgramData\\Anaconda2\\instantclient_12_2'\n",
    "os.environ['PATH']=path\n",
    "import cx_Oracle\n",
    "from sqlalchemy import create_engine\n",
    "import file_utils\n",
    "import db_utils\n",
    "import config\n",
    "#set working directory\n",
    "os.chdir(config.working_dir)"
   ]
  },
  {
   "cell_type": "code",
   "execution_count": 5,
   "metadata": {
    "collapsed": true
   },
   "outputs": [],
   "source": [
    "# db credentials authentication"
   ]
  },
  {
   "cell_type": "code",
   "execution_count": 6,
   "metadata": {},
   "outputs": [
    {
     "name": "stdout",
     "output_type": "stream",
     "text": [
      "connect to database...\n",
      "Testing Connection...\n",
      "Connection Succesful!\n"
     ]
    }
   ],
   "source": [
    "print 'connect to database...'\n",
    "conn_string = db_utils.db_connect(config.db_username,config.db_pwd)"
   ]
  },
  {
   "cell_type": "code",
   "execution_count": 7,
   "metadata": {
    "collapsed": true
   },
   "outputs": [],
   "source": [
    "mtch = re.match('.*@', conn_string)\n",
    "un, pwd = mtch.group().rstrip('@').split('/')"
   ]
  },
  {
   "cell_type": "code",
   "execution_count": null,
   "metadata": {
    "collapsed": true
   },
   "outputs": [],
   "source": []
  },
  {
   "cell_type": "code",
   "execution_count": null,
   "metadata": {
    "collapsed": true
   },
   "outputs": [],
   "source": []
  },
  {
   "cell_type": "code",
   "execution_count": 8,
   "metadata": {
    "collapsed": true,
    "scrolled": true
   },
   "outputs": [],
   "source": [
    "con = cx_Oracle.connect(conn_string)\n",
    "cs_retail_loan_cust_data = pd.read_sql_query('select * from cs_retail_loan_cust', con)\n",
    "con.close()"
   ]
  },
  {
   "cell_type": "code",
   "execution_count": null,
   "metadata": {
    "collapsed": true
   },
   "outputs": [],
   "source": []
  },
  {
   "cell_type": "code",
   "execution_count": 9,
   "metadata": {
    "scrolled": true
   },
   "outputs": [
    {
     "name": "stdout",
     "output_type": "stream",
     "text": [
      "1 .  N:\\10. Executive\\Original\\ETL\\in_branch_trxn\\17Feb2020.csv.gz\n",
      "2 .  N:\\10. Executive\\Original\\ETL\\in_branch_trxn\\28Feb2018.csv.gz\n",
      "3 .  N:\\10. Executive\\Original\\ETL\\in_branch_trxn\\28Feb2019.csv.gz\n",
      "4 .  N:\\10. Executive\\Original\\ETL\\in_branch_trxn\\30Apr2018.csv.gz\n",
      "5 .  N:\\10. Executive\\Original\\ETL\\in_branch_trxn\\30Apr2019.csv.gz\n",
      "6 .  N:\\10. Executive\\Original\\ETL\\in_branch_trxn\\30Jun2018.csv.gz\n",
      "7 .  N:\\10. Executive\\Original\\ETL\\in_branch_trxn\\30Jun2019.csv.gz\n",
      "8 .  N:\\10. Executive\\Original\\ETL\\in_branch_trxn\\30Nov2018.csv.gz\n",
      "9 .  N:\\10. Executive\\Original\\ETL\\in_branch_trxn\\30Nov2019.csv.gz\n",
      "10 .  N:\\10. Executive\\Original\\ETL\\in_branch_trxn\\30Sep2018.csv.gz\n",
      "11 .  N:\\10. Executive\\Original\\ETL\\in_branch_trxn\\30Sep2019.csv.gz\n",
      "12 .  N:\\10. Executive\\Original\\ETL\\in_branch_trxn\\31Aug2018.csv.gz\n",
      "13 .  N:\\10. Executive\\Original\\ETL\\in_branch_trxn\\31Aug2019.csv.gz\n",
      "14 .  N:\\10. Executive\\Original\\ETL\\in_branch_trxn\\31Dec2018.csv.gz\n",
      "15 .  N:\\10. Executive\\Original\\ETL\\in_branch_trxn\\31Dec2019.csv.gz\n",
      "16 .  N:\\10. Executive\\Original\\ETL\\in_branch_trxn\\31Jan2018.csv.gz\n",
      "17 .  N:\\10. Executive\\Original\\ETL\\in_branch_trxn\\31Jan2019.csv.gz\n",
      "18 .  N:\\10. Executive\\Original\\ETL\\in_branch_trxn\\31Jan2020.csv.gz\n",
      "19 .  N:\\10. Executive\\Original\\ETL\\in_branch_trxn\\31Jul2018.csv.gz\n",
      "20 .  N:\\10. Executive\\Original\\ETL\\in_branch_trxn\\31Jul2019.csv.gz\n",
      "21 .  N:\\10. Executive\\Original\\ETL\\in_branch_trxn\\31Mar2018.csv.gz\n",
      "22 .  N:\\10. Executive\\Original\\ETL\\in_branch_trxn\\31Mar2019.csv.gz\n",
      "23 .  N:\\10. Executive\\Original\\ETL\\in_branch_trxn\\31May2018.csv.gz\n",
      "24 .  N:\\10. Executive\\Original\\ETL\\in_branch_trxn\\31May2019.csv.gz\n",
      "25 .  N:\\10. Executive\\Original\\ETL\\in_branch_trxn\\31Oct2018.csv.gz\n",
      "26 .  N:\\10. Executive\\Original\\ETL\\in_branch_trxn\\31Oct2019.csv.gz\n"
     ]
    }
   ],
   "source": [
    "# get for retail loan customers only and insert into database\n",
    "\n",
    "for i, f in enumerate(file_utils.get_files(r\"N:\\10. Executive\\Original\\ETL\\in_branch_trxn\")):\n",
    "    print i+1, '. ', f\n",
    "    cur_df = file_utils.unzip(f)\n",
    "    cur_df = cs_retail_loan_cust_data[['BRA_CODE','CUS_NUM']].merge(\n",
    "        cur_df, on=['BRA_CODE','CUS_NUM'], how='inner').fillna(0)\n",
    "        \n",
    "    if_exists_var = 'append'\n",
    "    if i==0:\n",
    "        if_exists_var = 'replace'\n",
    "    \n",
    "    cur_df['REFERENCE_DATE'] = pd.to_datetime(cur_df['REFERENCE_DATE'], format=\"%d%b%Y\")\n",
    "    cur_df['CTRL_DATE'] = pd.to_datetime(cur_df['CTRL_DATE'], format=\"%d%b%Y\")\n",
    "    \n",
    "    conn = create_engine('oracle+cx_oracle://{}:{}@dwdrscan.gtbank.com:1521/?service_name=odidb'.format(un, pwd))    \n",
    "    cur_df.to_sql('cs_cash_wdr', conn, index=False, if_exists=if_exists_var, chunksize=10000,\n",
    "                                                                      dtype=db_utils.sqlcol(cur_df))\n",
    "    del cur_df"
   ]
  },
  {
   "cell_type": "code",
   "execution_count": null,
   "metadata": {
    "collapsed": true
   },
   "outputs": [],
   "source": []
  },
  {
   "cell_type": "code",
   "execution_count": 10,
   "metadata": {
    "collapsed": true,
    "scrolled": true
   },
   "outputs": [],
   "source": [
    "con = cx_Oracle.connect(conn_string)\n",
    "df_retail_loan_cust_in_branch_info = pd.read_sql_query(r'''\n",
    "select a.bra_code, a.cus_num, nvl(sum(cash_wdr_cnt)+sum(fastrack_cash_wdr_cnt),0) cash_wdr_cnt,\n",
    "nvl(sum(clearing_wdr_cnt),0) cheques_issued\n",
    "from cs_retail_loan_cust a\n",
    "left join cs_cash_wdr b\n",
    "on a.bra_code=b.bra_code and a.cus_num=b.cus_num\n",
    "and b.reference_date between trunc(add_months(a.date_open, -12),'month') and trunc(add_months(a.date_open, -1),'month')\n",
    "group by a.bra_code, a.cus_num\n",
    "''', con)\n",
    "con.close()"
   ]
  },
  {
   "cell_type": "code",
   "execution_count": 11,
   "metadata": {},
   "outputs": [
    {
     "name": "stdout",
     "output_type": "stream",
     "text": [
      "154724\n"
     ]
    }
   ],
   "source": [
    "print len(df_retail_loan_cust_in_branch_info)\n",
    "# old: 12562"
   ]
  },
  {
   "cell_type": "code",
   "execution_count": 12,
   "metadata": {
    "collapsed": true
   },
   "outputs": [],
   "source": [
    "# df_retail_loan_cust_in_branch_info[df_retail_loan_cust_in_branch_info.CHEQUES_ISSUED>0].IS_BAD.value_counts()"
   ]
  },
  {
   "cell_type": "code",
   "execution_count": null,
   "metadata": {
    "collapsed": true
   },
   "outputs": [],
   "source": []
  },
  {
   "cell_type": "code",
   "execution_count": 13,
   "metadata": {
    "collapsed": true
   },
   "outputs": [],
   "source": [
    "df_retail_loan_cust_in_branch_info.to_csv('cs_retail_loan_cust_in_branch_info.csv', index=False)"
   ]
  },
  {
   "cell_type": "code",
   "execution_count": null,
   "metadata": {
    "collapsed": true
   },
   "outputs": [],
   "source": []
  },
  {
   "cell_type": "code",
   "execution_count": null,
   "metadata": {
    "collapsed": true
   },
   "outputs": [],
   "source": []
  },
  {
   "cell_type": "code",
   "execution_count": null,
   "metadata": {
    "collapsed": true
   },
   "outputs": [],
   "source": []
  },
  {
   "cell_type": "code",
   "execution_count": null,
   "metadata": {
    "collapsed": true
   },
   "outputs": [],
   "source": []
  },
  {
   "cell_type": "code",
   "execution_count": null,
   "metadata": {
    "collapsed": true
   },
   "outputs": [],
   "source": []
  }
 ],
 "metadata": {
  "kernelspec": {
   "display_name": "Python 2",
   "language": "python",
   "name": "python2"
  },
  "language_info": {
   "codemirror_mode": {
    "name": "ipython",
    "version": 2
   },
   "file_extension": ".py",
   "mimetype": "text/x-python",
   "name": "python",
   "nbconvert_exporter": "python",
   "pygments_lexer": "ipython2",
   "version": "2.7.13"
  }
 },
 "nbformat": 4,
 "nbformat_minor": 2
}
