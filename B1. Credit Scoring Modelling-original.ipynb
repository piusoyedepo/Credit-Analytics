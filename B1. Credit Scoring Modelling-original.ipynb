{
 "cells": [
  {
   "cell_type": "markdown",
   "metadata": {
    "_cell_guid": "b61c83a9-4d25-b297-d59d-020f2f4ac673",
    "_uuid": "cb7f399728d7328eef9fea8bbe4fadee861db94c"
   },
   "source": [
    "Credit Scoring Modeling - \n",
    "**Data Analytics**"
   ]
  },
  {
   "cell_type": "markdown",
   "metadata": {
    "_cell_guid": "7cec488a-6ee0-4bab-517a-eeca4a68baa4",
    "_uuid": "bd1f9762aa68183d1173b84d48faaf5d017d9a65"
   },
   "source": [
    "### Pre-Processing"
   ]
  },
  {
   "cell_type": "markdown",
   "metadata": {
    "_cell_guid": "74d15d68-944f-08b2-a7e2-3644fcc5c3da",
    "_uuid": "b63a424f40fe80b713a608fcfb476cc88526f409"
   },
   "source": [
    "###### Import Libraries"
   ]
  },
  {
   "cell_type": "code",
   "execution_count": 1,
   "metadata": {
    "_cell_guid": "6d10466f-7879-fb8c-d560-1883853cc10a",
    "_uuid": "1181150716e58807e273c2509fc4db6940f6101e"
   },
   "outputs": [
    {
     "name": "stderr",
     "output_type": "stream",
     "text": [
      "C:\\ProgramData\\Anaconda2\\lib\\site-packages\\sklearn\\cross_validation.py:44: DeprecationWarning: This module was deprecated in version 0.18 in favor of the model_selection module into which all the refactored classes and functions are moved. Also note that the interface of the new CV iterators are different from that of this module. This module will be removed in 0.20.\n",
      "  \"This module will be removed in 0.20.\", DeprecationWarning)\n"
     ]
    },
    {
     "name": "stdout",
     "output_type": "stream",
     "text": [
      "Populating the interactive namespace from numpy and matplotlib\n"
     ]
    }
   ],
   "source": [
    "import sys\n",
    "import os\n",
    "import numpy as np\n",
    "import pandas as pd\n",
    "import sklearn as skl\n",
    "from pandas.io.parsers import read_csv\n",
    "from sklearn.preprocessing import LabelEncoder\n",
    "from sklearn.cross_validation import train_test_split\n",
    "from sklearn.metrics import classification_report\n",
    "from sklearn.metrics import confusion_matrix\n",
    "from sklearn.metrics import accuracy_score, precision_score, recall_score\n",
    "from sklearn import preprocessing\n",
    "from imblearn.under_sampling import RandomUnderSampler\n",
    "from imblearn.over_sampling import RandomOverSampler\n",
    "from imblearn.over_sampling import SMOTE                   # For Oversampling\n",
    "# from outliers import smirnov_grubbs as grubbs\n",
    "from sklearn.feature_selection import SelectKBest\n",
    "from sklearn.feature_selection import chi2\n",
    "from sklearn.cluster import KMeans\n",
    "\n",
    "from sklearn.decomposition import PCA\n",
    "from sklearn.naive_bayes import GaussianNB, BernoulliNB\n",
    "from sklearn.linear_model import LogisticRegression\n",
    "from sklearn.tree import DecisionTreeClassifier\n",
    "\n",
    "from sklearn.neural_network import *\n",
    "from sklearn.ensemble import RandomForestClassifier\n",
    "from sklearn.ensemble import AdaBoostClassifier\n",
    "from sklearn.ensemble import GradientBoostingClassifier\n",
    "from sklearn.ensemble import ExtraTreesClassifier\n",
    "from sklearn.svm import SVC\n",
    "\n",
    "\n",
    "import matplotlib.pyplot as plt\n",
    "%pylab inline\n",
    "import seaborn as sns\n",
    "\n",
    "from sqlalchemy import types, create_engine\n",
    "import math\n",
    "import decimal\n",
    "from datetime import datetime, date\n",
    "from datetime import timedelta\n",
    "import calendar as cd\n",
    "# setup environment and import libraries\n",
    "import os\n",
    "import re\n",
    "import datetime\n",
    "import time\n",
    "import getpass\n",
    "import math\n",
    "import decimal\n",
    "import pandas as pd\n",
    "import numpy as np\n",
    "from datetime import datetime, date\n",
    "from datetime import timedelta\n",
    "import calendar as cd\n",
    "from collections import OrderedDict\n",
    "path=r'C:\\ProgramData\\Anaconda2\\instantclient_12_2'\n",
    "os.environ['PATH']=path\n",
    "import cx_Oracle\n",
    "import pickle\n",
    "\n",
    "#set working directory\n",
    "dirr=r\"N:\\10. Executive\\Original\\3. 2019\\Credit Scoring v3\\PyOutput\\modeling\"\n",
    "os.chdir(dirr)"
   ]
  },
  {
   "cell_type": "code",
   "execution_count": 2,
   "metadata": {
    "collapsed": true
   },
   "outputs": [],
   "source": [
    "# Add path in order to load utility functions\n",
    "import sys\n",
    "sys.path.append(r\"N:\\18. Hot Spot\\Custom Modules\\Utils\")\n",
    "sys.path.append(r\"N:\\18. Hot Spot\\Custom Modules\\ETLMonthly\")\n",
    "\n",
    "import file_utils\n",
    "import db_utils"
   ]
  },
  {
   "cell_type": "code",
   "execution_count": null,
   "metadata": {
    "collapsed": true
   },
   "outputs": [],
   "source": []
  },
  {
   "cell_type": "code",
   "execution_count": 3,
   "metadata": {
    "collapsed": true
   },
   "outputs": [],
   "source": [
    "# combine confusion matrices\n",
    "def comb_conf_mtx(dataset_type, *matrices):\n",
    "    arr_dfs=[]\n",
    "    for m in matrices:\n",
    "        cur_df=pd.DataFrame(m[1])\n",
    "        cur_df['Model type']=m[0]\n",
    "        cur_df['Dataset type']=dataset_type\n",
    "        cur_df=cur_df.append(pd.Series([np.nan]), ignore_index=True)\n",
    "        arr_dfs.append(cur_df)\n",
    "    return pd.concat(arr_dfs).rename(index={2:''})"
   ]
  },
  {
   "cell_type": "code",
   "execution_count": 4,
   "metadata": {},
   "outputs": [
    {
     "name": "stdout",
     "output_type": "stream",
     "text": [
      "Enter username: data_analyst\n",
      "Enter Password:········\n",
      "Press 'y' to continue, 'c' to cancel or escape:y\n",
      "Testing Connection...\n",
      "Connection Succesful!\n"
     ]
    }
   ],
   "source": [
    "conn_string = db_utils.db_connect()"
   ]
  },
  {
   "cell_type": "code",
   "execution_count": 5,
   "metadata": {},
   "outputs": [],
   "source": [
    "mtch = re.match('.*@', conn_string)\n",
    "un, pwd = mtch.group().rstrip('@').split('/')"
   ]
  },
  {
   "cell_type": "code",
   "execution_count": null,
   "metadata": {
    "collapsed": true,
    "scrolled": true
   },
   "outputs": [],
   "source": []
  },
  {
   "cell_type": "code",
   "execution_count": 6,
   "metadata": {
    "collapsed": true
   },
   "outputs": [],
   "source": [
    "# variable/initialization declaration\n",
    "\n",
    "# name of the database table for the output\n",
    "db_table_nm='cs_model_v3'\n",
    "dataset_read_from_addr=r'../df_loan_data_final_set.csv'\n",
    "col_dataset=r'../selected_columns.csv'"
   ]
  },
  {
   "cell_type": "code",
   "execution_count": null,
   "metadata": {
    "scrolled": true
   },
   "outputs": [],
   "source": []
  },
  {
   "cell_type": "markdown",
   "metadata": {
    "_cell_guid": "4d07b0af-c146-1811-5935-a30951649371",
    "_uuid": "1e6406202ff1ea448c91fbfc6136ad513c3ee328"
   },
   "source": [
    "###### Read, Transform and Partition Data"
   ]
  },
  {
   "cell_type": "code",
   "execution_count": 7,
   "metadata": {
    "scrolled": true
   },
   "outputs": [],
   "source": [
    "# read and transform data\n",
    "dataset = read_csv(dataset_read_from_addr, usecols = read_csv(col_dataset)['COLS'])\n",
    "dataset = dataset.rename(columns={'IS_BAD':'CLASS'})"
   ]
  },
  {
   "cell_type": "code",
   "execution_count": null,
   "metadata": {
    "collapsed": true
   },
   "outputs": [],
   "source": []
  },
  {
   "cell_type": "markdown",
   "metadata": {},
   "source": [
    "#### Feature selection"
   ]
  },
  {
   "cell_type": "code",
   "execution_count": 8,
   "metadata": {
    "collapsed": true
   },
   "outputs": [],
   "source": [
    "# get selected variables\n",
    "target_var='CLASS'\n",
    "cols_selected=dataset.columns.drop(['BRA_CODE','CUS_NUM','CLASS'])"
   ]
  },
  {
   "cell_type": "code",
   "execution_count": 9,
   "metadata": {
    "collapsed": true
   },
   "outputs": [],
   "source": [
    "pickle.dump(cols_selected, open('cols_selected.sav', 'wb'))"
   ]
  },
  {
   "cell_type": "code",
   "execution_count": 10,
   "metadata": {
    "scrolled": true
   },
   "outputs": [],
   "source": [
    "# Encode dataset\n",
    "# instantiate labelencoder object\n",
    "le = LabelEncoder()\n",
    "# Apply LabelEncoder on each of the categorical columns:\n",
    "# apply le on categorical feature columns\n",
    "dataset[cols_selected] = dataset[cols_selected].apply(lambda col: le.fit_transform(col))"
   ]
  },
  {
   "cell_type": "code",
   "execution_count": 11,
   "metadata": {
    "_cell_guid": "b85ba5ad-70ea-eabc-610e-e13aafafe199",
    "_uuid": "6398d4f8e62591ef7bd7577fa0f0d9c726731500",
    "scrolled": true
   },
   "outputs": [
    {
     "name": "stdout",
     "output_type": "stream",
     "text": [
      "('Variables selected :  ', ['CUS_AGE_AT_LOAN_BIN', 'BANK_YRS_BIN', 'NBR_DISTINCT_DEP_BIN', 'AIRTIME_NBR_MONTH_ACTIVE_RATIO_BIN', 'AIRTIME_AVG_PER_MONTH_COUNT_BIN', 'NTWRK_OUT_IN_DEGREE_RATIO_BIN', 'NTWRK_DEGREE_BIN', 'IS_BETTOR', 'IS_RELIGIOUS', 'IS_VISA', 'IS_PAY_UTILITIES', 'IS_POS_NIGHT_SPENDER', 'CUS_GENDER', 'HAS_REACTIVATED', 'IS_BIDIRECT', 'AIRTIME_DO_THIRD_PARTY', 'HAS_IJEBU_LEDGERS', 'HAS_EVER_LOAN', 'USE_IB_MB_GTW', 'IS_PLATINUM_PLUS_HNI', 'AVG_TURNOVER_AMOUNT_BIN'])\n",
      "\n",
      "\n",
      "('X and y Input Data:   ', (17480L, 21L), (17480L, 1L))\n",
      "('Number of columns in original dataset: ', '23')\n",
      "('Number of columns in used dataset with target variable: ', '22')\n",
      "('Training Set Shape:   ', (12236L, 21L), (12236L, 1L))\n",
      "('Validation Set Shape: ', (3513L, 21L), (3513L, 1L))\n",
      "('Test Set Shape:       ', (1731L, 21L), (1731L, 1L))\n"
     ]
    }
   ],
   "source": [
    "\n",
    "print('Variables selected :  ', list(cols_selected))\n",
    "# Avoids bra_code and cus_num and class\n",
    "X = dataset[cols_selected].values\n",
    "\n",
    "# # Normalization - Using MinMax Scaler\n",
    "# min_max_scaler = preprocessing.MinMaxScaler()\n",
    "# min_max_scaler.fit(X)\n",
    "# X = min_max_scaler.transform(X)\n",
    "# print min_max_scaler.data_max_\n",
    "# pickle.dump(min_max_scaler, open('min_max_scaler.sav', 'wb'))\n",
    "\n",
    "y = np.vstack(dataset[target_var].values)\n",
    "\n",
    "print('\\n')\n",
    "print('X and y Input Data:   ', X.shape, y.shape)\n",
    "\n",
    "# Used Seed in Partitioning so that Test/Val Set remains same for every Run\n",
    "X_train_original, X_test2, y_train_original, y_test2 = train_test_split(X, y, test_size=0.3, random_state=42)\n",
    "X_val, X_test, y_val, y_test = train_test_split(X_test2, y_test2, test_size=0.33,random_state=42)\n",
    "\n",
    "print('Number of columns in original dataset: ', str(len(dataset.columns[:-1])))\n",
    "print('Number of columns in used dataset with target variable: ', str(len(cols_selected)+1))\n",
    "print('Training Set Shape:   ', X_train_original.shape, y_train_original.shape)\n",
    "print('Validation Set Shape: ', X_val.shape,y_val.shape)\n",
    "print('Test Set Shape:       ', X_test.shape, y_test.shape)"
   ]
  },
  {
   "cell_type": "code",
   "execution_count": null,
   "metadata": {
    "collapsed": true
   },
   "outputs": [],
   "source": []
  },
  {
   "cell_type": "code",
   "execution_count": null,
   "metadata": {
    "collapsed": true
   },
   "outputs": [],
   "source": []
  },
  {
   "cell_type": "markdown",
   "metadata": {
    "collapsed": true,
    "scrolled": true
   },
   "source": [
    "#### Check correlation between variables"
   ]
  },
  {
   "cell_type": "code",
   "execution_count": 12,
   "metadata": {},
   "outputs": [
    {
     "data": {
      "image/png": "[encoded data removed]",
      "text/plain": [
       "<matplotlib.figure.Figure at 0x10389b00>"
      ]
     },
     "metadata": {},
     "output_type": "display_data"
    }
   ],
   "source": [
    "corr = dataset[cols_selected].corr()\n",
    "plt.figure(figsize=(16, 14))\n",
    "sns.heatmap(corr, vmax=0.5, center=0, square=True, linewidths=2, cmap='Blues')\n",
    "# plt.savefig(\"heatmap.png\")\n",
    "plt.show()"
   ]
  },
  {
   "cell_type": "code",
   "execution_count": null,
   "metadata": {
    "collapsed": true
   },
   "outputs": [],
   "source": []
  },
  {
   "cell_type": "code",
   "execution_count": null,
   "metadata": {
    "collapsed": true
   },
   "outputs": [],
   "source": []
  },
  {
   "cell_type": "markdown",
   "metadata": {
    "_cell_guid": "38d98c6a-9dfa-4159-a5a5-0cb978f15d2f",
    "_uuid": "ac0dcbe6fd51012077bd721c9314e374d36c026e"
   },
   "source": [
    "###### re-sampling of Imbalanced dataset"
   ]
  },
  {
   "cell_type": "code",
   "execution_count": 13,
   "metadata": {},
   "outputs": [],
   "source": [
    "samplingTechnique = None\n",
    "\n",
    "if samplingTechnique=='under':\n",
    "    rus = RandomUnderSampler(random_state=42)\n",
    "    X_train, y_train = rus.fit_sample(X_train_original, y_train_original)\n",
    "    print('Training Set Shape after undersampling: ', X_train.shape, y_train.shape)\n",
    "elif samplingTechnique=='over':\n",
    "    ros = RandomOverSampler(random_state=42)\n",
    "    X_train, y_train = ros.fit_sample(X_train_original, y_train_original)\n",
    "    print('Training Set Shape after oversampling: ', X_train.shape, y_train.shape)\n",
    "else:\n",
    "    X_train = X_train_original\n",
    "    y_train = y_train_original\n",
    "    "
   ]
  },
  {
   "cell_type": "code",
   "execution_count": 14,
   "metadata": {
    "scrolled": true
   },
   "outputs": [
    {
     "name": "stdout",
     "output_type": "stream",
     "text": [
      "frequency table of original data outcome\n",
      "-----------------------------------------\n",
      "0.0    6120\n",
      "1.0    6116\n",
      "dtype: int64\n",
      "\n",
      "frequency table of oversampled/undersampled data outcome\n",
      "---------------------------------------------\n",
      "0.0    6120\n",
      "1.0    6116\n",
      "dtype: int64\n"
     ]
    }
   ],
   "source": [
    "# check\n",
    "print 'frequency table of original data outcome'\n",
    "print '-----------------------------------------'\n",
    "print pd.Series(y_train_original.flatten()).value_counts()\n",
    "print '\\nfrequency table of oversampled/undersampled data outcome'\n",
    "print '---------------------------------------------'\n",
    "print pd.Series(y_train.flatten()).value_counts()"
   ]
  },
  {
   "cell_type": "code",
   "execution_count": null,
   "metadata": {
    "collapsed": true,
    "scrolled": true
   },
   "outputs": [],
   "source": []
  },
  {
   "cell_type": "code",
   "execution_count": null,
   "metadata": {
    "collapsed": true
   },
   "outputs": [],
   "source": []
  },
  {
   "cell_type": "markdown",
   "metadata": {
    "_cell_guid": "89fd7a8b-7e8a-c341-674d-996ebf0bb080",
    "_uuid": "4e4eecfcf37d8edf3547f6f05c64457130580ab6"
   },
   "source": [
    "### Build Models"
   ]
  },
  {
   "cell_type": "markdown",
   "metadata": {
    "_cell_guid": "683d8257-0e12-302e-57dc-3b4628095275",
    "_uuid": "e1b3626caa6c8b82caf135f62b974484550301a6"
   },
   "source": [
    "###### Decision Tree Classifier"
   ]
  },
  {
   "cell_type": "code",
   "execution_count": 15,
   "metadata": {
    "collapsed": true
   },
   "outputs": [],
   "source": [
    "# load the model from disk\n",
    "# loaded_model = pickle.load(open(filename, 'rb'))\n",
    "# result = loaded_model.score(X_test, Y_test)"
   ]
  },
  {
   "cell_type": "code",
   "execution_count": 16,
   "metadata": {
    "_cell_guid": "9700a654-ff8d-c5d9-bb36-5a472c487c6c",
    "_uuid": "1d60a31693a3bb2d7d5eab87e8e11f21296d29e1",
    "scrolled": true
   },
   "outputs": [],
   "source": [
    "clf_DT = DecisionTreeClassifier(criterion='gini', splitter='best', max_depth=10, \n",
    "                                min_samples_split=2, min_samples_leaf=1, \n",
    "                                min_weight_fraction_leaf=0.0, max_features=None, \n",
    "                                max_leaf_nodes=None, min_impurity_split=1e-07, random_state=42)\n",
    "clf_DT.fit(X_train, y_train)\n",
    "\n",
    "# write the model to disk\n",
    "pickle.dump(clf_DT, open('clf_DT.sav', 'wb'))\n",
    "y_pred_DT = clf_DT.predict(X_val)"
   ]
  },
  {
   "cell_type": "markdown",
   "metadata": {
    "_cell_guid": "c1f33f1a-23ea-0223-aee1-4804f8f3a4a7",
    "_uuid": "fff3066633ed102ea1b8812c03bae427d0f89554"
   },
   "source": [
    "###### Naive Bayes Classifier"
   ]
  },
  {
   "cell_type": "code",
   "execution_count": 17,
   "metadata": {
    "_cell_guid": "5225baf2-3bae-9be4-5ea5-588b5167e9eb",
    "_uuid": "68f6c7ba760733a2412a7bfda7c1ac682aec6b76"
   },
   "outputs": [
    {
     "name": "stderr",
     "output_type": "stream",
     "text": [
      "C:\\ProgramData\\Anaconda2\\lib\\site-packages\\sklearn\\utils\\validation.py:526: DataConversionWarning: A column-vector y was passed when a 1d array was expected. Please change the shape of y to (n_samples, ), for example using ravel().\n",
      "  y = column_or_1d(y, warn=True)\n"
     ]
    }
   ],
   "source": [
    "clf_NB = BernoulliNB()\n",
    "clf_NB.fit(X_train, y_train)\n",
    "# write the model to disk\n",
    "pickle.dump(clf_NB, open('clf_NB.sav', 'wb'))\n",
    "y_pred_NB = clf_NB.predict(X_val)"
   ]
  },
  {
   "cell_type": "markdown",
   "metadata": {
    "_cell_guid": "db561bca-aa5c-fb9f-b021-adff36e57436",
    "_uuid": "fba9175f736a380fab5541e4e0b6c1174bde320c"
   },
   "source": [
    "###### Neural Network Classifier"
   ]
  },
  {
   "cell_type": "code",
   "execution_count": 18,
   "metadata": {
    "_cell_guid": "e0e8d192-0131-ce2c-b49f-bfa68b39f69c",
    "_uuid": "e44dac0c391b609f3fa33655de5fb6826149a784"
   },
   "outputs": [
    {
     "name": "stderr",
     "output_type": "stream",
     "text": [
      "C:\\ProgramData\\Anaconda2\\lib\\site-packages\\sklearn\\neural_network\\multilayer_perceptron.py:904: DataConversionWarning: A column-vector y was passed when a 1d array was expected. Please change the shape of y to (n_samples, ), for example using ravel().\n",
      "  y = column_or_1d(y, warn=True)\n"
     ]
    }
   ],
   "source": [
    "MLPClassifier(activation='relu', alpha=1e-05,\n",
    "       batch_size='auto', beta_1=0.9, beta_2=0.999, early_stopping=False,\n",
    "       epsilon=1e-08, hidden_layer_sizes=(64), learning_rate='constant',\n",
    "       learning_rate_init=0.001, max_iter=2000, momentum=0.9,\n",
    "       nesterovs_momentum=True, power_t=0.5, random_state=42, shuffle=True,\n",
    "       tol=0.001, validation_fraction=0.1, verbose=True,\n",
    "       warm_start=False)\n",
    "clf_MLP = MLPClassifier(alpha=1e-05, hidden_layer_sizes=(64))\n",
    "\n",
    "clf_MLP.fit(X_train, y_train)\n",
    "# write the model to disk\n",
    "pickle.dump(clf_MLP, open('clf_MLP.sav', 'wb'))\n",
    "y_pred_MLP = clf_MLP.predict(X_val)"
   ]
  },
  {
   "cell_type": "markdown",
   "metadata": {
    "_cell_guid": "8361ab8e-dc81-58c9-4c99-1e5ccf51faa0",
    "_uuid": "686ca23d27ca32022283384e7c29b22264682a39"
   },
   "source": [
    "###### Logistic Regression Classifier"
   ]
  },
  {
   "cell_type": "code",
   "execution_count": 19,
   "metadata": {
    "_cell_guid": "a7054bbb-5a7b-10e8-e261-024f702ab94f",
    "_uuid": "1735fd5f08bd680c1964f529e7b50c9dae81bff6",
    "scrolled": true
   },
   "outputs": [
    {
     "name": "stdout",
     "output_type": "stream",
     "text": [
      "[LibLinear][[-0.25198988 -0.1766739  -0.37607086 -0.18214706  0.07834958 -0.09533117\n",
      "   0.03396099  0.33120023 -0.17491083  0.26748408 -0.18086028  0.22205105\n",
      "   0.53874483  0.41566319  0.096445    0.25738415 -0.67920259 -0.51184215\n",
      "  -0.31502538 -0.33971225  0.5258371 ]]\n",
      "[-0.00607068]\n"
     ]
    }
   ],
   "source": [
    "#clf_Log = LogisticRegression(solver='sag', max_iter=1000, random_state=42,verbose=2)\n",
    "clf_Log = LogisticRegression(solver='liblinear', max_iter=1000, \n",
    "                             random_state=42,verbose=2,class_weight='balanced')\n",
    "\n",
    "clf_Log.fit(X_train, y_train)\n",
    "# write the model to disk\n",
    "pickle.dump(clf_Log, open('clf_Log.sav', 'wb'))\n",
    "y_pred_Log = clf_Log.predict(X_val)\n",
    "print(clf_Log.coef_)\n",
    "print(clf_Log.intercept_)"
   ]
  },
  {
   "cell_type": "markdown",
   "metadata": {
    "_cell_guid": "1f54087f-bf37-609e-3358-a28a64f5c18d",
    "_uuid": "2a6759baddce5ffdaf18e3e20bcb7700c376547d"
   },
   "source": [
    "###### Random Forest Classifier"
   ]
  },
  {
   "cell_type": "code",
   "execution_count": 20,
   "metadata": {
    "_cell_guid": "662a47e8-6b4d-a3ce-83de-c317092fb8be",
    "_uuid": "f650d9af59b3c25f61d4fcc69f3b41c49bbf27fa",
    "scrolled": true
   },
   "outputs": [
    {
     "name": "stderr",
     "output_type": "stream",
     "text": [
      "C:\\ProgramData\\Anaconda2\\lib\\site-packages\\ipykernel_launcher.py:6: DataConversionWarning: A column-vector y was passed when a 1d array was expected. Please change the shape of y to (n_samples,), for example using ravel().\n",
      "  \n",
      "[Parallel(n_jobs=1)]: Done 500 out of 500 | elapsed:   10.1s finished\n",
      "[Parallel(n_jobs=1)]: Done 500 out of 500 | elapsed:    1.2s finished\n"
     ]
    }
   ],
   "source": [
    "clf_RF = RandomForestClassifier(n_estimators=500, criterion='gini', max_depth=15,\n",
    "                                min_samples_split=2, min_samples_leaf=1, min_weight_fraction_leaf=0.0,\n",
    "                                max_features='auto', max_leaf_nodes=None, min_impurity_split=1e-07, \n",
    "                                bootstrap=True, oob_score=False, n_jobs=1, \n",
    "                                random_state=42, verbose=1, warm_start=False, class_weight=None)\n",
    "clf_RF.fit(X_train, y_train)\n",
    "# write the model to disk\n",
    "pickle.dump(clf_RF, open('clf_RF.sav', 'wb'))\n",
    "y_pred_RF = clf_RF.predict(X_val)"
   ]
  },
  {
   "cell_type": "markdown",
   "metadata": {
    "_cell_guid": "8280fe7c-59a2-c09e-5f32-d037c7243b59",
    "_uuid": "780dac392341ca23d834a14954e2833bf7534d99"
   },
   "source": [
    "###### AdaBoost Classifier"
   ]
  },
  {
   "cell_type": "code",
   "execution_count": 21,
   "metadata": {
    "_cell_guid": "dec9e474-6333-e846-deb7-1505e05a246f",
    "_uuid": "4df337388ee59f7673508441e999585b858fb63b",
    "collapsed": true
   },
   "outputs": [],
   "source": [
    "clf_AdaB = AdaBoostClassifier(n_estimators=100)\n",
    "clf_AdaB.fit(X_train, y_train)\n",
    "# write the model to disk\n",
    "pickle.dump(clf_AdaB, open('clf_AdaB.sav', 'wb'))\n",
    "y_pred_AdaB = clf_AdaB.predict(X_val)"
   ]
  },
  {
   "cell_type": "markdown",
   "metadata": {
    "_cell_guid": "fe7f3405-a4b7-58a3-22f9-0cd8c3aa42a9",
    "_uuid": "c8dc7979ec130f7fcc7e2edbf251323e577465cf"
   },
   "source": [
    "###### Gradient Boost Classifier"
   ]
  },
  {
   "cell_type": "code",
   "execution_count": 22,
   "metadata": {
    "_cell_guid": "446ecd7b-dda3-4b32-87dc-4fc2a423b216",
    "_uuid": "a5983aee3c3017ba82d88242a96435dc31a6e25e",
    "collapsed": true
   },
   "outputs": [],
   "source": [
    "clf_GB = GradientBoostingClassifier(n_estimators=100, learning_rate=1.0, random_state=42)\n",
    "clf_GB.fit(X_train, y_train)\n",
    "# write the model to disk\n",
    "pickle.dump(clf_GB, open('clf_GB.sav', 'wb'))\n",
    "y_pred_GB = clf_GB.predict(X_val)"
   ]
  },
  {
   "cell_type": "markdown",
   "metadata": {
    "_cell_guid": "ae9425e7-f81c-3675-4f8e-4940539fe772",
    "_uuid": "57511291ce39f55fff2f6d3dc3d358628b503a65"
   },
   "source": [
    "###### Extra Tree Classifier"
   ]
  },
  {
   "cell_type": "code",
   "execution_count": 23,
   "metadata": {
    "_cell_guid": "a08c3aca-1534-8aa1-a6b3-9d885604d965",
    "_uuid": "4e947f31d538a69fa9942b32346c98c6fda70c2a",
    "scrolled": true
   },
   "outputs": [
    {
     "name": "stderr",
     "output_type": "stream",
     "text": [
      "C:\\ProgramData\\Anaconda2\\lib\\site-packages\\ipykernel_launcher.py:2: DataConversionWarning: A column-vector y was passed when a 1d array was expected. Please change the shape of y to (n_samples,), for example using ravel().\n",
      "  \n"
     ]
    }
   ],
   "source": [
    "clf_ET = ExtraTreesClassifier(n_estimators=250, random_state=42)\n",
    "clf_ET.fit(X_train, y_train)\n",
    "# write the model to disk\n",
    "pickle.dump(clf_ET, open('clf_ET.sav', 'wb'))\n",
    "y_pred_ET = clf_ET.predict(X_val)"
   ]
  },
  {
   "cell_type": "markdown",
   "metadata": {
    "_cell_guid": "87d9ede9-f4c3-0d7e-7222-1582cec85cc7",
    "_uuid": "d034cc188bc03a18bfe61539ebe2eed66bdfe0de"
   },
   "source": [
    "###### SVM Classifier"
   ]
  },
  {
   "cell_type": "code",
   "execution_count": 24,
   "metadata": {
    "_cell_guid": "2a25451f-d0bc-6e10-7815-95e2820fccca",
    "_uuid": "d70f3119176b8926d8118929d16b4ece11b8302d",
    "collapsed": true
   },
   "outputs": [],
   "source": [
    "# clf_SVM = SVC(C=10, class_weight='balanced', gamma='auto', kernel='rbf',\n",
    "#               max_iter=-1, probability=True, random_state=42, verbose=True)\n",
    "# clf_SVM.fit(X_train, y_train)\n",
    "# y_pred_SVM = clf_SVM.predict(X_val)"
   ]
  },
  {
   "cell_type": "code",
   "execution_count": 25,
   "metadata": {
    "_cell_guid": "4b46d0c5-3f62-0ed9-1e93-45e3f962fb77",
    "_uuid": "aa1fb0303b7bfbae495a9f94ef6e2b552d18f1c8",
    "collapsed": true
   },
   "outputs": [],
   "source": [
    "y_val = y_val.reshape(-1)"
   ]
  },
  {
   "cell_type": "markdown",
   "metadata": {
    "_cell_guid": "a650de13-ea63-6d25-39b3-d9b46371a90b",
    "_uuid": "913668ba48b820a236216ae2b064f54163dd044f"
   },
   "source": [
    "### Model Performance Comparison"
   ]
  },
  {
   "cell_type": "markdown",
   "metadata": {
    "_cell_guid": "b19dfb7b-89cb-3a15-3a90-401472e54103",
    "_uuid": "4d8ea1692c6603135b131ad488daf672cf3614cc"
   },
   "source": [
    "###### Compare Accuracy of Models on Validation Set"
   ]
  },
  {
   "cell_type": "code",
   "execution_count": 26,
   "metadata": {
    "_cell_guid": "3c6f4c7a-4a9e-1ca6-56c9-48689a9829ce",
    "_uuid": "dcc26092ae9e7abc80ce433749e7967bb2f63764"
   },
   "outputs": [
    {
     "name": "stdout",
     "output_type": "stream",
     "text": [
      "       Accuracy of Models for Validation Set       \n",
      "--------------------------------\n",
      "Decision Tree           66.18%\n",
      "Naive Bayes             63.11%\n",
      "Neural Network          68.57%\n",
      "Logistic Regression     66.67%\n",
      "Random Forest           67.46%\n",
      "AdaBoost                67.41%\n",
      "GradientBoost           66.89%\n",
      "Extra Tree              63.48%\n"
     ]
    }
   ],
   "source": [
    "print('       Accuracy of Models for Validation Set       ')\n",
    "print('--------------------------------')\n",
    "print('Decision Tree           '+\"{:.2f}\".format(accuracy_score(y_val, y_pred_DT)*100)+'%')\n",
    "print('Naive Bayes             '+\"{:.2f}\".format(accuracy_score(y_val, y_pred_NB)*100)+'%')\n",
    "print('Neural Network          '+\"{:.2f}\".format(accuracy_score(y_val, y_pred_MLP)*100)+'%')\n",
    "print('Logistic Regression     '+\"{:.2f}\".format(accuracy_score(y_val, y_pred_Log)*100)+'%')\n",
    "print('Random Forest           '+\"{:.2f}\".format(accuracy_score(y_val, y_pred_RF)*100)+'%')\n",
    "print('AdaBoost                '+\"{:.2f}\".format(accuracy_score(y_val, y_pred_AdaB)*100)+'%')\n",
    "print('GradientBoost           '+\"{:.2f}\".format(accuracy_score(y_val, y_pred_GB)*100)+'%')\n",
    "print('Extra Tree              '+\"{:.2f}\".format(accuracy_score(y_val, y_pred_ET)*100)+'%')\n",
    "# print('Support Vector Machine  '+\"{:.2f}\".format(accuracy_score(y_val, y_pred_SVM)*100)+'%')"
   ]
  },
  {
   "cell_type": "markdown",
   "metadata": {},
   "source": [
    "###### Compare Precision of Models on Validation Set"
   ]
  },
  {
   "cell_type": "code",
   "execution_count": 27,
   "metadata": {},
   "outputs": [
    {
     "name": "stdout",
     "output_type": "stream",
     "text": [
      "       Precision of Models  for Validation Set     \n",
      "---------------------------------\n",
      "Decision Tree           65.78%\n",
      "Naive Bayes             61.64%\n",
      "Neural Network          66.31%\n",
      "Logistic Regression     65.59%\n",
      "Random Forest           66.13%\n",
      "AdaBoost                66.31%\n",
      "GradientBoost           65.63%\n",
      "Extra Tree              63.01%\n"
     ]
    }
   ],
   "source": [
    "print('       Precision of Models  for Validation Set     ')\n",
    "print('---------------------------------')\n",
    "print('Decision Tree           '+\"{:.2f}\".format(precision_score(y_val, y_pred_DT)*100)+'%')\n",
    "print('Naive Bayes             '+\"{:.2f}\".format(precision_score(y_val, y_pred_NB)*100)+'%')\n",
    "print('Neural Network          '+\"{:.2f}\".format(precision_score(y_val, y_pred_MLP)*100)+'%')\n",
    "print('Logistic Regression     '+\"{:.2f}\".format(precision_score(y_val, y_pred_Log)*100)+'%')\n",
    "print('Random Forest           '+\"{:.2f}\".format(precision_score(y_val, y_pred_RF)*100)+'%')\n",
    "print('AdaBoost                '+\"{:.2f}\".format(precision_score(y_val, y_pred_AdaB)*100)+'%')\n",
    "print('GradientBoost           '+\"{:.2f}\".format(precision_score(y_val, y_pred_GB)*100)+'%')\n",
    "print('Extra Tree              '+\"{:.2f}\".format(precision_score(y_val, y_pred_ET)*100)+'%')\n",
    "# print('Support Vector Machine  '+\"{:.2f}\".format(precision_score(y_val, y_pred_SVM)*100)+'%')"
   ]
  },
  {
   "cell_type": "markdown",
   "metadata": {},
   "source": [
    "###### Compare True Positive Rate/Recall of Models on Validation Set"
   ]
  },
  {
   "cell_type": "code",
   "execution_count": 28,
   "metadata": {},
   "outputs": [
    {
     "name": "stdout",
     "output_type": "stream",
     "text": [
      "       Recall of Models    for Validation Set    \n",
      "---------------------------------\n",
      "Decision Tree           66.76%\n",
      "Naive Bayes             68.48%\n",
      "Neural Network          74.89%\n",
      "Logistic Regression     69.45%\n",
      "Random Forest           70.94%\n",
      "AdaBoost                70.14%\n",
      "GradientBoost           70.25%\n",
      "Extra Tree              64.42%\n"
     ]
    }
   ],
   "source": [
    "print('       Recall of Models    for Validation Set    ')\n",
    "print('---------------------------------')\n",
    "print('Decision Tree           '+\"{:.2f}\".format(recall_score(y_val, y_pred_DT)*100)+'%')\n",
    "print('Naive Bayes             '+\"{:.2f}\".format(recall_score(y_val, y_pred_NB)*100)+'%')\n",
    "print('Neural Network          '+\"{:.2f}\".format(recall_score(y_val, y_pred_MLP)*100)+'%')\n",
    "print('Logistic Regression     '+\"{:.2f}\".format(recall_score(y_val, y_pred_Log)*100)+'%')\n",
    "print('Random Forest           '+\"{:.2f}\".format(recall_score(y_val, y_pred_RF)*100)+'%')\n",
    "print('AdaBoost                '+\"{:.2f}\".format(recall_score(y_val, y_pred_AdaB)*100)+'%')\n",
    "print('GradientBoost           '+\"{:.2f}\".format(recall_score(y_val, y_pred_GB)*100)+'%')\n",
    "print('Extra Tree              '+\"{:.2f}\".format(recall_score(y_val, y_pred_ET)*100)+'%')\n",
    "# print('Support Vector Machine  '+\"{:.2f}\".format(recall_score(y_val, y_pred_SVM)*100)+'%')"
   ]
  },
  {
   "cell_type": "code",
   "execution_count": null,
   "metadata": {
    "collapsed": true
   },
   "outputs": [],
   "source": []
  },
  {
   "cell_type": "markdown",
   "metadata": {
    "_cell_guid": "c3276c7e-87cf-2c05-a426-3fa83f12665c",
    "_uuid": "f3b242dde4f203e35183a945120ee3feece2f6ff"
   },
   "source": [
    "###### Print Confusion Matrix for all Models"
   ]
  },
  {
   "cell_type": "code",
   "execution_count": 29,
   "metadata": {
    "_cell_guid": "5d2298f5-ced1-9dd0-ebbc-e597ea413d90",
    "_uuid": "d0af018f36b8f5658ac24b050b4659f57f4fc2af",
    "scrolled": true
   },
   "outputs": [
    {
     "name": "stdout",
     "output_type": "stream",
     "text": [
      "Decision Tree  \n",
      "[[1158  607]\n",
      " [ 581 1167]]\n",
      "\n",
      "\n",
      "Naive Bayes  \n",
      "[[1020  745]\n",
      " [ 551 1197]]\n",
      "\n",
      "\n",
      "Neural Network  \n",
      "[[1100  665]\n",
      " [ 439 1309]]\n",
      "\n",
      "\n",
      "Logistic Regression  \n",
      "[[1128  637]\n",
      " [ 534 1214]]\n",
      "\n",
      "\n",
      "Random Forest  \n",
      "[[1130  635]\n",
      " [ 508 1240]]\n",
      "\n",
      "\n",
      "AdaBoost  \n",
      "[[1142  623]\n",
      " [ 522 1226]]\n",
      "\n",
      "\n",
      "GradientBoost  \n",
      "[[1122  643]\n",
      " [ 520 1228]]\n",
      "\n",
      "\n",
      "Extra Tree  \n",
      "[[1104  661]\n",
      " [ 622 1126]]\n",
      "\n",
      "\n"
     ]
    }
   ],
   "source": [
    "print('Decision Tree  ')\n",
    "cm_DT = confusion_matrix(y_val,y_pred_DT)\n",
    "print(cm_DT)\n",
    "print('\\n')\n",
    "\n",
    "print('Naive Bayes  ')\n",
    "cm_NB = confusion_matrix(y_val,y_pred_NB)\n",
    "print(cm_NB)\n",
    "print('\\n')\n",
    "\n",
    "print('Neural Network  ')\n",
    "cm_MLP = confusion_matrix(y_val,y_pred_MLP)\n",
    "print(cm_MLP)\n",
    "print('\\n')\n",
    "\n",
    "print('Logistic Regression  ')\n",
    "cm_Log = confusion_matrix(y_val,y_pred_Log)\n",
    "print(cm_Log)\n",
    "print('\\n')\n",
    "\n",
    "print('Random Forest  ')\n",
    "cm_RF = confusion_matrix(y_val,y_pred_RF)\n",
    "print(cm_RF)\n",
    "print('\\n')\n",
    "\n",
    "print('AdaBoost  ')\n",
    "cm_AdaB = confusion_matrix(y_val,y_pred_AdaB)\n",
    "print(cm_AdaB)\n",
    "print('\\n')\n",
    "\n",
    "print('GradientBoost  ')\n",
    "cm_GB = confusion_matrix(y_val,y_pred_GB)\n",
    "print(cm_GB)\n",
    "print('\\n')\n",
    "\n",
    "print('Extra Tree  ')\n",
    "cm_ET = confusion_matrix(y_val,y_pred_ET)\n",
    "print(cm_ET)\n",
    "print('\\n')\n",
    "\n",
    "# print('SVM  ')\n",
    "# cm_SVM = confusion_matrix(y_val,y_pred_SVM)\n",
    "# print(cm_SVM)"
   ]
  },
  {
   "cell_type": "markdown",
   "metadata": {
    "_cell_guid": "7da0c94f-1fc6-2f36-cc44-4d7182f41daf",
    "_uuid": "866b0e2871a21ea9e5a316c7a50aa0f35f59f039"
   },
   "source": [
    "### Test Set Results"
   ]
  },
  {
   "cell_type": "markdown",
   "metadata": {
    "_cell_guid": "4221a0ff-1414-79de-0fc6-a7d99f82c590",
    "_uuid": "7da2a3373637a4cdaa86b10d01ba1fdd7fdddc50"
   },
   "source": [
    "###### Compare Models on Training, Validation and Test Set Results`"
   ]
  },
  {
   "cell_type": "markdown",
   "metadata": {
    "_cell_guid": "5ac5f4bd-dfdd-fb4a-c189-2ec971f1e562",
    "_uuid": "26111a43cf0a3711e9e02f5362990d78cf93f374"
   },
   "source": [
    "###### Execute only on Final Run"
   ]
  },
  {
   "cell_type": "code",
   "execution_count": null,
   "metadata": {
    "collapsed": true,
    "scrolled": true
   },
   "outputs": [],
   "source": []
  },
  {
   "cell_type": "code",
   "execution_count": 30,
   "metadata": {
    "_cell_guid": "bb68958f-6468-da45-8af1-c39e58201a05",
    "_uuid": "4184a76a44b92b8748b4d26f1be552bb510f8879",
    "scrolled": true
   },
   "outputs": [
    {
     "name": "stderr",
     "output_type": "stream",
     "text": [
      "[Parallel(n_jobs=1)]: Done 500 out of 500 | elapsed:    3.1s finished\n",
      "[Parallel(n_jobs=1)]: Done 500 out of 500 | elapsed:    0.8s finished\n"
     ]
    },
    {
     "name": "stdout",
     "output_type": "stream",
     "text": [
      "Decision Tree Classification Matrix  \n",
      "Training\n",
      "[[4358 1762]\n",
      " [1627 4489]]\n",
      "Validation\n",
      "[[1158  607]\n",
      " [ 581 1167]]\n",
      "Test\n",
      "[[521 334]\n",
      " [288 588]]\n",
      "\n",
      "\n",
      "Naive Bayes Classification Matrix \n",
      "Training\n",
      "[[3521 2599]\n",
      " [2070 4046]]\n",
      "Validation\n",
      "[[1020  745]\n",
      " [ 551 1197]]\n",
      "Test\n",
      "[[474 381]\n",
      " [266 610]]\n",
      "\n",
      "\n",
      "Neural Network Classification Matrix \n",
      "Training\n",
      "[[3727 2393]\n",
      " [1510 4606]]\n",
      "Validation\n",
      "[[1100  665]\n",
      " [ 439 1309]]\n",
      "Test\n",
      "[[493 362]\n",
      " [214 662]]\n",
      "\n",
      "\n",
      "Logistic Regression Classification Matrix \n",
      "Training\n",
      "[[3831 2289]\n",
      " [1920 4196]]\n",
      "Validation\n",
      "[[1128  637]\n",
      " [ 534 1214]]\n",
      "Test\n",
      "[[534 321]\n",
      " [263 613]]\n",
      "\n",
      "\n",
      "Random Forest Classification Matrix \n",
      "Training\n",
      "[[5180  940]\n",
      " [ 427 5689]]\n",
      "Validation\n",
      "[[1130  635]\n",
      " [ 508 1240]]\n",
      "Test\n",
      "[[494 361]\n",
      " [255 621]]\n",
      "\n",
      "\n",
      "AdaBoost Classification Matrix \n",
      "Training\n",
      "[[3894 2226]\n",
      " [1923 4193]]\n",
      "Validation\n",
      "[[1142  623]\n",
      " [ 522 1226]]\n",
      "Test\n",
      "[[522 333]\n",
      " [251 625]]\n",
      "\n",
      "\n",
      "GradientBoost Classification Matrix \n",
      "Training\n",
      "[[4047 2073]\n",
      " [1527 4589]]\n",
      "Validation\n",
      "[[1122  643]\n",
      " [ 520 1228]]\n",
      "Test\n",
      "[[526 329]\n",
      " [262 614]]\n",
      "\n",
      "\n",
      "Extra Tree Classification Matrix \n",
      "Training\n",
      "[[5759  361]\n",
      " [ 402 5714]]\n",
      "Validation\n",
      "[[1104  661]\n",
      " [ 622 1126]]\n",
      "Test\n",
      "[[499 356]\n",
      " [283 593]]\n",
      "\n",
      "\n"
     ]
    }
   ],
   "source": [
    "Final_Run=True\n",
    "\n",
    "if Final_Run:\n",
    "    y_test = y_test.reshape(-1)\n",
    "    y_train_original = y_train_original.reshape(-1)\n",
    "    # Predict training dataset\n",
    "    y_pred_train_DT = clf_DT.predict(X_train_original)\n",
    "    y_pred_train_NB = clf_NB.predict(X_train_original)\n",
    "    y_pred_train_MLP = clf_MLP.predict(X_train_original)\n",
    "    y_pred_train_Log = clf_Log.predict(X_train_original)\n",
    "    y_pred_train_RF = clf_RF.predict(X_train_original)\n",
    "    y_pred_train_AdaB = clf_AdaB.predict(X_train_original)\n",
    "    y_pred_train_GB = clf_GB.predict(X_train_original)\n",
    "    y_pred_train_ET = clf_ET.predict(X_train_original)\n",
    "#     y_pred_train_SVM = clf_SVM.predict(X_train_original)\n",
    "    # Predict test dataset\n",
    "    y_pred_test_DT = clf_DT.predict(X_test)\n",
    "    y_pred_test_NB = clf_NB.predict(X_test)\n",
    "    y_pred_test_MLP = clf_MLP.predict(X_test)\n",
    "    y_pred_test_Log = clf_Log.predict(X_test)\n",
    "    y_pred_test_RF = clf_RF.predict(X_test)\n",
    "    y_pred_test_AdaB = clf_AdaB.predict(X_test)\n",
    "    y_pred_test_GB = clf_GB.predict(X_test)\n",
    "    y_pred_test_ET = clf_ET.predict(X_test)\n",
    "#     y_pred_test_SVM = clf_SVM.predict(X_test)\n",
    "    # get confusion matrix for training dataset\n",
    "    cm_DT_train = confusion_matrix(y_train_original,y_pred_train_DT)\n",
    "    cm_NB_train = confusion_matrix(y_train_original,y_pred_train_NB)\n",
    "    cm_MLP_train = confusion_matrix(y_train_original,y_pred_train_MLP)\n",
    "    cm_Log_train = confusion_matrix(y_train_original,y_pred_train_Log)\n",
    "    cm_RF_train = confusion_matrix(y_train_original,y_pred_train_RF)\n",
    "    cm_AdaB_train = confusion_matrix(y_train_original,y_pred_train_AdaB)\n",
    "    cm_GB_train = confusion_matrix(y_train_original,y_pred_train_GB)\n",
    "    cm_ET_train = confusion_matrix(y_train_original,y_pred_train_ET)\n",
    "#     cm_SVM_train = confusion_matrix(y_train_original,y_pred_train_SVM)\n",
    "    # get confusion matrix for test dataset\n",
    "    cm_DT_test = confusion_matrix(y_test,y_pred_test_DT)\n",
    "    cm_NB_test = confusion_matrix(y_test,y_pred_test_NB)\n",
    "    cm_MLP_test = confusion_matrix(y_test,y_pred_test_MLP)\n",
    "    cm_Log_test = confusion_matrix(y_test,y_pred_test_Log)\n",
    "    cm_RF_test = confusion_matrix(y_test,y_pred_test_RF)\n",
    "    cm_AdaB_test = confusion_matrix(y_test,y_pred_test_AdaB)\n",
    "    cm_GB_test = confusion_matrix(y_test,y_pred_test_GB)\n",
    "    cm_ET_test = confusion_matrix(y_test,y_pred_test_ET)\n",
    "#     cm_SVM_test = confusion_matrix(y_test,y_pred_test_SVM)\n",
    "\n",
    "    print('Decision Tree Classification Matrix  ')\n",
    "    print('Training')\n",
    "    print(cm_DT_train)\n",
    "    print('Validation')\n",
    "    print(cm_DT)\n",
    "    print('Test')\n",
    "    print(cm_DT_test)\n",
    "    print('\\n')\n",
    "\n",
    "    print('Naive Bayes Classification Matrix ')\n",
    "    print('Training')\n",
    "    print(cm_NB_train)\n",
    "    print('Validation')\n",
    "    print(cm_NB)\n",
    "    print('Test')\n",
    "    print(cm_NB_test)\n",
    "    print('\\n')\n",
    "\n",
    "    print('Neural Network Classification Matrix ')\n",
    "    print('Training')\n",
    "    print(cm_MLP_train)\n",
    "    print('Validation')\n",
    "    print(cm_MLP)\n",
    "    print('Test')\n",
    "    print(cm_MLP_test)\n",
    "    print('\\n')\n",
    "\n",
    "    print('Logistic Regression Classification Matrix ')\n",
    "    print('Training')\n",
    "    print(cm_Log_train)\n",
    "    print('Validation')\n",
    "    print(cm_Log)\n",
    "    print('Test')\n",
    "    print(cm_Log_test)\n",
    "    print('\\n')\n",
    "    \n",
    "    print('Random Forest Classification Matrix ')\n",
    "    print('Training')\n",
    "    print(cm_RF_train)\n",
    "    print('Validation')\n",
    "    print(cm_RF)\n",
    "    print('Test')\n",
    "    print(cm_RF_test)\n",
    "    print('\\n')\n",
    "    \n",
    "    print('AdaBoost Classification Matrix ')\n",
    "    print('Training')\n",
    "    print(cm_AdaB_train)\n",
    "    print('Validation')\n",
    "    print(cm_AdaB)\n",
    "    print('Test')\n",
    "    print(cm_AdaB_test)\n",
    "    print('\\n')\n",
    "    \n",
    "    print('GradientBoost Classification Matrix ')\n",
    "    print('Training')\n",
    "    print(cm_GB_train)\n",
    "    print('Validation')\n",
    "    print(cm_GB)\n",
    "    print('Test')\n",
    "    print(cm_GB_test)\n",
    "    print('\\n')\n",
    "    \n",
    "    print('Extra Tree Classification Matrix ')\n",
    "    print('Training')\n",
    "    print(cm_ET_train)\n",
    "    print('Validation')\n",
    "    print(cm_ET)\n",
    "    print('Test')\n",
    "    print(cm_ET_test)\n",
    "    print('\\n')\n",
    "    \n",
    "#     print('SVM Classification Matrix ')\n",
    "#     print('Training')\n",
    "#     print(cm_SVM_train)\n",
    "#     print('Validation')\n",
    "#     print(cm_SVM)\n",
    "#     print('Test')\n",
    "#     print(cm_SVM_test)\n",
    "#     print('\\n')"
   ]
  },
  {
   "cell_type": "code",
   "execution_count": 31,
   "metadata": {},
   "outputs": [
    {
     "name": "stdout",
     "output_type": "stream",
     "text": [
      "       Recall of Models - Training ds      \n",
      "-------------------------------------------\n",
      "Decision Tree           73.40%\n",
      "Naive Bayes             66.15%\n",
      "Neural Network          75.31%\n",
      "Logistic Regression     68.61%\n",
      "Random Forest           93.02%\n",
      "AdaBoost                68.56%\n",
      "GradientBoost           75.03%\n",
      "Extra Tree              93.43%\n"
     ]
    }
   ],
   "source": [
    "print('       Recall of Models - Training ds      ')\n",
    "print('-------------------------------------------')\n",
    "print('Decision Tree           '+\"{:.2f}\".format(recall_score(y_train_original, y_pred_train_DT)*100)+'%')\n",
    "print('Naive Bayes             '+\"{:.2f}\".format(recall_score(y_train_original, y_pred_train_NB)*100)+'%')\n",
    "print('Neural Network          '+\"{:.2f}\".format(recall_score(y_train_original, y_pred_train_MLP)*100)+'%')\n",
    "print('Logistic Regression     '+\"{:.2f}\".format(recall_score(y_train_original, y_pred_train_Log)*100)+'%')\n",
    "print('Random Forest           '+\"{:.2f}\".format(recall_score(y_train_original, y_pred_train_RF)*100)+'%')\n",
    "print('AdaBoost                '+\"{:.2f}\".format(recall_score(y_train_original, y_pred_train_AdaB)*100)+'%')\n",
    "print('GradientBoost           '+\"{:.2f}\".format(recall_score(y_train_original, y_pred_train_GB)*100)+'%')\n",
    "print('Extra Tree              '+\"{:.2f}\".format(recall_score(y_train_original, y_pred_train_ET)*100)+'%')\n",
    "# print('Support Vector Machine  '+\"{:.2f}\".format(recall_score(y_train_original, y_pred_train_SVM)*100)+'%')"
   ]
  },
  {
   "cell_type": "code",
   "execution_count": 32,
   "metadata": {},
   "outputs": [
    {
     "name": "stdout",
     "output_type": "stream",
     "text": [
      "       Recall of Models - Test ds      \n",
      "---------------------------------------\n",
      "Decision Tree           67.12%\n",
      "Naive Bayes             69.63%\n",
      "Neural Network          75.57%\n",
      "Logistic Regression     69.98%\n",
      "Random Forest           70.89%\n",
      "AdaBoost                71.35%\n",
      "GradientBoost           70.09%\n",
      "Extra Tree              67.69%\n"
     ]
    }
   ],
   "source": [
    "print('       Recall of Models - Test ds      ')\n",
    "print('---------------------------------------')\n",
    "print('Decision Tree           '+\"{:.2f}\".format(recall_score(y_test, y_pred_test_DT)*100)+'%')\n",
    "print('Naive Bayes             '+\"{:.2f}\".format(recall_score(y_test, y_pred_test_NB)*100)+'%')\n",
    "print('Neural Network          '+\"{:.2f}\".format(recall_score(y_test, y_pred_test_MLP)*100)+'%')\n",
    "print('Logistic Regression     '+\"{:.2f}\".format(recall_score(y_test, y_pred_test_Log)*100)+'%')\n",
    "print('Random Forest           '+\"{:.2f}\".format(recall_score(y_test, y_pred_test_RF)*100)+'%')\n",
    "print('AdaBoost                '+\"{:.2f}\".format(recall_score(y_test, y_pred_test_AdaB)*100)+'%')\n",
    "print('GradientBoost           '+\"{:.2f}\".format(recall_score(y_test, y_pred_test_GB)*100)+'%')\n",
    "print('Extra Tree              '+\"{:.2f}\".format(recall_score(y_test, y_pred_test_ET)*100)+'%')\n",
    "# print('Support Vector Machine  '+\"{:.2f}\".format(recall_score(y_test, y_pred_test_SVM)*100)+'%')"
   ]
  },
  {
   "cell_type": "code",
   "execution_count": 33,
   "metadata": {},
   "outputs": [
    {
     "name": "stdout",
     "output_type": "stream",
     "text": [
      "       Recall of Models - Validation ds      \n",
      "---------------------------------------------\n",
      "Decision Tree           66.76%\n",
      "Naive Bayes             68.48%\n",
      "Neural Network          74.89%\n",
      "Logistic Regression     69.45%\n",
      "Random Forest           70.94%\n",
      "AdaBoost                70.14%\n",
      "GradientBoost           70.25%\n",
      "Extra Tree              64.42%\n"
     ]
    }
   ],
   "source": [
    "print('       Recall of Models - Validation ds      ')\n",
    "print('---------------------------------------------')\n",
    "print('Decision Tree           '+\"{:.2f}\".format(recall_score(y_val, y_pred_DT)*100)+'%')\n",
    "print('Naive Bayes             '+\"{:.2f}\".format(recall_score(y_val, y_pred_NB)*100)+'%')\n",
    "print('Neural Network          '+\"{:.2f}\".format(recall_score(y_val, y_pred_MLP)*100)+'%')\n",
    "print('Logistic Regression     '+\"{:.2f}\".format(recall_score(y_val, y_pred_Log)*100)+'%')\n",
    "print('Random Forest           '+\"{:.2f}\".format(recall_score(y_val, y_pred_RF)*100)+'%')\n",
    "print('AdaBoost                '+\"{:.2f}\".format(recall_score(y_val, y_pred_AdaB)*100)+'%')\n",
    "print('GradientBoost           '+\"{:.2f}\".format(recall_score(y_val, y_pred_GB)*100)+'%')\n",
    "print('Extra Tree              '+\"{:.2f}\".format(recall_score(y_val, y_pred_ET)*100)+'%')\n",
    "# print('Support Vector Machine  '+\"{:.2f}\".format(recall_score(y_val, y_pred_SVM)*100)+'%')"
   ]
  },
  {
   "cell_type": "code",
   "execution_count": 34,
   "metadata": {
    "collapsed": true
   },
   "outputs": [],
   "source": [
    "confusion_matrx_val=comb_conf_mtx('Validation', ('Decision Tree',cm_DT), ('Naive Bayes',cm_NB), ('Neural Network',cm_MLP), ('Logistic Regression',cm_Log),\n",
    "             ('Random Forest',cm_RF), ('Ada Boost',cm_AdaB), ('Gradient Boost',cm_GB), ('Extra Tree',cm_ET))#, ('SVM',cm_SVM))\n",
    "confusion_matrx_train=comb_conf_mtx('Training', ('Decision Tree',cm_DT_train), ('Naive Bayes',cm_NB_train), ('Neural Network',cm_MLP_train), ('Logistic Regression',cm_Log_train),\n",
    "             ('Random Forest',cm_RF_train), ('Ada Boost',cm_AdaB_train), ('Gradient Boost',cm_GB_train), ('Extra Tree',cm_ET_train)) #, ('SVM',cm_SVM_train))\n",
    "confusion_matrx_test=comb_conf_mtx('Testing', ('Decision Tree',cm_DT_test), ('Naive Bayes',cm_NB_test), ('Neural Network',cm_MLP_test), ('Logistic Regression',cm_Log_test),\n",
    "             ('Random Forest',cm_RF_test), ('Ada Boost',cm_AdaB_test), ('Gradient Boost',cm_GB_test), ('Extra Tree',cm_ET_test))#, ('SVM',cm_SVM_test))\n",
    "\n",
    "confusion_matrices = pd.concat([confusion_matrx_val,confusion_matrx_train,confusion_matrx_test])\n",
    "confusion_matrices.to_csv('confusion_matrices.csv')\n"
   ]
  },
  {
   "cell_type": "code",
   "execution_count": 35,
   "metadata": {
    "collapsed": true
   },
   "outputs": [],
   "source": [
    "# calculate and print score metrics per dataset type\n",
    "# remove empty rows from dataframe\n",
    "confusion_matrices_df=confusion_matrices[~pd.isnull(confusion_matrices['Dataset type'])]\n",
    "for ds_type in confusion_matrices_df['Dataset type'].unique():\n",
    "    cur_df_cm = confusion_matrices_df[confusion_matrices_df['Dataset type']==ds_type]\n",
    "    cur_df_result=pd.DataFrame()\n",
    "\n",
    "    for md_type in cur_df_cm['Model type'].unique():\n",
    "        cur_df_cm_md = cur_df_cm[cur_df_cm['Model type']==md_type]\n",
    "        \n",
    "        tn=cur_df_cm_md.iloc[0,0]\n",
    "        fn=cur_df_cm_md.iloc[1,0]\n",
    "        fp=cur_df_cm_md.iloc[0,1]\n",
    "        tp=cur_df_cm_md.iloc[1,1]\n",
    "        tot_n_p=tn+fn+fp+tp\n",
    "        \n",
    "        format_pattern='{:.0%}'\n",
    "        # Accuracy\n",
    "        cur_df_result.loc[md_type, 'accuracy']='{}'.format(format_pattern).format((tp+tn)/tot_n_p)\n",
    "        # Misclassification Rate (Error Rate)\n",
    "        cur_df_result.loc[md_type, 'Misclassification Rate (Error Rate)']='{}'.format(format_pattern).format((fp+fn)/tot_n_p)\n",
    "        # True Positive Rate\n",
    "        cur_df_result.loc[md_type, 'True Positive Rate']='{}'.format(format_pattern).format((tp)/(tp+fn))\n",
    "        # False Positive Rate\n",
    "        cur_df_result.loc[md_type, 'False Positive Rate']='{}'.format(format_pattern).format((fp)/(tn+fp))\n",
    "        # Specificity\n",
    "        cur_df_result.loc[md_type, 'Specificity']='{}'.format(format_pattern).format((tn)/(tn+fp))\n",
    "        # Precision\n",
    "        cur_df_result.loc[md_type, 'Precision']='{}'.format(format_pattern).format((tp)/(tp+fp))\n",
    "        # Prevalence\n",
    "        cur_df_result.loc[md_type, 'Prevalence']='{}'.format(format_pattern).format((fn+tp)/tot_n_p)\n",
    "        # Positive predictive value\n",
    "        cur_df_result.loc[md_type, 'Positive predictive value']='{}'.format(format_pattern).format((tp)/(fp+tp))\n",
    "        # Negative predictive value\n",
    "        cur_df_result.loc[md_type, 'Negative predictive value']='{}'.format(format_pattern).format((fp)/(fp+tp))\n",
    "\n",
    "    cur_df_result=cur_df_result.T\n",
    "    cur_df_result.to_csv(ds_type+'_score_sheet.csv')\n",
    "    \n"
   ]
  },
  {
   "cell_type": "code",
   "execution_count": null,
   "metadata": {
    "collapsed": true
   },
   "outputs": [],
   "source": []
  },
  {
   "cell_type": "markdown",
   "metadata": {},
   "source": [
    "#### Final"
   ]
  },
  {
   "cell_type": "code",
   "execution_count": 36,
   "metadata": {},
   "outputs": [
    {
     "name": "stderr",
     "output_type": "stream",
     "text": [
      "[Parallel(n_jobs=1)]: Done 500 out of 500 | elapsed:    3.9s finished\n"
     ]
    }
   ],
   "source": [
    "y_pred_DT_proba = clf_DT.predict_proba(X)\n",
    "y_pred_NB_proba = clf_NB.predict_proba(X)\n",
    "y_pred_MLP_proba = clf_MLP.predict_proba(X)\n",
    "y_pred_Log_proba = clf_Log.predict_proba(X)\n",
    "y_pred_RF_proba = clf_RF.predict_proba(X)\n",
    "y_pred_AdaB_proba = clf_AdaB.predict_proba(X)\n",
    "y_pred_GB_proba = clf_GB.predict_proba(X)\n",
    "y_pred_ET_proba = clf_ET.predict_proba(X)"
   ]
  },
  {
   "cell_type": "code",
   "execution_count": 37,
   "metadata": {
    "collapsed": true
   },
   "outputs": [],
   "source": [
    "dataset['y_pred_DT_proba']=[i[1] for i in y_pred_DT_proba]\n",
    "dataset['y_pred_NB_proba']=[i[1] for i in y_pred_NB_proba]\n",
    "dataset['y_pred_MLP_proba']=[i[1] for i in y_pred_MLP_proba]\n",
    "dataset['y_pred_Log_proba']=[i[1] for i in y_pred_Log_proba]\n",
    "dataset['y_pred_RF_proba']=[i[1] for i in y_pred_RF_proba]\n",
    "dataset['y_pred_AdaB_proba']=[i[1] for i in y_pred_AdaB_proba]\n",
    "dataset['y_pred_GB_proba']=[i[1] for i in y_pred_GB_proba]\n",
    "dataset['y_pred_ET_proba']=[i[1] for i in y_pred_ET_proba]"
   ]
  },
  {
   "cell_type": "code",
   "execution_count": null,
   "metadata": {
    "collapsed": true
   },
   "outputs": [],
   "source": []
  },
  {
   "cell_type": "markdown",
   "metadata": {},
   "source": [
    "### Write to db"
   ]
  },
  {
   "cell_type": "code",
   "execution_count": 38,
   "metadata": {
    "collapsed": true
   },
   "outputs": [],
   "source": [
    "dataset.to_csv('sampled_final_set_after_model.csv', index = False)"
   ]
  },
  {
   "cell_type": "code",
   "execution_count": 39,
   "metadata": {
    "collapsed": true
   },
   "outputs": [],
   "source": [
    "dataset.columns = dataset.columns.str.upper()"
   ]
  },
  {
   "cell_type": "code",
   "execution_count": 40,
   "metadata": {},
   "outputs": [],
   "source": [
    "dataset.columns = [c[:30] for c in dataset.columns]"
   ]
  },
  {
   "cell_type": "code",
   "execution_count": 41,
   "metadata": {
    "scrolled": true
   },
   "outputs": [],
   "source": [
    "import sqlalchemy\n",
    "conn = sqlalchemy.create_engine('oracle+cx_oracle://{}:{}@dwdrscan.gtbank.com:1521/?service_name=odidb'\n",
    "                                .format(un, pwd))\n",
    "dataset.to_sql(db_table_nm, conn, index=False, if_exists='replace', chunksize=10000, dtype=db_utils.sqlcol(dataset))"
   ]
  },
  {
   "cell_type": "code",
   "execution_count": null,
   "metadata": {
    "collapsed": true
   },
   "outputs": [],
   "source": []
  },
  {
   "cell_type": "code",
   "execution_count": null,
   "metadata": {
    "collapsed": true
   },
   "outputs": [],
   "source": []
  },
  {
   "cell_type": "markdown",
   "metadata": {},
   "source": [
    "### Features importance "
   ]
  },
  {
   "cell_type": "code",
   "execution_count": 42,
   "metadata": {
    "scrolled": true
   },
   "outputs": [
    {
     "name": "stdout",
     "output_type": "stream",
     "text": [
      "Feature ranking:\n",
      "1. CUS_AGE_AT_LOAN_BIN (0.103824)\n",
      "2. BANK_YRS_BIN (0.098803)\n",
      "3. AIRTIME_AVG_PER_MONTH_COUNT_BIN (0.098073)\n",
      "4. NTWRK_OUT_IN_DEGREE_RATIO_BIN (0.089734)\n",
      "5. NTWRK_DEGREE_BIN (0.081546)\n",
      "6. AIRTIME_NBR_MONTH_ACTIVE_RATIO_BIN (0.071751)\n",
      "7. NBR_DISTINCT_DEP_BIN (0.055604)\n",
      "8. HAS_EVER_LOAN (0.052832)\n",
      "9. HAS_REACTIVATED (0.042162)\n",
      "10. USE_IB_MB_GTW (0.040906)\n",
      "11. CUS_GENDER (0.037142)\n",
      "12. IS_BETTOR (0.037138)\n",
      "13. IS_RELIGIOUS (0.034751)\n",
      "14. IS_PAY_UTILITIES (0.031360)\n",
      "15. AIRTIME_DO_THIRD_PARTY (0.029239)\n",
      "16. IS_BIDIRECT (0.028684)\n",
      "17. HAS_IJEBU_LEDGERS (0.028453)\n",
      "18. IS_POS_NIGHT_SPENDER (0.027817)\n",
      "19. IS_PLATINUM_PLUS_HNI (0.004368)\n",
      "20. IS_VISA (0.004195)\n",
      "21. AVG_TURNOVER_AMOUNT_BIN (0.001618)\n",
      "21. USE_IB_MB_GTW (0.001618)\n"
     ]
    }
   ],
   "source": [
    "importances_RF = clf_RF.feature_importances_\n",
    "std = np.std([tree.feature_importances_ for tree in clf_RF.estimators_],\n",
    "             axis=0)\n",
    "# indices1 = np.argsort(importances_RF[0:var])[::-1]\n",
    "indices1 = np.argsort(importances_RF)[::-1]\n",
    "\n",
    "indices = indices1\n",
    "# indices = indices1[0:var]\n",
    "# Print the feature ranking\n",
    "print(\"Feature ranking:\")\n",
    "features_ranking=pd.DataFrame(columns=['FEATURE','IMPORTANCE'])\n",
    "var=len(cols_selected)\n",
    "for f in range(var):\n",
    "    features_ranking=features_ranking.append({\n",
    "        features_ranking.columns[0]:cols_selected[indices[f]],\n",
    "        features_ranking.columns[1]:importances_RF[indices[f]]\n",
    "    }, ignore_index=True)\n",
    "    print(\"%d. %s (%f)\" % (f + 1, cols_selected[indices[f]], importances_RF[indices[f]]))\n",
    "print(\"%d. %s (%f)\" % (f + 1, (dataset.columns.values).reshape(-1)[indices[f]], importances_RF[indices[f]]))\n",
    "features_ranking.to_csv('features_ranking_based_on_randomforest.csv', index=False)\n",
    "\n"
   ]
  },
  {
   "cell_type": "code",
   "execution_count": null,
   "metadata": {
    "collapsed": true
   },
   "outputs": [],
   "source": []
  },
  {
   "cell_type": "code",
   "execution_count": null,
   "metadata": {
    "collapsed": true
   },
   "outputs": [],
   "source": []
  },
  {
   "cell_type": "code",
   "execution_count": null,
   "metadata": {
    "collapsed": true,
    "scrolled": true
   },
   "outputs": [],
   "source": []
  },
  {
   "cell_type": "code",
   "execution_count": null,
   "metadata": {
    "collapsed": true,
    "scrolled": true
   },
   "outputs": [],
   "source": []
  },
  {
   "cell_type": "code",
   "execution_count": null,
   "metadata": {
    "collapsed": true
   },
   "outputs": [],
   "source": []
  },
  {
   "cell_type": "code",
   "execution_count": null,
   "metadata": {
    "collapsed": true
   },
   "outputs": [],
   "source": []
  },
  {
   "cell_type": "code",
   "execution_count": null,
   "metadata": {
    "collapsed": true
   },
   "outputs": [],
   "source": []
  },
  {
   "cell_type": "code",
   "execution_count": null,
   "metadata": {
    "collapsed": true
   },
   "outputs": [],
   "source": []
  }
 ],
 "metadata": {
  "_change_revision": 0,
  "_is_fork": false,
  "kernelspec": {
   "display_name": "Python 3",
   "language": "python",
   "name": "python3"
  },
  "language_info": {
   "codemirror_mode": {
    "name": "ipython",
    "version": 3
   },
   "file_extension": ".py",
   "mimetype": "text/x-python",
   "name": "python",
   "nbconvert_exporter": "python",
   "pygments_lexer": "ipython3",
   "version": "3.7.3"
  }
 },
 "nbformat": 4,
 "nbformat_minor": 1
}
