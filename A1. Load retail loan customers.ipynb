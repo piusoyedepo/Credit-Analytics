{
 "cells": [
  {
   "cell_type": "code",
   "execution_count": null,
   "metadata": {
    "collapsed": true
   },
   "outputs": [],
   "source": []
  },
  {
   "cell_type": "code",
   "execution_count": 1,
   "metadata": {},
   "outputs": [
    {
     "name": "stdout",
     "output_type": "stream",
     "text": [
      "load libraries...\n"
     ]
    }
   ],
   "source": [
    "print 'load libraries...'"
   ]
  },
  {
   "cell_type": "code",
   "execution_count": 2,
   "metadata": {
    "collapsed": true
   },
   "outputs": [],
   "source": [
    "# The purpose of this project is to analysis retail credits and create credit scores for all individuals\n",
    "# A number of retail loans open to customers were used for selection\n",
    "# Customers with these existing products with latest loan date after jan2016 were extracted\n",
    "# Based on a NPL list from ERM customers (active) were labelled as good and bad\n"
   ]
  },
  {
   "cell_type": "code",
   "execution_count": 3,
   "metadata": {
    "collapsed": true
   },
   "outputs": [],
   "source": [
    "# Add path in order to load utility functions\n",
    "import sys\n",
    "sys.path.append(r\"N:\\18. Hot Spot\\Custom Modules\\Utils\")\n",
    "sys.path.append(r\"N:\\18. Hot Spot\\Custom Modules\\ETLMonthly\")\n"
   ]
  },
  {
   "cell_type": "code",
   "execution_count": 4,
   "metadata": {
    "collapsed": true
   },
   "outputs": [],
   "source": [
    "# setup environment and import libraries\n",
    "import os\n",
    "import re\n",
    "import datetime\n",
    "import time\n",
    "import getpass\n",
    "import pandas as pd\n",
    "import numpy as np\n",
    "from datetime import datetime, date\n",
    "from datetime import timedelta\n",
    "import calendar as cd\n",
    "from collections import OrderedDict\n",
    "import sqlalchemy\n",
    "import sqlalchemy\n",
    "from sqlalchemy import types, create_engine\n",
    "import file_utils\n",
    "import db_utils\n",
    "import config\n",
    "\n",
    "path=r'C:\\ProgramData\\Anaconda2\\instantclient_12_2'\n",
    "os.environ['PATH']=path\n",
    "import cx_Oracle\n",
    "\n",
    "#set working directory\n",
    "os.chdir(config.working_dir)"
   ]
  },
  {
   "cell_type": "code",
   "execution_count": 5,
   "metadata": {
    "collapsed": true
   },
   "outputs": [],
   "source": [
    "# db credentials authentication"
   ]
  },
  {
   "cell_type": "code",
   "execution_count": 6,
   "metadata": {},
   "outputs": [
    {
     "name": "stdout",
     "output_type": "stream",
     "text": [
      "connect to database...\n",
      "Testing Connection...\n",
      "Connection Succesful!\n"
     ]
    }
   ],
   "source": [
    "print 'connect to database...'\n",
    "conn_string = db_utils.db_connect(config.db_username, config.db_pwd)"
   ]
  },
  {
   "cell_type": "code",
   "execution_count": 7,
   "metadata": {
    "collapsed": true
   },
   "outputs": [],
   "source": [
    "mtch = re.match('.*@', conn_string)\n",
    "un, pwd = mtch.group().rstrip('@').split('/')"
   ]
  },
  {
   "cell_type": "code",
   "execution_count": null,
   "metadata": {
    "collapsed": true
   },
   "outputs": [],
   "source": []
  },
  {
   "cell_type": "code",
   "execution_count": 8,
   "metadata": {
    "collapsed": true
   },
   "outputs": [],
   "source": [
    "TARGET_VAR='IS_BAD'"
   ]
  },
  {
   "cell_type": "code",
   "execution_count": 9,
   "metadata": {
    "collapsed": true
   },
   "outputs": [],
   "source": [
    "LOAN_START_DATE = '01jan2019'"
   ]
  },
  {
   "cell_type": "code",
   "execution_count": 10,
   "metadata": {
    "collapsed": true
   },
   "outputs": [],
   "source": [
    "tbl_nm='cs_retail_loan_cust'"
   ]
  },
  {
   "cell_type": "code",
   "execution_count": 11,
   "metadata": {
    "collapsed": true
   },
   "outputs": [],
   "source": [
    "# # Extract the retail loan ledgers that will be considered during the analysis\n",
    "# retail_loan_ledgers = pd.read_excel(r\"..\\Docs\\Retail loan ledgers.xlsx\", sheetname=\"SQL Results\")['LED_CODE']\n",
    "# retail_loan_ledgers = ','.join([str(l) for l in retail_loan_ledgers])"
   ]
  },
  {
   "cell_type": "code",
   "execution_count": 12,
   "metadata": {
    "collapsed": true
   },
   "outputs": [],
   "source": [
    "qc_retail_loan_ledgers = [1118,1121]"
   ]
  },
  {
   "cell_type": "code",
   "execution_count": null,
   "metadata": {
    "collapsed": true
   },
   "outputs": [],
   "source": []
  },
  {
   "cell_type": "code",
   "execution_count": null,
   "metadata": {
    "collapsed": true
   },
   "outputs": [],
   "source": []
  },
  {
   "cell_type": "markdown",
   "metadata": {},
   "source": [
    "#### Get NPL Customer List From Retail Promo"
   ]
  },
  {
   "cell_type": "code",
   "execution_count": 13,
   "metadata": {
    "scrolled": true
   },
   "outputs": [
    {
     "name": "stdout",
     "output_type": "stream",
     "text": [
      "get bad customers from NPL list...\n"
     ]
    }
   ],
   "source": [
    "print 'get bad customers from NPL list...'\n",
    "\n",
    "# read excel file\n",
    "df_npl_list = pd.concat( \\\n",
    "        [pd.read_excel(r'..\\Docs\\All dates NPLs.xlsx', sheetname='Sheet1', usecols=['LOANACCT','NO_OF_DAYS_IN_OD']), \\\n",
    "         pd.read_excel(r'..\\Docs\\All dates NPLs.xlsx', sheetname='Sheet2', usecols=['LOANACCT','NO_OF_DAYS_IN_OD'])] \\\n",
    "    ) "
   ]
  },
  {
   "cell_type": "code",
   "execution_count": 14,
   "metadata": {
    "collapsed": true
   },
   "outputs": [],
   "source": [
    "# split account key into components\n",
    "df_npl_list[['BRA_CODE','CUS_NUM','CUR_CODE','LED_CODE','SUB_ACCT_CODE']] = df_npl_list.LOANACCT.str.split('/', expand=True)"
   ]
  },
  {
   "cell_type": "code",
   "execution_count": 15,
   "metadata": {
    "collapsed": true
   },
   "outputs": [],
   "source": [
    "# remove LOANACCT column\n",
    "del df_npl_list['LOANACCT']"
   ]
  },
  {
   "cell_type": "code",
   "execution_count": 16,
   "metadata": {
    "collapsed": true
   },
   "outputs": [],
   "source": [
    "# convert account key components to number\n",
    "df_npl_list[['BRA_CODE','CUS_NUM','CUR_CODE','LED_CODE','SUB_ACCT_CODE']] = \\\n",
    "    df_npl_list[['BRA_CODE','CUS_NUM','CUR_CODE','LED_CODE','SUB_ACCT_CODE']].astype(int)"
   ]
  },
  {
   "cell_type": "code",
   "execution_count": 17,
   "metadata": {
    "collapsed": true,
    "scrolled": true
   },
   "outputs": [],
   "source": [
    "df_npl_list = df_npl_list.groupby(['BRA_CODE','CUS_NUM','CUR_CODE','LED_CODE','SUB_ACCT_CODE'], \n",
    "                                  as_index=False).agg({'NO_OF_DAYS_IN_OD':max})"
   ]
  },
  {
   "cell_type": "code",
   "execution_count": 18,
   "metadata": {
    "collapsed": true
   },
   "outputs": [],
   "source": [
    "df_npl_list[TARGET_VAR]=1"
   ]
  },
  {
   "cell_type": "code",
   "execution_count": 19,
   "metadata": {},
   "outputs": [
    {
     "name": "stdout",
     "output_type": "stream",
     "text": [
      "Number of rows in retail NPL list:  47789\n"
     ]
    }
   ],
   "source": [
    "print 'Number of rows in NPL list: ', len(df_npl_list)"
   ]
  },
  {
   "cell_type": "code",
   "execution_count": 20,
   "metadata": {
    "scrolled": true
   },
   "outputs": [
    {
     "name": "stdout",
     "output_type": "stream",
     "text": [
      "unique NPL cust all loan types:  40965\n"
     ]
    }
   ],
   "source": [
    "print 'unique NPL cust all loan types: ', len(df_npl_list[['BRA_CODE','CUS_NUM','IS_BAD']].drop_duplicates())"
   ]
  },
  {
   "cell_type": "code",
   "execution_count": 21,
   "metadata": {
    "collapsed": true
   },
   "outputs": [],
   "source": [
    "# len(df_npl_list_cust)"
   ]
  },
  {
   "cell_type": "code",
   "execution_count": 22,
   "metadata": {
    "collapsed": true
   },
   "outputs": [],
   "source": [
    "# 20,859 - old count"
   ]
  },
  {
   "cell_type": "code",
   "execution_count": 23,
   "metadata": {
    "collapsed": true,
    "scrolled": true
   },
   "outputs": [],
   "source": [
    "# df_npl_list[df_npl_list.duplicated(subset=['BRA_CODE','CUS_NUM','CUR_CODE','LED_CODE','SUB_ACCT_CODE'], keep=False)].sort_values(\n",
    "# by=['BRA_CODE','CUS_NUM','CUR_CODE','LED_CODE','SUB_ACCT_CODE'])"
   ]
  },
  {
   "cell_type": "code",
   "execution_count": null,
   "metadata": {
    "collapsed": true
   },
   "outputs": [],
   "source": []
  },
  {
   "cell_type": "code",
   "execution_count": null,
   "metadata": {
    "collapsed": true
   },
   "outputs": [],
   "source": []
  },
  {
   "cell_type": "markdown",
   "metadata": {},
   "source": [
    "#### Extract all retail loan customer"
   ]
  },
  {
   "cell_type": "code",
   "execution_count": 24,
   "metadata": {
    "collapsed": true
   },
   "outputs": [],
   "source": [
    "# df_retail_active_loans = pd.read_csv('df_retail_active_loans_original.csv')"
   ]
  },
  {
   "cell_type": "code",
   "execution_count": 27,
   "metadata": {
    "scrolled": true
   },
   "outputs": [
    {
     "name": "stdout",
     "output_type": "stream",
     "text": [
      "get all retail loan customers from database...\n",
      "219765\n"
     ]
    }
   ],
   "source": [
    "print 'get all retail loan customers from database...'\n",
    "\n",
    "con = cx_Oracle.connect(conn_string)\n",
    "df_retail_active_loans = pd.read_sql_query('''\n",
    "select bra_code, cus_num, cur_code, led_code, sub_acct_code, date_open,\n",
    "trunc(to_date('{ref_date}'))-date_open as days_from_disbursement\n",
    "from\n",
    "(select a.bra_code, a.cus_num, a.cur_code, a.led_Code, a.sub_acct_code, a.date_open,\n",
    "case when\n",
    "  a.date_open=max(a.date_open) over(partition by a.bra_code, a.cus_num) and\n",
    "  a.sub_acct_code=max(a.sub_acct_code) over(partition by a.bra_code, a.cus_num)\n",
    "then 1 else 0 end is_latest_loan\n",
    "from (select * from stg.d_account_snapshot where reference_date = '{ref_date}') a\n",
    "inner join stg.src_cust_pro b\n",
    "on a.bra_code=b.bra_code and a.cus_num=b.cus_num\n",
    "where\n",
    "b.cust_grade_seg in (1,2,3,4,5)\n",
    "and a.cus_num>99999\n",
    "and a.sta_code=1 and a.cus_num>99999 and a.date_open >= '{LOAN_START_DATE}'\n",
    "and a.led_code in ({ledgers_string}))\n",
    "where is_latest_loan=1\n",
    "'''.format(ledgers_string=str(qc_retail_loan_ledgers)[1:-1], LOAN_START_DATE=LOAN_START_DATE, ref_date=config.ref_date), con)\n",
    "con.close()\n",
    "\n",
    "df_retail_active_loans.to_csv('df_retail_active_loans_original.csv', index=False)\n",
    "print len(df_retail_active_loans)"
   ]
  },
  {
   "cell_type": "code",
   "execution_count": 28,
   "metadata": {
    "collapsed": true
   },
   "outputs": [],
   "source": [
    "df_retail_active_loans_combined = df_retail_active_loans.merge(df_npl_list, how='left', \n",
    "                                                      on=['BRA_CODE','CUS_NUM','CUR_CODE','LED_CODE','SUB_ACCT_CODE'])"
   ]
  },
  {
   "cell_type": "code",
   "execution_count": 29,
   "metadata": {
    "collapsed": true
   },
   "outputs": [],
   "source": [
    "df_retail_active_loans_combined.fillna(0, inplace=True)"
   ]
  },
  {
   "cell_type": "code",
   "execution_count": 30,
   "metadata": {},
   "outputs": [
    {
     "data": {
      "text/plain": [
       "0.0    188660\n",
       "1.0     31105\n",
       "Name: IS_BAD, dtype: int64"
      ]
     },
     "execution_count": 30,
     "metadata": {},
     "output_type": "execute_result"
    }
   ],
   "source": [
    "df_retail_active_loans_combined.IS_BAD.value_counts()"
   ]
  },
  {
   "cell_type": "code",
   "execution_count": 31,
   "metadata": {
    "scrolled": true
   },
   "outputs": [
    {
     "data": {
      "text/html": [
       "<div>\n",
       "<style>\n",
       "    .dataframe thead tr:only-child th {\n",
       "        text-align: right;\n",
       "    }\n",
       "\n",
       "    .dataframe thead th {\n",
       "        text-align: left;\n",
       "    }\n",
       "\n",
       "    .dataframe tbody tr th {\n",
       "        vertical-align: top;\n",
       "    }\n",
       "</style>\n",
       "<table border=\"1\" class=\"dataframe\">\n",
       "  <thead>\n",
       "    <tr style=\"text-align: right;\">\n",
       "      <th></th>\n",
       "      <th>BRA_CODE</th>\n",
       "      <th>CUS_NUM</th>\n",
       "      <th>CUR_CODE</th>\n",
       "      <th>LED_CODE</th>\n",
       "      <th>SUB_ACCT_CODE</th>\n",
       "      <th>DATE_OPEN</th>\n",
       "      <th>DAYS_FROM_DISBURSEMENT</th>\n",
       "      <th>NO_OF_DAYS_IN_OD</th>\n",
       "      <th>IS_BAD</th>\n",
       "    </tr>\n",
       "  </thead>\n",
       "  <tbody>\n",
       "  </tbody>\n",
       "</table>\n",
       "</div>"
      ],
      "text/plain": [
       "Empty DataFrame\n",
       "Columns: [BRA_CODE, CUS_NUM, CUR_CODE, LED_CODE, SUB_ACCT_CODE, DATE_OPEN, DAYS_FROM_DISBURSEMENT, NO_OF_DAYS_IN_OD, IS_BAD]\n",
       "Index: []"
      ]
     },
     "execution_count": 31,
     "metadata": {},
     "output_type": "execute_result"
    }
   ],
   "source": [
    "df_retail_active_loans_combined[df_retail_active_loans_combined.duplicated(\n",
    "    subset=['BRA_CODE','CUS_NUM','CUR_CODE','LED_CODE','SUB_ACCT_CODE'], keep=False)]"
   ]
  },
  {
   "cell_type": "code",
   "execution_count": 32,
   "metadata": {
    "collapsed": true
   },
   "outputs": [],
   "source": [
    "# Check if duplicates exist by: account keys\n",
    "assert sum(df_retail_active_loans_combined.duplicated(\n",
    "    subset=['BRA_CODE','CUS_NUM','CUR_CODE','LED_CODE','SUB_ACCT_CODE']))==0, 'Warning: Duplicated loan accounts present'"
   ]
  },
  {
   "cell_type": "code",
   "execution_count": 33,
   "metadata": {
    "collapsed": true
   },
   "outputs": [],
   "source": [
    "# Check if duplicates exist by: customer keys\n",
    "assert sum(df_retail_active_loans_combined.duplicated(\n",
    "    subset=['BRA_CODE','CUS_NUM']))==0, 'Warning: Duplicated loan customers present'"
   ]
  },
  {
   "cell_type": "code",
   "execution_count": 34,
   "metadata": {},
   "outputs": [
    {
     "data": {
      "text/html": [
       "<div>\n",
       "<style>\n",
       "    .dataframe thead tr:only-child th {\n",
       "        text-align: right;\n",
       "    }\n",
       "\n",
       "    .dataframe thead th {\n",
       "        text-align: left;\n",
       "    }\n",
       "\n",
       "    .dataframe tbody tr th {\n",
       "        vertical-align: top;\n",
       "    }\n",
       "</style>\n",
       "<table border=\"1\" class=\"dataframe\">\n",
       "  <thead>\n",
       "    <tr style=\"text-align: right;\">\n",
       "      <th></th>\n",
       "      <th>BRA_CODE</th>\n",
       "      <th>CUS_NUM</th>\n",
       "      <th>CUR_CODE</th>\n",
       "      <th>LED_CODE</th>\n",
       "      <th>SUB_ACCT_CODE</th>\n",
       "      <th>DATE_OPEN</th>\n",
       "      <th>DAYS_FROM_DISBURSEMENT</th>\n",
       "      <th>NO_OF_DAYS_IN_OD</th>\n",
       "      <th>IS_BAD</th>\n",
       "    </tr>\n",
       "  </thead>\n",
       "  <tbody>\n",
       "    <tr>\n",
       "      <th>9191</th>\n",
       "      <td>205</td>\n",
       "      <td>158905</td>\n",
       "      <td>1</td>\n",
       "      <td>1118</td>\n",
       "      <td>1</td>\n",
       "      <td>2019-11-23</td>\n",
       "      <td>72</td>\n",
       "      <td>0.0</td>\n",
       "      <td>0.0</td>\n",
       "    </tr>\n",
       "  </tbody>\n",
       "</table>\n",
       "</div>"
      ],
      "text/plain": [
       "      BRA_CODE  CUS_NUM  CUR_CODE  LED_CODE  SUB_ACCT_CODE  DATE_OPEN  \\\n",
       "9191       205   158905         1      1118              1 2019-11-23   \n",
       "\n",
       "      DAYS_FROM_DISBURSEMENT  NO_OF_DAYS_IN_OD  IS_BAD  \n",
       "9191                      72               0.0     0.0  "
      ]
     },
     "execution_count": 34,
     "metadata": {},
     "output_type": "execute_result"
    }
   ],
   "source": [
    "# check some customers\n",
    "df_retail_active_loans_combined[(df_retail_active_loans_combined.BRA_CODE==205) & (df_retail_active_loans_combined.CUS_NUM==158905)]"
   ]
  },
  {
   "cell_type": "code",
   "execution_count": null,
   "metadata": {
    "collapsed": true
   },
   "outputs": [],
   "source": []
  },
  {
   "cell_type": "code",
   "execution_count": null,
   "metadata": {
    "collapsed": true
   },
   "outputs": [],
   "source": []
  },
  {
   "cell_type": "markdown",
   "metadata": {},
   "source": [
    "#### Attach status (IS_BAD) to retail loans"
   ]
  },
  {
   "cell_type": "code",
   "execution_count": 35,
   "metadata": {
    "collapsed": true,
    "scrolled": true
   },
   "outputs": [],
   "source": [
    "is_bad_select_cond = (df_retail_active_loans_combined.IS_BAD==1) & (df_retail_active_loans_combined['NO_OF_DAYS_IN_OD']>=90)\n",
    "is_good_select_cond = (df_retail_active_loans_combined.IS_BAD==0) & (df_retail_active_loans_combined['DAYS_FROM_DISBURSEMENT']>=90)"
   ]
  },
  {
   "cell_type": "code",
   "execution_count": 36,
   "metadata": {
    "collapsed": true,
    "scrolled": true
   },
   "outputs": [],
   "source": [
    "df_retail_loan_cust = df_retail_active_loans_combined[is_bad_select_cond | is_good_select_cond]"
   ]
  },
  {
   "cell_type": "code",
   "execution_count": 37,
   "metadata": {},
   "outputs": [
    {
     "data": {
      "text/plain": [
       "0.0    141783\n",
       "1.0     12941\n",
       "Name: IS_BAD, dtype: int64"
      ]
     },
     "execution_count": 37,
     "metadata": {},
     "output_type": "execute_result"
    }
   ],
   "source": [
    "df_retail_loan_cust.IS_BAD.value_counts()"
   ]
  },
  {
   "cell_type": "code",
   "execution_count": 38,
   "metadata": {
    "collapsed": true
   },
   "outputs": [],
   "source": [
    "######### old figures ########\n",
    "# 0.0    170195\n",
    "# 1.0      6281\n",
    "# Name: IS_BAD, dtype: int64"
   ]
  },
  {
   "cell_type": "code",
   "execution_count": null,
   "metadata": {
    "collapsed": true
   },
   "outputs": [],
   "source": []
  },
  {
   "cell_type": "code",
   "execution_count": null,
   "metadata": {
    "collapsed": true
   },
   "outputs": [],
   "source": []
  },
  {
   "cell_type": "markdown",
   "metadata": {},
   "source": [
    "#### Load data"
   ]
  },
  {
   "cell_type": "code",
   "execution_count": 39,
   "metadata": {},
   "outputs": [
    {
     "data": {
      "text/plain": [
       "0.0    141783\n",
       "1.0     12941\n",
       "Name: IS_BAD, dtype: int64"
      ]
     },
     "execution_count": 39,
     "metadata": {},
     "output_type": "execute_result"
    }
   ],
   "source": [
    "df_retail_loan_cust.IS_BAD.value_counts()"
   ]
  },
  {
   "cell_type": "code",
   "execution_count": 40,
   "metadata": {
    "collapsed": true
   },
   "outputs": [],
   "source": [
    "# df_retail_loan_cust = pd.read_csv('cs_retail_loan_cust.csv')"
   ]
  },
  {
   "cell_type": "code",
   "execution_count": 41,
   "metadata": {
    "scrolled": true
   },
   "outputs": [
    {
     "name": "stderr",
     "output_type": "stream",
     "text": [
      "C:\\ProgramData\\Anaconda2\\lib\\site-packages\\ipykernel_launcher.py:1: SettingWithCopyWarning: \n",
      "A value is trying to be set on a copy of a slice from a DataFrame.\n",
      "Try using .loc[row_indexer,col_indexer] = value instead\n",
      "\n",
      "See the caveats in the documentation: http://pandas.pydata.org/pandas-docs/stable/indexing.html#indexing-view-versus-copy\n",
      "  \"\"\"Entry point for launching an IPython kernel.\n"
     ]
    }
   ],
   "source": [
    "df_retail_loan_cust['DATE_OPEN'] = pd.to_datetime(df_retail_loan_cust.DATE_OPEN)"
   ]
  },
  {
   "cell_type": "code",
   "execution_count": 42,
   "metadata": {
    "collapsed": true
   },
   "outputs": [],
   "source": [
    "df_retail_loan_cust.to_csv('cs_retail_loan_cust.csv', index=False)"
   ]
  },
  {
   "cell_type": "code",
   "execution_count": 43,
   "metadata": {
    "collapsed": true,
    "scrolled": true
   },
   "outputs": [],
   "source": [
    "conn = create_engine('oracle+cx_oracle://{}:{}@dwdrscan.gtbank.com:1521/?service_name=odidb'.format(un, pwd))\n",
    "df_retail_loan_cust.to_sql('cs_retail_loan_cust', conn, index=False, if_exists='replace', chunksize=10000, \n",
    "                           dtype=db_utils.sqlcol(df_retail_loan_cust))"
   ]
  },
  {
   "cell_type": "code",
   "execution_count": 44,
   "metadata": {
    "scrolled": true
   },
   "outputs": [
    {
     "data": {
      "text/plain": [
       "0.0    141783\n",
       "1.0     12941\n",
       "Name: IS_BAD, dtype: int64"
      ]
     },
     "execution_count": 44,
     "metadata": {},
     "output_type": "execute_result"
    }
   ],
   "source": [
    "df_retail_loan_cust.IS_BAD.value_counts()"
   ]
  },
  {
   "cell_type": "code",
   "execution_count": null,
   "metadata": {
    "collapsed": true
   },
   "outputs": [],
   "source": []
  },
  {
   "cell_type": "code",
   "execution_count": 45,
   "metadata": {},
   "outputs": [
    {
     "name": "stdout",
     "output_type": "stream",
     "text": [
      "2019-02-12 00:00:00\n",
      "2019-11-05 00:00:00\n"
     ]
    }
   ],
   "source": [
    "print min(df_retail_loan_cust.DATE_OPEN)\n",
    "print max(df_retail_loan_cust.DATE_OPEN)"
   ]
  },
  {
   "cell_type": "code",
   "execution_count": null,
   "metadata": {
    "collapsed": true,
    "scrolled": true
   },
   "outputs": [],
   "source": []
  },
  {
   "cell_type": "code",
   "execution_count": null,
   "metadata": {
    "collapsed": true,
    "scrolled": true
   },
   "outputs": [],
   "source": []
  },
  {
   "cell_type": "code",
   "execution_count": null,
   "metadata": {
    "collapsed": true
   },
   "outputs": [],
   "source": []
  },
  {
   "cell_type": "code",
   "execution_count": null,
   "metadata": {
    "collapsed": true
   },
   "outputs": [],
   "source": []
  },
  {
   "cell_type": "code",
   "execution_count": null,
   "metadata": {
    "collapsed": true
   },
   "outputs": [],
   "source": []
  }
 ],
 "metadata": {
  "kernelspec": {
   "display_name": "Python 2",
   "language": "python",
   "name": "python2"
  },
  "language_info": {
   "codemirror_mode": {
    "name": "ipython",
    "version": 2
   },
   "file_extension": ".py",
   "mimetype": "text/x-python",
   "name": "python",
   "nbconvert_exporter": "python",
   "pygments_lexer": "ipython2",
   "version": "2.7.13"
  }
 },
 "nbformat": 4,
 "nbformat_minor": 2
}
