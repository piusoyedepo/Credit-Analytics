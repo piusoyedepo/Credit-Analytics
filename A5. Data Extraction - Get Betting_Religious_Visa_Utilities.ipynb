{
 "cells": [
  {
   "cell_type": "code",
   "execution_count": null,
   "metadata": {
    "collapsed": true
   },
   "outputs": [],
   "source": []
  },
  {
   "cell_type": "code",
   "execution_count": 1,
   "metadata": {},
   "outputs": [
    {
     "name": "stdout",
     "output_type": "stream",
     "text": [
      "load libraries...\n"
     ]
    }
   ],
   "source": [
    "print 'load libraries...'"
   ]
  },
  {
   "cell_type": "code",
   "execution_count": 2,
   "metadata": {
    "collapsed": true
   },
   "outputs": [],
   "source": [
    "# Aim: \n",
    "import sys\n",
    "sys.path.append(r\"N:\\18. Hot Spot\\Custom Modules\\Utils\")"
   ]
  },
  {
   "cell_type": "code",
   "execution_count": 3,
   "metadata": {
    "collapsed": true
   },
   "outputs": [],
   "source": [
    "# setup environment and import libraries\n",
    "import os\n",
    "import re\n",
    "import datetime\n",
    "import time\n",
    "import getpass\n",
    "import pandas as pd\n",
    "import numpy as np\n",
    "from datetime import datetime, date\n",
    "from datetime import timedelta\n",
    "import calendar as cd\n",
    "from collections import OrderedDict\n",
    "path=r'C:\\ProgramData\\Anaconda2\\instantclient_12_2'\n",
    "os.environ['PATH']=path\n",
    "import cx_Oracle\n",
    "from sqlalchemy import create_engine\n",
    "import file_utils\n",
    "import db_utils\n",
    "import config\n",
    "#set working directory\n",
    "os.chdir(config.working_dir)"
   ]
  },
  {
   "cell_type": "code",
   "execution_count": 4,
   "metadata": {
    "collapsed": true
   },
   "outputs": [],
   "source": [
    "# db credentials authentication"
   ]
  },
  {
   "cell_type": "code",
   "execution_count": 5,
   "metadata": {},
   "outputs": [
    {
     "name": "stdout",
     "output_type": "stream",
     "text": [
      "connect to database...\n",
      "Testing Connection...\n",
      "Connection Succesful!\n"
     ]
    }
   ],
   "source": [
    "print 'connect to database...'\n",
    "conn_string = db_utils.db_connect(config.db_username,config.db_pwd)"
   ]
  },
  {
   "cell_type": "code",
   "execution_count": 6,
   "metadata": {
    "collapsed": true
   },
   "outputs": [],
   "source": [
    "mtch = re.match('.*@', conn_string)\n",
    "un, pwd = mtch.group().rstrip('@').split('/')"
   ]
  },
  {
   "cell_type": "code",
   "execution_count": null,
   "metadata": {
    "collapsed": true
   },
   "outputs": [],
   "source": []
  },
  {
   "cell_type": "code",
   "execution_count": 7,
   "metadata": {},
   "outputs": [
    {
     "data": {
      "text/plain": [
       "154724"
      ]
     },
     "execution_count": 7,
     "metadata": {},
     "output_type": "execute_result"
    }
   ],
   "source": [
    "con = cx_Oracle.connect(conn_string)\n",
    "cs_retail_loan_cust_data = pd.read_sql_query(r'select bra_code, cus_num from cs_retail_loan_cust', con)\n",
    "con.close()\n",
    "len(cs_retail_loan_cust_data)"
   ]
  },
  {
   "cell_type": "code",
   "execution_count": null,
   "metadata": {
    "collapsed": true,
    "scrolled": true
   },
   "outputs": [],
   "source": []
  },
  {
   "cell_type": "code",
   "execution_count": null,
   "metadata": {
    "collapsed": true
   },
   "outputs": [],
   "source": []
  },
  {
   "cell_type": "code",
   "execution_count": 8,
   "metadata": {
    "scrolled": true
   },
   "outputs": [
    {
     "name": "stdout",
     "output_type": "stream",
     "text": [
      "1 .  N:\\10. Executive\\Original\\ETL\\betting_gambling_trxns\\04Mar2020.csv.gz\n",
      "2 .  N:\\10. Executive\\Original\\ETL\\betting_gambling_trxns\\28Feb2018.csv.gz\n",
      "3 .  N:\\10. Executive\\Original\\ETL\\betting_gambling_trxns\\28Feb2019.csv.gz\n",
      "4 .  N:\\10. Executive\\Original\\ETL\\betting_gambling_trxns\\29Feb2020.csv.gz\n",
      "5 .  N:\\10. Executive\\Original\\ETL\\betting_gambling_trxns\\30Apr2018.csv.gz\n",
      "6 .  N:\\10. Executive\\Original\\ETL\\betting_gambling_trxns\\30Apr2019.csv.gz\n",
      "7 .  N:\\10. Executive\\Original\\ETL\\betting_gambling_trxns\\30Jun2018.csv.gz\n",
      "8 .  N:\\10. Executive\\Original\\ETL\\betting_gambling_trxns\\30Jun2019.csv.gz\n",
      "9 .  N:\\10. Executive\\Original\\ETL\\betting_gambling_trxns\\30Nov2018.csv.gz\n",
      "10 .  N:\\10. Executive\\Original\\ETL\\betting_gambling_trxns\\30Nov2019.csv.gz\n",
      "11 .  N:\\10. Executive\\Original\\ETL\\betting_gambling_trxns\\30Sep2018.csv.gz\n",
      "12 .  N:\\10. Executive\\Original\\ETL\\betting_gambling_trxns\\30Sep2019.csv.gz\n",
      "13 .  N:\\10. Executive\\Original\\ETL\\betting_gambling_trxns\\31Aug2018.csv.gz\n",
      "14 .  N:\\10. Executive\\Original\\ETL\\betting_gambling_trxns\\31Aug2019.csv.gz\n",
      "15 .  N:\\10. Executive\\Original\\ETL\\betting_gambling_trxns\\31Dec2018.csv.gz\n",
      "16 .  N:\\10. Executive\\Original\\ETL\\betting_gambling_trxns\\31Dec2019.csv.gz\n",
      "17 .  N:\\10. Executive\\Original\\ETL\\betting_gambling_trxns\\31Jan2018.csv.gz\n",
      "18 .  N:\\10. Executive\\Original\\ETL\\betting_gambling_trxns\\31Jan2019.csv.gz\n",
      "19 .  N:\\10. Executive\\Original\\ETL\\betting_gambling_trxns\\31Jan2020.csv.gz\n",
      "20 .  N:\\10. Executive\\Original\\ETL\\betting_gambling_trxns\\31Jul2018.csv.gz\n",
      "21 .  N:\\10. Executive\\Original\\ETL\\betting_gambling_trxns\\31Jul2019.csv.gz\n",
      "22 .  N:\\10. Executive\\Original\\ETL\\betting_gambling_trxns\\31Mar2018.csv.gz\n",
      "23 .  N:\\10. Executive\\Original\\ETL\\betting_gambling_trxns\\31Mar2019.csv.gz\n",
      "24 .  N:\\10. Executive\\Original\\ETL\\betting_gambling_trxns\\31May2018.csv.gz\n",
      "25 .  N:\\10. Executive\\Original\\ETL\\betting_gambling_trxns\\31May2019.csv.gz\n",
      "26 .  N:\\10. Executive\\Original\\ETL\\betting_gambling_trxns\\31Oct2018.csv.gz\n",
      "27 .  N:\\10. Executive\\Original\\ETL\\betting_gambling_trxns\\31Oct2019.csv.gz\n"
     ]
    }
   ],
   "source": [
    "\n",
    "for i, f in enumerate(file_utils.get_files(r\"N:\\10. Executive\\Original\\ETL\\betting_gambling_trxns\")):\n",
    "    print i+1, '. ', f\n",
    "    cur_df = file_utils.unzip(f)\n",
    "    cur_df = cs_retail_loan_cust_data[['BRA_CODE','CUS_NUM']].merge(\n",
    "        cur_df, on=['BRA_CODE','CUS_NUM'], how='inner').fillna(0)\n",
    "        \n",
    "    if_exists_var = 'append'\n",
    "    if i==0:\n",
    "        if_exists_var = 'replace'\n",
    "    \n",
    "    cur_df['REFERENCE_DATE'] = pd.to_datetime(cur_df['REFERENCE_DATE'], format=\"%d%b%Y\")\n",
    "    cur_df['CTRL_DATE'] = pd.to_datetime(cur_df['CTRL_DATE'], format=\"%d%b%Y\")\n",
    "    \n",
    "    conn = create_engine('oracle+cx_oracle://{}:{}@dwdrscan.gtbank.com:1521/?service_name=odidb'.format(un, pwd))    \n",
    "    cur_df.to_sql('cs_betting_gambling', conn, index=False, if_exists=if_exists_var, chunksize=10000,\n",
    "                                                                      dtype=db_utils.sqlcol(cur_df))\n",
    "    "
   ]
  },
  {
   "cell_type": "code",
   "execution_count": null,
   "metadata": {
    "collapsed": true
   },
   "outputs": [],
   "source": []
  },
  {
   "cell_type": "code",
   "execution_count": 9,
   "metadata": {
    "scrolled": true
   },
   "outputs": [
    {
     "name": "stdout",
     "output_type": "stream",
     "text": [
      "1 .  N:\\10. Executive\\Original\\ETL\\religious_trxns\\monthly\\06Mar2020.csv.gz\n",
      "2 .  N:\\10. Executive\\Original\\ETL\\religious_trxns\\monthly\\28Feb2018.csv.gz\n",
      "3 .  N:\\10. Executive\\Original\\ETL\\religious_trxns\\monthly\\28Feb2019.csv.gz\n",
      "4 .  N:\\10. Executive\\Original\\ETL\\religious_trxns\\monthly\\29Feb2020.csv.gz\n",
      "5 .  N:\\10. Executive\\Original\\ETL\\religious_trxns\\monthly\\30Apr2018.csv.gz\n",
      "6 .  N:\\10. Executive\\Original\\ETL\\religious_trxns\\monthly\\30Apr2019.csv.gz\n",
      "7 .  N:\\10. Executive\\Original\\ETL\\religious_trxns\\monthly\\30Jun2018.csv.gz\n",
      "8 .  N:\\10. Executive\\Original\\ETL\\religious_trxns\\monthly\\30Jun2019.csv.gz\n",
      "9 .  N:\\10. Executive\\Original\\ETL\\religious_trxns\\monthly\\30Nov2018.csv.gz\n",
      "10 .  N:\\10. Executive\\Original\\ETL\\religious_trxns\\monthly\\30Nov2019.csv.gz\n",
      "11 .  N:\\10. Executive\\Original\\ETL\\religious_trxns\\monthly\\30Sep2018.csv.gz\n",
      "12 .  N:\\10. Executive\\Original\\ETL\\religious_trxns\\monthly\\30Sep2019.csv.gz\n",
      "13 .  N:\\10. Executive\\Original\\ETL\\religious_trxns\\monthly\\31Aug2018.csv.gz\n",
      "14 .  N:\\10. Executive\\Original\\ETL\\religious_trxns\\monthly\\31Aug2019.csv.gz\n",
      "15 .  N:\\10. Executive\\Original\\ETL\\religious_trxns\\monthly\\31Dec2018.csv.gz\n",
      "16 .  N:\\10. Executive\\Original\\ETL\\religious_trxns\\monthly\\31Dec2019.csv.gz\n",
      "17 .  N:\\10. Executive\\Original\\ETL\\religious_trxns\\monthly\\31Jan2018.csv.gz\n",
      "18 .  N:\\10. Executive\\Original\\ETL\\religious_trxns\\monthly\\31Jan2019.csv.gz\n",
      "19 .  N:\\10. Executive\\Original\\ETL\\religious_trxns\\monthly\\31Jan2020.csv.gz\n",
      "20 .  N:\\10. Executive\\Original\\ETL\\religious_trxns\\monthly\\31Jul2018.csv.gz\n",
      "21 .  N:\\10. Executive\\Original\\ETL\\religious_trxns\\monthly\\31Jul2019.csv.gz\n",
      "22 .  N:\\10. Executive\\Original\\ETL\\religious_trxns\\monthly\\31Mar2018.csv.gz\n",
      "23 .  N:\\10. Executive\\Original\\ETL\\religious_trxns\\monthly\\31Mar2019.csv.gz\n",
      "24 .  N:\\10. Executive\\Original\\ETL\\religious_trxns\\monthly\\31May2018.csv.gz\n",
      "25 .  N:\\10. Executive\\Original\\ETL\\religious_trxns\\monthly\\31May2019.csv.gz\n",
      "26 .  N:\\10. Executive\\Original\\ETL\\religious_trxns\\monthly\\31Oct2018.csv.gz\n",
      "27 .  N:\\10. Executive\\Original\\ETL\\religious_trxns\\monthly\\31Oct2019.csv.gz\n"
     ]
    }
   ],
   "source": [
    "for i, f in enumerate(file_utils.get_files(r\"N:\\10. Executive\\Original\\ETL\\religious_trxns\\monthly\")):\n",
    "    print i+1, '. ', f\n",
    "    cur_df = file_utils.unzip(f)\n",
    "    cur_df = cs_retail_loan_cust_data[['BRA_CODE','CUS_NUM']].merge(\n",
    "        cur_df, on=['BRA_CODE','CUS_NUM'], how='inner').fillna(0)\n",
    "        \n",
    "    if_exists_var = 'append'\n",
    "    if i==0:\n",
    "        if_exists_var = 'replace'\n",
    "    \n",
    "    cur_df['REFERENCE_DATE'] = pd.to_datetime(cur_df['REFERENCE_DATE'], format=\"%d%b%Y\")\n",
    "    cur_df['CTRL_DATE'] = pd.to_datetime(cur_df['CTRL_DATE'], format=\"%d%b%Y\")\n",
    "    \n",
    "    conn = create_engine('oracle+cx_oracle://{}:{}@dwdrscan.gtbank.com:1521/?service_name=odidb'.format(un, pwd))    \n",
    "    cur_df.to_sql('cs_religious', conn, index=False, if_exists=if_exists_var, chunksize=10000,\n",
    "                                                                      dtype=db_utils.sqlcol(cur_df))\n",
    "    "
   ]
  },
  {
   "cell_type": "code",
   "execution_count": null,
   "metadata": {
    "collapsed": true
   },
   "outputs": [],
   "source": []
  },
  {
   "cell_type": "code",
   "execution_count": 10,
   "metadata": {},
   "outputs": [
    {
     "name": "stdout",
     "output_type": "stream",
     "text": [
      "1 .  N:\\10. Executive\\Original\\ETL\\visa_trxns\\17Feb2020.csv.gz\n",
      "2 .  N:\\10. Executive\\Original\\ETL\\visa_trxns\\28Feb2018.csv.gz\n",
      "3 .  N:\\10. Executive\\Original\\ETL\\visa_trxns\\28Feb2019.csv.gz\n",
      "4 .  N:\\10. Executive\\Original\\ETL\\visa_trxns\\30Apr2018.csv.gz\n",
      "5 .  N:\\10. Executive\\Original\\ETL\\visa_trxns\\30Apr2019.csv.gz\n",
      "6 .  N:\\10. Executive\\Original\\ETL\\visa_trxns\\30Jun2018.csv.gz\n",
      "7 .  N:\\10. Executive\\Original\\ETL\\visa_trxns\\30Jun2019.csv.gz\n",
      "8 .  N:\\10. Executive\\Original\\ETL\\visa_trxns\\30Nov2018.csv.gz\n",
      "9 .  N:\\10. Executive\\Original\\ETL\\visa_trxns\\30Nov2019.csv.gz\n",
      "10 .  N:\\10. Executive\\Original\\ETL\\visa_trxns\\30Sep2018.csv.gz\n",
      "11 .  N:\\10. Executive\\Original\\ETL\\visa_trxns\\30Sep2019.csv.gz\n",
      "12 .  N:\\10. Executive\\Original\\ETL\\visa_trxns\\31Aug2018.csv.gz\n",
      "13 .  N:\\10. Executive\\Original\\ETL\\visa_trxns\\31Aug2019.csv.gz\n",
      "14 .  N:\\10. Executive\\Original\\ETL\\visa_trxns\\31Dec2018.csv.gz\n",
      "15 .  N:\\10. Executive\\Original\\ETL\\visa_trxns\\31Dec2019.csv.gz\n",
      "16 .  N:\\10. Executive\\Original\\ETL\\visa_trxns\\31Jan2018.csv.gz\n",
      "17 .  N:\\10. Executive\\Original\\ETL\\visa_trxns\\31Jan2019.csv.gz\n",
      "18 .  N:\\10. Executive\\Original\\ETL\\visa_trxns\\31Jan2020.csv.gz\n",
      "19 .  N:\\10. Executive\\Original\\ETL\\visa_trxns\\31Jul2018.csv.gz\n",
      "20 .  N:\\10. Executive\\Original\\ETL\\visa_trxns\\31Jul2019.csv.gz\n",
      "21 .  N:\\10. Executive\\Original\\ETL\\visa_trxns\\31Mar2018.csv.gz\n",
      "22 .  N:\\10. Executive\\Original\\ETL\\visa_trxns\\31Mar2019.csv.gz\n",
      "23 .  N:\\10. Executive\\Original\\ETL\\visa_trxns\\31May2018.csv.gz\n",
      "24 .  N:\\10. Executive\\Original\\ETL\\visa_trxns\\31May2019.csv.gz\n",
      "25 .  N:\\10. Executive\\Original\\ETL\\visa_trxns\\31Oct2018.csv.gz\n",
      "26 .  N:\\10. Executive\\Original\\ETL\\visa_trxns\\31Oct2019.csv.gz\n"
     ]
    }
   ],
   "source": [
    "for i, f in enumerate(file_utils.get_files(r\"N:\\10. Executive\\Original\\ETL\\visa_trxns\")):\n",
    "    print i+1, '. ', f\n",
    "    cur_df = file_utils.unzip(f)\n",
    "    cur_df = cs_retail_loan_cust_data[['BRA_CODE','CUS_NUM']].merge(\n",
    "        cur_df, on=['BRA_CODE','CUS_NUM'], how='inner').fillna(0)\n",
    "        \n",
    "    if_exists_var = 'append'\n",
    "    if i==0:\n",
    "        if_exists_var = 'replace'\n",
    "    \n",
    "    cur_df['REFERENCE_DATE'] = pd.to_datetime(cur_df['REFERENCE_DATE'], format=\"%d%b%Y\")\n",
    "    cur_df['CTRL_DATE'] = pd.to_datetime(cur_df['CTRL_DATE'], format=\"%d%b%Y\")\n",
    "    \n",
    "    conn = create_engine('oracle+cx_oracle://{}:{}@dwdrscan.gtbank.com:1521/?service_name=odidb'.format(un, pwd))    \n",
    "    cur_df.to_sql('cs_visa', conn, index=False, if_exists=if_exists_var, chunksize=10000,\n",
    "                                                                      dtype=db_utils.sqlcol(cur_df))\n",
    "    "
   ]
  },
  {
   "cell_type": "code",
   "execution_count": null,
   "metadata": {
    "collapsed": true
   },
   "outputs": [],
   "source": []
  },
  {
   "cell_type": "code",
   "execution_count": 11,
   "metadata": {
    "scrolled": true
   },
   "outputs": [
    {
     "name": "stdout",
     "output_type": "stream",
     "text": [
      "1 .  N:\\10. Executive\\Original\\ETL\\utilities_bills_trxns\\04Mar2020.csv.gz\n",
      "2 .  N:\\10. Executive\\Original\\ETL\\utilities_bills_trxns\\28Feb2018.csv.gz\n",
      "3 .  N:\\10. Executive\\Original\\ETL\\utilities_bills_trxns\\28Feb2019.csv.gz\n",
      "4 .  N:\\10. Executive\\Original\\ETL\\utilities_bills_trxns\\30Apr2018.csv.gz\n",
      "5 .  N:\\10. Executive\\Original\\ETL\\utilities_bills_trxns\\30Apr2019.csv.gz\n",
      "6 .  N:\\10. Executive\\Original\\ETL\\utilities_bills_trxns\\30Jun2018.csv.gz\n",
      "7 .  N:\\10. Executive\\Original\\ETL\\utilities_bills_trxns\\30Jun2019.csv.gz\n",
      "8 .  N:\\10. Executive\\Original\\ETL\\utilities_bills_trxns\\30Nov2018.csv.gz\n",
      "9 .  N:\\10. Executive\\Original\\ETL\\utilities_bills_trxns\\30Nov2019.csv.gz\n",
      "10 .  N:\\10. Executive\\Original\\ETL\\utilities_bills_trxns\\30Sep2018.csv.gz\n",
      "11 .  N:\\10. Executive\\Original\\ETL\\utilities_bills_trxns\\30Sep2019.csv.gz\n",
      "12 .  N:\\10. Executive\\Original\\ETL\\utilities_bills_trxns\\31Aug2018.csv.gz\n",
      "13 .  N:\\10. Executive\\Original\\ETL\\utilities_bills_trxns\\31Aug2019.csv.gz\n",
      "14 .  N:\\10. Executive\\Original\\ETL\\utilities_bills_trxns\\31Dec2018.csv.gz\n",
      "15 .  N:\\10. Executive\\Original\\ETL\\utilities_bills_trxns\\31Dec2019.csv.gz\n",
      "16 .  N:\\10. Executive\\Original\\ETL\\utilities_bills_trxns\\31Jan2018.csv.gz\n",
      "17 .  N:\\10. Executive\\Original\\ETL\\utilities_bills_trxns\\31Jan2019.csv.gz\n",
      "18 .  N:\\10. Executive\\Original\\ETL\\utilities_bills_trxns\\31Jan2020.csv.gz\n",
      "19 .  N:\\10. Executive\\Original\\ETL\\utilities_bills_trxns\\31Jul2018.csv.gz\n",
      "20 .  N:\\10. Executive\\Original\\ETL\\utilities_bills_trxns\\31Jul2019.csv.gz\n",
      "21 .  N:\\10. Executive\\Original\\ETL\\utilities_bills_trxns\\31Mar2018.csv.gz\n",
      "22 .  N:\\10. Executive\\Original\\ETL\\utilities_bills_trxns\\31Mar2019.csv.gz\n",
      "23 .  N:\\10. Executive\\Original\\ETL\\utilities_bills_trxns\\31May2018.csv.gz\n",
      "24 .  N:\\10. Executive\\Original\\ETL\\utilities_bills_trxns\\31May2019.csv.gz\n",
      "25 .  N:\\10. Executive\\Original\\ETL\\utilities_bills_trxns\\31Oct2018.csv.gz\n",
      "26 .  N:\\10. Executive\\Original\\ETL\\utilities_bills_trxns\\31Oct2019.csv.gz\n"
     ]
    }
   ],
   "source": [
    "for i, f in enumerate(file_utils.get_files(r\"N:\\10. Executive\\Original\\ETL\\utilities_bills_trxns\")):\n",
    "    print i+1, '. ', f\n",
    "    cur_df = file_utils.unzip(f)\n",
    "    cur_df = cs_retail_loan_cust_data[['BRA_CODE','CUS_NUM']].merge(\n",
    "        cur_df, on=['BRA_CODE','CUS_NUM'], how='inner').fillna(0)\n",
    "        \n",
    "    if_exists_var = 'append'\n",
    "    if i==0:\n",
    "        if_exists_var = 'replace'\n",
    "    \n",
    "    cur_df['REFERENCE_DATE'] = pd.to_datetime(cur_df['REFERENCE_DATE'], format=\"%d%b%Y\")\n",
    "    cur_df['CTRL_DATE'] = pd.to_datetime(cur_df['CTRL_DATE'], format=\"%d%b%Y\")\n",
    "    \n",
    "    conn = create_engine('oracle+cx_oracle://{}:{}@dwdrscan.gtbank.com:1521/?service_name=odidb'.format(un, pwd))    \n",
    "    cur_df.to_sql('cs_utilities_bills', conn, index=False, if_exists=if_exists_var, chunksize=10000,\n",
    "                                                                      dtype=db_utils.sqlcol(cur_df))\n",
    "    "
   ]
  },
  {
   "cell_type": "code",
   "execution_count": null,
   "metadata": {
    "collapsed": true
   },
   "outputs": [],
   "source": []
  },
  {
   "cell_type": "code",
   "execution_count": null,
   "metadata": {
    "collapsed": true
   },
   "outputs": [],
   "source": []
  },
  {
   "cell_type": "code",
   "execution_count": null,
   "metadata": {
    "collapsed": true
   },
   "outputs": [],
   "source": []
  },
  {
   "cell_type": "code",
   "execution_count": 12,
   "metadata": {},
   "outputs": [
    {
     "data": {
      "text/plain": [
       "22973"
      ]
     },
     "execution_count": 12,
     "metadata": {},
     "output_type": "execute_result"
    }
   ],
   "source": [
    "con = cx_Oracle.connect(conn_string)\n",
    "df_bettors = pd.read_sql_query('''\n",
    "select distinct a.bra_code, a.cus_num, 1 as is_bettor\n",
    "from cs_retail_loan_cust a, cs_betting_gambling b\n",
    "where a.bra_code=b.bra_code and a.cus_num=b.cus_num\n",
    "and b.reference_date between trunc(add_months(a.date_open, -12),'month')\n",
    "and trunc(add_months(a.date_open, -1),'month')\n",
    "''', con)\n",
    "con.close()\n",
    "\n",
    "len(df_bettors)"
   ]
  },
  {
   "cell_type": "code",
   "execution_count": 22,
   "metadata": {
    "scrolled": true
   },
   "outputs": [
    {
     "data": {
      "text/plain": [
       "24663"
      ]
     },
     "execution_count": 22,
     "metadata": {},
     "output_type": "execute_result"
    }
   ],
   "source": [
    "con = cx_Oracle.connect(conn_string)\n",
    "df_religious = pd.read_sql_query('''\n",
    "select distinct a.bra_code, a.cus_num, 1 as is_religious\n",
    "from cs_retail_loan_cust a, cs_religious b\n",
    "where a.bra_code=b.bra_code and a.cus_num=b.cus_num\n",
    "and b.reference_date between trunc(add_months(a.date_open, -12),'month')\n",
    "and trunc(add_months(a.date_open, -1),'month')\n",
    "''', con)\n",
    "con.close()\n",
    "\n",
    "len(df_religious)"
   ]
  },
  {
   "cell_type": "code",
   "execution_count": 13,
   "metadata": {
    "scrolled": true
   },
   "outputs": [
    {
     "data": {
      "text/plain": [
       "1213"
      ]
     },
     "execution_count": 13,
     "metadata": {},
     "output_type": "execute_result"
    }
   ],
   "source": [
    "con = cx_Oracle.connect(conn_string)\n",
    "df_visa = pd.read_sql_query('''\n",
    "select distinct a.bra_code, a.cus_num, 1 as is_visa\n",
    "from cs_retail_loan_cust a, cs_visa b\n",
    "where a.bra_code=b.bra_code and a.cus_num=b.cus_num\n",
    "and b.reference_date between trunc(add_months(a.date_open, -12),'month')\n",
    "and trunc(add_months(a.date_open, -1),'month')\n",
    "''', con)\n",
    "con.close()\n",
    "\n",
    "len(df_visa)"
   ]
  },
  {
   "cell_type": "code",
   "execution_count": 15,
   "metadata": {},
   "outputs": [
    {
     "data": {
      "text/plain": [
       "27258"
      ]
     },
     "execution_count": 15,
     "metadata": {},
     "output_type": "execute_result"
    }
   ],
   "source": [
    "con = cx_Oracle.connect(conn_string)\n",
    "df_utilities = pd.read_sql_query('''\n",
    "select distinct a.bra_code, a.cus_num, 1 as is_pay_utilities\n",
    "from cs_retail_loan_cust a, cs_utilities_bills b\n",
    "where a.bra_code=b.bra_code and a.cus_num=b.cus_num\n",
    "and b.reference_date between trunc(add_months(a.date_open, -12),'month')\n",
    "and trunc(add_months(a.date_open, -1),'month')\n",
    "''', con)\n",
    "con.close()\n",
    "\n",
    "len(df_utilities)"
   ]
  },
  {
   "cell_type": "code",
   "execution_count": null,
   "metadata": {
    "collapsed": true
   },
   "outputs": [],
   "source": []
  },
  {
   "cell_type": "code",
   "execution_count": 23,
   "metadata": {
    "scrolled": true
   },
   "outputs": [],
   "source": [
    "df_cs_betting_religious_visa_util = cs_retail_loan_cust_data.merge(\n",
    "    df_bettors, on=['BRA_CODE','CUS_NUM'], how='left').merge(\n",
    "    df_religious, on=['BRA_CODE','CUS_NUM'], how='left').merge(\n",
    "    df_visa, on=['BRA_CODE','CUS_NUM'], how='left').merge(\n",
    "    df_utilities, on=['BRA_CODE','CUS_NUM'], how='left').fillna(0)"
   ]
  },
  {
   "cell_type": "code",
   "execution_count": 24,
   "metadata": {},
   "outputs": [],
   "source": [
    "df_cs_betting_religious_visa_util.to_csv('cs_betting_religious_visa_util.csv', index=False)"
   ]
  },
  {
   "cell_type": "code",
   "execution_count": null,
   "metadata": {
    "scrolled": true
   },
   "outputs": [],
   "source": []
  },
  {
   "cell_type": "code",
   "execution_count": null,
   "metadata": {
    "collapsed": true
   },
   "outputs": [],
   "source": []
  },
  {
   "cell_type": "code",
   "execution_count": null,
   "metadata": {
    "collapsed": true
   },
   "outputs": [],
   "source": []
  }
 ],
 "metadata": {
  "kernelspec": {
   "display_name": "Python 2",
   "language": "python",
   "name": "python2"
  },
  "language_info": {
   "codemirror_mode": {
    "name": "ipython",
    "version": 2
   },
   "file_extension": ".py",
   "mimetype": "text/x-python",
   "name": "python",
   "nbconvert_exporter": "python",
   "pygments_lexer": "ipython2",
   "version": "2.7.13"
  }
 },
 "nbformat": 4,
 "nbformat_minor": 2
}
