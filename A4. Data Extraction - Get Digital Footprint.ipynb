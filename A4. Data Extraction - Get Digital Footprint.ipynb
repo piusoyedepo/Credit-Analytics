{
 "cells": [
  {
   "cell_type": "code",
   "execution_count": 1,
   "metadata": {},
   "outputs": [
    {
     "name": "stdout",
     "output_type": "stream",
     "text": [
      "load libraries...\n"
     ]
    }
   ],
   "source": [
    "print 'load libraries...'"
   ]
  },
  {
   "cell_type": "code",
   "execution_count": 2,
   "metadata": {
    "collapsed": true
   },
   "outputs": [],
   "source": [
    "# Aim: "
   ]
  },
  {
   "cell_type": "code",
   "execution_count": 3,
   "metadata": {
    "collapsed": true
   },
   "outputs": [],
   "source": [
    "# Add path in order to load utility functions\n",
    "import sys\n",
    "sys.path.append(r\"N:\\18. Hot Spot\\Custom Modules\\Utils\")\n",
    "sys.path.append(r\"N:\\18. Hot Spot\\Custom Modules\\ETLMonthly\")"
   ]
  },
  {
   "cell_type": "code",
   "execution_count": 11,
   "metadata": {
    "collapsed": true
   },
   "outputs": [],
   "source": [
    "# setup environment and import libraries\n",
    "import os\n",
    "import re\n",
    "import datetime\n",
    "import time\n",
    "import getpass\n",
    "import pandas as pd\n",
    "import numpy as np\n",
    "from datetime import datetime, date\n",
    "from datetime import timedelta\n",
    "import calendar as cd\n",
    "from collections import OrderedDict\n",
    "path=r'C:\\ProgramData\\Anaconda2\\instantclient_12_2'\n",
    "os.environ['PATH']=path\n",
    "import cx_Oracle\n",
    "import file_utils\n",
    "import db_utils\n",
    "from sqlalchemy import create_engine\n",
    "import config\n",
    "#set working directory\n",
    "os.chdir(config.working_dir)"
   ]
  },
  {
   "cell_type": "code",
   "execution_count": 12,
   "metadata": {
    "collapsed": true
   },
   "outputs": [],
   "source": [
    "pd.set_option('display.max_columns', 500)"
   ]
  },
  {
   "cell_type": "code",
   "execution_count": 13,
   "metadata": {
    "collapsed": true
   },
   "outputs": [],
   "source": [
    "# db credentials authentication"
   ]
  },
  {
   "cell_type": "code",
   "execution_count": 14,
   "metadata": {},
   "outputs": [
    {
     "name": "stdout",
     "output_type": "stream",
     "text": [
      "connect to database...\n",
      "Testing Connection...\n",
      "Connection Succesful!\n"
     ]
    }
   ],
   "source": [
    "print 'connect to database...'\n",
    "conn_string = db_utils.db_connect(config.db_username,config.db_pwd)"
   ]
  },
  {
   "cell_type": "code",
   "execution_count": 17,
   "metadata": {
    "collapsed": true
   },
   "outputs": [],
   "source": [
    "mtch = re.match('.*@', conn_string)\n",
    "un, pwd = mtch.group().rstrip('@').split('/')"
   ]
  },
  {
   "cell_type": "code",
   "execution_count": null,
   "metadata": {
    "collapsed": true
   },
   "outputs": [],
   "source": []
  },
  {
   "cell_type": "code",
   "execution_count": 18,
   "metadata": {
    "collapsed": true
   },
   "outputs": [],
   "source": [
    "con = cx_Oracle.connect(conn_string)\n",
    "cs_retail_loan_cust_data = pd.read_sql_query('select * from cs_retail_loan_cust', con)\n",
    "con.close()"
   ]
  },
  {
   "cell_type": "code",
   "execution_count": null,
   "metadata": {
    "collapsed": true
   },
   "outputs": [],
   "source": []
  },
  {
   "cell_type": "markdown",
   "metadata": {},
   "source": [
    "#### Get GTWorld trxns for retail loan customers only and insert into database"
   ]
  },
  {
   "cell_type": "code",
   "execution_count": 24,
   "metadata": {
    "scrolled": true
   },
   "outputs": [
    {
     "name": "stdout",
     "output_type": "stream",
     "text": [
      "1 .  N:\\10. Executive\\Original\\ETL\\gtworld_trxns\\04Mar2020.csv.gz\n",
      "2 .  N:\\10. Executive\\Original\\ETL\\gtworld_trxns\\28Feb2018.csv.gz\n",
      "3 .  N:\\10. Executive\\Original\\ETL\\gtworld_trxns\\28Feb2019.csv.gz\n",
      "4 .  N:\\10. Executive\\Original\\ETL\\gtworld_trxns\\29Feb2020.csv.gz\n",
      "5 .  N:\\10. Executive\\Original\\ETL\\gtworld_trxns\\30Apr2018.csv.gz\n",
      "6 .  N:\\10. Executive\\Original\\ETL\\gtworld_trxns\\30Apr2019.csv.gz\n",
      "7 .  N:\\10. Executive\\Original\\ETL\\gtworld_trxns\\30Jun2018.csv.gz\n",
      "8 .  N:\\10. Executive\\Original\\ETL\\gtworld_trxns\\30Jun2019.csv.gz\n",
      "9 .  N:\\10. Executive\\Original\\ETL\\gtworld_trxns\\30Nov2018.csv.gz\n",
      "10 .  N:\\10. Executive\\Original\\ETL\\gtworld_trxns\\30Nov2019.csv.gz\n",
      "11 .  N:\\10. Executive\\Original\\ETL\\gtworld_trxns\\30Sep2018.csv.gz\n",
      "12 .  N:\\10. Executive\\Original\\ETL\\gtworld_trxns\\30Sep2019.csv.gz\n",
      "13 .  N:\\10. Executive\\Original\\ETL\\gtworld_trxns\\31Aug2018.csv.gz\n",
      "14 .  N:\\10. Executive\\Original\\ETL\\gtworld_trxns\\31Aug2019.csv.gz\n",
      "15 .  N:\\10. Executive\\Original\\ETL\\gtworld_trxns\\31Dec2018.csv.gz\n",
      "16 .  N:\\10. Executive\\Original\\ETL\\gtworld_trxns\\31Dec2019.csv.gz\n",
      "17 .  N:\\10. Executive\\Original\\ETL\\gtworld_trxns\\31Jan2018.csv.gz\n",
      "18 .  N:\\10. Executive\\Original\\ETL\\gtworld_trxns\\31Jan2019.csv.gz\n",
      "19 .  N:\\10. Executive\\Original\\ETL\\gtworld_trxns\\31Jan2020.csv.gz\n",
      "20 .  N:\\10. Executive\\Original\\ETL\\gtworld_trxns\\31Jul2018.csv.gz\n",
      "21 .  N:\\10. Executive\\Original\\ETL\\gtworld_trxns\\31Jul2019.csv.gz\n",
      "22 .  N:\\10. Executive\\Original\\ETL\\gtworld_trxns\\31Mar2018.csv.gz\n",
      "23 .  N:\\10. Executive\\Original\\ETL\\gtworld_trxns\\31Mar2019.csv.gz\n",
      "24 .  N:\\10. Executive\\Original\\ETL\\gtworld_trxns\\31May2018.csv.gz\n",
      "25 .  N:\\10. Executive\\Original\\ETL\\gtworld_trxns\\31May2019.csv.gz\n",
      "26 .  N:\\10. Executive\\Original\\ETL\\gtworld_trxns\\31Oct2018.csv.gz\n",
      "27 .  N:\\10. Executive\\Original\\ETL\\gtworld_trxns\\31Oct2019.csv.gz\n"
     ]
    }
   ],
   "source": [
    "for i, f in enumerate(file_utils.get_files(r\"N:\\10. Executive\\Original\\ETL\\gtworld_trxns\")):\n",
    "    print i+1, '. ', f\n",
    "    cur_df = file_utils.unzip(f)\n",
    "    cur_df = cs_retail_loan_cust_data[['BRA_CODE','CUS_NUM']].merge(\n",
    "        cur_df, on=['BRA_CODE','CUS_NUM'], how='inner').fillna(0)\n",
    "        \n",
    "    if_exists_var = 'append'\n",
    "    if i==0:\n",
    "        if_exists_var = 'replace'\n",
    "    \n",
    "    cur_df['REFERENCE_DATE'] = pd.to_datetime(cur_df['REFERENCE_DATE'], format=\"%d%b%Y\")\n",
    "    cur_df['CTRL_DATE'] = pd.to_datetime(cur_df['CTRL_DATE'], format=\"%d%b%Y\")\n",
    "    \n",
    "    conn = create_engine('oracle+cx_oracle://{}:{}@dwdrscan.gtbank.com:1521/?service_name=odidb'.format(un, pwd))    \n",
    "    cur_df.to_sql('cs_retail_loans_gtworld', conn, index=False, if_exists=if_exists_var, chunksize=10000,\n",
    "                                                                      dtype=db_utils.sqlcol(cur_df))\n",
    "    del cur_df"
   ]
  },
  {
   "cell_type": "code",
   "execution_count": null,
   "metadata": {
    "collapsed": true
   },
   "outputs": [],
   "source": []
  },
  {
   "cell_type": "markdown",
   "metadata": {},
   "source": [
    "#### Get Retail Customer Digital Trxns"
   ]
  },
  {
   "cell_type": "code",
   "execution_count": 25,
   "metadata": {},
   "outputs": [
    {
     "name": "stdout",
     "output_type": "stream",
     "text": [
      "Creating New Table...\n",
      "New table records:  4598465\n"
     ]
    }
   ],
   "source": [
    "\n",
    "db_utils.create_table_from_selectquery(\n",
    "'cs_digital_trxns',\n",
    "'''\n",
    "select reference_date, b.bra_code, b.cus_num, cnt, vol, cast(channel as NVARCHAR2(50)) channel\n",
    "from data_analyst.cs_retail_loan_cust a\n",
    "inner join\n",
    "(select * from stg.d_chnl_trx@exadata_new where channel!='GTWORLD') b\n",
    "on a.bra_code=b.bra_code and a.cus_num=b.cus_num\n",
    "and b.reference_date between trunc(add_months(a.date_open, -12),'month') and trunc(add_months(a.date_open, -1),'month')\n",
    "\n",
    "union all\n",
    "\n",
    "select  reference_date, b.bra_code, b.cus_num, cnt, vol, cast(channel as NVARCHAR2(50)) channel\n",
    "from data_analyst.cs_retail_loan_cust a\n",
    "inner join\n",
    "(select * from data_analyst.cs_retail_loans_gtworld) b\n",
    "on a.bra_code=b.bra_code and a.cus_num=b.cus_num\n",
    "and b.reference_date between trunc(add_months(a.date_open, -12),'month') and trunc(add_months(a.date_open, -1),'month')\n",
    "''',\n",
    "conn_string, drop_if_exists=True)"
   ]
  },
  {
   "cell_type": "code",
   "execution_count": null,
   "metadata": {
    "collapsed": true
   },
   "outputs": [],
   "source": []
  },
  {
   "cell_type": "code",
   "execution_count": null,
   "metadata": {
    "collapsed": true
   },
   "outputs": [],
   "source": []
  },
  {
   "cell_type": "code",
   "execution_count": 21,
   "metadata": {
    "collapsed": true,
    "scrolled": true
   },
   "outputs": [],
   "source": [
    "# get value and count of the eChannel trxns"
   ]
  },
  {
   "cell_type": "code",
   "execution_count": 26,
   "metadata": {
    "scrolled": true
   },
   "outputs": [
    {
     "name": "stdout",
     "output_type": "stream",
     "text": [
      "153490\n"
     ]
    }
   ],
   "source": [
    "con = cx_Oracle.connect(conn_string)\n",
    "df_digital_trxns = pd.read_sql_query('''\n",
    "select bra_code, cus_num,\n",
    "sum(case when channel='737' then cnt else 0 end) USSD_cnt,\n",
    "sum(case when channel='737' then vol else 0 end) USSD_vol,\n",
    "sum(case when channel='gaps' then cnt else 0 end) GAPS_cnt,\n",
    "sum(case when channel='gaps' then vol else 0 end) GAPS_vol,\n",
    "sum(case when channel='pos_wdr' then cnt else 0 end) POS_WDR_cnt,\n",
    "sum(case when channel='pos_wdr' then vol else 0 end) POS_WDR_vol,\n",
    "sum(case when channel='atm_rou' then cnt else 0 end) ATM_ROU_cnt,\n",
    "sum(case when channel='atm_rou' then vol else 0 end) ATM_ROU_vol,\n",
    "sum(case when channel='atm_on_us' then cnt else 0 end) ATM_ON_US_cnt,\n",
    "sum(case when channel='atm_on_us' then vol else 0 end) ATM_ON_US_vol,\n",
    "sum(case when channel='pos' then cnt else 0 end) POS_cnt,\n",
    "sum(case when channel='pos' then vol else 0 end) POS_vol,\n",
    "sum(case when channel='MB' then cnt else 0 end) MB_cnt,\n",
    "sum(case when channel='MB' then vol else 0 end) MB_vol,\n",
    "sum(case when channel='IB' then cnt else 0 end) IB_cnt,\n",
    "sum(case when channel='IB' then vol else 0 end) IB_vol,\n",
    "sum(case when channel='GTWORLD' then cnt else 0 end) GTWORLD_cnt,\n",
    "sum(case when channel='GTWORLD' then vol else 0 end) GTWORLD_vol\n",
    "from cs_digital_trxns\n",
    "group by bra_code, cus_num\n",
    "''', con)\n",
    "con.close()\n",
    "\n",
    "print len(df_digital_trxns)"
   ]
  },
  {
   "cell_type": "code",
   "execution_count": 27,
   "metadata": {},
   "outputs": [
    {
     "data": {
      "text/plain": [
       "154724"
      ]
     },
     "execution_count": 27,
     "metadata": {},
     "output_type": "execute_result"
    }
   ],
   "source": [
    "con = cx_Oracle.connect(conn_string)\n",
    "cs_retail_loan_cust = pd.read_sql_query('select bra_code, cus_num from cs_retail_loan_cust', con)\n",
    "con.close()\n",
    "\n",
    "len(cs_retail_loan_cust)"
   ]
  },
  {
   "cell_type": "code",
   "execution_count": 28,
   "metadata": {
    "collapsed": true,
    "scrolled": true
   },
   "outputs": [],
   "source": [
    "cs_retail_loan_cust.merge(df_digital_trxns, on=['BRA_CODE','CUS_NUM'], \n",
    "                          how='left').fillna(0).to_csv('cs_digital_trxns_info.csv', index=False)"
   ]
  },
  {
   "cell_type": "code",
   "execution_count": null,
   "metadata": {
    "collapsed": true
   },
   "outputs": [],
   "source": []
  },
  {
   "cell_type": "code",
   "execution_count": null,
   "metadata": {
    "collapsed": true
   },
   "outputs": [],
   "source": []
  },
  {
   "cell_type": "code",
   "execution_count": null,
   "metadata": {
    "collapsed": true
   },
   "outputs": [],
   "source": []
  },
  {
   "cell_type": "code",
   "execution_count": null,
   "metadata": {
    "collapsed": true
   },
   "outputs": [],
   "source": []
  },
  {
   "cell_type": "code",
   "execution_count": null,
   "metadata": {
    "collapsed": true
   },
   "outputs": [],
   "source": []
  }
 ],
 "metadata": {
  "kernelspec": {
   "display_name": "Python 2",
   "language": "python",
   "name": "python2"
  },
  "language_info": {
   "codemirror_mode": {
    "name": "ipython",
    "version": 2
   },
   "file_extension": ".py",
   "mimetype": "text/x-python",
   "name": "python",
   "nbconvert_exporter": "python",
   "pygments_lexer": "ipython2",
   "version": "2.7.13"
  }
 },
 "nbformat": 4,
 "nbformat_minor": 2
}
