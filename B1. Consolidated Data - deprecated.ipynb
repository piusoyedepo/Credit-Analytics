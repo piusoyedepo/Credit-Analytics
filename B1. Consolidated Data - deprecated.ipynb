{
 "cells": [
  {
   "cell_type": "code",
   "execution_count": null,
   "metadata": {
    "collapsed": true
   },
   "outputs": [],
   "source": []
  },
  {
   "cell_type": "code",
   "execution_count": 1,
   "metadata": {},
   "outputs": [
    {
     "name": "stdout",
     "output_type": "stream",
     "text": [
      "load libraries...\n"
     ]
    }
   ],
   "source": [
    "print 'load libraries...'"
   ]
  },
  {
   "cell_type": "code",
   "execution_count": 2,
   "metadata": {
    "collapsed": true
   },
   "outputs": [],
   "source": [
    "# Aim: Obtains the turnover/lodgement count and amount of a retail loan customer 12 months before the latest loan date\n",
    "# In case customers have no lodgement in a month, that/those months are made zero before passing them in\n",
    "# for average and standard deviation"
   ]
  },
  {
   "cell_type": "code",
   "execution_count": 19,
   "metadata": {
    "collapsed": true
   },
   "outputs": [],
   "source": [
    "# setup environment and import libraries\n",
    "import os\n",
    "import re\n",
    "import datetime\n",
    "import time\n",
    "import getpass\n",
    "import pandas as pd\n",
    "import numpy as np\n",
    "from datetime import datetime, date\n",
    "from datetime import timedelta\n",
    "import calendar as cd\n",
    "from collections import OrderedDict\n",
    "path=r'C:\\ProgramData\\Anaconda2\\instantclient_12_2'\n",
    "os.environ['PATH']=path\n",
    "import cx_Oracle\n",
    "import utils\n",
    "from sqlalchemy import engine\n",
    "import sqlalchemy\n",
    "import dateutil.relativedelta\n",
    "from sqlalchemy import types, create_engine\n",
    "\n",
    "#set working directory\n",
    "os.chdir(config.working_dir)"
   ]
  },
  {
   "cell_type": "code",
   "execution_count": 3,
   "metadata": {
    "collapsed": true
   },
   "outputs": [],
   "source": [
    "pd.set_option('display.max_columns', 500)"
   ]
  },
  {
   "cell_type": "code",
   "execution_count": 5,
   "metadata": {
    "collapsed": true
   },
   "outputs": [],
   "source": [
    "# db credentials authentication"
   ]
  },
  {
   "cell_type": "code",
   "execution_count": 4,
   "metadata": {},
   "outputs": [
    {
     "name": "stdout",
     "output_type": "stream",
     "text": [
      "connect to database...\n",
      "Enter username: data_analyst\n",
      "Enter Password:········\n",
      "Press 'y' to continue, 'c' to cancel or escape:y\n",
      "Testing Connection...\n",
      "Incorrect credentials. Please Try again!\n",
      "Enter username: data_analyst\n",
      "Enter Password:········\n",
      "Press 'y' to continue, 'c' to cancel or escape:y\n",
      "Testing Connection...\n",
      "Connection Succesful!\n"
     ]
    }
   ],
   "source": [
    "print 'connect to database...'\n",
    "conn_string = db_utils.db_connect(config.db_username,config.db_pwd)"
   ]
  },
  {
   "cell_type": "code",
   "execution_count": 21,
   "metadata": {
    "collapsed": true
   },
   "outputs": [],
   "source": [
    "mtch = re.match('.*@', conn_string)\n",
    "un, pwd = mtch.group().rstrip('@').split('/')"
   ]
  },
  {
   "cell_type": "code",
   "execution_count": null,
   "metadata": {
    "collapsed": true
   },
   "outputs": [],
   "source": []
  },
  {
   "cell_type": "code",
   "execution_count": null,
   "metadata": {
    "collapsed": true
   },
   "outputs": [],
   "source": []
  },
  {
   "cell_type": "markdown",
   "metadata": {},
   "source": [
    "#### Retreive info previously extracted"
   ]
  },
  {
   "cell_type": "code",
   "execution_count": 45,
   "metadata": {
    "collapsed": true,
    "scrolled": true
   },
   "outputs": [],
   "source": [
    "df_retail_loan_cust_info = pd.read_csv('df_retail_loan_cust_info.csv')\n",
    "df_retail_loan_cust = pd.read_csv('df_retail_loan_cust.csv')\n",
    "df_retail_loan_cust_acc_info = pd.read_csv('df_retail_loan_cust_acc_info.csv')\n",
    "df_retail_loan_cust_turn_lodge_count_info = pd.read_csv('df_retail_loan_cust_turn_lodge_count_info.csv')\n",
    "df_digital_trxns_info = pd.read_csv('df_digital_trxns_info.csv')"
   ]
  },
  {
   "cell_type": "code",
   "execution_count": null,
   "metadata": {
    "collapsed": true
   },
   "outputs": [],
   "source": [
    "# convert joining columns to numbers/integers"
   ]
  },
  {
   "cell_type": "code",
   "execution_count": 52,
   "metadata": {
    "collapsed": true
   },
   "outputs": [],
   "source": [
    "df_retail_loan_cust_info[['BRA_CODE','CUS_NUM']]=df_retail_loan_cust_info[['BRA_CODE','CUS_NUM']].astype(int)\n",
    "df_retail_loan_cust[['BRA_CODE','CUS_NUM']]=df_retail_loan_cust[['BRA_CODE','CUS_NUM']].astype(int)\n",
    "df_retail_loan_cust_acc_info[['BRA_CODE','CUS_NUM']]=df_retail_loan_cust_acc_info[['BRA_CODE','CUS_NUM']].astype(int)\n",
    "df_retail_loan_cust_turn_lodge_count_info[['BRA_CODE','CUS_NUM']]=df_retail_loan_cust_turn_lodge_count_info[['BRA_CODE','CUS_NUM']].astype(int)\n",
    "df_digital_trxns_info[['BRA_CODE','CUS_NUM']]=df_digital_trxns_info[['BRA_CODE','CUS_NUM']].astype(int)"
   ]
  },
  {
   "cell_type": "code",
   "execution_count": 39,
   "metadata": {
    "collapsed": true
   },
   "outputs": [],
   "source": []
  },
  {
   "cell_type": "code",
   "execution_count": null,
   "metadata": {
    "collapsed": true
   },
   "outputs": [],
   "source": [
    "# join data pieces together"
   ]
  },
  {
   "cell_type": "code",
   "execution_count": 53,
   "metadata": {
    "collapsed": true,
    "scrolled": true
   },
   "outputs": [],
   "source": [
    "df_consolidated_retail_loan = df_retail_loan_cust.merge(\n",
    "    df_retail_loan_cust_acc_info, how='left', on=['BRA_CODE','CUS_NUM']).merge(\n",
    "    df_retail_loan_cust_turn_lodge_count_info, how='left', on=['BRA_CODE','CUS_NUM']).merge(\n",
    "    df_digital_trxns_info, how='left', on=['BRA_CODE','CUS_NUM'])"
   ]
  },
  {
   "cell_type": "code",
   "execution_count": 54,
   "metadata": {
    "collapsed": true
   },
   "outputs": [],
   "source": [
    "df_consolidated_retail_loan = df_consolidated_retail_loan.fillna(0)"
   ]
  },
  {
   "cell_type": "code",
   "execution_count": 55,
   "metadata": {
    "collapsed": true
   },
   "outputs": [],
   "source": [
    "df_consolidated_retail_loan = df_consolidated_retail_loan.merge(\n",
    "    df_retail_loan_cust_info, how='left', on=['BRA_CODE','CUS_NUM'])"
   ]
  },
  {
   "cell_type": "code",
   "execution_count": 56,
   "metadata": {
    "collapsed": true
   },
   "outputs": [],
   "source": [
    "df_consolidated_retail_loan['DATE_OPEN']=pd.to_datetime(df_consolidated_retail_loan['DATE_OPEN'])\n",
    "df_consolidated_retail_loan['CUS_DATE_OPEN']=pd.to_datetime(df_consolidated_retail_loan['CUS_DATE_OPEN'])\n",
    "df_consolidated_retail_loan['BIR_DATE']=pd.to_datetime(df_consolidated_retail_loan['BIR_DATE'])"
   ]
  },
  {
   "cell_type": "code",
   "execution_count": 57,
   "metadata": {
    "collapsed": true,
    "scrolled": true
   },
   "outputs": [],
   "source": [
    "df_consolidated_retail_loan.to_csv('df_consolidated_retail_loan.csv', index=False)"
   ]
  },
  {
   "cell_type": "code",
   "execution_count": 58,
   "metadata": {
    "collapsed": true,
    "scrolled": true
   },
   "outputs": [],
   "source": [
    "conn = create_engine('oracle+cx_oracle://{}:{}@dwdrscan.gtbank.com:1521/?service_name=odidb'.format(un, pwd))\n",
    "df_consolidated_retail_loan.to_sql('cs_consolidated_retail_loan', conn, index=False,\n",
    "                                   if_exists='replace', chunksize=10000, dtype=utils.sqlcol(df_consolidated_retail_loan))"
   ]
  },
  {
   "cell_type": "code",
   "execution_count": 51,
   "metadata": {
    "collapsed": true,
    "scrolled": true
   },
   "outputs": [],
   "source": [
    "# df_consolidated_retail_loan.info()"
   ]
  },
  {
   "cell_type": "code",
   "execution_count": null,
   "metadata": {
    "collapsed": true
   },
   "outputs": [],
   "source": []
  },
  {
   "cell_type": "code",
   "execution_count": null,
   "metadata": {
    "collapsed": true
   },
   "outputs": [],
   "source": []
  },
  {
   "cell_type": "code",
   "execution_count": null,
   "metadata": {
    "collapsed": true
   },
   "outputs": [],
   "source": []
  },
  {
   "cell_type": "code",
   "execution_count": null,
   "metadata": {
    "collapsed": true
   },
   "outputs": [],
   "source": []
  },
  {
   "cell_type": "code",
   "execution_count": null,
   "metadata": {
    "collapsed": true
   },
   "outputs": [],
   "source": []
  },
  {
   "cell_type": "code",
   "execution_count": null,
   "metadata": {
    "collapsed": true
   },
   "outputs": [],
   "source": []
  },
  {
   "cell_type": "code",
   "execution_count": null,
   "metadata": {
    "collapsed": true
   },
   "outputs": [],
   "source": []
  },
  {
   "cell_type": "code",
   "execution_count": null,
   "metadata": {
    "collapsed": true
   },
   "outputs": [],
   "source": []
  }
 ],
 "metadata": {
  "kernelspec": {
   "display_name": "Python 2",
   "language": "python",
   "name": "python2"
  },
  "language_info": {
   "codemirror_mode": {
    "name": "ipython",
    "version": 2
   },
   "file_extension": ".py",
   "mimetype": "text/x-python",
   "name": "python",
   "nbconvert_exporter": "python",
   "pygments_lexer": "ipython2",
   "version": "2.7.13"
  }
 },
 "nbformat": 4,
 "nbformat_minor": 2
}
