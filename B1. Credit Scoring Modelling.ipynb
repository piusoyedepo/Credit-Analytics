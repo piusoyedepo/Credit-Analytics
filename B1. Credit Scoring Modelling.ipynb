{
 "cells": [
  {
   "cell_type": "code",
   "execution_count": null,
   "metadata": {
    "collapsed": true
   },
   "outputs": [],
   "source": []
  },
  {
   "cell_type": "code",
   "execution_count": null,
   "metadata": {
    "collapsed": true
   },
   "outputs": [],
   "source": []
  },
  {
   "cell_type": "markdown",
   "metadata": {
    "_cell_guid": "b61c83a9-4d25-b297-d59d-020f2f4ac673",
    "_uuid": "cb7f399728d7328eef9fea8bbe4fadee861db94c"
   },
   "source": [
    "Credit Scoring Modeling - \n",
    "**Data Analytics**"
   ]
  },
  {
   "cell_type": "markdown",
   "metadata": {
    "_cell_guid": "7cec488a-6ee0-4bab-517a-eeca4a68baa4",
    "_uuid": "bd1f9762aa68183d1173b84d48faaf5d017d9a65"
   },
   "source": [
    "### Pre-Processing"
   ]
  },
  {
   "cell_type": "markdown",
   "metadata": {
    "_cell_guid": "74d15d68-944f-08b2-a7e2-3644fcc5c3da",
    "_uuid": "b63a424f40fe80b713a608fcfb476cc88526f409"
   },
   "source": [
    "###### Import Libraries"
   ]
  },
  {
   "cell_type": "code",
   "execution_count": 1,
   "metadata": {
    "_cell_guid": "6d10466f-7879-fb8c-d560-1883853cc10a",
    "_uuid": "1181150716e58807e273c2509fc4db6940f6101e"
   },
   "outputs": [
    {
     "name": "stderr",
     "output_type": "stream",
     "text": [
      "C:\\ProgramData\\Anaconda2\\lib\\site-packages\\sklearn\\cross_validation.py:44: DeprecationWarning: This module was deprecated in version 0.18 in favor of the model_selection module into which all the refactored classes and functions are moved. Also note that the interface of the new CV iterators are different from that of this module. This module will be removed in 0.20.\n",
      "  \"This module will be removed in 0.20.\", DeprecationWarning)\n"
     ]
    },
    {
     "name": "stdout",
     "output_type": "stream",
     "text": [
      "Populating the interactive namespace from numpy and matplotlib\n"
     ]
    }
   ],
   "source": [
    "import sys\n",
    "import os\n",
    "import numpy as np\n",
    "import pandas as pd\n",
    "import sklearn as skl\n",
    "from pandas.io.parsers import read_csv\n",
    "from sklearn.preprocessing import LabelEncoder\n",
    "from sklearn.cross_validation import train_test_split\n",
    "from sklearn.metrics import classification_report\n",
    "from sklearn.metrics import confusion_matrix\n",
    "from sklearn.metrics import accuracy_score, precision_score, recall_score\n",
    "from sklearn import preprocessing\n",
    "from imblearn.under_sampling import RandomUnderSampler\n",
    "from imblearn.over_sampling import RandomOverSampler\n",
    "from imblearn.over_sampling import SMOTE                   # For Oversampling\n",
    "# from outliers import smirnov_grubbs as grubbs\n",
    "from sklearn.feature_selection import SelectKBest\n",
    "from sklearn.feature_selection import chi2\n",
    "from sklearn.cluster import KMeans\n",
    "\n",
    "from sklearn.decomposition import PCA\n",
    "from sklearn.naive_bayes import GaussianNB, BernoulliNB\n",
    "from sklearn.linear_model import LogisticRegression\n",
    "from sklearn.tree import DecisionTreeClassifier\n",
    "\n",
    "from sklearn.neural_network import *\n",
    "from sklearn.ensemble import RandomForestClassifier\n",
    "from sklearn.ensemble import AdaBoostClassifier\n",
    "from sklearn.ensemble import GradientBoostingClassifier\n",
    "from sklearn.ensemble import ExtraTreesClassifier\n",
    "from sklearn.svm import SVC\n",
    "\n",
    "\n",
    "import matplotlib.pyplot as plt\n",
    "%pylab inline\n",
    "import seaborn as sns\n",
    "\n",
    "from sqlalchemy import types, create_engine\n",
    "import math\n",
    "import decimal\n",
    "from datetime import datetime, date\n",
    "from datetime import timedelta\n",
    "import calendar as cd\n",
    "# setup environment and import libraries\n",
    "import os\n",
    "import re\n",
    "import datetime\n",
    "import time\n",
    "import getpass\n",
    "import math\n",
    "import decimal\n",
    "import pandas as pd\n",
    "import numpy as np\n",
    "from datetime import datetime, date\n",
    "from datetime import timedelta\n",
    "import calendar as cd\n",
    "from collections import OrderedDict\n",
    "path=r'C:\\ProgramData\\Anaconda2\\instantclient_12_2'\n",
    "os.environ['PATH']=path\n",
    "import cx_Oracle\n",
    "import pickle\n"
   ]
  },
  {
   "cell_type": "code",
   "execution_count": 2,
   "metadata": {
    "collapsed": true
   },
   "outputs": [],
   "source": [
    "# Add path in order to load utility functions\n",
    "import sys\n",
    "sys.path.append(r\"N:\\18. Hot Spot\\Custom Modules\\Utils\")\n",
    "sys.path.append(r\"N:\\18. Hot Spot\\Custom Modules\\ETLMonthly\")\n",
    "\n",
    "import file_utils\n",
    "import db_utils\n",
    "import config\n",
    "\n",
    "#set working directory\n",
    "work_dir = config.working_dir+'\\modeling'\n",
    "if not os.path.exists(work_dir):\n",
    "    os.mkdir(work_dir)\n",
    "os.chdir(work_dir)"
   ]
  },
  {
   "cell_type": "code",
   "execution_count": 3,
   "metadata": {},
   "outputs": [
    {
     "name": "stdout",
     "output_type": "stream",
     "text": [
      "Enter username: data_analyst\n",
      "Enter Password:········\n",
      "Press 'y' to continue, 'c' to cancel or escape:y\n",
      "Testing Connection...\n",
      "Connection Succesful!\n"
     ]
    }
   ],
   "source": [
    "conn_string = db_utils.db_connect(config.db_username,config.db_pwd)"
   ]
  },
  {
   "cell_type": "code",
   "execution_count": 4,
   "metadata": {
    "collapsed": true
   },
   "outputs": [],
   "source": [
    "mtch = re.match('.*@', conn_string)\n",
    "un, pwd = mtch.group().rstrip('@').split('/')"
   ]
  },
  {
   "cell_type": "code",
   "execution_count": null,
   "metadata": {
    "collapsed": true,
    "scrolled": true
   },
   "outputs": [],
   "source": []
  },
  {
   "cell_type": "code",
   "execution_count": null,
   "metadata": {
    "collapsed": true
   },
   "outputs": [],
   "source": []
  },
  {
   "cell_type": "code",
   "execution_count": 5,
   "metadata": {
    "collapsed": true
   },
   "outputs": [],
   "source": [
    "# variable/initialization declaration\n",
    "\n",
    "# name of the database table for the output\n",
    "db_table_nm='cs_model_v4'\n",
    "dataset_read_from_addr=r'../df_loan_data_derived_var.csv'"
   ]
  },
  {
   "cell_type": "code",
   "execution_count": 6,
   "metadata": {
    "collapsed": true
   },
   "outputs": [],
   "source": [
    "# set target variable name\n",
    "target_var='CLASS'"
   ]
  },
  {
   "cell_type": "code",
   "execution_count": null,
   "metadata": {
    "collapsed": true
   },
   "outputs": [],
   "source": []
  },
  {
   "cell_type": "code",
   "execution_count": 7,
   "metadata": {
    "collapsed": true,
    "scrolled": true
   },
   "outputs": [],
   "source": [
    "# dataset[dataset.CLASS==0]['DOES_IN_BRANCH'].value_counts()"
   ]
  },
  {
   "cell_type": "markdown",
   "metadata": {
    "_cell_guid": "4d07b0af-c146-1811-5935-a30951649371",
    "_uuid": "1e6406202ff1ea448c91fbfc6136ad513c3ee328"
   },
   "source": [
    "###### Read, Transform and Partition Data"
   ]
  },
  {
   "cell_type": "code",
   "execution_count": 8,
   "metadata": {
    "scrolled": true
   },
   "outputs": [],
   "source": [
    "# read and transform data\n",
    "# dataset = read_csv(dataset_read_from_addr, usecols = cols_selected)\n",
    "dataset_original = read_csv(dataset_read_from_addr)\n",
    "dataset_original = dataset_original.rename(columns={'IS_BAD':target_var})\n",
    "\n",
    "# print 'old distros'\n",
    "# print dataset[target_var].value_counts()\n",
    "# bad_guys = dataset[dataset[target_var]==1]\n",
    "# nbr_bad_cust_rows = len(bad_guys)\n",
    "# sampled_good_guys = dataset[dataset[target_var]==0].sample(n=nbr_bad_cust_rows, random_state=42)\n",
    "# dataset = pd.concat([sampled_good_guys,bad_guys])\n",
    "# print 'new distros'\n",
    "# print dataset[target_var].value_counts()\n"
   ]
  },
  {
   "cell_type": "code",
   "execution_count": 62,
   "metadata": {
    "collapsed": true,
    "scrolled": true
   },
   "outputs": [],
   "source": [
    "sampler = RandomUnderSampler(random_state=42)\n",
    "# sampler = RandomOverSampler(random_state=42)"
   ]
  },
  {
   "cell_type": "code",
   "execution_count": 63,
   "metadata": {},
   "outputs": [
    {
     "name": "stdout",
     "output_type": "stream",
     "text": [
      "(154724L, 33L)\n",
      "('Training Set Shape after oversampling: ', (18082L, 33L), (18082L,))\n"
     ]
    }
   ],
   "source": [
    "cols_selected_1 = pickle.load(open('../cols_selected_1.sav','rb'))\n",
    "cols_selected_2_cat = pickle.load(open('../cols_selected_2_cat.sav','rb'))\n",
    "cols_selected_2_numeric = pickle.load(open('../cols_selected_2_numeric.sav','rb'))\n",
    "\n",
    "y = np.vstack(dataset_original[target_var].values)\n",
    "\n",
    "# # Encode dataset and select columns for the first X\n",
    "le = LabelEncoder()\n",
    "X_cat = dataset_original[cols_selected_1].apply(lambda col: le.fit_transform(col)).values\n",
    "print X_cat.shape\n",
    "X_cat_train_original, X_cat_test, y_cat_train_original, y_cat_test = \\\n",
    "    train_test_split(X_cat, y, test_size=0.3, random_state=42)\n",
    "    \n",
    "X_cat_train, y_cat_train = sampler.fit_sample(X_cat_train_original, y_cat_train_original)\n",
    "print('Training Set Shape after oversampling: ', X_cat_train.shape, y_cat_train.shape)"
   ]
  },
  {
   "cell_type": "code",
   "execution_count": 64,
   "metadata": {},
   "outputs": [
    {
     "name": "stderr",
     "output_type": "stream",
     "text": [
      "C:\\ProgramData\\Anaconda2\\lib\\site-packages\\ipykernel_launcher.py:8: SettingWithCopyWarning: \n",
      "A value is trying to be set on a copy of a slice from a DataFrame.\n",
      "Try using .loc[row_indexer,col_indexer] = value instead\n",
      "\n",
      "See the caveats in the documentation: http://pandas.pydata.org/pandas-docs/stable/indexing.html#indexing-view-versus-copy\n",
      "  \n",
      "C:\\ProgramData\\Anaconda2\\lib\\site-packages\\ipykernel_launcher.py:10: SettingWithCopyWarning: \n",
      "A value is trying to be set on a copy of a slice from a DataFrame.\n",
      "Try using .loc[row_indexer,col_indexer] = value instead\n",
      "\n",
      "See the caveats in the documentation: http://pandas.pydata.org/pandas-docs/stable/indexing.html#indexing-view-versus-copy\n",
      "  # Remove the CWD from sys.path while we load stuff.\n"
     ]
    },
    {
     "name": "stdout",
     "output_type": "stream",
     "text": [
      "(154724, 91)\n",
      "('Training Set Shape after oversampling: ', (18082L, 91L), (18082L,))\n"
     ]
    }
   ],
   "source": [
    "# MinMax Scaling for the second X\n",
    "min_max_scaler = preprocessing.MinMaxScaler()\n",
    "# prepare a new dataset that contains only fetures from cols_selected_2_*\n",
    "dataset_2 = dataset_original[cols_selected_2_numeric+cols_selected_2_cat+['BRA_CODE','CUS_NUM',target_var]]\n",
    "# get scaler for minmax scaling - numeric cols only\n",
    "dataset_2_minmax_scaler = min_max_scaler.fit(dataset_2[cols_selected_2_numeric].values)\n",
    "# transform basd on the scaler function defined above\n",
    "dataset_2[cols_selected_2_numeric] = dataset_2_minmax_scaler.transform(dataset_2[cols_selected_2_numeric])\n",
    "# label encoding of cat cols\n",
    "dataset_2[cols_selected_2_cat] = dataset_2[cols_selected_2_cat].apply(lambda col: le.fit_transform(col)).values\n",
    "# set X_minmax\n",
    "X_minmax = dataset_2[cols_selected_2_numeric+cols_selected_2_cat]\n",
    "\n",
    "print X_minmax.shape\n",
    "\n",
    "X_minmax_train_original, X_minmax_test, y_minmax_train_original, y_minmax_test = \\\n",
    "    train_test_split(X_minmax, y, test_size=0.3, random_state=42)\n",
    "    \n",
    "X_minmax_train, y_minmax_train = sampler.fit_sample(X_minmax_train_original, y_minmax_train_original)\n",
    "print('Training Set Shape after oversampling: ', X_minmax_train.shape, y_minmax_train.shape)"
   ]
  },
  {
   "cell_type": "code",
   "execution_count": 65,
   "metadata": {},
   "outputs": [
    {
     "name": "stderr",
     "output_type": "stream",
     "text": [
      "C:\\ProgramData\\Anaconda2\\lib\\site-packages\\sklearn\\preprocessing\\data.py:586: DeprecationWarning: Passing 1d arrays as data is deprecated in 0.17 and will raise ValueError in 0.19. Reshape your data either using X.reshape(-1, 1) if your data has a single feature or X.reshape(1, -1) if it contains a single sample.\n",
      "  warnings.warn(DEPRECATION_MSG_1D, DeprecationWarning)\n",
      "C:\\ProgramData\\Anaconda2\\lib\\site-packages\\sklearn\\preprocessing\\data.py:649: DeprecationWarning: Passing 1d arrays as data is deprecated in 0.17 and will raise ValueError in 0.19. Reshape your data either using X.reshape(-1, 1) if your data has a single feature or X.reshape(1, -1) if it contains a single sample.\n",
      "  warnings.warn(DEPRECATION_MSG_1D, DeprecationWarning)\n",
      "C:\\ProgramData\\Anaconda2\\lib\\site-packages\\ipykernel_launcher.py:9: SettingWithCopyWarning: \n",
      "A value is trying to be set on a copy of a slice from a DataFrame.\n",
      "Try using .loc[row_indexer,col_indexer] = value instead\n",
      "\n",
      "See the caveats in the documentation: http://pandas.pydata.org/pandas-docs/stable/indexing.html#indexing-view-versus-copy\n",
      "  if __name__ == '__main__':\n",
      "C:\\ProgramData\\Anaconda2\\lib\\site-packages\\sklearn\\preprocessing\\data.py:586: DeprecationWarning: Passing 1d arrays as data is deprecated in 0.17 and will raise ValueError in 0.19. Reshape your data either using X.reshape(-1, 1) if your data has a single feature or X.reshape(1, -1) if it contains a single sample.\n",
      "  warnings.warn(DEPRECATION_MSG_1D, DeprecationWarning)\n",
      "C:\\ProgramData\\Anaconda2\\lib\\site-packages\\sklearn\\preprocessing\\data.py:649: DeprecationWarning: Passing 1d arrays as data is deprecated in 0.17 and will raise ValueError in 0.19. Reshape your data either using X.reshape(-1, 1) if your data has a single feature or X.reshape(1, -1) if it contains a single sample.\n",
      "  warnings.warn(DEPRECATION_MSG_1D, DeprecationWarning)\n",
      "C:\\ProgramData\\Anaconda2\\lib\\site-packages\\sklearn\\preprocessing\\data.py:586: DeprecationWarning: Passing 1d arrays as data is deprecated in 0.17 and will raise ValueError in 0.19. Reshape your data either using X.reshape(-1, 1) if your data has a single feature or X.reshape(1, -1) if it contains a single sample.\n",
      "  warnings.warn(DEPRECATION_MSG_1D, DeprecationWarning)\n",
      "C:\\ProgramData\\Anaconda2\\lib\\site-packages\\sklearn\\preprocessing\\data.py:649: DeprecationWarning: Passing 1d arrays as data is deprecated in 0.17 and will raise ValueError in 0.19. Reshape your data either using X.reshape(-1, 1) if your data has a single feature or X.reshape(1, -1) if it contains a single sample.\n",
      "  warnings.warn(DEPRECATION_MSG_1D, DeprecationWarning)\n",
      "C:\\ProgramData\\Anaconda2\\lib\\site-packages\\sklearn\\preprocessing\\data.py:586: DeprecationWarning: Passing 1d arrays as data is deprecated in 0.17 and will raise ValueError in 0.19. Reshape your data either using X.reshape(-1, 1) if your data has a single feature or X.reshape(1, -1) if it contains a single sample.\n",
      "  warnings.warn(DEPRECATION_MSG_1D, DeprecationWarning)\n",
      "C:\\ProgramData\\Anaconda2\\lib\\site-packages\\sklearn\\preprocessing\\data.py:649: DeprecationWarning: Passing 1d arrays as data is deprecated in 0.17 and will raise ValueError in 0.19. Reshape your data either using X.reshape(-1, 1) if your data has a single feature or X.reshape(1, -1) if it contains a single sample.\n",
      "  warnings.warn(DEPRECATION_MSG_1D, DeprecationWarning)\n",
      "C:\\ProgramData\\Anaconda2\\lib\\site-packages\\sklearn\\preprocessing\\data.py:586: DeprecationWarning: Passing 1d arrays as data is deprecated in 0.17 and will raise ValueError in 0.19. Reshape your data either using X.reshape(-1, 1) if your data has a single feature or X.reshape(1, -1) if it contains a single sample.\n",
      "  warnings.warn(DEPRECATION_MSG_1D, DeprecationWarning)\n",
      "C:\\ProgramData\\Anaconda2\\lib\\site-packages\\sklearn\\preprocessing\\data.py:649: DeprecationWarning: Passing 1d arrays as data is deprecated in 0.17 and will raise ValueError in 0.19. Reshape your data either using X.reshape(-1, 1) if your data has a single feature or X.reshape(1, -1) if it contains a single sample.\n",
      "  warnings.warn(DEPRECATION_MSG_1D, DeprecationWarning)\n",
      "C:\\ProgramData\\Anaconda2\\lib\\site-packages\\sklearn\\preprocessing\\data.py:586: DeprecationWarning: Passing 1d arrays as data is deprecated in 0.17 and will raise ValueError in 0.19. Reshape your data either using X.reshape(-1, 1) if your data has a single feature or X.reshape(1, -1) if it contains a single sample.\n",
      "  warnings.warn(DEPRECATION_MSG_1D, DeprecationWarning)\n",
      "C:\\ProgramData\\Anaconda2\\lib\\site-packages\\sklearn\\preprocessing\\data.py:649: DeprecationWarning: Passing 1d arrays as data is deprecated in 0.17 and will raise ValueError in 0.19. Reshape your data either using X.reshape(-1, 1) if your data has a single feature or X.reshape(1, -1) if it contains a single sample.\n",
      "  warnings.warn(DEPRECATION_MSG_1D, DeprecationWarning)\n",
      "C:\\ProgramData\\Anaconda2\\lib\\site-packages\\sklearn\\preprocessing\\data.py:586: DeprecationWarning: Passing 1d arrays as data is deprecated in 0.17 and will raise ValueError in 0.19. Reshape your data either using X.reshape(-1, 1) if your data has a single feature or X.reshape(1, -1) if it contains a single sample.\n",
      "  warnings.warn(DEPRECATION_MSG_1D, DeprecationWarning)\n",
      "C:\\ProgramData\\Anaconda2\\lib\\site-packages\\sklearn\\preprocessing\\data.py:649: DeprecationWarning: Passing 1d arrays as data is deprecated in 0.17 and will raise ValueError in 0.19. Reshape your data either using X.reshape(-1, 1) if your data has a single feature or X.reshape(1, -1) if it contains a single sample.\n",
      "  warnings.warn(DEPRECATION_MSG_1D, DeprecationWarning)\n",
      "C:\\ProgramData\\Anaconda2\\lib\\site-packages\\sklearn\\preprocessing\\data.py:586: DeprecationWarning: Passing 1d arrays as data is deprecated in 0.17 and will raise ValueError in 0.19. Reshape your data either using X.reshape(-1, 1) if your data has a single feature or X.reshape(1, -1) if it contains a single sample.\n",
      "  warnings.warn(DEPRECATION_MSG_1D, DeprecationWarning)\n",
      "C:\\ProgramData\\Anaconda2\\lib\\site-packages\\sklearn\\preprocessing\\data.py:649: DeprecationWarning: Passing 1d arrays as data is deprecated in 0.17 and will raise ValueError in 0.19. Reshape your data either using X.reshape(-1, 1) if your data has a single feature or X.reshape(1, -1) if it contains a single sample.\n",
      "  warnings.warn(DEPRECATION_MSG_1D, DeprecationWarning)\n",
      "C:\\ProgramData\\Anaconda2\\lib\\site-packages\\sklearn\\preprocessing\\data.py:586: DeprecationWarning: Passing 1d arrays as data is deprecated in 0.17 and will raise ValueError in 0.19. Reshape your data either using X.reshape(-1, 1) if your data has a single feature or X.reshape(1, -1) if it contains a single sample.\n",
      "  warnings.warn(DEPRECATION_MSG_1D, DeprecationWarning)\n",
      "C:\\ProgramData\\Anaconda2\\lib\\site-packages\\sklearn\\preprocessing\\data.py:649: DeprecationWarning: Passing 1d arrays as data is deprecated in 0.17 and will raise ValueError in 0.19. Reshape your data either using X.reshape(-1, 1) if your data has a single feature or X.reshape(1, -1) if it contains a single sample.\n",
      "  warnings.warn(DEPRECATION_MSG_1D, DeprecationWarning)\n",
      "C:\\ProgramData\\Anaconda2\\lib\\site-packages\\sklearn\\preprocessing\\data.py:586: DeprecationWarning: Passing 1d arrays as data is deprecated in 0.17 and will raise ValueError in 0.19. Reshape your data either using X.reshape(-1, 1) if your data has a single feature or X.reshape(1, -1) if it contains a single sample.\n",
      "  warnings.warn(DEPRECATION_MSG_1D, DeprecationWarning)\n",
      "C:\\ProgramData\\Anaconda2\\lib\\site-packages\\sklearn\\preprocessing\\data.py:649: DeprecationWarning: Passing 1d arrays as data is deprecated in 0.17 and will raise ValueError in 0.19. Reshape your data either using X.reshape(-1, 1) if your data has a single feature or X.reshape(1, -1) if it contains a single sample.\n",
      "  warnings.warn(DEPRECATION_MSG_1D, DeprecationWarning)\n",
      "C:\\ProgramData\\Anaconda2\\lib\\site-packages\\sklearn\\preprocessing\\data.py:586: DeprecationWarning: Passing 1d arrays as data is deprecated in 0.17 and will raise ValueError in 0.19. Reshape your data either using X.reshape(-1, 1) if your data has a single feature or X.reshape(1, -1) if it contains a single sample.\n",
      "  warnings.warn(DEPRECATION_MSG_1D, DeprecationWarning)\n",
      "C:\\ProgramData\\Anaconda2\\lib\\site-packages\\sklearn\\preprocessing\\data.py:649: DeprecationWarning: Passing 1d arrays as data is deprecated in 0.17 and will raise ValueError in 0.19. Reshape your data either using X.reshape(-1, 1) if your data has a single feature or X.reshape(1, -1) if it contains a single sample.\n",
      "  warnings.warn(DEPRECATION_MSG_1D, DeprecationWarning)\n"
     ]
    },
    {
     "name": "stderr",
     "output_type": "stream",
     "text": [
      "C:\\ProgramData\\Anaconda2\\lib\\site-packages\\sklearn\\preprocessing\\data.py:586: DeprecationWarning: Passing 1d arrays as data is deprecated in 0.17 and will raise ValueError in 0.19. Reshape your data either using X.reshape(-1, 1) if your data has a single feature or X.reshape(1, -1) if it contains a single sample.\n",
      "  warnings.warn(DEPRECATION_MSG_1D, DeprecationWarning)\n",
      "C:\\ProgramData\\Anaconda2\\lib\\site-packages\\sklearn\\preprocessing\\data.py:649: DeprecationWarning: Passing 1d arrays as data is deprecated in 0.17 and will raise ValueError in 0.19. Reshape your data either using X.reshape(-1, 1) if your data has a single feature or X.reshape(1, -1) if it contains a single sample.\n",
      "  warnings.warn(DEPRECATION_MSG_1D, DeprecationWarning)\n",
      "C:\\ProgramData\\Anaconda2\\lib\\site-packages\\sklearn\\preprocessing\\data.py:586: DeprecationWarning: Passing 1d arrays as data is deprecated in 0.17 and will raise ValueError in 0.19. Reshape your data either using X.reshape(-1, 1) if your data has a single feature or X.reshape(1, -1) if it contains a single sample.\n",
      "  warnings.warn(DEPRECATION_MSG_1D, DeprecationWarning)\n",
      "C:\\ProgramData\\Anaconda2\\lib\\site-packages\\sklearn\\preprocessing\\data.py:649: DeprecationWarning: Passing 1d arrays as data is deprecated in 0.17 and will raise ValueError in 0.19. Reshape your data either using X.reshape(-1, 1) if your data has a single feature or X.reshape(1, -1) if it contains a single sample.\n",
      "  warnings.warn(DEPRECATION_MSG_1D, DeprecationWarning)\n",
      "C:\\ProgramData\\Anaconda2\\lib\\site-packages\\sklearn\\preprocessing\\data.py:586: DeprecationWarning: Passing 1d arrays as data is deprecated in 0.17 and will raise ValueError in 0.19. Reshape your data either using X.reshape(-1, 1) if your data has a single feature or X.reshape(1, -1) if it contains a single sample.\n",
      "  warnings.warn(DEPRECATION_MSG_1D, DeprecationWarning)\n",
      "C:\\ProgramData\\Anaconda2\\lib\\site-packages\\sklearn\\preprocessing\\data.py:649: DeprecationWarning: Passing 1d arrays as data is deprecated in 0.17 and will raise ValueError in 0.19. Reshape your data either using X.reshape(-1, 1) if your data has a single feature or X.reshape(1, -1) if it contains a single sample.\n",
      "  warnings.warn(DEPRECATION_MSG_1D, DeprecationWarning)\n",
      "C:\\ProgramData\\Anaconda2\\lib\\site-packages\\sklearn\\preprocessing\\data.py:586: DeprecationWarning: Passing 1d arrays as data is deprecated in 0.17 and will raise ValueError in 0.19. Reshape your data either using X.reshape(-1, 1) if your data has a single feature or X.reshape(1, -1) if it contains a single sample.\n",
      "  warnings.warn(DEPRECATION_MSG_1D, DeprecationWarning)\n",
      "C:\\ProgramData\\Anaconda2\\lib\\site-packages\\sklearn\\preprocessing\\data.py:649: DeprecationWarning: Passing 1d arrays as data is deprecated in 0.17 and will raise ValueError in 0.19. Reshape your data either using X.reshape(-1, 1) if your data has a single feature or X.reshape(1, -1) if it contains a single sample.\n",
      "  warnings.warn(DEPRECATION_MSG_1D, DeprecationWarning)\n",
      "C:\\ProgramData\\Anaconda2\\lib\\site-packages\\sklearn\\preprocessing\\data.py:586: DeprecationWarning: Passing 1d arrays as data is deprecated in 0.17 and will raise ValueError in 0.19. Reshape your data either using X.reshape(-1, 1) if your data has a single feature or X.reshape(1, -1) if it contains a single sample.\n",
      "  warnings.warn(DEPRECATION_MSG_1D, DeprecationWarning)\n",
      "C:\\ProgramData\\Anaconda2\\lib\\site-packages\\sklearn\\preprocessing\\data.py:649: DeprecationWarning: Passing 1d arrays as data is deprecated in 0.17 and will raise ValueError in 0.19. Reshape your data either using X.reshape(-1, 1) if your data has a single feature or X.reshape(1, -1) if it contains a single sample.\n",
      "  warnings.warn(DEPRECATION_MSG_1D, DeprecationWarning)\n",
      "C:\\ProgramData\\Anaconda2\\lib\\site-packages\\sklearn\\preprocessing\\data.py:586: DeprecationWarning: Passing 1d arrays as data is deprecated in 0.17 and will raise ValueError in 0.19. Reshape your data either using X.reshape(-1, 1) if your data has a single feature or X.reshape(1, -1) if it contains a single sample.\n",
      "  warnings.warn(DEPRECATION_MSG_1D, DeprecationWarning)\n",
      "C:\\ProgramData\\Anaconda2\\lib\\site-packages\\sklearn\\preprocessing\\data.py:649: DeprecationWarning: Passing 1d arrays as data is deprecated in 0.17 and will raise ValueError in 0.19. Reshape your data either using X.reshape(-1, 1) if your data has a single feature or X.reshape(1, -1) if it contains a single sample.\n",
      "  warnings.warn(DEPRECATION_MSG_1D, DeprecationWarning)\n",
      "C:\\ProgramData\\Anaconda2\\lib\\site-packages\\sklearn\\preprocessing\\data.py:586: DeprecationWarning: Passing 1d arrays as data is deprecated in 0.17 and will raise ValueError in 0.19. Reshape your data either using X.reshape(-1, 1) if your data has a single feature or X.reshape(1, -1) if it contains a single sample.\n",
      "  warnings.warn(DEPRECATION_MSG_1D, DeprecationWarning)\n",
      "C:\\ProgramData\\Anaconda2\\lib\\site-packages\\sklearn\\preprocessing\\data.py:649: DeprecationWarning: Passing 1d arrays as data is deprecated in 0.17 and will raise ValueError in 0.19. Reshape your data either using X.reshape(-1, 1) if your data has a single feature or X.reshape(1, -1) if it contains a single sample.\n",
      "  warnings.warn(DEPRECATION_MSG_1D, DeprecationWarning)\n",
      "C:\\ProgramData\\Anaconda2\\lib\\site-packages\\sklearn\\preprocessing\\data.py:586: DeprecationWarning: Passing 1d arrays as data is deprecated in 0.17 and will raise ValueError in 0.19. Reshape your data either using X.reshape(-1, 1) if your data has a single feature or X.reshape(1, -1) if it contains a single sample.\n",
      "  warnings.warn(DEPRECATION_MSG_1D, DeprecationWarning)\n",
      "C:\\ProgramData\\Anaconda2\\lib\\site-packages\\sklearn\\preprocessing\\data.py:649: DeprecationWarning: Passing 1d arrays as data is deprecated in 0.17 and will raise ValueError in 0.19. Reshape your data either using X.reshape(-1, 1) if your data has a single feature or X.reshape(1, -1) if it contains a single sample.\n",
      "  warnings.warn(DEPRECATION_MSG_1D, DeprecationWarning)\n",
      "C:\\ProgramData\\Anaconda2\\lib\\site-packages\\sklearn\\preprocessing\\data.py:586: DeprecationWarning: Passing 1d arrays as data is deprecated in 0.17 and will raise ValueError in 0.19. Reshape your data either using X.reshape(-1, 1) if your data has a single feature or X.reshape(1, -1) if it contains a single sample.\n",
      "  warnings.warn(DEPRECATION_MSG_1D, DeprecationWarning)\n",
      "C:\\ProgramData\\Anaconda2\\lib\\site-packages\\sklearn\\preprocessing\\data.py:649: DeprecationWarning: Passing 1d arrays as data is deprecated in 0.17 and will raise ValueError in 0.19. Reshape your data either using X.reshape(-1, 1) if your data has a single feature or X.reshape(1, -1) if it contains a single sample.\n",
      "  warnings.warn(DEPRECATION_MSG_1D, DeprecationWarning)\n",
      "C:\\ProgramData\\Anaconda2\\lib\\site-packages\\sklearn\\preprocessing\\data.py:586: DeprecationWarning: Passing 1d arrays as data is deprecated in 0.17 and will raise ValueError in 0.19. Reshape your data either using X.reshape(-1, 1) if your data has a single feature or X.reshape(1, -1) if it contains a single sample.\n",
      "  warnings.warn(DEPRECATION_MSG_1D, DeprecationWarning)\n",
      "C:\\ProgramData\\Anaconda2\\lib\\site-packages\\sklearn\\preprocessing\\data.py:649: DeprecationWarning: Passing 1d arrays as data is deprecated in 0.17 and will raise ValueError in 0.19. Reshape your data either using X.reshape(-1, 1) if your data has a single feature or X.reshape(1, -1) if it contains a single sample.\n",
      "  warnings.warn(DEPRECATION_MSG_1D, DeprecationWarning)\n",
      "C:\\ProgramData\\Anaconda2\\lib\\site-packages\\sklearn\\preprocessing\\data.py:586: DeprecationWarning: Passing 1d arrays as data is deprecated in 0.17 and will raise ValueError in 0.19. Reshape your data either using X.reshape(-1, 1) if your data has a single feature or X.reshape(1, -1) if it contains a single sample.\n",
      "  warnings.warn(DEPRECATION_MSG_1D, DeprecationWarning)\n",
      "C:\\ProgramData\\Anaconda2\\lib\\site-packages\\sklearn\\preprocessing\\data.py:649: DeprecationWarning: Passing 1d arrays as data is deprecated in 0.17 and will raise ValueError in 0.19. Reshape your data either using X.reshape(-1, 1) if your data has a single feature or X.reshape(1, -1) if it contains a single sample.\n",
      "  warnings.warn(DEPRECATION_MSG_1D, DeprecationWarning)\n",
      "C:\\ProgramData\\Anaconda2\\lib\\site-packages\\sklearn\\preprocessing\\data.py:586: DeprecationWarning: Passing 1d arrays as data is deprecated in 0.17 and will raise ValueError in 0.19. Reshape your data either using X.reshape(-1, 1) if your data has a single feature or X.reshape(1, -1) if it contains a single sample.\n",
      "  warnings.warn(DEPRECATION_MSG_1D, DeprecationWarning)\n",
      "C:\\ProgramData\\Anaconda2\\lib\\site-packages\\sklearn\\preprocessing\\data.py:649: DeprecationWarning: Passing 1d arrays as data is deprecated in 0.17 and will raise ValueError in 0.19. Reshape your data either using X.reshape(-1, 1) if your data has a single feature or X.reshape(1, -1) if it contains a single sample.\n",
      "  warnings.warn(DEPRECATION_MSG_1D, DeprecationWarning)\n"
     ]
    },
    {
     "name": "stderr",
     "output_type": "stream",
     "text": [
      "C:\\ProgramData\\Anaconda2\\lib\\site-packages\\sklearn\\preprocessing\\data.py:586: DeprecationWarning: Passing 1d arrays as data is deprecated in 0.17 and will raise ValueError in 0.19. Reshape your data either using X.reshape(-1, 1) if your data has a single feature or X.reshape(1, -1) if it contains a single sample.\n",
      "  warnings.warn(DEPRECATION_MSG_1D, DeprecationWarning)\n",
      "C:\\ProgramData\\Anaconda2\\lib\\site-packages\\sklearn\\preprocessing\\data.py:649: DeprecationWarning: Passing 1d arrays as data is deprecated in 0.17 and will raise ValueError in 0.19. Reshape your data either using X.reshape(-1, 1) if your data has a single feature or X.reshape(1, -1) if it contains a single sample.\n",
      "  warnings.warn(DEPRECATION_MSG_1D, DeprecationWarning)\n",
      "C:\\ProgramData\\Anaconda2\\lib\\site-packages\\sklearn\\preprocessing\\data.py:586: DeprecationWarning: Passing 1d arrays as data is deprecated in 0.17 and will raise ValueError in 0.19. Reshape your data either using X.reshape(-1, 1) if your data has a single feature or X.reshape(1, -1) if it contains a single sample.\n",
      "  warnings.warn(DEPRECATION_MSG_1D, DeprecationWarning)\n",
      "C:\\ProgramData\\Anaconda2\\lib\\site-packages\\sklearn\\preprocessing\\data.py:649: DeprecationWarning: Passing 1d arrays as data is deprecated in 0.17 and will raise ValueError in 0.19. Reshape your data either using X.reshape(-1, 1) if your data has a single feature or X.reshape(1, -1) if it contains a single sample.\n",
      "  warnings.warn(DEPRECATION_MSG_1D, DeprecationWarning)\n",
      "C:\\ProgramData\\Anaconda2\\lib\\site-packages\\sklearn\\preprocessing\\data.py:586: DeprecationWarning: Passing 1d arrays as data is deprecated in 0.17 and will raise ValueError in 0.19. Reshape your data either using X.reshape(-1, 1) if your data has a single feature or X.reshape(1, -1) if it contains a single sample.\n",
      "  warnings.warn(DEPRECATION_MSG_1D, DeprecationWarning)\n",
      "C:\\ProgramData\\Anaconda2\\lib\\site-packages\\sklearn\\preprocessing\\data.py:649: DeprecationWarning: Passing 1d arrays as data is deprecated in 0.17 and will raise ValueError in 0.19. Reshape your data either using X.reshape(-1, 1) if your data has a single feature or X.reshape(1, -1) if it contains a single sample.\n",
      "  warnings.warn(DEPRECATION_MSG_1D, DeprecationWarning)\n",
      "C:\\ProgramData\\Anaconda2\\lib\\site-packages\\sklearn\\preprocessing\\data.py:586: DeprecationWarning: Passing 1d arrays as data is deprecated in 0.17 and will raise ValueError in 0.19. Reshape your data either using X.reshape(-1, 1) if your data has a single feature or X.reshape(1, -1) if it contains a single sample.\n",
      "  warnings.warn(DEPRECATION_MSG_1D, DeprecationWarning)\n",
      "C:\\ProgramData\\Anaconda2\\lib\\site-packages\\sklearn\\preprocessing\\data.py:649: DeprecationWarning: Passing 1d arrays as data is deprecated in 0.17 and will raise ValueError in 0.19. Reshape your data either using X.reshape(-1, 1) if your data has a single feature or X.reshape(1, -1) if it contains a single sample.\n",
      "  warnings.warn(DEPRECATION_MSG_1D, DeprecationWarning)\n",
      "C:\\ProgramData\\Anaconda2\\lib\\site-packages\\sklearn\\preprocessing\\data.py:586: DeprecationWarning: Passing 1d arrays as data is deprecated in 0.17 and will raise ValueError in 0.19. Reshape your data either using X.reshape(-1, 1) if your data has a single feature or X.reshape(1, -1) if it contains a single sample.\n",
      "  warnings.warn(DEPRECATION_MSG_1D, DeprecationWarning)\n",
      "C:\\ProgramData\\Anaconda2\\lib\\site-packages\\sklearn\\preprocessing\\data.py:649: DeprecationWarning: Passing 1d arrays as data is deprecated in 0.17 and will raise ValueError in 0.19. Reshape your data either using X.reshape(-1, 1) if your data has a single feature or X.reshape(1, -1) if it contains a single sample.\n",
      "  warnings.warn(DEPRECATION_MSG_1D, DeprecationWarning)\n",
      "C:\\ProgramData\\Anaconda2\\lib\\site-packages\\sklearn\\preprocessing\\data.py:586: DeprecationWarning: Passing 1d arrays as data is deprecated in 0.17 and will raise ValueError in 0.19. Reshape your data either using X.reshape(-1, 1) if your data has a single feature or X.reshape(1, -1) if it contains a single sample.\n",
      "  warnings.warn(DEPRECATION_MSG_1D, DeprecationWarning)\n",
      "C:\\ProgramData\\Anaconda2\\lib\\site-packages\\sklearn\\preprocessing\\data.py:649: DeprecationWarning: Passing 1d arrays as data is deprecated in 0.17 and will raise ValueError in 0.19. Reshape your data either using X.reshape(-1, 1) if your data has a single feature or X.reshape(1, -1) if it contains a single sample.\n",
      "  warnings.warn(DEPRECATION_MSG_1D, DeprecationWarning)\n",
      "C:\\ProgramData\\Anaconda2\\lib\\site-packages\\sklearn\\preprocessing\\data.py:586: DeprecationWarning: Passing 1d arrays as data is deprecated in 0.17 and will raise ValueError in 0.19. Reshape your data either using X.reshape(-1, 1) if your data has a single feature or X.reshape(1, -1) if it contains a single sample.\n",
      "  warnings.warn(DEPRECATION_MSG_1D, DeprecationWarning)\n",
      "C:\\ProgramData\\Anaconda2\\lib\\site-packages\\sklearn\\preprocessing\\data.py:649: DeprecationWarning: Passing 1d arrays as data is deprecated in 0.17 and will raise ValueError in 0.19. Reshape your data either using X.reshape(-1, 1) if your data has a single feature or X.reshape(1, -1) if it contains a single sample.\n",
      "  warnings.warn(DEPRECATION_MSG_1D, DeprecationWarning)\n",
      "C:\\ProgramData\\Anaconda2\\lib\\site-packages\\sklearn\\preprocessing\\data.py:586: DeprecationWarning: Passing 1d arrays as data is deprecated in 0.17 and will raise ValueError in 0.19. Reshape your data either using X.reshape(-1, 1) if your data has a single feature or X.reshape(1, -1) if it contains a single sample.\n",
      "  warnings.warn(DEPRECATION_MSG_1D, DeprecationWarning)\n",
      "C:\\ProgramData\\Anaconda2\\lib\\site-packages\\sklearn\\preprocessing\\data.py:649: DeprecationWarning: Passing 1d arrays as data is deprecated in 0.17 and will raise ValueError in 0.19. Reshape your data either using X.reshape(-1, 1) if your data has a single feature or X.reshape(1, -1) if it contains a single sample.\n",
      "  warnings.warn(DEPRECATION_MSG_1D, DeprecationWarning)\n",
      "C:\\ProgramData\\Anaconda2\\lib\\site-packages\\sklearn\\preprocessing\\data.py:586: DeprecationWarning: Passing 1d arrays as data is deprecated in 0.17 and will raise ValueError in 0.19. Reshape your data either using X.reshape(-1, 1) if your data has a single feature or X.reshape(1, -1) if it contains a single sample.\n",
      "  warnings.warn(DEPRECATION_MSG_1D, DeprecationWarning)\n",
      "C:\\ProgramData\\Anaconda2\\lib\\site-packages\\sklearn\\preprocessing\\data.py:649: DeprecationWarning: Passing 1d arrays as data is deprecated in 0.17 and will raise ValueError in 0.19. Reshape your data either using X.reshape(-1, 1) if your data has a single feature or X.reshape(1, -1) if it contains a single sample.\n",
      "  warnings.warn(DEPRECATION_MSG_1D, DeprecationWarning)\n",
      "C:\\ProgramData\\Anaconda2\\lib\\site-packages\\sklearn\\preprocessing\\data.py:586: DeprecationWarning: Passing 1d arrays as data is deprecated in 0.17 and will raise ValueError in 0.19. Reshape your data either using X.reshape(-1, 1) if your data has a single feature or X.reshape(1, -1) if it contains a single sample.\n",
      "  warnings.warn(DEPRECATION_MSG_1D, DeprecationWarning)\n",
      "C:\\ProgramData\\Anaconda2\\lib\\site-packages\\sklearn\\preprocessing\\data.py:649: DeprecationWarning: Passing 1d arrays as data is deprecated in 0.17 and will raise ValueError in 0.19. Reshape your data either using X.reshape(-1, 1) if your data has a single feature or X.reshape(1, -1) if it contains a single sample.\n",
      "  warnings.warn(DEPRECATION_MSG_1D, DeprecationWarning)\n",
      "C:\\ProgramData\\Anaconda2\\lib\\site-packages\\sklearn\\preprocessing\\data.py:586: DeprecationWarning: Passing 1d arrays as data is deprecated in 0.17 and will raise ValueError in 0.19. Reshape your data either using X.reshape(-1, 1) if your data has a single feature or X.reshape(1, -1) if it contains a single sample.\n",
      "  warnings.warn(DEPRECATION_MSG_1D, DeprecationWarning)\n",
      "C:\\ProgramData\\Anaconda2\\lib\\site-packages\\sklearn\\preprocessing\\data.py:649: DeprecationWarning: Passing 1d arrays as data is deprecated in 0.17 and will raise ValueError in 0.19. Reshape your data either using X.reshape(-1, 1) if your data has a single feature or X.reshape(1, -1) if it contains a single sample.\n",
      "  warnings.warn(DEPRECATION_MSG_1D, DeprecationWarning)\n",
      "C:\\ProgramData\\Anaconda2\\lib\\site-packages\\sklearn\\preprocessing\\data.py:586: DeprecationWarning: Passing 1d arrays as data is deprecated in 0.17 and will raise ValueError in 0.19. Reshape your data either using X.reshape(-1, 1) if your data has a single feature or X.reshape(1, -1) if it contains a single sample.\n",
      "  warnings.warn(DEPRECATION_MSG_1D, DeprecationWarning)\n",
      "C:\\ProgramData\\Anaconda2\\lib\\site-packages\\sklearn\\preprocessing\\data.py:649: DeprecationWarning: Passing 1d arrays as data is deprecated in 0.17 and will raise ValueError in 0.19. Reshape your data either using X.reshape(-1, 1) if your data has a single feature or X.reshape(1, -1) if it contains a single sample.\n",
      "  warnings.warn(DEPRECATION_MSG_1D, DeprecationWarning)\n"
     ]
    },
    {
     "name": "stderr",
     "output_type": "stream",
     "text": [
      "C:\\ProgramData\\Anaconda2\\lib\\site-packages\\sklearn\\preprocessing\\data.py:586: DeprecationWarning: Passing 1d arrays as data is deprecated in 0.17 and will raise ValueError in 0.19. Reshape your data either using X.reshape(-1, 1) if your data has a single feature or X.reshape(1, -1) if it contains a single sample.\n",
      "  warnings.warn(DEPRECATION_MSG_1D, DeprecationWarning)\n",
      "C:\\ProgramData\\Anaconda2\\lib\\site-packages\\sklearn\\preprocessing\\data.py:649: DeprecationWarning: Passing 1d arrays as data is deprecated in 0.17 and will raise ValueError in 0.19. Reshape your data either using X.reshape(-1, 1) if your data has a single feature or X.reshape(1, -1) if it contains a single sample.\n",
      "  warnings.warn(DEPRECATION_MSG_1D, DeprecationWarning)\n",
      "C:\\ProgramData\\Anaconda2\\lib\\site-packages\\sklearn\\preprocessing\\data.py:586: DeprecationWarning: Passing 1d arrays as data is deprecated in 0.17 and will raise ValueError in 0.19. Reshape your data either using X.reshape(-1, 1) if your data has a single feature or X.reshape(1, -1) if it contains a single sample.\n",
      "  warnings.warn(DEPRECATION_MSG_1D, DeprecationWarning)\n",
      "C:\\ProgramData\\Anaconda2\\lib\\site-packages\\sklearn\\preprocessing\\data.py:649: DeprecationWarning: Passing 1d arrays as data is deprecated in 0.17 and will raise ValueError in 0.19. Reshape your data either using X.reshape(-1, 1) if your data has a single feature or X.reshape(1, -1) if it contains a single sample.\n",
      "  warnings.warn(DEPRECATION_MSG_1D, DeprecationWarning)\n",
      "C:\\ProgramData\\Anaconda2\\lib\\site-packages\\sklearn\\preprocessing\\data.py:586: DeprecationWarning: Passing 1d arrays as data is deprecated in 0.17 and will raise ValueError in 0.19. Reshape your data either using X.reshape(-1, 1) if your data has a single feature or X.reshape(1, -1) if it contains a single sample.\n",
      "  warnings.warn(DEPRECATION_MSG_1D, DeprecationWarning)\n",
      "C:\\ProgramData\\Anaconda2\\lib\\site-packages\\sklearn\\preprocessing\\data.py:649: DeprecationWarning: Passing 1d arrays as data is deprecated in 0.17 and will raise ValueError in 0.19. Reshape your data either using X.reshape(-1, 1) if your data has a single feature or X.reshape(1, -1) if it contains a single sample.\n",
      "  warnings.warn(DEPRECATION_MSG_1D, DeprecationWarning)\n",
      "C:\\ProgramData\\Anaconda2\\lib\\site-packages\\sklearn\\preprocessing\\data.py:586: DeprecationWarning: Passing 1d arrays as data is deprecated in 0.17 and will raise ValueError in 0.19. Reshape your data either using X.reshape(-1, 1) if your data has a single feature or X.reshape(1, -1) if it contains a single sample.\n",
      "  warnings.warn(DEPRECATION_MSG_1D, DeprecationWarning)\n",
      "C:\\ProgramData\\Anaconda2\\lib\\site-packages\\sklearn\\preprocessing\\data.py:649: DeprecationWarning: Passing 1d arrays as data is deprecated in 0.17 and will raise ValueError in 0.19. Reshape your data either using X.reshape(-1, 1) if your data has a single feature or X.reshape(1, -1) if it contains a single sample.\n",
      "  warnings.warn(DEPRECATION_MSG_1D, DeprecationWarning)\n",
      "C:\\ProgramData\\Anaconda2\\lib\\site-packages\\sklearn\\preprocessing\\data.py:586: DeprecationWarning: Passing 1d arrays as data is deprecated in 0.17 and will raise ValueError in 0.19. Reshape your data either using X.reshape(-1, 1) if your data has a single feature or X.reshape(1, -1) if it contains a single sample.\n",
      "  warnings.warn(DEPRECATION_MSG_1D, DeprecationWarning)\n",
      "C:\\ProgramData\\Anaconda2\\lib\\site-packages\\sklearn\\preprocessing\\data.py:649: DeprecationWarning: Passing 1d arrays as data is deprecated in 0.17 and will raise ValueError in 0.19. Reshape your data either using X.reshape(-1, 1) if your data has a single feature or X.reshape(1, -1) if it contains a single sample.\n",
      "  warnings.warn(DEPRECATION_MSG_1D, DeprecationWarning)\n",
      "C:\\ProgramData\\Anaconda2\\lib\\site-packages\\sklearn\\preprocessing\\data.py:586: DeprecationWarning: Passing 1d arrays as data is deprecated in 0.17 and will raise ValueError in 0.19. Reshape your data either using X.reshape(-1, 1) if your data has a single feature or X.reshape(1, -1) if it contains a single sample.\n",
      "  warnings.warn(DEPRECATION_MSG_1D, DeprecationWarning)\n",
      "C:\\ProgramData\\Anaconda2\\lib\\site-packages\\sklearn\\preprocessing\\data.py:649: DeprecationWarning: Passing 1d arrays as data is deprecated in 0.17 and will raise ValueError in 0.19. Reshape your data either using X.reshape(-1, 1) if your data has a single feature or X.reshape(1, -1) if it contains a single sample.\n",
      "  warnings.warn(DEPRECATION_MSG_1D, DeprecationWarning)\n",
      "C:\\ProgramData\\Anaconda2\\lib\\site-packages\\sklearn\\preprocessing\\data.py:586: DeprecationWarning: Passing 1d arrays as data is deprecated in 0.17 and will raise ValueError in 0.19. Reshape your data either using X.reshape(-1, 1) if your data has a single feature or X.reshape(1, -1) if it contains a single sample.\n",
      "  warnings.warn(DEPRECATION_MSG_1D, DeprecationWarning)\n",
      "C:\\ProgramData\\Anaconda2\\lib\\site-packages\\sklearn\\preprocessing\\data.py:649: DeprecationWarning: Passing 1d arrays as data is deprecated in 0.17 and will raise ValueError in 0.19. Reshape your data either using X.reshape(-1, 1) if your data has a single feature or X.reshape(1, -1) if it contains a single sample.\n",
      "  warnings.warn(DEPRECATION_MSG_1D, DeprecationWarning)\n",
      "C:\\ProgramData\\Anaconda2\\lib\\site-packages\\sklearn\\preprocessing\\data.py:586: DeprecationWarning: Passing 1d arrays as data is deprecated in 0.17 and will raise ValueError in 0.19. Reshape your data either using X.reshape(-1, 1) if your data has a single feature or X.reshape(1, -1) if it contains a single sample.\n",
      "  warnings.warn(DEPRECATION_MSG_1D, DeprecationWarning)\n",
      "C:\\ProgramData\\Anaconda2\\lib\\site-packages\\sklearn\\preprocessing\\data.py:649: DeprecationWarning: Passing 1d arrays as data is deprecated in 0.17 and will raise ValueError in 0.19. Reshape your data either using X.reshape(-1, 1) if your data has a single feature or X.reshape(1, -1) if it contains a single sample.\n",
      "  warnings.warn(DEPRECATION_MSG_1D, DeprecationWarning)\n",
      "C:\\ProgramData\\Anaconda2\\lib\\site-packages\\sklearn\\preprocessing\\data.py:586: DeprecationWarning: Passing 1d arrays as data is deprecated in 0.17 and will raise ValueError in 0.19. Reshape your data either using X.reshape(-1, 1) if your data has a single feature or X.reshape(1, -1) if it contains a single sample.\n",
      "  warnings.warn(DEPRECATION_MSG_1D, DeprecationWarning)\n",
      "C:\\ProgramData\\Anaconda2\\lib\\site-packages\\sklearn\\preprocessing\\data.py:649: DeprecationWarning: Passing 1d arrays as data is deprecated in 0.17 and will raise ValueError in 0.19. Reshape your data either using X.reshape(-1, 1) if your data has a single feature or X.reshape(1, -1) if it contains a single sample.\n",
      "  warnings.warn(DEPRECATION_MSG_1D, DeprecationWarning)\n",
      "C:\\ProgramData\\Anaconda2\\lib\\site-packages\\sklearn\\preprocessing\\data.py:586: DeprecationWarning: Passing 1d arrays as data is deprecated in 0.17 and will raise ValueError in 0.19. Reshape your data either using X.reshape(-1, 1) if your data has a single feature or X.reshape(1, -1) if it contains a single sample.\n",
      "  warnings.warn(DEPRECATION_MSG_1D, DeprecationWarning)\n",
      "C:\\ProgramData\\Anaconda2\\lib\\site-packages\\sklearn\\preprocessing\\data.py:649: DeprecationWarning: Passing 1d arrays as data is deprecated in 0.17 and will raise ValueError in 0.19. Reshape your data either using X.reshape(-1, 1) if your data has a single feature or X.reshape(1, -1) if it contains a single sample.\n",
      "  warnings.warn(DEPRECATION_MSG_1D, DeprecationWarning)\n",
      "C:\\ProgramData\\Anaconda2\\lib\\site-packages\\sklearn\\preprocessing\\data.py:586: DeprecationWarning: Passing 1d arrays as data is deprecated in 0.17 and will raise ValueError in 0.19. Reshape your data either using X.reshape(-1, 1) if your data has a single feature or X.reshape(1, -1) if it contains a single sample.\n",
      "  warnings.warn(DEPRECATION_MSG_1D, DeprecationWarning)\n",
      "C:\\ProgramData\\Anaconda2\\lib\\site-packages\\sklearn\\preprocessing\\data.py:649: DeprecationWarning: Passing 1d arrays as data is deprecated in 0.17 and will raise ValueError in 0.19. Reshape your data either using X.reshape(-1, 1) if your data has a single feature or X.reshape(1, -1) if it contains a single sample.\n",
      "  warnings.warn(DEPRECATION_MSG_1D, DeprecationWarning)\n",
      "C:\\ProgramData\\Anaconda2\\lib\\site-packages\\sklearn\\preprocessing\\data.py:586: DeprecationWarning: Passing 1d arrays as data is deprecated in 0.17 and will raise ValueError in 0.19. Reshape your data either using X.reshape(-1, 1) if your data has a single feature or X.reshape(1, -1) if it contains a single sample.\n",
      "  warnings.warn(DEPRECATION_MSG_1D, DeprecationWarning)\n"
     ]
    },
    {
     "name": "stderr",
     "output_type": "stream",
     "text": [
      "C:\\ProgramData\\Anaconda2\\lib\\site-packages\\sklearn\\preprocessing\\data.py:649: DeprecationWarning: Passing 1d arrays as data is deprecated in 0.17 and will raise ValueError in 0.19. Reshape your data either using X.reshape(-1, 1) if your data has a single feature or X.reshape(1, -1) if it contains a single sample.\n",
      "  warnings.warn(DEPRECATION_MSG_1D, DeprecationWarning)\n",
      "C:\\ProgramData\\Anaconda2\\lib\\site-packages\\sklearn\\preprocessing\\data.py:586: DeprecationWarning: Passing 1d arrays as data is deprecated in 0.17 and will raise ValueError in 0.19. Reshape your data either using X.reshape(-1, 1) if your data has a single feature or X.reshape(1, -1) if it contains a single sample.\n",
      "  warnings.warn(DEPRECATION_MSG_1D, DeprecationWarning)\n",
      "C:\\ProgramData\\Anaconda2\\lib\\site-packages\\sklearn\\preprocessing\\data.py:649: DeprecationWarning: Passing 1d arrays as data is deprecated in 0.17 and will raise ValueError in 0.19. Reshape your data either using X.reshape(-1, 1) if your data has a single feature or X.reshape(1, -1) if it contains a single sample.\n",
      "  warnings.warn(DEPRECATION_MSG_1D, DeprecationWarning)\n",
      "C:\\ProgramData\\Anaconda2\\lib\\site-packages\\sklearn\\preprocessing\\data.py:586: DeprecationWarning: Passing 1d arrays as data is deprecated in 0.17 and will raise ValueError in 0.19. Reshape your data either using X.reshape(-1, 1) if your data has a single feature or X.reshape(1, -1) if it contains a single sample.\n",
      "  warnings.warn(DEPRECATION_MSG_1D, DeprecationWarning)\n",
      "C:\\ProgramData\\Anaconda2\\lib\\site-packages\\sklearn\\preprocessing\\data.py:649: DeprecationWarning: Passing 1d arrays as data is deprecated in 0.17 and will raise ValueError in 0.19. Reshape your data either using X.reshape(-1, 1) if your data has a single feature or X.reshape(1, -1) if it contains a single sample.\n",
      "  warnings.warn(DEPRECATION_MSG_1D, DeprecationWarning)\n",
      "C:\\ProgramData\\Anaconda2\\lib\\site-packages\\sklearn\\preprocessing\\data.py:586: DeprecationWarning: Passing 1d arrays as data is deprecated in 0.17 and will raise ValueError in 0.19. Reshape your data either using X.reshape(-1, 1) if your data has a single feature or X.reshape(1, -1) if it contains a single sample.\n",
      "  warnings.warn(DEPRECATION_MSG_1D, DeprecationWarning)\n",
      "C:\\ProgramData\\Anaconda2\\lib\\site-packages\\sklearn\\preprocessing\\data.py:649: DeprecationWarning: Passing 1d arrays as data is deprecated in 0.17 and will raise ValueError in 0.19. Reshape your data either using X.reshape(-1, 1) if your data has a single feature or X.reshape(1, -1) if it contains a single sample.\n",
      "  warnings.warn(DEPRECATION_MSG_1D, DeprecationWarning)\n",
      "C:\\ProgramData\\Anaconda2\\lib\\site-packages\\sklearn\\preprocessing\\data.py:586: DeprecationWarning: Passing 1d arrays as data is deprecated in 0.17 and will raise ValueError in 0.19. Reshape your data either using X.reshape(-1, 1) if your data has a single feature or X.reshape(1, -1) if it contains a single sample.\n",
      "  warnings.warn(DEPRECATION_MSG_1D, DeprecationWarning)\n",
      "C:\\ProgramData\\Anaconda2\\lib\\site-packages\\sklearn\\preprocessing\\data.py:649: DeprecationWarning: Passing 1d arrays as data is deprecated in 0.17 and will raise ValueError in 0.19. Reshape your data either using X.reshape(-1, 1) if your data has a single feature or X.reshape(1, -1) if it contains a single sample.\n",
      "  warnings.warn(DEPRECATION_MSG_1D, DeprecationWarning)\n",
      "C:\\ProgramData\\Anaconda2\\lib\\site-packages\\sklearn\\preprocessing\\data.py:586: DeprecationWarning: Passing 1d arrays as data is deprecated in 0.17 and will raise ValueError in 0.19. Reshape your data either using X.reshape(-1, 1) if your data has a single feature or X.reshape(1, -1) if it contains a single sample.\n",
      "  warnings.warn(DEPRECATION_MSG_1D, DeprecationWarning)\n",
      "C:\\ProgramData\\Anaconda2\\lib\\site-packages\\sklearn\\preprocessing\\data.py:649: DeprecationWarning: Passing 1d arrays as data is deprecated in 0.17 and will raise ValueError in 0.19. Reshape your data either using X.reshape(-1, 1) if your data has a single feature or X.reshape(1, -1) if it contains a single sample.\n",
      "  warnings.warn(DEPRECATION_MSG_1D, DeprecationWarning)\n",
      "C:\\ProgramData\\Anaconda2\\lib\\site-packages\\sklearn\\preprocessing\\data.py:586: DeprecationWarning: Passing 1d arrays as data is deprecated in 0.17 and will raise ValueError in 0.19. Reshape your data either using X.reshape(-1, 1) if your data has a single feature or X.reshape(1, -1) if it contains a single sample.\n",
      "  warnings.warn(DEPRECATION_MSG_1D, DeprecationWarning)\n",
      "C:\\ProgramData\\Anaconda2\\lib\\site-packages\\sklearn\\preprocessing\\data.py:649: DeprecationWarning: Passing 1d arrays as data is deprecated in 0.17 and will raise ValueError in 0.19. Reshape your data either using X.reshape(-1, 1) if your data has a single feature or X.reshape(1, -1) if it contains a single sample.\n",
      "  warnings.warn(DEPRECATION_MSG_1D, DeprecationWarning)\n",
      "C:\\ProgramData\\Anaconda2\\lib\\site-packages\\sklearn\\preprocessing\\data.py:586: DeprecationWarning: Passing 1d arrays as data is deprecated in 0.17 and will raise ValueError in 0.19. Reshape your data either using X.reshape(-1, 1) if your data has a single feature or X.reshape(1, -1) if it contains a single sample.\n",
      "  warnings.warn(DEPRECATION_MSG_1D, DeprecationWarning)\n",
      "C:\\ProgramData\\Anaconda2\\lib\\site-packages\\sklearn\\preprocessing\\data.py:649: DeprecationWarning: Passing 1d arrays as data is deprecated in 0.17 and will raise ValueError in 0.19. Reshape your data either using X.reshape(-1, 1) if your data has a single feature or X.reshape(1, -1) if it contains a single sample.\n",
      "  warnings.warn(DEPRECATION_MSG_1D, DeprecationWarning)\n",
      "C:\\ProgramData\\Anaconda2\\lib\\site-packages\\sklearn\\preprocessing\\data.py:586: DeprecationWarning: Passing 1d arrays as data is deprecated in 0.17 and will raise ValueError in 0.19. Reshape your data either using X.reshape(-1, 1) if your data has a single feature or X.reshape(1, -1) if it contains a single sample.\n",
      "  warnings.warn(DEPRECATION_MSG_1D, DeprecationWarning)\n",
      "C:\\ProgramData\\Anaconda2\\lib\\site-packages\\sklearn\\preprocessing\\data.py:649: DeprecationWarning: Passing 1d arrays as data is deprecated in 0.17 and will raise ValueError in 0.19. Reshape your data either using X.reshape(-1, 1) if your data has a single feature or X.reshape(1, -1) if it contains a single sample.\n",
      "  warnings.warn(DEPRECATION_MSG_1D, DeprecationWarning)\n",
      "C:\\ProgramData\\Anaconda2\\lib\\site-packages\\sklearn\\preprocessing\\data.py:586: DeprecationWarning: Passing 1d arrays as data is deprecated in 0.17 and will raise ValueError in 0.19. Reshape your data either using X.reshape(-1, 1) if your data has a single feature or X.reshape(1, -1) if it contains a single sample.\n",
      "  warnings.warn(DEPRECATION_MSG_1D, DeprecationWarning)\n",
      "C:\\ProgramData\\Anaconda2\\lib\\site-packages\\sklearn\\preprocessing\\data.py:649: DeprecationWarning: Passing 1d arrays as data is deprecated in 0.17 and will raise ValueError in 0.19. Reshape your data either using X.reshape(-1, 1) if your data has a single feature or X.reshape(1, -1) if it contains a single sample.\n",
      "  warnings.warn(DEPRECATION_MSG_1D, DeprecationWarning)\n",
      "C:\\ProgramData\\Anaconda2\\lib\\site-packages\\sklearn\\preprocessing\\data.py:586: DeprecationWarning: Passing 1d arrays as data is deprecated in 0.17 and will raise ValueError in 0.19. Reshape your data either using X.reshape(-1, 1) if your data has a single feature or X.reshape(1, -1) if it contains a single sample.\n",
      "  warnings.warn(DEPRECATION_MSG_1D, DeprecationWarning)\n",
      "C:\\ProgramData\\Anaconda2\\lib\\site-packages\\sklearn\\preprocessing\\data.py:649: DeprecationWarning: Passing 1d arrays as data is deprecated in 0.17 and will raise ValueError in 0.19. Reshape your data either using X.reshape(-1, 1) if your data has a single feature or X.reshape(1, -1) if it contains a single sample.\n",
      "  warnings.warn(DEPRECATION_MSG_1D, DeprecationWarning)\n",
      "C:\\ProgramData\\Anaconda2\\lib\\site-packages\\sklearn\\preprocessing\\data.py:586: DeprecationWarning: Passing 1d arrays as data is deprecated in 0.17 and will raise ValueError in 0.19. Reshape your data either using X.reshape(-1, 1) if your data has a single feature or X.reshape(1, -1) if it contains a single sample.\n",
      "  warnings.warn(DEPRECATION_MSG_1D, DeprecationWarning)\n",
      "C:\\ProgramData\\Anaconda2\\lib\\site-packages\\sklearn\\preprocessing\\data.py:649: DeprecationWarning: Passing 1d arrays as data is deprecated in 0.17 and will raise ValueError in 0.19. Reshape your data either using X.reshape(-1, 1) if your data has a single feature or X.reshape(1, -1) if it contains a single sample.\n",
      "  warnings.warn(DEPRECATION_MSG_1D, DeprecationWarning)\n"
     ]
    },
    {
     "name": "stderr",
     "output_type": "stream",
     "text": [
      "C:\\ProgramData\\Anaconda2\\lib\\site-packages\\sklearn\\preprocessing\\data.py:586: DeprecationWarning: Passing 1d arrays as data is deprecated in 0.17 and will raise ValueError in 0.19. Reshape your data either using X.reshape(-1, 1) if your data has a single feature or X.reshape(1, -1) if it contains a single sample.\n",
      "  warnings.warn(DEPRECATION_MSG_1D, DeprecationWarning)\n",
      "C:\\ProgramData\\Anaconda2\\lib\\site-packages\\sklearn\\preprocessing\\data.py:649: DeprecationWarning: Passing 1d arrays as data is deprecated in 0.17 and will raise ValueError in 0.19. Reshape your data either using X.reshape(-1, 1) if your data has a single feature or X.reshape(1, -1) if it contains a single sample.\n",
      "  warnings.warn(DEPRECATION_MSG_1D, DeprecationWarning)\n",
      "C:\\ProgramData\\Anaconda2\\lib\\site-packages\\sklearn\\preprocessing\\data.py:586: DeprecationWarning: Passing 1d arrays as data is deprecated in 0.17 and will raise ValueError in 0.19. Reshape your data either using X.reshape(-1, 1) if your data has a single feature or X.reshape(1, -1) if it contains a single sample.\n",
      "  warnings.warn(DEPRECATION_MSG_1D, DeprecationWarning)\n",
      "C:\\ProgramData\\Anaconda2\\lib\\site-packages\\sklearn\\preprocessing\\data.py:649: DeprecationWarning: Passing 1d arrays as data is deprecated in 0.17 and will raise ValueError in 0.19. Reshape your data either using X.reshape(-1, 1) if your data has a single feature or X.reshape(1, -1) if it contains a single sample.\n",
      "  warnings.warn(DEPRECATION_MSG_1D, DeprecationWarning)\n",
      "C:\\ProgramData\\Anaconda2\\lib\\site-packages\\sklearn\\preprocessing\\data.py:586: DeprecationWarning: Passing 1d arrays as data is deprecated in 0.17 and will raise ValueError in 0.19. Reshape your data either using X.reshape(-1, 1) if your data has a single feature or X.reshape(1, -1) if it contains a single sample.\n",
      "  warnings.warn(DEPRECATION_MSG_1D, DeprecationWarning)\n",
      "C:\\ProgramData\\Anaconda2\\lib\\site-packages\\sklearn\\preprocessing\\data.py:649: DeprecationWarning: Passing 1d arrays as data is deprecated in 0.17 and will raise ValueError in 0.19. Reshape your data either using X.reshape(-1, 1) if your data has a single feature or X.reshape(1, -1) if it contains a single sample.\n",
      "  warnings.warn(DEPRECATION_MSG_1D, DeprecationWarning)\n",
      "C:\\ProgramData\\Anaconda2\\lib\\site-packages\\sklearn\\preprocessing\\data.py:586: DeprecationWarning: Passing 1d arrays as data is deprecated in 0.17 and will raise ValueError in 0.19. Reshape your data either using X.reshape(-1, 1) if your data has a single feature or X.reshape(1, -1) if it contains a single sample.\n",
      "  warnings.warn(DEPRECATION_MSG_1D, DeprecationWarning)\n",
      "C:\\ProgramData\\Anaconda2\\lib\\site-packages\\sklearn\\preprocessing\\data.py:649: DeprecationWarning: Passing 1d arrays as data is deprecated in 0.17 and will raise ValueError in 0.19. Reshape your data either using X.reshape(-1, 1) if your data has a single feature or X.reshape(1, -1) if it contains a single sample.\n",
      "  warnings.warn(DEPRECATION_MSG_1D, DeprecationWarning)\n",
      "C:\\ProgramData\\Anaconda2\\lib\\site-packages\\sklearn\\preprocessing\\data.py:586: DeprecationWarning: Passing 1d arrays as data is deprecated in 0.17 and will raise ValueError in 0.19. Reshape your data either using X.reshape(-1, 1) if your data has a single feature or X.reshape(1, -1) if it contains a single sample.\n",
      "  warnings.warn(DEPRECATION_MSG_1D, DeprecationWarning)\n",
      "C:\\ProgramData\\Anaconda2\\lib\\site-packages\\sklearn\\preprocessing\\data.py:649: DeprecationWarning: Passing 1d arrays as data is deprecated in 0.17 and will raise ValueError in 0.19. Reshape your data either using X.reshape(-1, 1) if your data has a single feature or X.reshape(1, -1) if it contains a single sample.\n",
      "  warnings.warn(DEPRECATION_MSG_1D, DeprecationWarning)\n",
      "C:\\ProgramData\\Anaconda2\\lib\\site-packages\\ipykernel_launcher.py:11: SettingWithCopyWarning: \n",
      "A value is trying to be set on a copy of a slice from a DataFrame.\n",
      "Try using .loc[row_indexer,col_indexer] = value instead\n",
      "\n",
      "See the caveats in the documentation: http://pandas.pydata.org/pandas-docs/stable/indexing.html#indexing-view-versus-copy\n",
      "  # This is added back by InteractiveShellApp.init_path()\n"
     ]
    },
    {
     "name": "stdout",
     "output_type": "stream",
     "text": [
      "(154724, 91)\n",
      "('Training Set Shape after oversampling: ', (18082L, 91L), (18082L,))\n"
     ]
    }
   ],
   "source": [
    "# Standard Scaling for the second X\n",
    "standard_scaler = preprocessing.StandardScaler()\n",
    "# prepare a new dataset that contains only features from cols_selected_2_*\n",
    "dataset_3 = dataset_original[cols_selected_2_numeric+cols_selected_2_cat+['BRA_CODE','CUS_NUM',target_var]]\n",
    "# get scaler for standard scaling - numeric cols only\n",
    "for c in cols_selected_2_numeric:\n",
    "    dataset_3_standard_scaler = standard_scaler.fit(dataset_3[c].values)\n",
    "    # transform basd on the scaler function defined above\n",
    "    dataset_3[c] = dataset_3_standard_scaler.transform(dataset_3[c])\n",
    "# label encoding of cat cols\n",
    "dataset_3[cols_selected_2_cat] = dataset_3[cols_selected_2_cat].apply(lambda col: le.fit_transform(col)).values\n",
    "# set X2\n",
    "X_stand = dataset_3[cols_selected_2_numeric+cols_selected_2_cat]\n",
    "print X_stand.shape\n",
    "X_stand_train_original, X_stand_test, y_stand_train_original, y_stand_test = \\\n",
    "    train_test_split(X_stand, y, test_size=0.3, random_state=42)\n",
    "    \n",
    "X_stand_train, y_stand_train = sampler.fit_sample(X_stand_train_original, y_stand_train_original)\n",
    "print('Training Set Shape after oversampling: ', X_stand_train.shape, y_stand_train.shape)"
   ]
  },
  {
   "cell_type": "code",
   "execution_count": null,
   "metadata": {},
   "outputs": [],
   "source": []
  },
  {
   "cell_type": "code",
   "execution_count": null,
   "metadata": {
    "collapsed": true
   },
   "outputs": [],
   "source": []
  },
  {
   "cell_type": "code",
   "execution_count": 12,
   "metadata": {
    "_cell_guid": "b85ba5ad-70ea-eabc-610e-e13aafafe199",
    "_uuid": "6398d4f8e62591ef7bd7577fa0f0d9c726731500",
    "scrolled": true
   },
   "outputs": [],
   "source": [
    "# cols_selected_1 = pickle.load('cols_selected_1.sav','rb')\n",
    "# cols_selected_2_cat = pickle.load('cols_selected_2_cat.sav','rb')\n",
    "# cols_selected_2_numeric = pickle.load('cols_selected_2_numeric.sav','rb')\n",
    "\n",
    "# # Encode dataset and select columns for the first X\n",
    "# le = LabelEncoder()\n",
    "# X = dataset[cols_selected_1].apply(lambda col: le.fit_transform(col)).values\n",
    "# print('Variables selected for X1:  ', list(cols_selected_1))\n",
    "\n",
    "\n",
    "# # MinMax Scaling for the second X\n",
    "# min_max_scaler = preprocessing.MinMaxScaler()\n",
    "# X2 = min_max_scaler.fit(dataset[cols_selected_2_numeric].values)\n",
    "# X2+dataset[cols_selected_2_cat]\n",
    "\n",
    "# # Standardization Scaling for the second X\n",
    "# min_max_scaler = preprocessing.st\n",
    "# X3 = min_max_scaler.fit(dataset[cols_selected_2_numeric].values)\n",
    "\n",
    "\n",
    "# # # Normalization - Using MinMax Scaler\n",
    "# # min_max_scaler = preprocessing.MinMaxScaler()\n",
    "# # min_max_scaler.fit(X)\n",
    "# # X = min_max_scaler.transform(X)\n",
    "# # print min_max_scaler.data_max_\n",
    "# # pickle.dump(min_max_scaler, open('min_max_scaler.sav', 'wb'))\n",
    "\n",
    "# # y = np.vstack(dataset[target_var].values)\n",
    "\n",
    "# print('\\n')\n",
    "# print('X and y Input Data:   ', X.shape, y.shape)\n",
    "# X_train_original, X_test, y_train_original, y_test = train_test_split(X, y, test_size=0.3, random_state=42)\n",
    "# print('Training Set Shape:   ', X_train_original.shape, y_train_original.shape)\n",
    "# print('Test Set Shape:       ', X_test.shape, y_test.shape)"
   ]
  },
  {
   "cell_type": "code",
   "execution_count": null,
   "metadata": {
    "collapsed": true
   },
   "outputs": [],
   "source": []
  },
  {
   "cell_type": "code",
   "execution_count": null,
   "metadata": {
    "collapsed": true
   },
   "outputs": [],
   "source": []
  },
  {
   "cell_type": "markdown",
   "metadata": {
    "collapsed": true,
    "scrolled": true
   },
   "source": [
    "#### Check correlation between variables"
   ]
  },
  {
   "cell_type": "code",
   "execution_count": 23,
   "metadata": {},
   "outputs": [
    {
     "data": {
      "image/png": "[encoded data removed]",
      "text/plain": [
       "<matplotlib.figure.Figure at 0x192bd438>"
      ]
     },
     "metadata": {},
     "output_type": "display_data"
    }
   ],
   "source": [
    "corr = dataset_original[cols_selected_1].corr()\n",
    "plt.figure(figsize=(16, 14))\n",
    "sns.heatmap(corr, vmax=0.5, center=0, square=True, linewidths=2, cmap='Blues')\n",
    "# plt.savefig(\"heatmap.png\")\n",
    "plt.show()"
   ]
  },
  {
   "cell_type": "code",
   "execution_count": null,
   "metadata": {
    "collapsed": true
   },
   "outputs": [],
   "source": []
  },
  {
   "cell_type": "code",
   "execution_count": null,
   "metadata": {
    "collapsed": true
   },
   "outputs": [],
   "source": []
  },
  {
   "cell_type": "markdown",
   "metadata": {
    "_cell_guid": "38d98c6a-9dfa-4159-a5a5-0cb978f15d2f",
    "_uuid": "ac0dcbe6fd51012077bd721c9314e374d36c026e"
   },
   "source": [
    "###### re-sampling of Imbalanced dataset"
   ]
  },
  {
   "cell_type": "code",
   "execution_count": 14,
   "metadata": {
    "collapsed": true
   },
   "outputs": [],
   "source": [
    "# samplingTechnique = ''\n",
    "\n",
    "# if samplingTechnique=='under':\n",
    "#     rus = RandomUnderSampler(random_state=42)\n",
    "#     X_train, y_train = rus.fit_sample(X_train_original, y_train_original)\n",
    "#     print('Training Set Shape after undersampling: ', X_train.shape, y_train.shape)\n",
    "# elif samplingTechnique=='over':\n",
    "#     ros = RandomOverSampler(random_state=42)\n",
    "#     X_train, y_train = ros.fit_sample(X_train_original, y_train_original)\n",
    "#     print('Training Set Shape after oversampling: ', X_train.shape, y_train.shape)\n",
    "# else:\n",
    "#     X_train = X_train_original\n",
    "#     y_train = y_train_original\n",
    "    "
   ]
  },
  {
   "cell_type": "code",
   "execution_count": 14,
   "metadata": {
    "scrolled": true
   },
   "outputs": [],
   "source": [
    "# # check\n",
    "# print 'frequency table of original data outcome'\n",
    "# print '-----------------------------------------'\n",
    "# print pd.Series(y_train_original.flatten()).value_counts()\n",
    "# print '\\nfrequency table of oversampled/undersampled data outcome'\n",
    "# print '---------------------------------------------'\n",
    "# print pd.Series(y_train.flatten()).value_counts()"
   ]
  },
  {
   "cell_type": "code",
   "execution_count": null,
   "metadata": {
    "collapsed": true,
    "scrolled": true
   },
   "outputs": [],
   "source": []
  },
  {
   "cell_type": "code",
   "execution_count": null,
   "metadata": {
    "collapsed": true
   },
   "outputs": [],
   "source": []
  },
  {
   "cell_type": "markdown",
   "metadata": {
    "_cell_guid": "89fd7a8b-7e8a-c341-674d-996ebf0bb080",
    "_uuid": "4e4eecfcf37d8edf3547f6f05c64457130580ab6"
   },
   "source": [
    "### Build Models"
   ]
  },
  {
   "cell_type": "markdown",
   "metadata": {
    "_cell_guid": "683d8257-0e12-302e-57dc-3b4628095275",
    "_uuid": "e1b3626caa6c8b82caf135f62b974484550301a6"
   },
   "source": [
    "###### Decision Tree Classifier"
   ]
  },
  {
   "cell_type": "code",
   "execution_count": 16,
   "metadata": {
    "_cell_guid": "9700a654-ff8d-c5d9-bb36-5a472c487c6c",
    "_uuid": "1d60a31693a3bb2d7d5eab87e8e11f21296d29e1",
    "collapsed": true,
    "scrolled": true
   },
   "outputs": [],
   "source": [
    "clf_DT = DecisionTreeClassifier(criterion='gini', splitter='best', max_depth=10, \n",
    "                                min_samples_split=2, min_samples_leaf=1,\n",
    "                                min_weight_fraction_leaf=0.0, max_features=None, \n",
    "                                max_leaf_nodes=None, min_impurity_split=1e-07, random_state=42)\n",
    "clf_DT.fit(X_train, y_train)\n",
    "# write the model to disk\n",
    "pickle.dump(clf_DT, open('clf_DT.sav', 'wb'))"
   ]
  },
  {
   "cell_type": "markdown",
   "metadata": {
    "_cell_guid": "c1f33f1a-23ea-0223-aee1-4804f8f3a4a7",
    "_uuid": "fff3066633ed102ea1b8812c03bae427d0f89554"
   },
   "source": [
    "###### Naive Bayes Classifier"
   ]
  },
  {
   "cell_type": "code",
   "execution_count": 17,
   "metadata": {
    "_cell_guid": "5225baf2-3bae-9be4-5ea5-588b5167e9eb",
    "_uuid": "68f6c7ba760733a2412a7bfda7c1ac682aec6b76"
   },
   "outputs": [
    {
     "name": "stderr",
     "output_type": "stream",
     "text": [
      "C:\\ProgramData\\Anaconda2\\lib\\site-packages\\sklearn\\utils\\validation.py:526: DataConversionWarning: A column-vector y was passed when a 1d array was expected. Please change the shape of y to (n_samples, ), for example using ravel().\n",
      "  y = column_or_1d(y, warn=True)\n"
     ]
    }
   ],
   "source": [
    "clf_NB = BernoulliNB()\n",
    "clf_NB.fit(X_train, y_train)\n",
    "# write the model to disk\n",
    "pickle.dump(clf_NB, open('clf_NB.sav', 'wb'))"
   ]
  },
  {
   "cell_type": "markdown",
   "metadata": {
    "_cell_guid": "db561bca-aa5c-fb9f-b021-adff36e57436",
    "_uuid": "fba9175f736a380fab5541e4e0b6c1174bde320c"
   },
   "source": [
    "###### Neural Network Classifier"
   ]
  },
  {
   "cell_type": "code",
   "execution_count": 77,
   "metadata": {
    "_cell_guid": "e0e8d192-0131-ce2c-b49f-bfa68b39f69c",
    "_uuid": "e44dac0c391b609f3fa33655de5fb6826149a784",
    "scrolled": true
   },
   "outputs": [
    {
     "name": "stdout",
     "output_type": "stream",
     "text": [
      "Iteration 1, loss = 0.86010741\n",
      "Iteration 2, loss = 0.67489344\n",
      "Iteration 3, loss = 0.66399006\n",
      "Iteration 4, loss = 0.65513902\n",
      "Iteration 5, loss = 0.65048219\n",
      "Iteration 6, loss = 0.64501775\n",
      "Iteration 7, loss = 0.64031222\n",
      "Iteration 8, loss = 0.63763848\n",
      "Iteration 9, loss = 0.63457858\n",
      "Iteration 10, loss = 0.63216173\n",
      "Iteration 11, loss = 0.63008668\n",
      "Iteration 12, loss = 0.62847055\n",
      "Iteration 13, loss = 0.62663166\n",
      "Iteration 14, loss = 0.62513574\n",
      "Iteration 15, loss = 0.62421169\n",
      "Iteration 16, loss = 0.62330567\n",
      "Iteration 17, loss = 0.62294973\n",
      "Training loss did not improve more than tol=0.001000 for two consecutive epochs. Stopping.\n",
      "Training dataset accuracy:  0.662647937175\n",
      "Test dataset accuracy:  0.630595889526\n"
     ]
    }
   ],
   "source": [
    "# MLPClassifier(activation='relu', alpha=1e-05,\n",
    "#        batch_size='auto', beta_1=0.9, beta_2=0.999, early_stopping=False,\n",
    "#        epsilon=1e-08, hidden_layer_sizes=(64), learning_rate='constant',\n",
    "#        learning_rate_init=0.001, max_iter=2000, momentum=0.9,\n",
    "#        nesterovs_momentum=True, power_t=0.5, random_state=42, shuffle=True,\n",
    "#        tol=0.001, validation_fraction=0.1, verbose=True,\n",
    "#        warm_start=False)\n",
    "\n",
    "clf_MLP = MLPClassifier(activation='relu', alpha=1e-05,\n",
    "       batch_size='auto', beta_1=0.9, beta_2=0.999, early_stopping=False,\n",
    "       epsilon=1e-08, hidden_layer_sizes=(200), learning_rate='constant',\n",
    "       learning_rate_init=0.0001, max_iter=10000, momentum=0.9,\n",
    "       nesterovs_momentum=True, power_t=0.5, random_state=42, shuffle=True,\n",
    "       tol=0.001, validation_fraction=0.1, verbose=True,\n",
    "       warm_start=False)\n",
    "\n",
    "\n",
    "clf_MLP.fit(X_minmax_train, y_minmax_train)\n",
    "# write the model to disk\n",
    "pickle.dump(clf_MLP, open('clf_MLP.sav', 'wb'))\n",
    "print 'Training dataset accuracy: ', clf_MLP.score(X_minmax_train, y_minmax_train)\n",
    "print 'Test dataset accuracy: ', clf_MLP.score(X_minmax_test, y_minmax_test)"
   ]
  },
  {
   "cell_type": "code",
   "execution_count": 78,
   "metadata": {},
   "outputs": [
    {
     "name": "stdout",
     "output_type": "stream",
     "text": [
      "0.662647937175\n",
      "0.701692290676\n",
      "0.630595889526\n",
      "0.697948717949\n"
     ]
    }
   ],
   "source": [
    "y_MLP_predict_minmax_train = clf_MLP.predict(X_minmax_train)\n",
    "y_MLP_predict_minmax_test = clf_MLP.predict(X_minmax_test)\n",
    "print accuracy_score(y_minmax_train, y_MLP_predict_minmax_train)\n",
    "print recall_score(y_minmax_train, y_MLP_predict_minmax_train)\n",
    "print accuracy_score(y_minmax_test, y_MLP_predict_minmax_test)\n",
    "print recall_score(y_minmax_test, y_MLP_predict_minmax_test)"
   ]
  },
  {
   "cell_type": "code",
   "execution_count": 80,
   "metadata": {},
   "outputs": [
    {
     "name": "stdout",
     "output_type": "stream",
     "text": [
      "Iteration 1, loss = 0.83003890\n",
      "Iteration 2, loss = 0.64702335\n",
      "Iteration 3, loss = 0.63400296\n",
      "Iteration 4, loss = 0.62617095\n",
      "Iteration 5, loss = 0.62224065\n",
      "Iteration 6, loss = 0.61810121\n",
      "Iteration 7, loss = 0.61445184\n",
      "Iteration 8, loss = 0.61263058\n",
      "Iteration 9, loss = 0.61064217\n",
      "Iteration 10, loss = 0.60848622\n",
      "Iteration 11, loss = 0.60692712\n",
      "Iteration 12, loss = 0.60572050\n",
      "Iteration 13, loss = 0.60437177\n",
      "Iteration 14, loss = 0.60292140\n",
      "Iteration 15, loss = 0.60235142\n",
      "Iteration 16, loss = 0.60143164\n",
      "Iteration 17, loss = 0.60088514\n",
      "Training loss did not improve more than tol=0.001000 for two consecutive epochs. Stopping.\n",
      "0.687036832209\n",
      "0.719500055304\n",
      "0.655133784308\n",
      "0.712820512821\n"
     ]
    }
   ],
   "source": [
    "clf_MLP.fit(X_stand_train, y_stand_train)\n",
    "y_MLP_predict_stand_train = clf_MLP.predict(X_stand_train)\n",
    "y_MLP_predict_stand_test = clf_MLP.predict(X_stand_test)\n",
    "print accuracy_score(y_stand_train, y_MLP_predict_stand_train)\n",
    "print recall_score(y_stand_train, y_MLP_predict_stand_train)\n",
    "print accuracy_score(y_stand_test, y_MLP_predict_stand_test)\n",
    "print recall_score(y_stand_test, y_MLP_predict_stand_test)"
   ]
  },
  {
   "cell_type": "code",
   "execution_count": null,
   "metadata": {
    "collapsed": true
   },
   "outputs": [],
   "source": []
  },
  {
   "cell_type": "markdown",
   "metadata": {
    "_cell_guid": "8361ab8e-dc81-58c9-4c99-1e5ccf51faa0",
    "_uuid": "686ca23d27ca32022283384e7c29b22264682a39"
   },
   "source": [
    "###### Logistic Regression Classifier"
   ]
  },
  {
   "cell_type": "code",
   "execution_count": 73,
   "metadata": {
    "_cell_guid": "a7054bbb-5a7b-10e8-e261-024f702ab94f",
    "_uuid": "1735fd5f08bd680c1964f529e7b50c9dae81bff6",
    "scrolled": true
   },
   "outputs": [
    {
     "name": "stdout",
     "output_type": "stream",
     "text": [
      "max_iter reached after 55 seconds\n",
      "[[ -3.46035678e-01  -1.65861472e-01  -6.58771375e-02  -6.03585456e-02\n",
      "    2.22984783e-02  -1.44195748e-02   1.14356225e-01  -1.37344213e-01\n",
      "    7.97070893e-02   1.31761225e-01  -1.08446993e-01   3.65509605e-02\n",
      "   -1.80271431e-01  -2.44606547e-01   4.68373809e-02   1.71154773e-01\n",
      "   -8.85099664e-02   3.44070178e-02   6.20561916e-02  -6.01530222e-02\n",
      "   -2.26912541e-02   3.06071236e-01  -4.05872526e-02  -4.31272882e-02\n",
      "    1.70740243e-01  -8.20390359e-02  -4.06809790e-02  -1.97823184e-01\n",
      "    1.82290492e-02   1.65133910e-01  -6.30382763e-02   1.54214488e-01\n",
      "    1.50215246e-01  -8.38867473e-03  -4.59779801e-02   3.79736988e-02\n",
      "   -8.65757762e-02   1.33850511e-01  -2.68619272e-02   9.15864218e-02\n",
      "   -5.36817933e-02  -1.28952481e-02   6.58966658e-03   1.23024553e-01\n",
      "    2.36916725e-02  -1.47479409e-01  -1.69350749e-02  -1.79378629e-01\n",
      "   -9.81071353e-03  -7.28745173e-02   3.02184411e-02  -4.57382662e-02\n",
      "    1.08562555e-01   1.61595747e-01  -4.37788638e-04  -7.95527868e-02\n",
      "   -4.79524843e-03  -1.14352825e-01  -4.79524843e-03  -5.23589844e-02\n",
      "   -5.79137396e-02  -5.23589844e-02  -6.98917366e-02  -2.59377995e-01\n",
      "    6.75144278e-02   6.75144278e-02   3.48603340e-01   3.43148124e-01\n",
      "   -1.55826069e-02  -1.76160451e-01  -7.55349652e-02  -1.87685349e-01\n",
      "    6.75144278e-02   6.75144278e-02   2.41381385e-01  -8.97042966e-02\n",
      "   -7.65709028e-02  -1.04292305e-01   7.62895967e-02   3.77931407e-01\n",
      "   -1.61752612e-01   2.19089169e-01   1.82147795e-01  -3.37468570e-01\n",
      "    8.77471990e-01   1.96948787e-01   1.43242907e-01  -3.69466022e-01\n",
      "    2.94629071e-01   5.46617727e-03   5.27612990e-04]]\n",
      "[-0.30128602]\n",
      "Training dataset accuracy:  0.679349629466\n"
     ]
    },
    {
     "name": "stderr",
     "output_type": "stream",
     "text": [
      "[Parallel(n_jobs=-1)]: Done   1 out of   1 | elapsed:   54.6s finished\n"
     ]
    }
   ],
   "source": [
    "#clf_Log = LogisticRegression(solver='liblinear', max_iter=1000, random_state=42,verbose=2) start: 3:10pm\n",
    "clf_Log = LogisticRegression(solver='sag', max_iter=1000, n_jobs=-1,\n",
    "                             random_state=42,verbose=2,class_weight='balanced')\n",
    "\n",
    "clf_Log.fit(X_stand_train, y_stand_train)\n",
    "# write the model to disk\n",
    "pickle.dump(clf_Log, open('clf_Log.sav', 'wb'))\n",
    "print(clf_Log.coef_)\n",
    "print(clf_Log.intercept_)\n",
    "print 'Training dataset accuracy: ', clf_Log.score(X_stand_train, y_stand_train)"
   ]
  },
  {
   "cell_type": "code",
   "execution_count": 74,
   "metadata": {},
   "outputs": [
    {
     "name": "stdout",
     "output_type": "stream",
     "text": [
      "max_iter reached after 53 seconds\n",
      "Training dataset accuracy:  0.669339674815\n"
     ]
    },
    {
     "name": "stderr",
     "output_type": "stream",
     "text": [
      "[Parallel(n_jobs=-1)]: Done   1 out of   1 | elapsed:   53.6s finished\n"
     ]
    }
   ],
   "source": [
    "clf_Log.fit(X_minmax_train, y_minmax_train)\n",
    "print 'Training dataset accuracy: ', clf_Log.score(X_minmax_train, y_minmax_train)"
   ]
  },
  {
   "cell_type": "code",
   "execution_count": 75,
   "metadata": {},
   "outputs": [
    {
     "name": "stdout",
     "output_type": "stream",
     "text": [
      "max_iter reached after 18 seconds\n",
      "Training dataset accuracy:  0.659661541865\n"
     ]
    },
    {
     "name": "stderr",
     "output_type": "stream",
     "text": [
      "[Parallel(n_jobs=-1)]: Done   1 out of   1 | elapsed:   18.6s finished\n"
     ]
    }
   ],
   "source": [
    "clf_Log.fit(X_cat_train, y_cat_train)\n",
    "print 'Training dataset accuracy: ', clf_Log.score(X_cat_train, y_cat_train)"
   ]
  },
  {
   "cell_type": "code",
   "execution_count": null,
   "metadata": {
    "collapsed": true
   },
   "outputs": [],
   "source": []
  },
  {
   "cell_type": "code",
   "execution_count": 68,
   "metadata": {},
   "outputs": [],
   "source": [
    "from sklearn.neighbors import KNeighborsClassifier\n",
    "from sklearn.metrics import recall_score, accuracy_score"
   ]
  },
  {
   "cell_type": "code",
   "execution_count": 69,
   "metadata": {},
   "outputs": [
    {
     "data": {
      "text/plain": [
       "KNeighborsClassifier(algorithm='auto', leaf_size=30, metric='minkowski',\n",
       "           metric_params=None, n_jobs=-1, n_neighbors=2, p=2,\n",
       "           weights='uniform')"
      ]
     },
     "execution_count": 69,
     "metadata": {},
     "output_type": "execute_result"
    }
   ],
   "source": [
    "clf_KNN = KNeighborsClassifier(n_neighbors=2, n_jobs=-1)\n",
    "clf_KNN.fit(X_minmax_train, y_minmax_train)"
   ]
  },
  {
   "cell_type": "code",
   "execution_count": 70,
   "metadata": {},
   "outputs": [
    {
     "name": "stdout",
     "output_type": "stream",
     "text": [
      "0.790399292114\n",
      "0.580798584227\n",
      "0.75158343746\n",
      "0.36358974359\n"
     ]
    }
   ],
   "source": [
    "y_KNN_predict_minmax_train = clf_KNN.predict(X_minmax_train)\n",
    "y_KNN_predict_minmax_test = clf_KNN.predict(X_minmax_test)\n",
    "print accuracy_score(y_minmax_train, y_KNN_predict_minmax_train)\n",
    "print recall_score(y_minmax_train, y_KNN_predict_minmax_train)\n",
    "print accuracy_score(y_minmax_test, y_KNN_predict_minmax_test)\n",
    "print recall_score(y_minmax_test, y_KNN_predict_minmax_test)\n",
    "\n",
    "# 1.0\n",
    "# 1.0\n",
    "# 0.859601878582\n",
    "# 0.153333333333"
   ]
  },
  {
   "cell_type": "code",
   "execution_count": 71,
   "metadata": {},
   "outputs": [],
   "source": [
    "# clf_KNN.predict_proba(X_minmax_test).reshape([1,-1])"
   ]
  },
  {
   "cell_type": "code",
   "execution_count": 72,
   "metadata": {},
   "outputs": [
    {
     "name": "stdout",
     "output_type": "stream",
     "text": [
      "0.798639531025\n",
      "0.597279062051\n",
      "0.757464776595\n",
      "0.384615384615\n"
     ]
    }
   ],
   "source": [
    "clf_KNN = KNeighborsClassifier(n_neighbors=2, n_jobs=-1)\n",
    "clf_KNN.fit(X_stand_train, y_stand_train)\n",
    "y_KNN_predict_stand_train = clf_KNN.predict(X_stand_train)\n",
    "y_KNN_predict_stand_test = clf_KNN.predict(X_stand_test)\n",
    "\n",
    "print accuracy_score(y_stand_train, y_KNN_predict_stand_train)\n",
    "print recall_score(y_stand_train, y_KNN_predict_stand_train)\n",
    "print accuracy_score(y_stand_test, y_KNN_predict_stand_test)\n",
    "print recall_score(y_stand_test, y_KNN_predict_stand_test)\n",
    "\n",
    "# 1.0\n",
    "# 1.0\n",
    "# 0.863027273902\n",
    "# 0.165384615385"
   ]
  },
  {
   "cell_type": "code",
   "execution_count": 76,
   "metadata": {},
   "outputs": [
    {
     "name": "stdout",
     "output_type": "stream",
     "text": [
      "0.787246985953\n",
      "0.574604579139\n",
      "0.754901115946\n",
      "0.356666666667\n"
     ]
    }
   ],
   "source": [
    "clf_KNN = KNeighborsClassifier(n_neighbors=2, n_jobs=-1)\n",
    "clf_KNN.fit(X_cat_train, y_cat_train)\n",
    "y_KNN_predict_cat_train = clf_KNN.predict(X_cat_train)\n",
    "y_KNN_predict_cat_test = clf_KNN.predict(X_cat_test)\n",
    "\n",
    "print accuracy_score(y_cat_train, y_KNN_predict_cat_train)\n",
    "print recall_score(y_cat_train, y_KNN_predict_cat_train)\n",
    "print accuracy_score(y_cat_test, y_KNN_predict_cat_test)\n",
    "print recall_score(y_cat_test, y_KNN_predict_cat_test)\n"
   ]
  },
  {
   "cell_type": "code",
   "execution_count": null,
   "metadata": {
    "collapsed": true
   },
   "outputs": [],
   "source": []
  },
  {
   "cell_type": "code",
   "execution_count": null,
   "metadata": {
    "collapsed": true
   },
   "outputs": [],
   "source": []
  },
  {
   "cell_type": "markdown",
   "metadata": {
    "_cell_guid": "1f54087f-bf37-609e-3358-a28a64f5c18d",
    "_uuid": "2a6759baddce5ffdaf18e3e20bcb7700c376547d"
   },
   "source": [
    "###### Random Forest Classifier"
   ]
  },
  {
   "cell_type": "code",
   "execution_count": 20,
   "metadata": {
    "_cell_guid": "662a47e8-6b4d-a3ce-83de-c317092fb8be",
    "_uuid": "f650d9af59b3c25f61d4fcc69f3b41c49bbf27fa",
    "scrolled": true
   },
   "outputs": [
    {
     "name": "stderr",
     "output_type": "stream",
     "text": [
      "C:\\ProgramData\\Anaconda2\\lib\\site-packages\\ipykernel_launcher.py:6: DataConversionWarning: A column-vector y was passed when a 1d array was expected. Please change the shape of y to (n_samples,), for example using ravel().\n",
      "  \n",
      "[Parallel(n_jobs=-1)]: Done  34 tasks      | elapsed:    0.3s\n",
      "[Parallel(n_jobs=-1)]: Done 184 tasks      | elapsed:    1.3s\n",
      "[Parallel(n_jobs=-1)]: Done 434 tasks      | elapsed:    3.0s\n",
      "[Parallel(n_jobs=-1)]: Done 500 out of 500 | elapsed:    3.5s finished\n"
     ]
    }
   ],
   "source": [
    "clf_RF = RandomForestClassifier(n_estimators=500, criterion='gini', max_depth=15,\n",
    "                                min_samples_split=2, min_samples_leaf=1, min_weight_fraction_leaf=0.0,\n",
    "                                max_features=8, max_leaf_nodes=None, min_impurity_split=1e-07, \n",
    "                                bootstrap=True, oob_score=False, n_jobs=-1, \n",
    "                                random_state=42, verbose=1, warm_start=False, class_weight=None)\n",
    "clf_RF.fit(X_train, y_train)\n",
    "# write the model to disk\n",
    "pickle.dump(clf_RF, open('clf_RF.sav', 'wb'))"
   ]
  },
  {
   "cell_type": "markdown",
   "metadata": {
    "_cell_guid": "8280fe7c-59a2-c09e-5f32-d037c7243b59",
    "_uuid": "780dac392341ca23d834a14954e2833bf7534d99"
   },
   "source": [
    "###### AdaBoost Classifier"
   ]
  },
  {
   "cell_type": "code",
   "execution_count": 21,
   "metadata": {
    "_cell_guid": "dec9e474-6333-e846-deb7-1505e05a246f",
    "_uuid": "4df337388ee59f7673508441e999585b858fb63b",
    "collapsed": true
   },
   "outputs": [],
   "source": [
    "clf_AdaB = AdaBoostClassifier(n_estimators=100)\n",
    "clf_AdaB.fit(X_train, y_train)\n",
    "# write the model to disk\n",
    "pickle.dump(clf_AdaB, open('clf_AdaB.sav', 'wb'))"
   ]
  },
  {
   "cell_type": "markdown",
   "metadata": {
    "_cell_guid": "fe7f3405-a4b7-58a3-22f9-0cd8c3aa42a9",
    "_uuid": "c8dc7979ec130f7fcc7e2edbf251323e577465cf"
   },
   "source": [
    "###### Gradient Boost Classifier"
   ]
  },
  {
   "cell_type": "code",
   "execution_count": 22,
   "metadata": {
    "_cell_guid": "446ecd7b-dda3-4b32-87dc-4fc2a423b216",
    "_uuid": "a5983aee3c3017ba82d88242a96435dc31a6e25e",
    "collapsed": true
   },
   "outputs": [],
   "source": [
    "clf_GB = GradientBoostingClassifier(n_estimators=100, learning_rate=1.0, random_state=42)\n",
    "clf_GB.fit(X_train, y_train)\n",
    "# write the model to disk\n",
    "pickle.dump(clf_GB, open('clf_GB.sav', 'wb'))"
   ]
  },
  {
   "cell_type": "markdown",
   "metadata": {
    "_cell_guid": "ae9425e7-f81c-3675-4f8e-4940539fe772",
    "_uuid": "57511291ce39f55fff2f6d3dc3d358628b503a65"
   },
   "source": [
    "###### Extra Tree Classifier"
   ]
  },
  {
   "cell_type": "code",
   "execution_count": 23,
   "metadata": {
    "_cell_guid": "a08c3aca-1534-8aa1-a6b3-9d885604d965",
    "_uuid": "4e947f31d538a69fa9942b32346c98c6fda70c2a",
    "scrolled": true
   },
   "outputs": [
    {
     "name": "stderr",
     "output_type": "stream",
     "text": [
      "C:\\ProgramData\\Anaconda2\\lib\\site-packages\\ipykernel_launcher.py:2: DataConversionWarning: A column-vector y was passed when a 1d array was expected. Please change the shape of y to (n_samples,), for example using ravel().\n",
      "  \n"
     ]
    }
   ],
   "source": [
    "clf_ET = ExtraTreesClassifier(n_estimators=50, random_state=42, max_depth=15)\n",
    "clf_ET.fit(X_train, y_train)\n",
    "# write the model to disk\n",
    "pickle.dump(clf_ET, open('clf_ET.sav', 'wb'))"
   ]
  },
  {
   "cell_type": "code",
   "execution_count": null,
   "metadata": {
    "collapsed": true
   },
   "outputs": [],
   "source": []
  },
  {
   "cell_type": "code",
   "execution_count": null,
   "metadata": {
    "collapsed": true
   },
   "outputs": [],
   "source": []
  },
  {
   "cell_type": "markdown",
   "metadata": {},
   "source": [
    "### Feature Importance "
   ]
  },
  {
   "cell_type": "code",
   "execution_count": 24,
   "metadata": {
    "scrolled": true
   },
   "outputs": [
    {
     "name": "stdout",
     "output_type": "stream",
     "text": [
      "Feature ranking:\n",
      "1. STATE (0.119355)\n",
      "2. PROF_CODE (0.103229)\n",
      "3. BANK_YRS_BIN (0.085046)\n",
      "4. CUS_AGE_AT_LOAN_BIN (0.073173)\n",
      "5. COV_LODGEMENT_CNT_BIN (0.060800)\n",
      "6. NTWRK_OUT_IN_DEGREE_RATIO_BIN (0.050482)\n",
      "7. AIRTIME_AVG_PER_MONTH_COUNT_BIN (0.050282)\n",
      "8. NTWRK_DEGREE_BIN (0.046182)\n",
      "9. AIRTIME_NBR_MONTH_ACTIVE_RATIO_BIN (0.042582)\n",
      "10. HAS_CONSISTENT_LODGE (0.037626)\n",
      "11. HAS_BAD_NEIGHBORS (0.029499)\n",
      "12. DOES_IN_BRANCH (0.027622)\n",
      "13. HAS_EVER_LOAN (0.027279)\n",
      "14. CUS_GENDER (0.024937)\n",
      "15. HAS_REACTIVATED (0.024117)\n",
      "16. NBR_DISTINCT_DEP_BIN (0.023735)\n",
      "17. IS_BETTOR (0.022084)\n",
      "18. USE_IB_MB_GTW (0.020584)\n",
      "19. AIRTIME_DO_THIRD_PARTY (0.020407)\n",
      "20. IS_PAY_UTILITIES (0.018177)\n",
      "21. IS_RELIGIOUS (0.017713)\n",
      "22. HAS_DOM_ACCS (0.011819)\n",
      "23. REACTIVATED_OR_NEW_IN_12_MTHS (0.010792)\n",
      "24. IS_POS_NIGHT_SPENDER (0.010118)\n",
      "25. HAS_BIZ_ACC (0.008573)\n",
      "26. HAS_IJEBU_LEDGERS (0.008115)\n",
      "27. USE_MB_AND_GTW (0.007966)\n",
      "28. AVG_TURNOVER_AMOUNT_BIN (0.005630)\n",
      "29. ISSUES_CHEQUE (0.003666)\n",
      "30. USE_ATM_ONLY (0.002374)\n",
      "31. IS_PLATINUM_PLUS_HNI (0.002080)\n",
      "32. USE_POS_OR_GAPS (0.001995)\n",
      "33. IS_VISA (0.001961)\n"
     ]
    }
   ],
   "source": [
    "importances_RF = clf_RF.feature_importances_\n",
    "std = np.std([tree.feature_importances_ for tree in clf_RF.estimators_],\n",
    "             axis=0)\n",
    "# indices1 = np.argsort(importances_RF[0:var])[::-1]\n",
    "indices1 = np.argsort(importances_RF)[::-1]\n",
    "\n",
    "indices = indices1\n",
    "# indices = indices1[0:var]\n",
    "# Print the feature ranking\n",
    "print(\"Feature ranking:\")\n",
    "features_ranking=pd.DataFrame(columns=['FEATURE','IMPORTANCE'])\n",
    "var=len(cols_selected)\n",
    "for f in range(var):\n",
    "    features_ranking=features_ranking.append({\n",
    "        features_ranking.columns[0]:cols_selected[indices[f]],\n",
    "        features_ranking.columns[1]:importances_RF[indices[f]]\n",
    "    }, ignore_index=True)\n",
    "    print(\"%d. %s (%f)\" % (f + 1, cols_selected[indices[f]], importances_RF[indices[f]]))\n",
    "\n",
    "features_ranking.to_csv('features_ranking_based_on_randomforest.csv', index=False)"
   ]
  },
  {
   "cell_type": "code",
   "execution_count": null,
   "metadata": {
    "collapsed": true
   },
   "outputs": [],
   "source": []
  },
  {
   "cell_type": "code",
   "execution_count": null,
   "metadata": {
    "collapsed": true
   },
   "outputs": [],
   "source": []
  },
  {
   "cell_type": "markdown",
   "metadata": {},
   "source": [
    "### Model Evaluation"
   ]
  },
  {
   "cell_type": "code",
   "execution_count": 25,
   "metadata": {
    "collapsed": true
   },
   "outputs": [],
   "source": [
    "# Training dataset"
   ]
  },
  {
   "cell_type": "code",
   "execution_count": 26,
   "metadata": {
    "scrolled": true
   },
   "outputs": [
    {
     "name": "stderr",
     "output_type": "stream",
     "text": [
      "[Parallel(n_jobs=8)]: Done  34 tasks      | elapsed:    0.0s\n",
      "[Parallel(n_jobs=8)]: Done 184 tasks      | elapsed:    0.4s\n",
      "[Parallel(n_jobs=8)]: Done 434 tasks      | elapsed:    1.8s\n",
      "[Parallel(n_jobs=8)]: Done 500 out of 500 | elapsed:    2.3s finished\n"
     ]
    }
   ],
   "source": [
    "y_train_pred_DT_proba = [i[1] for i in clf_DT.predict_proba(X_train)]\n",
    "y_train_pred_NB_proba = [i[1] for i in clf_NB.predict_proba(X_train)]\n",
    "y_train_pred_MLP_proba = [i[1] for i in clf_MLP.predict_proba(X_train)]\n",
    "y_train_pred_Log_proba = [i[1] for i in clf_Log.predict_proba(X_train)]\n",
    "y_train_pred_RF_proba = [i[1] for i in clf_RF.predict_proba(X_train)]\n",
    "y_train_pred_AdaB_proba = [i[1] for i in clf_AdaB.predict_proba(X_train)]\n",
    "y_train_pred_GB_proba = [i[1] for i in clf_GB.predict_proba(X_train)]\n",
    "y_train_pred_ET_proba = [i[1] for i in clf_ET.predict_proba(X_train)]"
   ]
  },
  {
   "cell_type": "code",
   "execution_count": 27,
   "metadata": {
    "collapsed": true
   },
   "outputs": [],
   "source": [
    "# Test dataset"
   ]
  },
  {
   "cell_type": "code",
   "execution_count": 28,
   "metadata": {},
   "outputs": [
    {
     "name": "stderr",
     "output_type": "stream",
     "text": [
      "[Parallel(n_jobs=8)]: Done  34 tasks      | elapsed:    0.0s\n",
      "[Parallel(n_jobs=8)]: Done 184 tasks      | elapsed:    0.6s\n",
      "[Parallel(n_jobs=8)]: Done 434 tasks      | elapsed:    1.9s\n",
      "[Parallel(n_jobs=8)]: Done 500 out of 500 | elapsed:    2.4s finished\n"
     ]
    }
   ],
   "source": [
    "y_test_pred_DT_proba = [i[1] for i in clf_DT.predict_proba(X_test)]\n",
    "y_test_pred_NB_proba = [i[1] for i in clf_NB.predict_proba(X_test)]\n",
    "y_test_pred_MLP_proba = [i[1] for i in clf_MLP.predict_proba(X_test)]\n",
    "y_test_pred_Log_proba = [i[1] for i in clf_Log.predict_proba(X_test)]\n",
    "y_test_pred_RF_proba = [i[1] for i in clf_RF.predict_proba(X_test)]\n",
    "y_test_pred_AdaB_proba = [i[1] for i in clf_AdaB.predict_proba(X_test)]\n",
    "y_test_pred_GB_proba = [i[1] for i in clf_GB.predict_proba(X_test)]\n",
    "y_test_pred_ET_proba = [i[1] for i in clf_ET.predict_proba(X_test)]"
   ]
  },
  {
   "cell_type": "code",
   "execution_count": null,
   "metadata": {
    "collapsed": true
   },
   "outputs": [],
   "source": []
  },
  {
   "cell_type": "code",
   "execution_count": 29,
   "metadata": {
    "collapsed": true
   },
   "outputs": [],
   "source": [
    "def evaluate_model(y, y_pred_dict, threshold=0.5):\n",
    "    model_evaluation_result = pd.DataFrame()\n",
    "    model_evaluation_scores_dict = {}\n",
    "    for k in y_pred_dict:\n",
    "        y_pred_binary = ([int(i>=threshold) for i in y_pred_dict[k]])\n",
    "        model_evaluation_scores_dict[k+' proba'] = y_pred_dict[k]\n",
    "        model_evaluation_scores_dict[k] = y_pred_binary\n",
    "        \n",
    "        y_zipped = zip(y, y_pred_binary)\n",
    "        tp = len([t for t in y_zipped if (t[0]==1) & (t[1]==1)])\n",
    "        fp = len([t for t in y_zipped if (t[0]==0) & (t[1]==1)])\n",
    "        tn = len([t for t in y_zipped if (t[0]==0) & (t[1]==0)])\n",
    "        fn = len([t for t in y_zipped if (t[0]==1) & (t[1]==0)])\n",
    "        nbr_actual_positive = len([t for t in y_zipped if (t[0]==1)])\n",
    "        nbr_actual_negative = len([t for t in y_zipped if (t[0]==0)])\n",
    "        tot_n_p = tn+fn+fp+tp\n",
    "        \n",
    "#         print 'Number of data points: ', len(y)\n",
    "#         print 'Number of positive data points: ', len([i for i in y if i==1])\n",
    "#         print 'Number of negative data points: ', len([i for i in y if i==0])\n",
    "#         print 'k', ': ', 'tp', 'fp', 'tn', 'fn', 'tot_n_p'\n",
    "#         print k, ': ', tp, fp, tn, fn, tot_n_p\n",
    "        \n",
    "        format_pattern='{:.0%}'\n",
    "        # Accuracy\n",
    "        model_evaluation_result.loc[k, 'Accuracy']='{}'.format(format_pattern).format((float)(tp+tn)/tot_n_p)\n",
    "        # Misclassification Rate (Error Rate)\n",
    "        model_evaluation_result.loc[k, 'Misclassification Rate (Error Rate)']='{}'.format(format_pattern).format((float)(fp+fn)/tot_n_p)\n",
    "        # True Positive Rate\n",
    "        model_evaluation_result.loc[k, 'True Positive Rate']='{}'.format(format_pattern).format((float)(tp)/(tp+fn))\n",
    "        # False Positive Rate\n",
    "        model_evaluation_result.loc[k, 'False Positive Rate']='{}'.format(format_pattern).format((float)(fp)/(tn+fp))\n",
    "        # Specificity\n",
    "        model_evaluation_result.loc[k, 'Specificity']='{}'.format(format_pattern).format((float)(tn)/(tn+fp))\n",
    "        # Precision\n",
    "        model_evaluation_result.loc[k, 'Precision']='{}'.format(format_pattern).format((float)(tp)/(tp+fp))\n",
    "        # Prevalence\n",
    "        model_evaluation_result.loc[k, 'Prevalence']='{}'.format(format_pattern).format((float)(fn+tp)/tot_n_p)\n",
    "        # Positive predictive value\n",
    "        model_evaluation_result.loc[k, 'Positive predictive value']='{}'.format(format_pattern).format((float)(tp)/(fp+tp))\n",
    "        # Negative predictive value\n",
    "        model_evaluation_result.loc[k, 'Negative predictive value']='{}'.format(format_pattern).format((float)(fp)/(fp+tp))\n",
    "        # TP\n",
    "        model_evaluation_result.loc[k, 'True Positive']='{}'.format(tp)\n",
    "        # FP\n",
    "        model_evaluation_result.loc[k, 'False Positive']='{}'.format(fp)\n",
    "        # TN\n",
    "        model_evaluation_result.loc[k, 'True Negative']='{}'.format(tn)\n",
    "        # FN\n",
    "        model_evaluation_result.loc[k, 'False Negative']='{}'.format(fn)\n",
    "        # Number of actual positive\n",
    "        model_evaluation_result.loc[k, 'Actual Positives']='{}'.format(nbr_actual_positive)\n",
    "        # Number of actual negative\n",
    "        model_evaluation_result.loc[k, 'Actual Negatives']='{}'.format(nbr_actual_negative)\n",
    "        \n",
    "    model_evaluation_scores_dict['y'] = y\n",
    "    return (model_evaluation_result, pd.DataFrame(model_evaluation_scores_dict))\n",
    "        \n",
    "        "
   ]
  },
  {
   "cell_type": "code",
   "execution_count": 30,
   "metadata": {
    "collapsed": true
   },
   "outputs": [],
   "source": [
    "# Evaluating Training Data"
   ]
  },
  {
   "cell_type": "code",
   "execution_count": 31,
   "metadata": {
    "collapsed": true
   },
   "outputs": [],
   "source": [
    "train_evaluate_scores_per_df, train_evaluate_df = evaluate_model(y_train.reshape(-1), y_pred_dict={\n",
    "                                                 'Decision Tree':y_train_pred_DT_proba,\n",
    "                                                 'Naive Bayes': y_train_pred_NB_proba,\n",
    "                                                 'Neural Network': y_train_pred_MLP_proba,\n",
    "                                                 'Logistic Regression': y_train_pred_Log_proba,\n",
    "                                                 'Random Forest': y_train_pred_RF_proba,\n",
    "                                                 'AdaBoost': y_train_pred_AdaB_proba,\n",
    "                                                 'GradientBoost': y_train_pred_GB_proba,\n",
    "                                                 'Extra Tree': y_train_pred_ET_proba\n",
    "                                                }, threshold=0.5) "
   ]
  },
  {
   "cell_type": "code",
   "execution_count": 32,
   "metadata": {
    "collapsed": true,
    "scrolled": true
   },
   "outputs": [],
   "source": [
    "train_evaluate_df.to_csv('train_evaluate_df.csv', index=False)\n",
    "train_evaluate_scores_per_df.to_csv('train_evaluate_scores_per_df.csv')"
   ]
  },
  {
   "cell_type": "code",
   "execution_count": 33,
   "metadata": {},
   "outputs": [
    {
     "data": {
      "text/html": [
       "<div>\n",
       "<style>\n",
       "    .dataframe thead tr:only-child th {\n",
       "        text-align: right;\n",
       "    }\n",
       "\n",
       "    .dataframe thead th {\n",
       "        text-align: left;\n",
       "    }\n",
       "\n",
       "    .dataframe tbody tr th {\n",
       "        vertical-align: top;\n",
       "    }\n",
       "</style>\n",
       "<table border=\"1\" class=\"dataframe\">\n",
       "  <thead>\n",
       "    <tr style=\"text-align: right;\">\n",
       "      <th></th>\n",
       "      <th>Accuracy</th>\n",
       "      <th>Misclassification Rate (Error Rate)</th>\n",
       "      <th>True Positive Rate</th>\n",
       "      <th>False Positive Rate</th>\n",
       "      <th>Specificity</th>\n",
       "      <th>Precision</th>\n",
       "      <th>Prevalence</th>\n",
       "      <th>Positive predictive value</th>\n",
       "      <th>Negative predictive value</th>\n",
       "      <th>True Positive</th>\n",
       "      <th>False Positive</th>\n",
       "      <th>True Negative</th>\n",
       "      <th>False Negative</th>\n",
       "      <th>Actual Positives</th>\n",
       "      <th>Actual Negatives</th>\n",
       "    </tr>\n",
       "  </thead>\n",
       "  <tbody>\n",
       "    <tr>\n",
       "      <th>Extra Tree</th>\n",
       "      <td>84%</td>\n",
       "      <td>16%</td>\n",
       "      <td>83%</td>\n",
       "      <td>15%</td>\n",
       "      <td>85%</td>\n",
       "      <td>84%</td>\n",
       "      <td>50%</td>\n",
       "      <td>84%</td>\n",
       "      <td>16%</td>\n",
       "      <td>7536</td>\n",
       "      <td>1396</td>\n",
       "      <td>7665</td>\n",
       "      <td>1520</td>\n",
       "      <td>9056</td>\n",
       "      <td>9061</td>\n",
       "    </tr>\n",
       "    <tr>\n",
       "      <th>GradientBoost</th>\n",
       "      <td>72%</td>\n",
       "      <td>28%</td>\n",
       "      <td>73%</td>\n",
       "      <td>28%</td>\n",
       "      <td>72%</td>\n",
       "      <td>72%</td>\n",
       "      <td>50%</td>\n",
       "      <td>72%</td>\n",
       "      <td>28%</td>\n",
       "      <td>6613</td>\n",
       "      <td>2543</td>\n",
       "      <td>6518</td>\n",
       "      <td>2443</td>\n",
       "      <td>9056</td>\n",
       "      <td>9061</td>\n",
       "    </tr>\n",
       "    <tr>\n",
       "      <th>AdaBoost</th>\n",
       "      <td>68%</td>\n",
       "      <td>32%</td>\n",
       "      <td>68%</td>\n",
       "      <td>32%</td>\n",
       "      <td>68%</td>\n",
       "      <td>68%</td>\n",
       "      <td>50%</td>\n",
       "      <td>68%</td>\n",
       "      <td>32%</td>\n",
       "      <td>6128</td>\n",
       "      <td>2863</td>\n",
       "      <td>6198</td>\n",
       "      <td>2928</td>\n",
       "      <td>9056</td>\n",
       "      <td>9061</td>\n",
       "    </tr>\n",
       "    <tr>\n",
       "      <th>Logistic Regression</th>\n",
       "      <td>67%</td>\n",
       "      <td>33%</td>\n",
       "      <td>65%</td>\n",
       "      <td>32%</td>\n",
       "      <td>68%</td>\n",
       "      <td>67%</td>\n",
       "      <td>50%</td>\n",
       "      <td>67%</td>\n",
       "      <td>33%</td>\n",
       "      <td>5908</td>\n",
       "      <td>2914</td>\n",
       "      <td>6147</td>\n",
       "      <td>3148</td>\n",
       "      <td>9056</td>\n",
       "      <td>9061</td>\n",
       "    </tr>\n",
       "    <tr>\n",
       "      <th>Decision Tree</th>\n",
       "      <td>71%</td>\n",
       "      <td>29%</td>\n",
       "      <td>70%</td>\n",
       "      <td>28%</td>\n",
       "      <td>72%</td>\n",
       "      <td>71%</td>\n",
       "      <td>50%</td>\n",
       "      <td>71%</td>\n",
       "      <td>29%</td>\n",
       "      <td>6296</td>\n",
       "      <td>2543</td>\n",
       "      <td>6518</td>\n",
       "      <td>2760</td>\n",
       "      <td>9056</td>\n",
       "      <td>9061</td>\n",
       "    </tr>\n",
       "    <tr>\n",
       "      <th>Naive Bayes</th>\n",
       "      <td>62%</td>\n",
       "      <td>38%</td>\n",
       "      <td>57%</td>\n",
       "      <td>34%</td>\n",
       "      <td>66%</td>\n",
       "      <td>63%</td>\n",
       "      <td>50%</td>\n",
       "      <td>63%</td>\n",
       "      <td>37%</td>\n",
       "      <td>5201</td>\n",
       "      <td>3070</td>\n",
       "      <td>5991</td>\n",
       "      <td>3855</td>\n",
       "      <td>9056</td>\n",
       "      <td>9061</td>\n",
       "    </tr>\n",
       "    <tr>\n",
       "      <th>Neural Network</th>\n",
       "      <td>66%</td>\n",
       "      <td>34%</td>\n",
       "      <td>74%</td>\n",
       "      <td>41%</td>\n",
       "      <td>59%</td>\n",
       "      <td>64%</td>\n",
       "      <td>50%</td>\n",
       "      <td>64%</td>\n",
       "      <td>36%</td>\n",
       "      <td>6678</td>\n",
       "      <td>3698</td>\n",
       "      <td>5363</td>\n",
       "      <td>2378</td>\n",
       "      <td>9056</td>\n",
       "      <td>9061</td>\n",
       "    </tr>\n",
       "    <tr>\n",
       "      <th>Random Forest</th>\n",
       "      <td>89%</td>\n",
       "      <td>11%</td>\n",
       "      <td>88%</td>\n",
       "      <td>10%</td>\n",
       "      <td>90%</td>\n",
       "      <td>90%</td>\n",
       "      <td>50%</td>\n",
       "      <td>90%</td>\n",
       "      <td>10%</td>\n",
       "      <td>7943</td>\n",
       "      <td>866</td>\n",
       "      <td>8195</td>\n",
       "      <td>1113</td>\n",
       "      <td>9056</td>\n",
       "      <td>9061</td>\n",
       "    </tr>\n",
       "  </tbody>\n",
       "</table>\n",
       "</div>"
      ],
      "text/plain": [
       "                    Accuracy Misclassification Rate (Error Rate)  \\\n",
       "Extra Tree               84%                                 16%   \n",
       "GradientBoost            72%                                 28%   \n",
       "AdaBoost                 68%                                 32%   \n",
       "Logistic Regression      67%                                 33%   \n",
       "Decision Tree            71%                                 29%   \n",
       "Naive Bayes              62%                                 38%   \n",
       "Neural Network           66%                                 34%   \n",
       "Random Forest            89%                                 11%   \n",
       "\n",
       "                    True Positive Rate False Positive Rate Specificity  \\\n",
       "Extra Tree                         83%                 15%         85%   \n",
       "GradientBoost                      73%                 28%         72%   \n",
       "AdaBoost                           68%                 32%         68%   \n",
       "Logistic Regression                65%                 32%         68%   \n",
       "Decision Tree                      70%                 28%         72%   \n",
       "Naive Bayes                        57%                 34%         66%   \n",
       "Neural Network                     74%                 41%         59%   \n",
       "Random Forest                      88%                 10%         90%   \n",
       "\n",
       "                    Precision Prevalence Positive predictive value  \\\n",
       "Extra Tree                84%        50%                       84%   \n",
       "GradientBoost             72%        50%                       72%   \n",
       "AdaBoost                  68%        50%                       68%   \n",
       "Logistic Regression       67%        50%                       67%   \n",
       "Decision Tree             71%        50%                       71%   \n",
       "Naive Bayes               63%        50%                       63%   \n",
       "Neural Network            64%        50%                       64%   \n",
       "Random Forest             90%        50%                       90%   \n",
       "\n",
       "                    Negative predictive value True Positive False Positive  \\\n",
       "Extra Tree                                16%          7536           1396   \n",
       "GradientBoost                             28%          6613           2543   \n",
       "AdaBoost                                  32%          6128           2863   \n",
       "Logistic Regression                       33%          5908           2914   \n",
       "Decision Tree                             29%          6296           2543   \n",
       "Naive Bayes                               37%          5201           3070   \n",
       "Neural Network                            36%          6678           3698   \n",
       "Random Forest                             10%          7943            866   \n",
       "\n",
       "                    True Negative False Negative Actual Positives  \\\n",
       "Extra Tree                   7665           1520             9056   \n",
       "GradientBoost                6518           2443             9056   \n",
       "AdaBoost                     6198           2928             9056   \n",
       "Logistic Regression          6147           3148             9056   \n",
       "Decision Tree                6518           2760             9056   \n",
       "Naive Bayes                  5991           3855             9056   \n",
       "Neural Network               5363           2378             9056   \n",
       "Random Forest                8195           1113             9056   \n",
       "\n",
       "                    Actual Negatives  \n",
       "Extra Tree                      9061  \n",
       "GradientBoost                   9061  \n",
       "AdaBoost                        9061  \n",
       "Logistic Regression             9061  \n",
       "Decision Tree                   9061  \n",
       "Naive Bayes                     9061  \n",
       "Neural Network                  9061  \n",
       "Random Forest                   9061  "
      ]
     },
     "execution_count": 33,
     "metadata": {},
     "output_type": "execute_result"
    }
   ],
   "source": [
    "train_evaluate_scores_per_df"
   ]
  },
  {
   "cell_type": "code",
   "execution_count": null,
   "metadata": {
    "collapsed": true
   },
   "outputs": [],
   "source": []
  },
  {
   "cell_type": "code",
   "execution_count": null,
   "metadata": {
    "collapsed": true
   },
   "outputs": [],
   "source": []
  },
  {
   "cell_type": "code",
   "execution_count": 34,
   "metadata": {
    "collapsed": true
   },
   "outputs": [],
   "source": [
    "# Evaluating Test Data"
   ]
  },
  {
   "cell_type": "code",
   "execution_count": 47,
   "metadata": {
    "collapsed": true
   },
   "outputs": [],
   "source": [
    "test_evaluate_scores_per_df, test_evaluate_df = evaluate_model(y_test.reshape(-1), y_pred_dict={\n",
    "                                                'Decision Tree':y_test_pred_DT_proba,\n",
    "                                                'Naive Bayes': y_test_pred_NB_proba,\n",
    "                                                'Neural Network': y_test_pred_MLP_proba,\n",
    "                                                'Logistic Regression': y_test_pred_Log_proba,\n",
    "                                                'Random Forest': y_test_pred_RF_proba,\n",
    "                                                'AdaBoost': y_test_pred_AdaB_proba,\n",
    "                                                'GradientBoost': y_test_pred_GB_proba,\n",
    "                                                'Extra Tree': y_test_pred_ET_proba\n",
    "                                                }, threshold=0.5) "
   ]
  },
  {
   "cell_type": "code",
   "execution_count": 48,
   "metadata": {
    "collapsed": true
   },
   "outputs": [],
   "source": [
    "test_evaluate_df.to_csv('test_evaluate_df.csv', index=False)\n",
    "test_evaluate_scores_per_df.to_csv('test_evaluate_scores_per_df.csv')"
   ]
  },
  {
   "cell_type": "code",
   "execution_count": 49,
   "metadata": {},
   "outputs": [
    {
     "data": {
      "text/html": [
       "<div>\n",
       "<style>\n",
       "    .dataframe thead tr:only-child th {\n",
       "        text-align: right;\n",
       "    }\n",
       "\n",
       "    .dataframe thead th {\n",
       "        text-align: left;\n",
       "    }\n",
       "\n",
       "    .dataframe tbody tr th {\n",
       "        vertical-align: top;\n",
       "    }\n",
       "</style>\n",
       "<table border=\"1\" class=\"dataframe\">\n",
       "  <thead>\n",
       "    <tr style=\"text-align: right;\">\n",
       "      <th></th>\n",
       "      <th>Accuracy</th>\n",
       "      <th>Misclassification Rate (Error Rate)</th>\n",
       "      <th>True Positive Rate</th>\n",
       "      <th>False Positive Rate</th>\n",
       "      <th>Specificity</th>\n",
       "      <th>Precision</th>\n",
       "      <th>Prevalence</th>\n",
       "      <th>Positive predictive value</th>\n",
       "      <th>Negative predictive value</th>\n",
       "      <th>True Positive</th>\n",
       "      <th>False Positive</th>\n",
       "      <th>True Negative</th>\n",
       "      <th>False Negative</th>\n",
       "      <th>Actual Positives</th>\n",
       "      <th>Actual Negatives</th>\n",
       "    </tr>\n",
       "  </thead>\n",
       "  <tbody>\n",
       "    <tr>\n",
       "      <th>Extra Tree</th>\n",
       "      <td>66%</td>\n",
       "      <td>34%</td>\n",
       "      <td>65%</td>\n",
       "      <td>32%</td>\n",
       "      <td>68%</td>\n",
       "      <td>67%</td>\n",
       "      <td>50%</td>\n",
       "      <td>67%</td>\n",
       "      <td>33%</td>\n",
       "      <td>2510</td>\n",
       "      <td>1247</td>\n",
       "      <td>2633</td>\n",
       "      <td>1375</td>\n",
       "      <td>3885</td>\n",
       "      <td>3880</td>\n",
       "    </tr>\n",
       "    <tr>\n",
       "      <th>GradientBoost</th>\n",
       "      <td>67%</td>\n",
       "      <td>33%</td>\n",
       "      <td>67%</td>\n",
       "      <td>33%</td>\n",
       "      <td>67%</td>\n",
       "      <td>67%</td>\n",
       "      <td>50%</td>\n",
       "      <td>67%</td>\n",
       "      <td>33%</td>\n",
       "      <td>2616</td>\n",
       "      <td>1287</td>\n",
       "      <td>2593</td>\n",
       "      <td>1269</td>\n",
       "      <td>3885</td>\n",
       "      <td>3880</td>\n",
       "    </tr>\n",
       "    <tr>\n",
       "      <th>AdaBoost</th>\n",
       "      <td>67%</td>\n",
       "      <td>33%</td>\n",
       "      <td>67%</td>\n",
       "      <td>33%</td>\n",
       "      <td>67%</td>\n",
       "      <td>67%</td>\n",
       "      <td>50%</td>\n",
       "      <td>67%</td>\n",
       "      <td>33%</td>\n",
       "      <td>2618</td>\n",
       "      <td>1281</td>\n",
       "      <td>2599</td>\n",
       "      <td>1267</td>\n",
       "      <td>3885</td>\n",
       "      <td>3880</td>\n",
       "    </tr>\n",
       "    <tr>\n",
       "      <th>Logistic Regression</th>\n",
       "      <td>66%</td>\n",
       "      <td>34%</td>\n",
       "      <td>65%</td>\n",
       "      <td>32%</td>\n",
       "      <td>68%</td>\n",
       "      <td>67%</td>\n",
       "      <td>50%</td>\n",
       "      <td>67%</td>\n",
       "      <td>33%</td>\n",
       "      <td>2539</td>\n",
       "      <td>1260</td>\n",
       "      <td>2620</td>\n",
       "      <td>1346</td>\n",
       "      <td>3885</td>\n",
       "      <td>3880</td>\n",
       "    </tr>\n",
       "    <tr>\n",
       "      <th>Decision Tree</th>\n",
       "      <td>64%</td>\n",
       "      <td>36%</td>\n",
       "      <td>64%</td>\n",
       "      <td>35%</td>\n",
       "      <td>65%</td>\n",
       "      <td>65%</td>\n",
       "      <td>50%</td>\n",
       "      <td>65%</td>\n",
       "      <td>35%</td>\n",
       "      <td>2479</td>\n",
       "      <td>1361</td>\n",
       "      <td>2519</td>\n",
       "      <td>1406</td>\n",
       "      <td>3885</td>\n",
       "      <td>3880</td>\n",
       "    </tr>\n",
       "    <tr>\n",
       "      <th>Naive Bayes</th>\n",
       "      <td>61%</td>\n",
       "      <td>39%</td>\n",
       "      <td>56%</td>\n",
       "      <td>35%</td>\n",
       "      <td>65%</td>\n",
       "      <td>62%</td>\n",
       "      <td>50%</td>\n",
       "      <td>62%</td>\n",
       "      <td>38%</td>\n",
       "      <td>2189</td>\n",
       "      <td>1339</td>\n",
       "      <td>2541</td>\n",
       "      <td>1696</td>\n",
       "      <td>3885</td>\n",
       "      <td>3880</td>\n",
       "    </tr>\n",
       "    <tr>\n",
       "      <th>Neural Network</th>\n",
       "      <td>66%</td>\n",
       "      <td>34%</td>\n",
       "      <td>74%</td>\n",
       "      <td>42%</td>\n",
       "      <td>58%</td>\n",
       "      <td>64%</td>\n",
       "      <td>50%</td>\n",
       "      <td>64%</td>\n",
       "      <td>36%</td>\n",
       "      <td>2869</td>\n",
       "      <td>1628</td>\n",
       "      <td>2252</td>\n",
       "      <td>1016</td>\n",
       "      <td>3885</td>\n",
       "      <td>3880</td>\n",
       "    </tr>\n",
       "    <tr>\n",
       "      <th>Random Forest</th>\n",
       "      <td>67%</td>\n",
       "      <td>33%</td>\n",
       "      <td>66%</td>\n",
       "      <td>32%</td>\n",
       "      <td>68%</td>\n",
       "      <td>67%</td>\n",
       "      <td>50%</td>\n",
       "      <td>67%</td>\n",
       "      <td>33%</td>\n",
       "      <td>2547</td>\n",
       "      <td>1254</td>\n",
       "      <td>2626</td>\n",
       "      <td>1338</td>\n",
       "      <td>3885</td>\n",
       "      <td>3880</td>\n",
       "    </tr>\n",
       "  </tbody>\n",
       "</table>\n",
       "</div>"
      ],
      "text/plain": [
       "                    Accuracy Misclassification Rate (Error Rate)  \\\n",
       "Extra Tree               66%                                 34%   \n",
       "GradientBoost            67%                                 33%   \n",
       "AdaBoost                 67%                                 33%   \n",
       "Logistic Regression      66%                                 34%   \n",
       "Decision Tree            64%                                 36%   \n",
       "Naive Bayes              61%                                 39%   \n",
       "Neural Network           66%                                 34%   \n",
       "Random Forest            67%                                 33%   \n",
       "\n",
       "                    True Positive Rate False Positive Rate Specificity  \\\n",
       "Extra Tree                         65%                 32%         68%   \n",
       "GradientBoost                      67%                 33%         67%   \n",
       "AdaBoost                           67%                 33%         67%   \n",
       "Logistic Regression                65%                 32%         68%   \n",
       "Decision Tree                      64%                 35%         65%   \n",
       "Naive Bayes                        56%                 35%         65%   \n",
       "Neural Network                     74%                 42%         58%   \n",
       "Random Forest                      66%                 32%         68%   \n",
       "\n",
       "                    Precision Prevalence Positive predictive value  \\\n",
       "Extra Tree                67%        50%                       67%   \n",
       "GradientBoost             67%        50%                       67%   \n",
       "AdaBoost                  67%        50%                       67%   \n",
       "Logistic Regression       67%        50%                       67%   \n",
       "Decision Tree             65%        50%                       65%   \n",
       "Naive Bayes               62%        50%                       62%   \n",
       "Neural Network            64%        50%                       64%   \n",
       "Random Forest             67%        50%                       67%   \n",
       "\n",
       "                    Negative predictive value True Positive False Positive  \\\n",
       "Extra Tree                                33%          2510           1247   \n",
       "GradientBoost                             33%          2616           1287   \n",
       "AdaBoost                                  33%          2618           1281   \n",
       "Logistic Regression                       33%          2539           1260   \n",
       "Decision Tree                             35%          2479           1361   \n",
       "Naive Bayes                               38%          2189           1339   \n",
       "Neural Network                            36%          2869           1628   \n",
       "Random Forest                             33%          2547           1254   \n",
       "\n",
       "                    True Negative False Negative Actual Positives  \\\n",
       "Extra Tree                   2633           1375             3885   \n",
       "GradientBoost                2593           1269             3885   \n",
       "AdaBoost                     2599           1267             3885   \n",
       "Logistic Regression          2620           1346             3885   \n",
       "Decision Tree                2519           1406             3885   \n",
       "Naive Bayes                  2541           1696             3885   \n",
       "Neural Network               2252           1016             3885   \n",
       "Random Forest                2626           1338             3885   \n",
       "\n",
       "                    Actual Negatives  \n",
       "Extra Tree                      3880  \n",
       "GradientBoost                   3880  \n",
       "AdaBoost                        3880  \n",
       "Logistic Regression             3880  \n",
       "Decision Tree                   3880  \n",
       "Naive Bayes                     3880  \n",
       "Neural Network                  3880  \n",
       "Random Forest                   3880  "
      ]
     },
     "execution_count": 49,
     "metadata": {},
     "output_type": "execute_result"
    }
   ],
   "source": [
    "test_evaluate_scores_per_df"
   ]
  },
  {
   "cell_type": "code",
   "execution_count": null,
   "metadata": {
    "collapsed": true
   },
   "outputs": [],
   "source": []
  },
  {
   "cell_type": "code",
   "execution_count": 38,
   "metadata": {
    "collapsed": true
   },
   "outputs": [],
   "source": [
    "# confirmation test"
   ]
  },
  {
   "cell_type": "code",
   "execution_count": 51,
   "metadata": {},
   "outputs": [
    {
     "name": "stderr",
     "output_type": "stream",
     "text": [
      "[Parallel(n_jobs=8)]: Done  34 tasks      | elapsed:    0.1s\n",
      "[Parallel(n_jobs=8)]: Done 184 tasks      | elapsed:    0.9s\n",
      "[Parallel(n_jobs=8)]: Done 434 tasks      | elapsed:    2.0s\n"
     ]
    },
    {
     "name": "stdout",
     "output_type": "stream",
     "text": [
      "Random Forest           89.08%\n"
     ]
    },
    {
     "name": "stderr",
     "output_type": "stream",
     "text": [
      "[Parallel(n_jobs=8)]: Done 500 out of 500 | elapsed:    2.6s finished\n"
     ]
    }
   ],
   "source": [
    "print('Random Forest           '+\"{:.2f}\".format(accuracy_score(y_train, clf_RF.predict(X_train))*100)+'%')"
   ]
  },
  {
   "cell_type": "code",
   "execution_count": 52,
   "metadata": {},
   "outputs": [
    {
     "name": "stderr",
     "output_type": "stream",
     "text": [
      "[Parallel(n_jobs=8)]: Done  34 tasks      | elapsed:    0.1s\n",
      "[Parallel(n_jobs=8)]: Done 184 tasks      | elapsed:    0.8s\n",
      "[Parallel(n_jobs=8)]: Done 434 tasks      | elapsed:    1.8s\n"
     ]
    },
    {
     "name": "stdout",
     "output_type": "stream",
     "text": [
      "Random Forest           66.62%\n"
     ]
    },
    {
     "name": "stderr",
     "output_type": "stream",
     "text": [
      "[Parallel(n_jobs=8)]: Done 500 out of 500 | elapsed:    2.4s finished\n"
     ]
    }
   ],
   "source": [
    "print('Random Forest           '+\"{:.2f}\".format(accuracy_score(y_test, clf_RF.predict(X_test))*100)+'%')"
   ]
  },
  {
   "cell_type": "code",
   "execution_count": null,
   "metadata": {
    "collapsed": true
   },
   "outputs": [],
   "source": []
  },
  {
   "cell_type": "code",
   "execution_count": null,
   "metadata": {
    "collapsed": true
   },
   "outputs": [],
   "source": []
  },
  {
   "cell_type": "code",
   "execution_count": 41,
   "metadata": {
    "collapsed": true
   },
   "outputs": [],
   "source": [
    "########"
   ]
  },
  {
   "cell_type": "code",
   "execution_count": 42,
   "metadata": {
    "collapsed": true,
    "scrolled": true
   },
   "outputs": [],
   "source": [
    "# y_predict_ds = [arr[0] for arr in clf_RF.predict_proba(X)]"
   ]
  },
  {
   "cell_type": "code",
   "execution_count": 43,
   "metadata": {
    "collapsed": true,
    "scrolled": true
   },
   "outputs": [],
   "source": [
    "# dataset['RANDOM_FOREST_Y_PRED'] = y_predict_ds"
   ]
  },
  {
   "cell_type": "code",
   "execution_count": null,
   "metadata": {
    "collapsed": true,
    "scrolled": true
   },
   "outputs": [],
   "source": []
  },
  {
   "cell_type": "code",
   "execution_count": null,
   "metadata": {
    "collapsed": true
   },
   "outputs": [],
   "source": []
  },
  {
   "cell_type": "code",
   "execution_count": null,
   "metadata": {
    "collapsed": true
   },
   "outputs": [],
   "source": []
  },
  {
   "cell_type": "code",
   "execution_count": null,
   "metadata": {
    "collapsed": true
   },
   "outputs": [],
   "source": []
  }
 ],
 "metadata": {
  "_change_revision": 0,
  "_is_fork": false,
  "kernelspec": {
   "display_name": "Python 3",
   "language": "python",
   "name": "python3"
  },
  "language_info": {
   "codemirror_mode": {
    "name": "ipython",
    "version": 3
   },
   "file_extension": ".py",
   "mimetype": "text/x-python",
   "name": "python",
   "nbconvert_exporter": "python",
   "pygments_lexer": "ipython3",
   "version": "3.7.3"
  }
 },
 "nbformat": 4,
 "nbformat_minor": 1
}
